{
  "cells": [
    {
      "cell_type": "markdown",
      "metadata": {
        "id": "xEaqwjA8YJpX"
      },
      "source": [
        "## Modeling - Classifying Book Cover by Genre"
      ]
    },
    {
      "cell_type": "markdown",
      "metadata": {
        "id": "ZnjzdKpaYJpY"
      },
      "source": [
        "#### This notebook was run in Google Colab"
      ]
    },
    {
      "cell_type": "code",
      "execution_count": 1,
      "metadata": {
        "id": "kDe5q3kuYJpY"
      },
      "outputs": [],
      "source": [
        "import numpy as np\n",
        "import pandas as pd\n",
        "\n",
        "from tensorflow.keras.preprocessing.image import ImageDataGenerator\n",
        "from tensorflow.keras.layers import Dense, Dropout, Flatten, Conv2D, MaxPooling2D, GlobalAveragePooling2D\n",
        "from tensorflow.keras.models import Sequential\n",
        "from tensorflow.keras.preprocessing.image import img_to_array, load_img\n",
        "from tensorflow.keras.callbacks import EarlyStopping\n",
        "from tensorflow.keras.optimizers import Adam\n",
        "from tensorflow.keras.applications import EfficientNetB0\n",
        "\n",
        "np.random.seed(42)"
      ]
    },
    {
      "cell_type": "code",
      "execution_count": 3,
      "metadata": {
        "colab": {
          "base_uri": "https://localhost:8080/"
        },
        "id": "NBazCMm0YnF9",
        "outputId": "15910222-8ab4-42ce-847b-1b366a95ce35"
      },
      "outputs": [
        {
          "name": "stdout",
          "output_type": "stream",
          "text": [
            "Drive already mounted at /content/drive; to attempt to forcibly remount, call drive.mount(\"/content/drive\", force_remount=True).\n"
          ]
        }
      ],
      "source": [
        "from google.colab import drive\n",
        "drive.mount('/content/drive')"
      ]
    },
    {
      "cell_type": "code",
      "execution_count": null,
      "metadata": {
        "id": "uZ5fxldEl9ON"
      },
      "outputs": [],
      "source": [
        "!unzip /content/drive/MyDrive/datasets/capstone/images.zip"
      ]
    },
    {
      "cell_type": "code",
      "execution_count": 5,
      "metadata": {
        "id": "NEoc32IEYJpZ"
      },
      "outputs": [],
      "source": [
        "train = pd.read_csv('/content/drive/MyDrive/datasets/capstone/data/book30-listing-train.csv', encoding_errors='ignore', header=None)\n",
        "train.columns = ['amazon_index', 'filename', 'image_url', 'title', 'author', 'category_id', 'category']"
      ]
    },
    {
      "cell_type": "code",
      "execution_count": null,
      "metadata": {
        "colab": {
          "base_uri": "https://localhost:8080/",
          "height": 191
        },
        "id": "ZyTxnLAhYJpa",
        "outputId": "d2e716a4-f936-4de8-fcdb-6c1959822e72"
      },
      "outputs": [
        {
          "data": {
            "text/html": [
              "\n",
              "  <div id=\"df-218fb5b9-6dd8-4723-8617-3a4897d28dd3\">\n",
              "    <div class=\"colab-df-container\">\n",
              "      <div>\n",
              "<style scoped>\n",
              "    .dataframe tbody tr th:only-of-type {\n",
              "        vertical-align: middle;\n",
              "    }\n",
              "\n",
              "    .dataframe tbody tr th {\n",
              "        vertical-align: top;\n",
              "    }\n",
              "\n",
              "    .dataframe thead th {\n",
              "        text-align: right;\n",
              "    }\n",
              "</style>\n",
              "<table border=\"1\" class=\"dataframe\">\n",
              "  <thead>\n",
              "    <tr style=\"text-align: right;\">\n",
              "      <th></th>\n",
              "      <th>amazon_index</th>\n",
              "      <th>filename</th>\n",
              "      <th>image_url</th>\n",
              "      <th>title</th>\n",
              "      <th>author</th>\n",
              "      <th>category_id</th>\n",
              "      <th>category</th>\n",
              "    </tr>\n",
              "  </thead>\n",
              "  <tbody>\n",
              "    <tr>\n",
              "      <th>0</th>\n",
              "      <td>1588345297</td>\n",
              "      <td>1588345297.jpg</td>\n",
              "      <td>http://ecx.images-amazon.com/images/I/51l6XIoa...</td>\n",
              "      <td>With Schwarzkopf: Life Lessons of The Bear</td>\n",
              "      <td>Gus Lee</td>\n",
              "      <td>1</td>\n",
              "      <td>Biographies &amp; Memoirs</td>\n",
              "    </tr>\n",
              "    <tr>\n",
              "      <th>1</th>\n",
              "      <td>1404803335</td>\n",
              "      <td>1404803335.jpg</td>\n",
              "      <td>http://ecx.images-amazon.com/images/I/51UJnL3T...</td>\n",
              "      <td>Magnets: Pulling Together, Pushing Apart (Amaz...</td>\n",
              "      <td>Natalie M. Rosinsky</td>\n",
              "      <td>4</td>\n",
              "      <td>Children's Books</td>\n",
              "    </tr>\n",
              "  </tbody>\n",
              "</table>\n",
              "</div>\n",
              "      <button class=\"colab-df-convert\" onclick=\"convertToInteractive('df-218fb5b9-6dd8-4723-8617-3a4897d28dd3')\"\n",
              "              title=\"Convert this dataframe to an interactive table.\"\n",
              "              style=\"display:none;\">\n",
              "        \n",
              "  <svg xmlns=\"http://www.w3.org/2000/svg\" height=\"24px\"viewBox=\"0 0 24 24\"\n",
              "       width=\"24px\">\n",
              "    <path d=\"M0 0h24v24H0V0z\" fill=\"none\"/>\n",
              "    <path d=\"M18.56 5.44l.94 2.06.94-2.06 2.06-.94-2.06-.94-.94-2.06-.94 2.06-2.06.94zm-11 1L8.5 8.5l.94-2.06 2.06-.94-2.06-.94L8.5 2.5l-.94 2.06-2.06.94zm10 10l.94 2.06.94-2.06 2.06-.94-2.06-.94-.94-2.06-.94 2.06-2.06.94z\"/><path d=\"M17.41 7.96l-1.37-1.37c-.4-.4-.92-.59-1.43-.59-.52 0-1.04.2-1.43.59L10.3 9.45l-7.72 7.72c-.78.78-.78 2.05 0 2.83L4 21.41c.39.39.9.59 1.41.59.51 0 1.02-.2 1.41-.59l7.78-7.78 2.81-2.81c.8-.78.8-2.07 0-2.86zM5.41 20L4 18.59l7.72-7.72 1.47 1.35L5.41 20z\"/>\n",
              "  </svg>\n",
              "      </button>\n",
              "      \n",
              "  <style>\n",
              "    .colab-df-container {\n",
              "      display:flex;\n",
              "      flex-wrap:wrap;\n",
              "      gap: 12px;\n",
              "    }\n",
              "\n",
              "    .colab-df-convert {\n",
              "      background-color: #E8F0FE;\n",
              "      border: none;\n",
              "      border-radius: 50%;\n",
              "      cursor: pointer;\n",
              "      display: none;\n",
              "      fill: #1967D2;\n",
              "      height: 32px;\n",
              "      padding: 0 0 0 0;\n",
              "      width: 32px;\n",
              "    }\n",
              "\n",
              "    .colab-df-convert:hover {\n",
              "      background-color: #E2EBFA;\n",
              "      box-shadow: 0px 1px 2px rgba(60, 64, 67, 0.3), 0px 1px 3px 1px rgba(60, 64, 67, 0.15);\n",
              "      fill: #174EA6;\n",
              "    }\n",
              "\n",
              "    [theme=dark] .colab-df-convert {\n",
              "      background-color: #3B4455;\n",
              "      fill: #D2E3FC;\n",
              "    }\n",
              "\n",
              "    [theme=dark] .colab-df-convert:hover {\n",
              "      background-color: #434B5C;\n",
              "      box-shadow: 0px 1px 3px 1px rgba(0, 0, 0, 0.15);\n",
              "      filter: drop-shadow(0px 1px 2px rgba(0, 0, 0, 0.3));\n",
              "      fill: #FFFFFF;\n",
              "    }\n",
              "  </style>\n",
              "\n",
              "      <script>\n",
              "        const buttonEl =\n",
              "          document.querySelector('#df-218fb5b9-6dd8-4723-8617-3a4897d28dd3 button.colab-df-convert');\n",
              "        buttonEl.style.display =\n",
              "          google.colab.kernel.accessAllowed ? 'block' : 'none';\n",
              "\n",
              "        async function convertToInteractive(key) {\n",
              "          const element = document.querySelector('#df-218fb5b9-6dd8-4723-8617-3a4897d28dd3');\n",
              "          const dataTable =\n",
              "            await google.colab.kernel.invokeFunction('convertToInteractive',\n",
              "                                                     [key], {});\n",
              "          if (!dataTable) return;\n",
              "\n",
              "          const docLinkHtml = 'Like what you see? Visit the ' +\n",
              "            '<a target=\"_blank\" href=https://colab.research.google.com/notebooks/data_table.ipynb>data table notebook</a>'\n",
              "            + ' to learn more about interactive tables.';\n",
              "          element.innerHTML = '';\n",
              "          dataTable['output_type'] = 'display_data';\n",
              "          await google.colab.output.renderOutput(dataTable, element);\n",
              "          const docLink = document.createElement('div');\n",
              "          docLink.innerHTML = docLinkHtml;\n",
              "          element.appendChild(docLink);\n",
              "        }\n",
              "      </script>\n",
              "    </div>\n",
              "  </div>\n",
              "  "
            ],
            "text/plain": [
              "  amazon_index        filename  \\\n",
              "0   1588345297  1588345297.jpg   \n",
              "1   1404803335  1404803335.jpg   \n",
              "\n",
              "                                           image_url  \\\n",
              "0  http://ecx.images-amazon.com/images/I/51l6XIoa...   \n",
              "1  http://ecx.images-amazon.com/images/I/51UJnL3T...   \n",
              "\n",
              "                                               title               author  \\\n",
              "0         With Schwarzkopf: Life Lessons of The Bear              Gus Lee   \n",
              "1  Magnets: Pulling Together, Pushing Apart (Amaz...  Natalie M. Rosinsky   \n",
              "\n",
              "   category_id               category  \n",
              "0            1  Biographies & Memoirs  \n",
              "1            4       Children's Books  "
            ]
          },
          "execution_count": 7,
          "metadata": {},
          "output_type": "execute_result"
        }
      ],
      "source": [
        "train.head(2)"
      ]
    },
    {
      "cell_type": "code",
      "execution_count": null,
      "metadata": {
        "id": "FpnHC2F-YJpb"
      },
      "outputs": [],
      "source": [
        "test = pd.read_csv('/content/drive/MyDrive/datasets/capstone/data/book30-listing-test.csv', encoding_errors='ignore', header=None)\n",
        "test.columns = ['amazon_index', 'filename', 'image_url', 'title', 'author', 'category_id', 'category']"
      ]
    },
    {
      "cell_type": "code",
      "execution_count": null,
      "metadata": {
        "colab": {
          "base_uri": "https://localhost:8080/",
          "height": 191
        },
        "id": "sV3fpN9QYJpb",
        "outputId": "b85a2268-4141-406b-e220-fe270b344430"
      },
      "outputs": [
        {
          "data": {
            "text/html": [
              "\n",
              "  <div id=\"df-6931f928-b0f4-4822-b197-ff509091afba\">\n",
              "    <div class=\"colab-df-container\">\n",
              "      <div>\n",
              "<style scoped>\n",
              "    .dataframe tbody tr th:only-of-type {\n",
              "        vertical-align: middle;\n",
              "    }\n",
              "\n",
              "    .dataframe tbody tr th {\n",
              "        vertical-align: top;\n",
              "    }\n",
              "\n",
              "    .dataframe thead th {\n",
              "        text-align: right;\n",
              "    }\n",
              "</style>\n",
              "<table border=\"1\" class=\"dataframe\">\n",
              "  <thead>\n",
              "    <tr style=\"text-align: right;\">\n",
              "      <th></th>\n",
              "      <th>amazon_index</th>\n",
              "      <th>filename</th>\n",
              "      <th>image_url</th>\n",
              "      <th>title</th>\n",
              "      <th>author</th>\n",
              "      <th>category_id</th>\n",
              "      <th>category</th>\n",
              "    </tr>\n",
              "  </thead>\n",
              "  <tbody>\n",
              "    <tr>\n",
              "      <th>0</th>\n",
              "      <td>044310073X</td>\n",
              "      <td>044310073X.jpg</td>\n",
              "      <td>http://ecx.images-amazon.com/images/I/41kSLEos...</td>\n",
              "      <td>Oral and Maxillofacial Surgery: An Objective-B...</td>\n",
              "      <td>NaN</td>\n",
              "      <td>16</td>\n",
              "      <td>Medical Books</td>\n",
              "    </tr>\n",
              "    <tr>\n",
              "      <th>1</th>\n",
              "      <td>1438005687</td>\n",
              "      <td>1438005687.jpg</td>\n",
              "      <td>http://ecx.images-amazon.com/images/I/510l0qhi...</td>\n",
              "      <td>Barron's GRE, 21st Edition</td>\n",
              "      <td>Sharon Weiner Green M.A.</td>\n",
              "      <td>28</td>\n",
              "      <td>Test Preparation</td>\n",
              "    </tr>\n",
              "  </tbody>\n",
              "</table>\n",
              "</div>\n",
              "      <button class=\"colab-df-convert\" onclick=\"convertToInteractive('df-6931f928-b0f4-4822-b197-ff509091afba')\"\n",
              "              title=\"Convert this dataframe to an interactive table.\"\n",
              "              style=\"display:none;\">\n",
              "        \n",
              "  <svg xmlns=\"http://www.w3.org/2000/svg\" height=\"24px\"viewBox=\"0 0 24 24\"\n",
              "       width=\"24px\">\n",
              "    <path d=\"M0 0h24v24H0V0z\" fill=\"none\"/>\n",
              "    <path d=\"M18.56 5.44l.94 2.06.94-2.06 2.06-.94-2.06-.94-.94-2.06-.94 2.06-2.06.94zm-11 1L8.5 8.5l.94-2.06 2.06-.94-2.06-.94L8.5 2.5l-.94 2.06-2.06.94zm10 10l.94 2.06.94-2.06 2.06-.94-2.06-.94-.94-2.06-.94 2.06-2.06.94z\"/><path d=\"M17.41 7.96l-1.37-1.37c-.4-.4-.92-.59-1.43-.59-.52 0-1.04.2-1.43.59L10.3 9.45l-7.72 7.72c-.78.78-.78 2.05 0 2.83L4 21.41c.39.39.9.59 1.41.59.51 0 1.02-.2 1.41-.59l7.78-7.78 2.81-2.81c.8-.78.8-2.07 0-2.86zM5.41 20L4 18.59l7.72-7.72 1.47 1.35L5.41 20z\"/>\n",
              "  </svg>\n",
              "      </button>\n",
              "      \n",
              "  <style>\n",
              "    .colab-df-container {\n",
              "      display:flex;\n",
              "      flex-wrap:wrap;\n",
              "      gap: 12px;\n",
              "    }\n",
              "\n",
              "    .colab-df-convert {\n",
              "      background-color: #E8F0FE;\n",
              "      border: none;\n",
              "      border-radius: 50%;\n",
              "      cursor: pointer;\n",
              "      display: none;\n",
              "      fill: #1967D2;\n",
              "      height: 32px;\n",
              "      padding: 0 0 0 0;\n",
              "      width: 32px;\n",
              "    }\n",
              "\n",
              "    .colab-df-convert:hover {\n",
              "      background-color: #E2EBFA;\n",
              "      box-shadow: 0px 1px 2px rgba(60, 64, 67, 0.3), 0px 1px 3px 1px rgba(60, 64, 67, 0.15);\n",
              "      fill: #174EA6;\n",
              "    }\n",
              "\n",
              "    [theme=dark] .colab-df-convert {\n",
              "      background-color: #3B4455;\n",
              "      fill: #D2E3FC;\n",
              "    }\n",
              "\n",
              "    [theme=dark] .colab-df-convert:hover {\n",
              "      background-color: #434B5C;\n",
              "      box-shadow: 0px 1px 3px 1px rgba(0, 0, 0, 0.15);\n",
              "      filter: drop-shadow(0px 1px 2px rgba(0, 0, 0, 0.3));\n",
              "      fill: #FFFFFF;\n",
              "    }\n",
              "  </style>\n",
              "\n",
              "      <script>\n",
              "        const buttonEl =\n",
              "          document.querySelector('#df-6931f928-b0f4-4822-b197-ff509091afba button.colab-df-convert');\n",
              "        buttonEl.style.display =\n",
              "          google.colab.kernel.accessAllowed ? 'block' : 'none';\n",
              "\n",
              "        async function convertToInteractive(key) {\n",
              "          const element = document.querySelector('#df-6931f928-b0f4-4822-b197-ff509091afba');\n",
              "          const dataTable =\n",
              "            await google.colab.kernel.invokeFunction('convertToInteractive',\n",
              "                                                     [key], {});\n",
              "          if (!dataTable) return;\n",
              "\n",
              "          const docLinkHtml = 'Like what you see? Visit the ' +\n",
              "            '<a target=\"_blank\" href=https://colab.research.google.com/notebooks/data_table.ipynb>data table notebook</a>'\n",
              "            + ' to learn more about interactive tables.';\n",
              "          element.innerHTML = '';\n",
              "          dataTable['output_type'] = 'display_data';\n",
              "          await google.colab.output.renderOutput(dataTable, element);\n",
              "          const docLink = document.createElement('div');\n",
              "          docLink.innerHTML = docLinkHtml;\n",
              "          element.appendChild(docLink);\n",
              "        }\n",
              "      </script>\n",
              "    </div>\n",
              "  </div>\n",
              "  "
            ],
            "text/plain": [
              "  amazon_index        filename  \\\n",
              "0   044310073X  044310073X.jpg   \n",
              "1   1438005687  1438005687.jpg   \n",
              "\n",
              "                                           image_url  \\\n",
              "0  http://ecx.images-amazon.com/images/I/41kSLEos...   \n",
              "1  http://ecx.images-amazon.com/images/I/510l0qhi...   \n",
              "\n",
              "                                               title  \\\n",
              "0  Oral and Maxillofacial Surgery: An Objective-B...   \n",
              "1                         Barron's GRE, 21st Edition   \n",
              "\n",
              "                     author  category_id          category  \n",
              "0                       NaN           16     Medical Books  \n",
              "1  Sharon Weiner Green M.A.           28  Test Preparation  "
            ]
          },
          "execution_count": 9,
          "metadata": {},
          "output_type": "execute_result"
        }
      ],
      "source": [
        "test.head(2)"
      ]
    },
    {
      "cell_type": "code",
      "execution_count": 13,
      "metadata": {
        "colab": {
          "base_uri": "https://localhost:8080/",
          "height": 240
        },
        "id": "9Vj673mYaFyn",
        "outputId": "1df740dc-ab1d-4876-c6a2-51d1e3a954fe"
      },
      "outputs": [
        {
          "data": {
            "text/html": [
              "\n",
              "  <div id=\"df-3d1c8987-2b2f-4d10-a2ef-2168f36c0c5c\">\n",
              "    <div class=\"colab-df-container\">\n",
              "      <div>\n",
              "<style scoped>\n",
              "    .dataframe tbody tr th:only-of-type {\n",
              "        vertical-align: middle;\n",
              "    }\n",
              "\n",
              "    .dataframe tbody tr th {\n",
              "        vertical-align: top;\n",
              "    }\n",
              "\n",
              "    .dataframe thead th {\n",
              "        text-align: right;\n",
              "    }\n",
              "</style>\n",
              "<table border=\"1\" class=\"dataframe\">\n",
              "  <thead>\n",
              "    <tr style=\"text-align: right;\">\n",
              "      <th></th>\n",
              "      <th>amazon_index</th>\n",
              "      <th>filename</th>\n",
              "      <th>image_url</th>\n",
              "      <th>title</th>\n",
              "      <th>author</th>\n",
              "      <th>category_id</th>\n",
              "      <th>category</th>\n",
              "    </tr>\n",
              "  </thead>\n",
              "  <tbody>\n",
              "    <tr>\n",
              "      <th>0</th>\n",
              "      <td>1588345297</td>\n",
              "      <td>1588345297.jpg</td>\n",
              "      <td>http://ecx.images-amazon.com/images/I/51l6XIoa...</td>\n",
              "      <td>With Schwarzkopf: Life Lessons of The Bear</td>\n",
              "      <td>Gus Lee</td>\n",
              "      <td>1</td>\n",
              "      <td>Biographies &amp; Memoirs</td>\n",
              "    </tr>\n",
              "    <tr>\n",
              "      <th>1</th>\n",
              "      <td>1404803335</td>\n",
              "      <td>1404803335.jpg</td>\n",
              "      <td>http://ecx.images-amazon.com/images/I/51UJnL3T...</td>\n",
              "      <td>Magnets: Pulling Together, Pushing Apart (Amaz...</td>\n",
              "      <td>Natalie M. Rosinsky</td>\n",
              "      <td>4</td>\n",
              "      <td>Children's Books</td>\n",
              "    </tr>\n",
              "    <tr>\n",
              "      <th>15</th>\n",
              "      <td>471310115</td>\n",
              "      <td>0471310115.jpg</td>\n",
              "      <td>http://ecx.images-amazon.com/images/I/61JkH6Io...</td>\n",
              "      <td>Janice VanCleave's 201 Awesome, Magical, Bizar...</td>\n",
              "      <td>Janice VanCleave</td>\n",
              "      <td>4</td>\n",
              "      <td>Children's Books</td>\n",
              "    </tr>\n",
              "  </tbody>\n",
              "</table>\n",
              "</div>\n",
              "      <button class=\"colab-df-convert\" onclick=\"convertToInteractive('df-3d1c8987-2b2f-4d10-a2ef-2168f36c0c5c')\"\n",
              "              title=\"Convert this dataframe to an interactive table.\"\n",
              "              style=\"display:none;\">\n",
              "        \n",
              "  <svg xmlns=\"http://www.w3.org/2000/svg\" height=\"24px\"viewBox=\"0 0 24 24\"\n",
              "       width=\"24px\">\n",
              "    <path d=\"M0 0h24v24H0V0z\" fill=\"none\"/>\n",
              "    <path d=\"M18.56 5.44l.94 2.06.94-2.06 2.06-.94-2.06-.94-.94-2.06-.94 2.06-2.06.94zm-11 1L8.5 8.5l.94-2.06 2.06-.94-2.06-.94L8.5 2.5l-.94 2.06-2.06.94zm10 10l.94 2.06.94-2.06 2.06-.94-2.06-.94-.94-2.06-.94 2.06-2.06.94z\"/><path d=\"M17.41 7.96l-1.37-1.37c-.4-.4-.92-.59-1.43-.59-.52 0-1.04.2-1.43.59L10.3 9.45l-7.72 7.72c-.78.78-.78 2.05 0 2.83L4 21.41c.39.39.9.59 1.41.59.51 0 1.02-.2 1.41-.59l7.78-7.78 2.81-2.81c.8-.78.8-2.07 0-2.86zM5.41 20L4 18.59l7.72-7.72 1.47 1.35L5.41 20z\"/>\n",
              "  </svg>\n",
              "      </button>\n",
              "      \n",
              "  <style>\n",
              "    .colab-df-container {\n",
              "      display:flex;\n",
              "      flex-wrap:wrap;\n",
              "      gap: 12px;\n",
              "    }\n",
              "\n",
              "    .colab-df-convert {\n",
              "      background-color: #E8F0FE;\n",
              "      border: none;\n",
              "      border-radius: 50%;\n",
              "      cursor: pointer;\n",
              "      display: none;\n",
              "      fill: #1967D2;\n",
              "      height: 32px;\n",
              "      padding: 0 0 0 0;\n",
              "      width: 32px;\n",
              "    }\n",
              "\n",
              "    .colab-df-convert:hover {\n",
              "      background-color: #E2EBFA;\n",
              "      box-shadow: 0px 1px 2px rgba(60, 64, 67, 0.3), 0px 1px 3px 1px rgba(60, 64, 67, 0.15);\n",
              "      fill: #174EA6;\n",
              "    }\n",
              "\n",
              "    [theme=dark] .colab-df-convert {\n",
              "      background-color: #3B4455;\n",
              "      fill: #D2E3FC;\n",
              "    }\n",
              "\n",
              "    [theme=dark] .colab-df-convert:hover {\n",
              "      background-color: #434B5C;\n",
              "      box-shadow: 0px 1px 3px 1px rgba(0, 0, 0, 0.15);\n",
              "      filter: drop-shadow(0px 1px 2px rgba(0, 0, 0, 0.3));\n",
              "      fill: #FFFFFF;\n",
              "    }\n",
              "  </style>\n",
              "\n",
              "      <script>\n",
              "        const buttonEl =\n",
              "          document.querySelector('#df-3d1c8987-2b2f-4d10-a2ef-2168f36c0c5c button.colab-df-convert');\n",
              "        buttonEl.style.display =\n",
              "          google.colab.kernel.accessAllowed ? 'block' : 'none';\n",
              "\n",
              "        async function convertToInteractive(key) {\n",
              "          const element = document.querySelector('#df-3d1c8987-2b2f-4d10-a2ef-2168f36c0c5c');\n",
              "          const dataTable =\n",
              "            await google.colab.kernel.invokeFunction('convertToInteractive',\n",
              "                                                     [key], {});\n",
              "          if (!dataTable) return;\n",
              "\n",
              "          const docLinkHtml = 'Like what you see? Visit the ' +\n",
              "            '<a target=\"_blank\" href=https://colab.research.google.com/notebooks/data_table.ipynb>data table notebook</a>'\n",
              "            + ' to learn more about interactive tables.';\n",
              "          element.innerHTML = '';\n",
              "          dataTable['output_type'] = 'display_data';\n",
              "          await google.colab.output.renderOutput(dataTable, element);\n",
              "          const docLink = document.createElement('div');\n",
              "          docLink.innerHTML = docLinkHtml;\n",
              "          element.appendChild(docLink);\n",
              "        }\n",
              "      </script>\n",
              "    </div>\n",
              "  </div>\n",
              "  "
            ],
            "text/plain": [
              "   amazon_index        filename  \\\n",
              "0    1588345297  1588345297.jpg   \n",
              "1    1404803335  1404803335.jpg   \n",
              "15    471310115  0471310115.jpg   \n",
              "\n",
              "                                            image_url  \\\n",
              "0   http://ecx.images-amazon.com/images/I/51l6XIoa...   \n",
              "1   http://ecx.images-amazon.com/images/I/51UJnL3T...   \n",
              "15  http://ecx.images-amazon.com/images/I/61JkH6Io...   \n",
              "\n",
              "                                                title               author  \\\n",
              "0          With Schwarzkopf: Life Lessons of The Bear              Gus Lee   \n",
              "1   Magnets: Pulling Together, Pushing Apart (Amaz...  Natalie M. Rosinsky   \n",
              "15  Janice VanCleave's 201 Awesome, Magical, Bizar...     Janice VanCleave   \n",
              "\n",
              "    category_id               category  \n",
              "0             1  Biographies & Memoirs  \n",
              "1             4       Children's Books  \n",
              "15            4       Children's Books  "
            ]
          },
          "execution_count": 13,
          "metadata": {},
          "output_type": "execute_result"
        }
      ],
      "source": [
        "train_cleaned = pd.read_csv('/content/drive/MyDrive/datasets/capstone/data/train_cleaned.csv', index_col=0)\n",
        "train_cleaned.head(3)"
      ]
    },
    {
      "cell_type": "code",
      "execution_count": 12,
      "metadata": {
        "colab": {
          "base_uri": "https://localhost:8080/",
          "height": 240
        },
        "id": "i8Rb22D6aM0x",
        "outputId": "e0333843-5f34-4b30-8220-a2609735104c"
      },
      "outputs": [
        {
          "data": {
            "text/html": [
              "\n",
              "  <div id=\"df-bfe63122-d968-4157-a056-e529baf4a7a1\">\n",
              "    <div class=\"colab-df-container\">\n",
              "      <div>\n",
              "<style scoped>\n",
              "    .dataframe tbody tr th:only-of-type {\n",
              "        vertical-align: middle;\n",
              "    }\n",
              "\n",
              "    .dataframe tbody tr th {\n",
              "        vertical-align: top;\n",
              "    }\n",
              "\n",
              "    .dataframe thead th {\n",
              "        text-align: right;\n",
              "    }\n",
              "</style>\n",
              "<table border=\"1\" class=\"dataframe\">\n",
              "  <thead>\n",
              "    <tr style=\"text-align: right;\">\n",
              "      <th></th>\n",
              "      <th>amazon_index</th>\n",
              "      <th>filename</th>\n",
              "      <th>image_url</th>\n",
              "      <th>title</th>\n",
              "      <th>author</th>\n",
              "      <th>category_id</th>\n",
              "      <th>category</th>\n",
              "    </tr>\n",
              "  </thead>\n",
              "  <tbody>\n",
              "    <tr>\n",
              "      <th>2</th>\n",
              "      <td>60750715</td>\n",
              "      <td>0060750715.jpg</td>\n",
              "      <td>http://ecx.images-amazon.com/images/I/51p5aUY%...</td>\n",
              "      <td>George Balanchine: The Ballet Maker (Eminent L...</td>\n",
              "      <td>Robert Gottlieb</td>\n",
              "      <td>1</td>\n",
              "      <td>Biographies &amp; Memoirs</td>\n",
              "    </tr>\n",
              "    <tr>\n",
              "      <th>5</th>\n",
              "      <td>312556411</td>\n",
              "      <td>0312556411.jpg</td>\n",
              "      <td>http://ecx.images-amazon.com/images/I/51uNnIlI...</td>\n",
              "      <td>Literature and Its Writers: A Compact Introduc...</td>\n",
              "      <td>Ann Charters</td>\n",
              "      <td>15</td>\n",
              "      <td>Literature &amp; Fiction</td>\n",
              "    </tr>\n",
              "    <tr>\n",
              "      <th>9</th>\n",
              "      <td>545700272</td>\n",
              "      <td>0545700272.jpg</td>\n",
              "      <td>http://ecx.images-amazon.com/images/I/51KyLXcz...</td>\n",
              "      <td>A Handful of Stars</td>\n",
              "      <td>Cynthia Lord</td>\n",
              "      <td>4</td>\n",
              "      <td>Children's Books</td>\n",
              "    </tr>\n",
              "  </tbody>\n",
              "</table>\n",
              "</div>\n",
              "      <button class=\"colab-df-convert\" onclick=\"convertToInteractive('df-bfe63122-d968-4157-a056-e529baf4a7a1')\"\n",
              "              title=\"Convert this dataframe to an interactive table.\"\n",
              "              style=\"display:none;\">\n",
              "        \n",
              "  <svg xmlns=\"http://www.w3.org/2000/svg\" height=\"24px\"viewBox=\"0 0 24 24\"\n",
              "       width=\"24px\">\n",
              "    <path d=\"M0 0h24v24H0V0z\" fill=\"none\"/>\n",
              "    <path d=\"M18.56 5.44l.94 2.06.94-2.06 2.06-.94-2.06-.94-.94-2.06-.94 2.06-2.06.94zm-11 1L8.5 8.5l.94-2.06 2.06-.94-2.06-.94L8.5 2.5l-.94 2.06-2.06.94zm10 10l.94 2.06.94-2.06 2.06-.94-2.06-.94-.94-2.06-.94 2.06-2.06.94z\"/><path d=\"M17.41 7.96l-1.37-1.37c-.4-.4-.92-.59-1.43-.59-.52 0-1.04.2-1.43.59L10.3 9.45l-7.72 7.72c-.78.78-.78 2.05 0 2.83L4 21.41c.39.39.9.59 1.41.59.51 0 1.02-.2 1.41-.59l7.78-7.78 2.81-2.81c.8-.78.8-2.07 0-2.86zM5.41 20L4 18.59l7.72-7.72 1.47 1.35L5.41 20z\"/>\n",
              "  </svg>\n",
              "      </button>\n",
              "      \n",
              "  <style>\n",
              "    .colab-df-container {\n",
              "      display:flex;\n",
              "      flex-wrap:wrap;\n",
              "      gap: 12px;\n",
              "    }\n",
              "\n",
              "    .colab-df-convert {\n",
              "      background-color: #E8F0FE;\n",
              "      border: none;\n",
              "      border-radius: 50%;\n",
              "      cursor: pointer;\n",
              "      display: none;\n",
              "      fill: #1967D2;\n",
              "      height: 32px;\n",
              "      padding: 0 0 0 0;\n",
              "      width: 32px;\n",
              "    }\n",
              "\n",
              "    .colab-df-convert:hover {\n",
              "      background-color: #E2EBFA;\n",
              "      box-shadow: 0px 1px 2px rgba(60, 64, 67, 0.3), 0px 1px 3px 1px rgba(60, 64, 67, 0.15);\n",
              "      fill: #174EA6;\n",
              "    }\n",
              "\n",
              "    [theme=dark] .colab-df-convert {\n",
              "      background-color: #3B4455;\n",
              "      fill: #D2E3FC;\n",
              "    }\n",
              "\n",
              "    [theme=dark] .colab-df-convert:hover {\n",
              "      background-color: #434B5C;\n",
              "      box-shadow: 0px 1px 3px 1px rgba(0, 0, 0, 0.15);\n",
              "      filter: drop-shadow(0px 1px 2px rgba(0, 0, 0, 0.3));\n",
              "      fill: #FFFFFF;\n",
              "    }\n",
              "  </style>\n",
              "\n",
              "      <script>\n",
              "        const buttonEl =\n",
              "          document.querySelector('#df-bfe63122-d968-4157-a056-e529baf4a7a1 button.colab-df-convert');\n",
              "        buttonEl.style.display =\n",
              "          google.colab.kernel.accessAllowed ? 'block' : 'none';\n",
              "\n",
              "        async function convertToInteractive(key) {\n",
              "          const element = document.querySelector('#df-bfe63122-d968-4157-a056-e529baf4a7a1');\n",
              "          const dataTable =\n",
              "            await google.colab.kernel.invokeFunction('convertToInteractive',\n",
              "                                                     [key], {});\n",
              "          if (!dataTable) return;\n",
              "\n",
              "          const docLinkHtml = 'Like what you see? Visit the ' +\n",
              "            '<a target=\"_blank\" href=https://colab.research.google.com/notebooks/data_table.ipynb>data table notebook</a>'\n",
              "            + ' to learn more about interactive tables.';\n",
              "          element.innerHTML = '';\n",
              "          dataTable['output_type'] = 'display_data';\n",
              "          await google.colab.output.renderOutput(dataTable, element);\n",
              "          const docLink = document.createElement('div');\n",
              "          docLink.innerHTML = docLinkHtml;\n",
              "          element.appendChild(docLink);\n",
              "        }\n",
              "      </script>\n",
              "    </div>\n",
              "  </div>\n",
              "  "
            ],
            "text/plain": [
              "  amazon_index        filename  \\\n",
              "2     60750715  0060750715.jpg   \n",
              "5    312556411  0312556411.jpg   \n",
              "9    545700272  0545700272.jpg   \n",
              "\n",
              "                                           image_url  \\\n",
              "2  http://ecx.images-amazon.com/images/I/51p5aUY%...   \n",
              "5  http://ecx.images-amazon.com/images/I/51uNnIlI...   \n",
              "9  http://ecx.images-amazon.com/images/I/51KyLXcz...   \n",
              "\n",
              "                                               title           author  \\\n",
              "2  George Balanchine: The Ballet Maker (Eminent L...  Robert Gottlieb   \n",
              "5  Literature and Its Writers: A Compact Introduc...     Ann Charters   \n",
              "9                                 A Handful of Stars     Cynthia Lord   \n",
              "\n",
              "   category_id               category  \n",
              "2            1  Biographies & Memoirs  \n",
              "5           15   Literature & Fiction  \n",
              "9            4       Children's Books  "
            ]
          },
          "execution_count": 12,
          "metadata": {},
          "output_type": "execute_result"
        }
      ],
      "source": [
        "test_cleaned = pd.read_csv('/content/drive/MyDrive/datasets/capstone/data/test_cleaned.csv', index_col=0)\n",
        "test_cleaned.head(3)"
      ]
    },
    {
      "cell_type": "markdown",
      "metadata": {
        "id": "kOVa1DVWYJpb"
      },
      "source": [
        "#### Baseline Model"
      ]
    },
    {
      "cell_type": "code",
      "execution_count": 14,
      "metadata": {
        "colab": {
          "base_uri": "https://localhost:8080/"
        },
        "id": "aIh5I9QVYJpc",
        "outputId": "59f61156-7f8a-4ee8-c716-5f88306dc2d2"
      },
      "outputs": [
        {
          "data": {
            "text/plain": [
              "Biographies & Memoirs           1710\n",
              "Children's Books                1710\n",
              "Science Fiction & Fantasy       1710\n",
              "Calendars                       1710\n",
              "Self-Help                       1710\n",
              "Teen & Young Adult              1710\n",
              "Reference                       1710\n",
              "Comics & Graphic Novels         1710\n",
              "History                         1710\n",
              "Romance                         1710\n",
              "Parenting & Relationships       1710\n",
              "Arts & Photography              1710\n",
              "Test Preparation                1710\n",
              "Computers & Technology          1710\n",
              "Law                             1710\n",
              "Humor & Entertainment           1710\n",
              "Literature & Fiction            1710\n",
              "Religion & Spirituality         1710\n",
              "Crafts, Hobbies & Home          1710\n",
              "Politics & Social Sciences      1710\n",
              "Cookbooks, Food & Wine          1710\n",
              "Business & Money                1710\n",
              "Travel                          1710\n",
              "Science & Math                  1710\n",
              "Medical Books                   1710\n",
              "Health, Fitness & Dieting       1710\n",
              "Sports & Outdoors               1710\n",
              "Christian Books & Bibles        1710\n",
              "Engineering & Transportation    1710\n",
              "Mystery, Thriller & Suspense    1710\n",
              "Name: category, dtype: int64"
            ]
          },
          "execution_count": 14,
          "metadata": {},
          "output_type": "execute_result"
        }
      ],
      "source": [
        "train['category'].value_counts()"
      ]
    },
    {
      "cell_type": "code",
      "execution_count": 15,
      "metadata": {
        "colab": {
          "base_uri": "https://localhost:8080/"
        },
        "id": "AlLMU02_bAYc",
        "outputId": "f295f3ef-2828-467b-905c-bd39f3e500ea"
      },
      "outputs": [
        {
          "data": {
            "text/plain": [
              "Biographies & Memoirs           1710\n",
              "Children's Books                1710\n",
              "Literature & Fiction            1710\n",
              "Romance                         1710\n",
              "Teen & Young Adult              1710\n",
              "Science Fiction & Fantasy       1710\n",
              "Mystery, Thriller & Suspense    1710\n",
              "Name: category, dtype: int64"
            ]
          },
          "execution_count": 15,
          "metadata": {},
          "output_type": "execute_result"
        }
      ],
      "source": [
        "train_cleaned['category'].value_counts()"
      ]
    },
    {
      "cell_type": "markdown",
      "metadata": {
        "id": "fsu3tpEHYJpc"
      },
      "source": [
        "#### Importing Images"
      ]
    },
    {
      "cell_type": "code",
      "execution_count": 16,
      "metadata": {
        "id": "OVP0Up42YJpc"
      },
      "outputs": [],
      "source": [
        "datagen = ImageDataGenerator(rescale=1/255)"
      ]
    },
    {
      "cell_type": "code",
      "execution_count": null,
      "metadata": {
        "colab": {
          "base_uri": "https://localhost:8080/"
        },
        "id": "_77e4Y68YJpc",
        "outputId": "62691070-e28d-4b7a-f8d8-60adaa29723f"
      },
      "outputs": [
        {
          "name": "stdout",
          "output_type": "stream",
          "text": [
            "Found 51300 validated image filenames belonging to 30 classes.\n",
            "Found 5700 validated image filenames belonging to 30 classes.\n"
          ]
        }
      ],
      "source": [
        "train_gen = datagen.flow_from_dataframe(\n",
        "    dataframe=train,\n",
        "    directory='/content/224x224',\n",
        "    x_col='filename',\n",
        "    y_col='category',\n",
        "    class_mode='categorical',\n",
        "    target_size=(256,256)\n",
        ")\n",
        "\n",
        "test_gen = datagen.flow_from_dataframe(\n",
        "    dataframe=test,\n",
        "    directory='/content/224x224',\n",
        "    x_col='filename',\n",
        "    y_col='category',\n",
        "    class_mode='categorical',\n",
        "    target_size=(256,256)\n",
        ")"
      ]
    },
    {
      "cell_type": "code",
      "execution_count": 17,
      "metadata": {
        "colab": {
          "base_uri": "https://localhost:8080/"
        },
        "id": "FpqmbtkBbLIk",
        "outputId": "4bf6da0f-1044-408e-ccd3-14914629a403"
      },
      "outputs": [
        {
          "name": "stdout",
          "output_type": "stream",
          "text": [
            "Found 11970 validated image filenames belonging to 7 classes.\n",
            "Found 1330 validated image filenames belonging to 7 classes.\n"
          ]
        }
      ],
      "source": [
        "train_gen_2 = datagen.flow_from_dataframe(\n",
        "    dataframe=train_cleaned,\n",
        "    directory='/content/224x224',\n",
        "    x_col='filename',\n",
        "    y_col='category',\n",
        "    class_mode='categorical',\n",
        "    target_size=(256,256)\n",
        ")\n",
        "\n",
        "test_gen_2 = datagen.flow_from_dataframe(\n",
        "    dataframe=test_cleaned,\n",
        "    directory='/content/224x224',\n",
        "    x_col='filename',\n",
        "    y_col='category',\n",
        "    class_mode='categorical',\n",
        "    target_size=(256,256)\n",
        ")"
      ]
    },
    {
      "cell_type": "markdown",
      "metadata": {
        "id": "Bs5VQh4OBs4S"
      },
      "source": [
        "#### Creating First Model with All 30 Categories"
      ]
    },
    {
      "cell_type": "code",
      "execution_count": null,
      "metadata": {
        "id": "iBWrsStkYJpd"
      },
      "outputs": [],
      "source": [
        "model1 = Sequential()\n",
        "model1.add(Conv2D(64,(3,3),activation='relu',input_shape=(256,256,3)))\n",
        "model1.add(MaxPooling2D(pool_size=(2,2)))\n",
        "\n",
        "model1.add(Conv2D(64,(3,3),activation='relu'))\n",
        "model1.add(MaxPooling2D(pool_size=(2,2)))\n",
        "\n",
        "model1.add(Flatten())\n",
        "model1.add(Dense(64,activation='relu'))\n",
        "model1.add(Dense(30,activation='softmax'))\n",
        "\n",
        "model1.compile(\n",
        "    optimizer ='adam',\n",
        "    loss = 'categorical_crossentropy',\n",
        "    metrics = ['accuracy']\n",
        ")"
      ]
    },
    {
      "cell_type": "code",
      "execution_count": null,
      "metadata": {
        "id": "QY0Gx7aSYJpd",
        "outputId": "62d23536-317a-4808-d19a-db39af6cee15"
      },
      "outputs": [
        {
          "name": "stdout",
          "output_type": "stream",
          "text": [
            "Epoch 1/5\n",
            "1604/1604 [==============================] - 2367s 1s/step - loss: 3.2946 - accuracy: 0.0812 - val_loss: 3.1955 - val_accuracy: 0.1061\n",
            "Epoch 2/5\n",
            "1604/1604 [==============================] - 2226s 1s/step - loss: 2.9311 - accuracy: 0.1827 - val_loss: 3.1683 - val_accuracy: 0.1326\n",
            "Epoch 3/5\n",
            "1604/1604 [==============================] - 2292s 1s/step - loss: 2.0507 - accuracy: 0.4130 - val_loss: 3.7401 - val_accuracy: 0.1263\n",
            "Epoch 4/5\n",
            "1604/1604 [==============================] - 2207s 1s/step - loss: 0.9106 - accuracy: 0.7347 - val_loss: 5.9865 - val_accuracy: 0.1135\n",
            "Epoch 5/5\n",
            "1604/1604 [==============================] - 2248s 1s/step - loss: 0.3363 - accuracy: 0.9068 - val_loss: 8.8365 - val_accuracy: 0.1088\n"
          ]
        }
      ],
      "source": [
        "history1 = model1.fit(\n",
        "    train_gen,\n",
        "    validation_data=test_gen,\n",
        "    epochs=5\n",
        ")"
      ]
    },
    {
      "cell_type": "markdown",
      "metadata": {
        "id": "JA31WMo5bgwP"
      },
      "source": [
        "#### Creating First Model with 7 Categories"
      ]
    },
    {
      "cell_type": "code",
      "execution_count": 20,
      "metadata": {
        "id": "pOuDw08FbgwQ"
      },
      "outputs": [],
      "source": [
        "model1_1 = Sequential()\n",
        "model1_1.add(Conv2D(64,(3,3),activation='relu',input_shape=(256,256,3)))\n",
        "model1_1.add(MaxPooling2D(pool_size=(2,2)))\n",
        "\n",
        "model1_1.add(Conv2D(64,(3,3),activation='relu'))\n",
        "model1_1.add(MaxPooling2D(pool_size=(2,2)))\n",
        "\n",
        "model1_1.add(Flatten())\n",
        "model1_1.add(Dense(64,activation='relu'))\n",
        "model1_1.add(Dense(7,activation='softmax'))\n",
        "\n",
        "model1_1.compile(\n",
        "    optimizer ='adam',\n",
        "    loss = 'categorical_crossentropy',\n",
        "    metrics = ['accuracy']\n",
        ")"
      ]
    },
    {
      "cell_type": "code",
      "execution_count": 21,
      "metadata": {
        "colab": {
          "base_uri": "https://localhost:8080/"
        },
        "id": "-cGy3EfCbgwQ",
        "outputId": "cba928f5-9663-4bd9-cea3-4f1953fdbc4c"
      },
      "outputs": [
        {
          "name": "stdout",
          "output_type": "stream",
          "text": [
            "Epoch 1/5\n",
            "375/375 [==============================] - 39s 99ms/step - loss: 2.0623 - accuracy: 0.2042 - val_loss: 1.8926 - val_accuracy: 0.2256\n",
            "Epoch 2/5\n",
            "375/375 [==============================] - 37s 98ms/step - loss: 1.7273 - accuracy: 0.3299 - val_loss: 1.9176 - val_accuracy: 0.2331\n",
            "Epoch 3/5\n",
            "375/375 [==============================] - 38s 102ms/step - loss: 1.1719 - accuracy: 0.5742 - val_loss: 2.3995 - val_accuracy: 0.2617\n",
            "Epoch 4/5\n",
            "375/375 [==============================] - 37s 99ms/step - loss: 0.5308 - accuracy: 0.8201 - val_loss: 3.9224 - val_accuracy: 0.2444\n",
            "Epoch 5/5\n",
            "375/375 [==============================] - 37s 99ms/step - loss: 0.2430 - accuracy: 0.9299 - val_loss: 5.5387 - val_accuracy: 0.2504\n"
          ]
        }
      ],
      "source": [
        "history1_1 = model1_1.fit(\n",
        "    train_gen_2,\n",
        "    validation_data=test_gen_2,\n",
        "    epochs=5\n",
        ")"
      ]
    },
    {
      "cell_type": "markdown",
      "metadata": {
        "id": "azaJ2x-OBwGk"
      },
      "source": [
        "#### Repeating with Dropout Layer and Early Stopping for 30 Categories"
      ]
    },
    {
      "cell_type": "code",
      "execution_count": null,
      "metadata": {
        "id": "dK6pdqs_YJpe"
      },
      "outputs": [],
      "source": [
        "model2 = Sequential()\n",
        "model2.add(Conv2D(64,(3,3),activation='relu',input_shape=(256,256,3)))\n",
        "model2.add(MaxPooling2D(pool_size=(2,2)))\n",
        "\n",
        "model2.add(Conv2D(64,(3,3),activation='relu'))\n",
        "model2.add(MaxPooling2D(pool_size=(2,2)))\n",
        "\n",
        "model2.add(Flatten())\n",
        "model2.add(Dense(64,activation='relu'))\n",
        "model2.add(Dropout(0.2))\n",
        "model2.add(Dense(30,activation='softmax'))\n",
        "\n",
        "model2.compile(\n",
        "    optimizer =Adam(learning_rate=.0001),\n",
        "    loss = 'categorical_crossentropy',\n",
        "    metrics = ['accuracy']\n",
        ")"
      ]
    },
    {
      "cell_type": "code",
      "execution_count": null,
      "metadata": {
        "id": "65IxXgHvo8cH"
      },
      "outputs": [],
      "source": [
        "early_stop = EarlyStopping(\n",
        "    monitor='val_loss',\n",
        "    min_delta=0,\n",
        "    patience=5,\n",
        "    verbose=1,\n",
        ")"
      ]
    },
    {
      "cell_type": "code",
      "execution_count": null,
      "metadata": {
        "colab": {
          "base_uri": "https://localhost:8080/"
        },
        "id": "L8AYFoipo97Y",
        "outputId": "5b3359e9-251d-41da-b3fa-6313b61eaad3"
      },
      "outputs": [
        {
          "name": "stdout",
          "output_type": "stream",
          "text": [
            "Epoch 1/5\n",
            "1604/1604 [==============================] - 172s 99ms/step - loss: 3.4032 - accuracy: 0.0325 - val_loss: 3.4012 - val_accuracy: 0.0333\n",
            "Epoch 2/5\n",
            "1604/1604 [==============================] - 158s 98ms/step - loss: 3.4012 - accuracy: 0.0313 - val_loss: 3.4012 - val_accuracy: 0.0333\n",
            "Epoch 3/5\n",
            "1604/1604 [==============================] - 159s 99ms/step - loss: 3.4007 - accuracy: 0.0317 - val_loss: 3.4012 - val_accuracy: 0.0332\n",
            "Epoch 4/5\n",
            "1604/1604 [==============================] - 158s 98ms/step - loss: 3.4003 - accuracy: 0.0327 - val_loss: 3.4012 - val_accuracy: 0.0333\n",
            "Epoch 5/5\n",
            "1604/1604 [==============================] - 166s 103ms/step - loss: 3.4002 - accuracy: 0.0312 - val_loss: 3.4011 - val_accuracy: 0.0333\n"
          ]
        }
      ],
      "source": [
        "history2 = model2.fit(\n",
        "    train_gen,\n",
        "    validation_data=test_gen,\n",
        "    epochs=5,\n",
        "    callbacks=[early_stop]\n",
        ")"
      ]
    },
    {
      "cell_type": "markdown",
      "metadata": {
        "id": "Ef8fN5FAdFo6"
      },
      "source": [
        "#### Repeating with Dropout Layer and Early Stopping for 7 Categories"
      ]
    },
    {
      "cell_type": "code",
      "execution_count": 22,
      "metadata": {
        "id": "QMKWQ1cjdFo9"
      },
      "outputs": [],
      "source": [
        "model2_2 = Sequential()\n",
        "model2_2.add(Conv2D(64,(3,3),activation='relu',input_shape=(256,256,3)))\n",
        "model2_2.add(MaxPooling2D(pool_size=(2,2)))\n",
        "\n",
        "model2_2.add(Conv2D(64,(3,3),activation='relu'))\n",
        "model2_2.add(MaxPooling2D(pool_size=(2,2)))\n",
        "\n",
        "model2_2.add(Flatten())\n",
        "model2_2.add(Dense(64,activation='relu'))\n",
        "model2_2.add(Dropout(0.2))\n",
        "model2_2.add(Dense(7,activation='softmax'))\n",
        "\n",
        "model2_2.compile(\n",
        "    optimizer =Adam(learning_rate=.0001),\n",
        "    loss = 'categorical_crossentropy',\n",
        "    metrics = ['accuracy']\n",
        ")"
      ]
    },
    {
      "cell_type": "code",
      "execution_count": 23,
      "metadata": {
        "id": "W3vEcDe-dFo9"
      },
      "outputs": [],
      "source": [
        "early_stop = EarlyStopping(\n",
        "    monitor='val_loss',\n",
        "    min_delta=0,\n",
        "    patience=5,\n",
        "    verbose=1,\n",
        ")"
      ]
    },
    {
      "cell_type": "code",
      "execution_count": 24,
      "metadata": {
        "colab": {
          "base_uri": "https://localhost:8080/"
        },
        "id": "wqA4s8URdFo9",
        "outputId": "dfc2222b-653a-404e-b61a-42e66eff5c02"
      },
      "outputs": [
        {
          "name": "stdout",
          "output_type": "stream",
          "text": [
            "Epoch 1/5\n",
            "375/375 [==============================] - 38s 100ms/step - loss: 1.9352 - accuracy: 0.1753 - val_loss: 1.9100 - val_accuracy: 0.1910\n",
            "Epoch 2/5\n",
            "375/375 [==============================] - 38s 100ms/step - loss: 1.8843 - accuracy: 0.2188 - val_loss: 1.8661 - val_accuracy: 0.2248\n",
            "Epoch 3/5\n",
            "375/375 [==============================] - 44s 118ms/step - loss: 1.8131 - accuracy: 0.2660 - val_loss: 1.8409 - val_accuracy: 0.2714\n",
            "Epoch 4/5\n",
            "375/375 [==============================] - 38s 100ms/step - loss: 1.7174 - accuracy: 0.3193 - val_loss: 1.8230 - val_accuracy: 0.2880\n",
            "Epoch 5/5\n",
            "375/375 [==============================] - 37s 99ms/step - loss: 1.6097 - accuracy: 0.3792 - val_loss: 1.8321 - val_accuracy: 0.2932\n"
          ]
        }
      ],
      "source": [
        "history2_2 = model2_2.fit(\n",
        "    train_gen_2,\n",
        "    validation_data=test_gen_2,\n",
        "    epochs=5,\n",
        "    callbacks=[early_stop]\n",
        ")"
      ]
    },
    {
      "cell_type": "markdown",
      "metadata": {
        "id": "HfqBLRG0B23T"
      },
      "source": [
        "#### Adding Additional Conv2D and MaxPooling2D Layer for 30 Categories"
      ]
    },
    {
      "cell_type": "code",
      "execution_count": null,
      "metadata": {
        "id": "wwxzOBvfpPma"
      },
      "outputs": [],
      "source": [
        "model3 = Sequential()\n",
        "model3.add(Conv2D(64,(3,3),activation='relu',input_shape=(256,256,3)))\n",
        "model3.add(MaxPooling2D(pool_size=(2,2)))\n",
        "\n",
        "model3.add(Conv2D(64,(3,3),activation='relu'))\n",
        "model3.add(MaxPooling2D(pool_size=(2,2)))\n",
        "\n",
        "model3.add(Conv2D(64,(3,3),activation='relu'))\n",
        "model3.add(MaxPooling2D(pool_size=(2,2)))\n",
        "\n",
        "model3.add(Flatten())\n",
        "model3.add(Dense(64,activation='relu'))\n",
        "model3.add(Dropout(0.2))\n",
        "model3.add(Dense(30,activation='softmax'))\n",
        "\n",
        "model3.compile(\n",
        "    optimizer = Adam(learning_rate=.0001),\n",
        "    loss = 'categorical_crossentropy',\n",
        "    metrics = ['accuracy']\n",
        ")"
      ]
    },
    {
      "cell_type": "code",
      "execution_count": null,
      "metadata": {
        "colab": {
          "base_uri": "https://localhost:8080/"
        },
        "id": "rjwbPemFshKP",
        "outputId": "b1388a48-9ada-42cb-9030-623038cf78ec"
      },
      "outputs": [
        {
          "name": "stdout",
          "output_type": "stream",
          "text": [
            "Epoch 1/10\n",
            "1604/1604 [==============================] - 168s 104ms/step - loss: 3.3728 - accuracy: 0.0549 - val_loss: 3.3215 - val_accuracy: 0.0737\n",
            "Epoch 2/10\n",
            "1604/1604 [==============================] - 166s 103ms/step - loss: 3.2717 - accuracy: 0.0894 - val_loss: 3.2081 - val_accuracy: 0.1089\n",
            "Epoch 3/10\n",
            "1604/1604 [==============================] - 166s 103ms/step - loss: 3.1405 - accuracy: 0.1238 - val_loss: 3.1089 - val_accuracy: 0.1377\n",
            "Epoch 4/10\n",
            "1604/1604 [==============================] - 168s 104ms/step - loss: 3.0136 - accuracy: 0.1523 - val_loss: 3.0835 - val_accuracy: 0.1474\n",
            "Epoch 5/10\n",
            "1604/1604 [==============================] - 166s 103ms/step - loss: 2.8831 - accuracy: 0.1859 - val_loss: 3.0805 - val_accuracy: 0.1470\n",
            "Epoch 6/10\n",
            "1604/1604 [==============================] - 166s 104ms/step - loss: 2.7469 - accuracy: 0.2188 - val_loss: 3.0672 - val_accuracy: 0.1567\n",
            "Epoch 7/10\n",
            "1604/1604 [==============================] - 167s 104ms/step - loss: 2.5979 - accuracy: 0.2523 - val_loss: 3.1278 - val_accuracy: 0.1509\n",
            "Epoch 8/10\n",
            "1604/1604 [==============================] - 167s 104ms/step - loss: 2.4323 - accuracy: 0.2942 - val_loss: 3.1836 - val_accuracy: 0.1463\n",
            "Epoch 9/10\n",
            "1604/1604 [==============================] - 168s 104ms/step - loss: 2.2529 - accuracy: 0.3363 - val_loss: 3.2658 - val_accuracy: 0.1454\n",
            "Epoch 10/10\n",
            "1604/1604 [==============================] - 168s 105ms/step - loss: 2.0730 - accuracy: 0.3812 - val_loss: 3.4179 - val_accuracy: 0.1433\n"
          ]
        }
      ],
      "source": [
        "history3 = model3.fit(\n",
        "    train_gen,\n",
        "    validation_data=test_gen,\n",
        "    epochs=10,\n",
        "    callbacks=[early_stop]\n",
        ")"
      ]
    },
    {
      "cell_type": "markdown",
      "metadata": {
        "id": "9G1nuAOzdjn3"
      },
      "source": [
        "#### Adding Additional Conv2D and MaxPooling2D Layer for 7 Categories"
      ]
    },
    {
      "cell_type": "code",
      "execution_count": 25,
      "metadata": {
        "id": "jGx7t1X0djn3"
      },
      "outputs": [],
      "source": [
        "model3_3 = Sequential()\n",
        "model3_3.add(Conv2D(64,(3,3),activation='relu',input_shape=(256,256,3)))\n",
        "model3_3.add(MaxPooling2D(pool_size=(2,2)))\n",
        "\n",
        "model3_3.add(Conv2D(64,(3,3),activation='relu'))\n",
        "model3_3.add(MaxPooling2D(pool_size=(2,2)))\n",
        "\n",
        "model3_3.add(Conv2D(64,(3,3),activation='relu'))\n",
        "model3_3.add(MaxPooling2D(pool_size=(2,2)))\n",
        "\n",
        "model3_3.add(Flatten())\n",
        "model3_3.add(Dense(64,activation='relu'))\n",
        "model3_3.add(Dropout(0.2))\n",
        "model3_3.add(Dense(7,activation='softmax'))\n",
        "\n",
        "model3_3.compile(\n",
        "    optimizer = Adam(learning_rate=.0001),\n",
        "    loss = 'categorical_crossentropy',\n",
        "    metrics = ['accuracy']\n",
        ")"
      ]
    },
    {
      "cell_type": "code",
      "execution_count": 26,
      "metadata": {
        "colab": {
          "base_uri": "https://localhost:8080/"
        },
        "id": "P6t7AMpqdjn4",
        "outputId": "df46a6a0-ad8a-4d6a-b863-0343c11c90aa"
      },
      "outputs": [
        {
          "name": "stdout",
          "output_type": "stream",
          "text": [
            "Epoch 1/10\n",
            "375/375 [==============================] - 40s 106ms/step - loss: 1.9198 - accuracy: 0.1882 - val_loss: 1.8878 - val_accuracy: 0.2128\n",
            "Epoch 2/10\n",
            "375/375 [==============================] - 47s 127ms/step - loss: 1.8484 - accuracy: 0.2512 - val_loss: 1.8563 - val_accuracy: 0.2609\n",
            "Epoch 3/10\n",
            "375/375 [==============================] - 39s 103ms/step - loss: 1.7948 - accuracy: 0.2915 - val_loss: 1.7917 - val_accuracy: 0.3195\n",
            "Epoch 4/10\n",
            "375/375 [==============================] - 39s 103ms/step - loss: 1.7243 - accuracy: 0.3292 - val_loss: 1.7849 - val_accuracy: 0.3098\n",
            "Epoch 5/10\n",
            "375/375 [==============================] - 39s 104ms/step - loss: 1.6569 - accuracy: 0.3632 - val_loss: 1.7846 - val_accuracy: 0.3150\n",
            "Epoch 6/10\n",
            "375/375 [==============================] - 39s 103ms/step - loss: 1.5657 - accuracy: 0.4019 - val_loss: 1.7786 - val_accuracy: 0.3346\n",
            "Epoch 7/10\n",
            "375/375 [==============================] - 39s 104ms/step - loss: 1.4567 - accuracy: 0.4557 - val_loss: 1.7843 - val_accuracy: 0.3376\n",
            "Epoch 8/10\n",
            "375/375 [==============================] - 39s 105ms/step - loss: 1.3449 - accuracy: 0.4986 - val_loss: 1.8151 - val_accuracy: 0.3293\n",
            "Epoch 9/10\n",
            "375/375 [==============================] - 39s 104ms/step - loss: 1.2294 - accuracy: 0.5414 - val_loss: 1.8948 - val_accuracy: 0.3263\n",
            "Epoch 10/10\n",
            "375/375 [==============================] - 39s 104ms/step - loss: 1.1098 - accuracy: 0.5932 - val_loss: 2.0042 - val_accuracy: 0.3226\n"
          ]
        }
      ],
      "source": [
        "history3_3 = model3_3.fit(\n",
        "    train_gen_2,\n",
        "    validation_data=test_gen_2,\n",
        "    epochs=10,\n",
        "    callbacks=[early_stop]\n",
        ")"
      ]
    },
    {
      "cell_type": "markdown",
      "metadata": {
        "id": "WlIsxahECFC5"
      },
      "source": [
        "#### Adding Additional Conv2D and MaxPooling2D Layer for 30 Categories"
      ]
    },
    {
      "cell_type": "code",
      "execution_count": null,
      "metadata": {
        "id": "cqGRMF7Asmnw"
      },
      "outputs": [],
      "source": [
        "model4 = Sequential()\n",
        "model4.add(Conv2D(64,(3,3),activation='relu',input_shape=(256,256,3)))\n",
        "model4.add(MaxPooling2D(pool_size=(2,2)))\n",
        "\n",
        "model4.add(Conv2D(64,(3,3),activation='relu'))\n",
        "model4.add(MaxPooling2D(pool_size=(2,2)))\n",
        "\n",
        "model4.add(Conv2D(64,(3,3),activation='relu'))\n",
        "model4.add(MaxPooling2D(pool_size=(2,2)))\n",
        "\n",
        "model4.add(Conv2D(64,(3,3),activation='relu'))\n",
        "model4.add(MaxPooling2D(pool_size=(2,2)))\n",
        "\n",
        "model4.add(Flatten())\n",
        "model4.add(Dense(64,activation='relu'))\n",
        "model4.add(Dropout(0.2))\n",
        "model4.add(Dense(30,activation='softmax'))\n",
        "\n",
        "model4.compile(\n",
        "    optimizer = Adam(learning_rate=.0001),\n",
        "    loss = 'categorical_crossentropy',\n",
        "    metrics = ['accuracy']\n",
        ")"
      ]
    },
    {
      "cell_type": "code",
      "execution_count": null,
      "metadata": {
        "colab": {
          "base_uri": "https://localhost:8080/"
        },
        "id": "fpmMQfClzTaX",
        "outputId": "ed072c58-2aec-4dad-aa1a-7b1cfcac9cf0"
      },
      "outputs": [
        {
          "name": "stdout",
          "output_type": "stream",
          "text": [
            "Epoch 1/10\n",
            "1604/1604 [==============================] - 169s 105ms/step - loss: 3.3503 - accuracy: 0.0603 - val_loss: 3.3006 - val_accuracy: 0.0737\n",
            "Epoch 2/10\n",
            "1604/1604 [==============================] - 167s 104ms/step - loss: 3.2256 - accuracy: 0.1001 - val_loss: 3.1514 - val_accuracy: 0.1325\n",
            "Epoch 3/10\n",
            "1604/1604 [==============================] - 168s 105ms/step - loss: 3.1134 - accuracy: 0.1323 - val_loss: 3.0589 - val_accuracy: 0.1546\n",
            "Epoch 4/10\n",
            "1604/1604 [==============================] - 167s 104ms/step - loss: 3.0150 - accuracy: 0.1598 - val_loss: 3.0205 - val_accuracy: 0.1679\n",
            "Epoch 5/10\n",
            "1604/1604 [==============================] - 168s 104ms/step - loss: 2.9293 - accuracy: 0.1809 - val_loss: 3.0128 - val_accuracy: 0.1625\n",
            "Epoch 6/10\n",
            "1604/1604 [==============================] - 168s 105ms/step - loss: 2.8463 - accuracy: 0.2023 - val_loss: 2.9912 - val_accuracy: 0.1744\n",
            "Epoch 7/10\n",
            "1604/1604 [==============================] - 169s 105ms/step - loss: 2.7561 - accuracy: 0.2229 - val_loss: 2.9802 - val_accuracy: 0.1691\n",
            "Epoch 8/10\n",
            "1604/1604 [==============================] - 171s 107ms/step - loss: 2.6593 - accuracy: 0.2432 - val_loss: 2.9920 - val_accuracy: 0.1770\n",
            "Epoch 9/10\n",
            "1604/1604 [==============================] - 173s 108ms/step - loss: 2.5519 - accuracy: 0.2739 - val_loss: 3.0182 - val_accuracy: 0.1732\n",
            "Epoch 10/10\n",
            "1604/1604 [==============================] - 169s 105ms/step - loss: 2.4300 - accuracy: 0.3038 - val_loss: 3.0718 - val_accuracy: 0.1733\n"
          ]
        }
      ],
      "source": [
        "history4 = model4.fit(\n",
        "    train_gen,\n",
        "    validation_data=test_gen,\n",
        "    epochs=10,\n",
        "    callbacks=[early_stop]\n",
        ")"
      ]
    },
    {
      "cell_type": "markdown",
      "metadata": {
        "id": "6gkxAauEeQpe"
      },
      "source": [
        "#### Adding Additional Conv2D and MaxPooling2D Layer for 7 Categories"
      ]
    },
    {
      "cell_type": "code",
      "execution_count": 27,
      "metadata": {
        "id": "azNHjpzBeQpk"
      },
      "outputs": [],
      "source": [
        "model4_4 = Sequential()\n",
        "model4_4.add(Conv2D(64,(3,3),activation='relu',input_shape=(256,256,3)))\n",
        "model4_4.add(MaxPooling2D(pool_size=(2,2)))\n",
        "\n",
        "model4_4.add(Conv2D(64,(3,3),activation='relu'))\n",
        "model4_4.add(MaxPooling2D(pool_size=(2,2)))\n",
        "\n",
        "model4_4.add(Conv2D(64,(3,3),activation='relu'))\n",
        "model4_4.add(MaxPooling2D(pool_size=(2,2)))\n",
        "\n",
        "model4_4.add(Conv2D(64,(3,3),activation='relu'))\n",
        "model4_4.add(MaxPooling2D(pool_size=(2,2)))\n",
        "\n",
        "model4_4.add(Flatten())\n",
        "model4_4.add(Dense(64,activation='relu'))\n",
        "model4_4.add(Dropout(0.2))\n",
        "model4_4.add(Dense(7,activation='softmax'))\n",
        "\n",
        "model4_4.compile(\n",
        "    optimizer = Adam(learning_rate=.0001),\n",
        "    loss = 'categorical_crossentropy',\n",
        "    metrics = ['accuracy']\n",
        ")"
      ]
    },
    {
      "cell_type": "code",
      "execution_count": 28,
      "metadata": {
        "colab": {
          "base_uri": "https://localhost:8080/"
        },
        "id": "vipllMRbeQpl",
        "outputId": "149cd10d-dff3-4054-f5ec-f7d9b6a0d83a"
      },
      "outputs": [
        {
          "name": "stdout",
          "output_type": "stream",
          "text": [
            "Epoch 1/10\n",
            "375/375 [==============================] - 43s 112ms/step - loss: 1.9066 - accuracy: 0.2016 - val_loss: 1.8646 - val_accuracy: 0.2511\n",
            "Epoch 2/10\n",
            "375/375 [==============================] - 39s 104ms/step - loss: 1.8378 - accuracy: 0.2630 - val_loss: 1.8243 - val_accuracy: 0.2850\n",
            "Epoch 3/10\n",
            "375/375 [==============================] - 40s 106ms/step - loss: 1.7842 - accuracy: 0.3049 - val_loss: 1.7697 - val_accuracy: 0.3098\n",
            "Epoch 4/10\n",
            "375/375 [==============================] - 39s 104ms/step - loss: 1.7330 - accuracy: 0.3327 - val_loss: 1.7850 - val_accuracy: 0.3098\n",
            "Epoch 5/10\n",
            "375/375 [==============================] - 39s 104ms/step - loss: 1.6797 - accuracy: 0.3607 - val_loss: 1.7455 - val_accuracy: 0.3368\n",
            "Epoch 6/10\n",
            "375/375 [==============================] - 39s 104ms/step - loss: 1.6148 - accuracy: 0.3880 - val_loss: 1.7207 - val_accuracy: 0.3594\n",
            "Epoch 7/10\n",
            "375/375 [==============================] - 39s 104ms/step - loss: 1.5585 - accuracy: 0.4104 - val_loss: 1.7123 - val_accuracy: 0.3504\n",
            "Epoch 8/10\n",
            "375/375 [==============================] - 39s 104ms/step - loss: 1.4738 - accuracy: 0.4566 - val_loss: 1.7133 - val_accuracy: 0.3504\n",
            "Epoch 9/10\n",
            "375/375 [==============================] - 39s 105ms/step - loss: 1.3992 - accuracy: 0.4832 - val_loss: 1.7568 - val_accuracy: 0.3556\n",
            "Epoch 10/10\n",
            "375/375 [==============================] - 39s 105ms/step - loss: 1.3074 - accuracy: 0.5219 - val_loss: 1.7761 - val_accuracy: 0.3376\n"
          ]
        }
      ],
      "source": [
        "history4_4 = model4_4.fit(\n",
        "    train_gen_2,\n",
        "    validation_data=test_gen_2,\n",
        "    epochs=10,\n",
        "    callbacks=[early_stop]\n",
        ")"
      ]
    },
    {
      "cell_type": "markdown",
      "metadata": {
        "id": "lU07-5muCHrZ"
      },
      "source": [
        "#### Adding Additional Dense Layers After Flatten for 30 Categories"
      ]
    },
    {
      "cell_type": "code",
      "execution_count": null,
      "metadata": {
        "id": "CZ7D7V0-zbXM"
      },
      "outputs": [],
      "source": [
        "model5 = Sequential()\n",
        "model5.add(Conv2D(64,(3,3),activation='relu',input_shape=(256,256,3)))\n",
        "model5.add(MaxPooling2D(pool_size=(2,2)))\n",
        "\n",
        "model5.add(Conv2D(64,(3,3),activation='relu'))\n",
        "model5.add(MaxPooling2D(pool_size=(2,2)))\n",
        "\n",
        "model5.add(Conv2D(64,(3,3),activation='relu'))\n",
        "model5.add(MaxPooling2D(pool_size=(2,2)))\n",
        "\n",
        "model5.add(Conv2D(64,(3,3),activation='relu'))\n",
        "model5.add(MaxPooling2D(pool_size=(2,2)))\n",
        "\n",
        "model5.add(Flatten())\n",
        "model5.add(Dense(64,activation='relu'))\n",
        "model5.add(Dense(64,activation='relu'))\n",
        "model5.add(Dense(64,activation='relu'))\n",
        "model5.add(Dropout(0.2))\n",
        "model5.add(Dense(30,activation='softmax'))\n",
        "\n",
        "model5.compile(\n",
        "    optimizer = Adam(learning_rate=.0001),\n",
        "    loss = 'categorical_crossentropy',\n",
        "    metrics = ['accuracy']\n",
        ")"
      ]
    },
    {
      "cell_type": "code",
      "execution_count": null,
      "metadata": {
        "colab": {
          "base_uri": "https://localhost:8080/"
        },
        "id": "vC0U6hQp4tJU",
        "outputId": "fb3107d7-da37-4d67-a501-2b7ffb30ac45"
      },
      "outputs": [
        {
          "name": "stdout",
          "output_type": "stream",
          "text": [
            "Epoch 1/10\n",
            "1604/1604 [==============================] - 169s 105ms/step - loss: 3.3711 - accuracy: 0.0502 - val_loss: 3.3088 - val_accuracy: 0.0702\n",
            "Epoch 2/10\n",
            "1604/1604 [==============================] - 168s 105ms/step - loss: 3.2625 - accuracy: 0.0839 - val_loss: 3.2223 - val_accuracy: 0.0967\n",
            "Epoch 3/10\n",
            "1604/1604 [==============================] - 168s 105ms/step - loss: 3.1581 - accuracy: 0.1122 - val_loss: 3.1011 - val_accuracy: 0.1311\n",
            "Epoch 4/10\n",
            "1604/1604 [==============================] - 169s 105ms/step - loss: 3.0753 - accuracy: 0.1363 - val_loss: 3.0670 - val_accuracy: 0.1486\n",
            "Epoch 5/10\n",
            "1604/1604 [==============================] - 168s 105ms/step - loss: 3.0071 - accuracy: 0.1547 - val_loss: 2.9991 - val_accuracy: 0.1563\n",
            "Epoch 6/10\n",
            "1604/1604 [==============================] - 169s 105ms/step - loss: 2.9378 - accuracy: 0.1756 - val_loss: 2.9962 - val_accuracy: 0.1591\n",
            "Epoch 7/10\n",
            "1604/1604 [==============================] - 168s 105ms/step - loss: 2.8746 - accuracy: 0.1917 - val_loss: 2.9643 - val_accuracy: 0.1668\n",
            "Epoch 8/10\n",
            "1604/1604 [==============================] - 168s 105ms/step - loss: 2.8053 - accuracy: 0.2083 - val_loss: 2.9672 - val_accuracy: 0.1681\n",
            "Epoch 9/10\n",
            "1604/1604 [==============================] - 169s 105ms/step - loss: 2.7338 - accuracy: 0.2285 - val_loss: 2.9883 - val_accuracy: 0.1658\n",
            "Epoch 10/10\n",
            "1604/1604 [==============================] - 168s 105ms/step - loss: 2.6571 - accuracy: 0.2453 - val_loss: 3.0347 - val_accuracy: 0.1607\n"
          ]
        }
      ],
      "source": [
        "history5 = model5.fit(\n",
        "    train_gen,\n",
        "    validation_data=test_gen,\n",
        "    epochs=10,\n",
        "    callbacks=[early_stop]\n",
        ")"
      ]
    },
    {
      "cell_type": "markdown",
      "metadata": {
        "id": "o9Fp1TvUgCe1"
      },
      "source": [
        "#### Adding Additional Dense Layers After Flatten for 7 Categories"
      ]
    },
    {
      "cell_type": "code",
      "execution_count": 29,
      "metadata": {
        "id": "FZJJz6XZgCe7"
      },
      "outputs": [],
      "source": [
        "model5_5 = Sequential()\n",
        "model5_5.add(Conv2D(64,(3,3),activation='relu',input_shape=(256,256,3)))\n",
        "model5_5.add(MaxPooling2D(pool_size=(2,2)))\n",
        "\n",
        "model5_5.add(Conv2D(64,(3,3),activation='relu'))\n",
        "model5_5.add(MaxPooling2D(pool_size=(2,2)))\n",
        "\n",
        "model5_5.add(Conv2D(64,(3,3),activation='relu'))\n",
        "model5_5.add(MaxPooling2D(pool_size=(2,2)))\n",
        "\n",
        "model5_5.add(Conv2D(64,(3,3),activation='relu'))\n",
        "model5_5.add(MaxPooling2D(pool_size=(2,2)))\n",
        "\n",
        "model5_5.add(Flatten())\n",
        "model5_5.add(Dense(64,activation='relu'))\n",
        "model5_5.add(Dense(64,activation='relu'))\n",
        "model5_5.add(Dense(64,activation='relu'))\n",
        "model5_5.add(Dropout(0.2))\n",
        "model5_5.add(Dense(7,activation='softmax'))\n",
        "\n",
        "model5_5.compile(\n",
        "    optimizer = Adam(learning_rate=.0001),\n",
        "    loss = 'categorical_crossentropy',\n",
        "    metrics = ['accuracy']\n",
        ")"
      ]
    },
    {
      "cell_type": "code",
      "execution_count": 30,
      "metadata": {
        "colab": {
          "base_uri": "https://localhost:8080/"
        },
        "id": "muYzX3zEgCe8",
        "outputId": "b88efaf5-0043-4722-8bba-3d5986d753dc"
      },
      "outputs": [
        {
          "name": "stdout",
          "output_type": "stream",
          "text": [
            "Epoch 1/10\n",
            "375/375 [==============================] - 43s 112ms/step - loss: 1.9183 - accuracy: 0.1893 - val_loss: 1.8676 - val_accuracy: 0.2444\n",
            "Epoch 2/10\n",
            "375/375 [==============================] - 47s 125ms/step - loss: 1.8616 - accuracy: 0.2456 - val_loss: 1.8452 - val_accuracy: 0.2774\n",
            "Epoch 3/10\n",
            "375/375 [==============================] - 40s 107ms/step - loss: 1.8169 - accuracy: 0.2797 - val_loss: 1.8108 - val_accuracy: 0.2782\n",
            "Epoch 4/10\n",
            "375/375 [==============================] - 39s 105ms/step - loss: 1.7815 - accuracy: 0.3003 - val_loss: 1.7804 - val_accuracy: 0.3135\n",
            "Epoch 5/10\n",
            "375/375 [==============================] - 39s 105ms/step - loss: 1.7316 - accuracy: 0.3297 - val_loss: 1.7602 - val_accuracy: 0.3271\n",
            "Epoch 6/10\n",
            "375/375 [==============================] - 39s 105ms/step - loss: 1.6762 - accuracy: 0.3612 - val_loss: 1.7526 - val_accuracy: 0.3286\n",
            "Epoch 7/10\n",
            "375/375 [==============================] - 39s 105ms/step - loss: 1.6144 - accuracy: 0.3891 - val_loss: 1.7877 - val_accuracy: 0.3015\n",
            "Epoch 8/10\n",
            "375/375 [==============================] - 39s 105ms/step - loss: 1.5436 - accuracy: 0.4199 - val_loss: 1.7474 - val_accuracy: 0.3353\n",
            "Epoch 9/10\n",
            "375/375 [==============================] - 40s 105ms/step - loss: 1.4564 - accuracy: 0.4624 - val_loss: 1.7672 - val_accuracy: 0.3391\n",
            "Epoch 10/10\n",
            "375/375 [==============================] - 39s 105ms/step - loss: 1.3501 - accuracy: 0.5069 - val_loss: 1.7709 - val_accuracy: 0.3414\n"
          ]
        }
      ],
      "source": [
        "history5_5 = model5_5.fit(\n",
        "    train_gen_2,\n",
        "    validation_data=test_gen_2,\n",
        "    epochs=10,\n",
        "    callbacks=[early_stop]\n",
        ")"
      ]
    },
    {
      "cell_type": "markdown",
      "metadata": {
        "id": "21vnigesCMhw"
      },
      "source": [
        "#### Trying EfficientNet for 30 Categories"
      ]
    },
    {
      "cell_type": "code",
      "execution_count": null,
      "metadata": {
        "colab": {
          "base_uri": "https://localhost:8080/"
        },
        "id": "9Ygsy_FUBEHP",
        "outputId": "83a31941-c250-4cf6-ca56-04d600e9efb5"
      },
      "outputs": [
        {
          "name": "stdout",
          "output_type": "stream",
          "text": [
            "Found 51300 validated image filenames belonging to 30 classes.\n",
            "Found 5700 validated image filenames belonging to 30 classes.\n"
          ]
        }
      ],
      "source": [
        "eff_train_gen = datagen.flow_from_dataframe(\n",
        "    dataframe=train,\n",
        "    directory='/content/224x224',\n",
        "    x_col='filename',\n",
        "    y_col='category',\n",
        "    class_mode='categorical',\n",
        "    target_size=(224,224)\n",
        ")\n",
        "\n",
        "eff_test_gen = datagen.flow_from_dataframe(\n",
        "    dataframe=test,\n",
        "    directory='/content/224x224',\n",
        "    x_col='filename',\n",
        "    y_col='category',\n",
        "    class_mode='categorical',\n",
        "    target_size=(224,224)\n",
        ")"
      ]
    },
    {
      "cell_type": "code",
      "execution_count": null,
      "metadata": {
        "colab": {
          "base_uri": "https://localhost:8080/"
        },
        "id": "pCqVED0E6In2",
        "outputId": "b130ce25-5373-4519-d73a-f46c6354cb3b"
      },
      "outputs": [
        {
          "name": "stdout",
          "output_type": "stream",
          "text": [
            "Downloading data from https://storage.googleapis.com/keras-applications/efficientnetb0_notop.h5\n",
            "16711680/16705208 [==============================] - 0s 0us/step\n",
            "16719872/16705208 [==============================] - 0s 0us/step\n"
          ]
        }
      ],
      "source": [
        "effnet = EfficientNetB0(include_top=False, weights='imagenet')"
      ]
    },
    {
      "cell_type": "code",
      "execution_count": null,
      "metadata": {
        "id": "7BKBbVVhGBCt"
      },
      "outputs": [],
      "source": [
        "effnet.trainable = False"
      ]
    },
    {
      "cell_type": "code",
      "execution_count": null,
      "metadata": {
        "id": "dQIaRrU-BYAy"
      },
      "outputs": [],
      "source": [
        "model6 = Sequential()\n",
        "model6.add(effnet)\n",
        "model6.add(GlobalAveragePooling2D())\n",
        "model6.add(Dense(30, activation='softmax'))\n",
        "\n",
        "model6.compile(\n",
        "    optimizer = Adam(learning_rate=.0001),\n",
        "    loss = 'categorical_crossentropy',\n",
        "    metrics = ['accuracy']\n",
        ")"
      ]
    },
    {
      "cell_type": "code",
      "execution_count": null,
      "metadata": {
        "colab": {
          "base_uri": "https://localhost:8080/"
        },
        "id": "TFZGUXO5Bbwg",
        "outputId": "b788c3b6-c94b-4c1d-974b-58cc4e887d2f"
      },
      "outputs": [
        {
          "name": "stdout",
          "output_type": "stream",
          "text": [
            "Epoch 1/10\n",
            "1604/1604 [==============================] - 161s 97ms/step - loss: 3.1778 - accuracy: 0.1286 - val_loss: 3.0374 - val_accuracy: 0.1665\n",
            "Epoch 2/10\n",
            "1604/1604 [==============================] - 156s 97ms/step - loss: 2.9937 - accuracy: 0.1734 - val_loss: 2.9552 - val_accuracy: 0.1796\n",
            "Epoch 3/10\n",
            "1604/1604 [==============================] - 154s 96ms/step - loss: 2.9307 - accuracy: 0.1881 - val_loss: 2.9171 - val_accuracy: 0.1863\n",
            "Epoch 4/10\n",
            "1604/1604 [==============================] - 154s 96ms/step - loss: 2.8954 - accuracy: 0.1968 - val_loss: 2.8931 - val_accuracy: 0.1923\n",
            "Epoch 5/10\n",
            "1604/1604 [==============================] - 154s 96ms/step - loss: 2.8690 - accuracy: 0.2039 - val_loss: 2.8767 - val_accuracy: 0.1958\n",
            "Epoch 6/10\n",
            "1604/1604 [==============================] - 154s 96ms/step - loss: 2.8527 - accuracy: 0.2076 - val_loss: 2.8653 - val_accuracy: 0.1984\n",
            "Epoch 7/10\n",
            "1604/1604 [==============================] - 154s 96ms/step - loss: 2.8368 - accuracy: 0.2112 - val_loss: 2.8553 - val_accuracy: 0.2037\n",
            "Epoch 8/10\n",
            "1604/1604 [==============================] - 154s 96ms/step - loss: 2.8212 - accuracy: 0.2165 - val_loss: 2.8462 - val_accuracy: 0.2068\n",
            "Epoch 9/10\n",
            "1604/1604 [==============================] - 154s 96ms/step - loss: 2.8095 - accuracy: 0.2182 - val_loss: 2.8377 - val_accuracy: 0.2079\n",
            "Epoch 10/10\n",
            "1604/1604 [==============================] - 154s 96ms/step - loss: 2.7983 - accuracy: 0.2201 - val_loss: 2.8332 - val_accuracy: 0.2068\n"
          ]
        }
      ],
      "source": [
        "history6 = model6.fit(\n",
        "    train_gen,\n",
        "    validation_data=test_gen,\n",
        "    epochs=10,\n",
        "    callbacks=[early_stop]\n",
        ")"
      ]
    },
    {
      "cell_type": "markdown",
      "metadata": {
        "id": "v4i29IVfh5E7"
      },
      "source": [
        "#### Trying EfficientNet for 7 Categories"
      ]
    },
    {
      "cell_type": "code",
      "execution_count": 31,
      "metadata": {
        "colab": {
          "base_uri": "https://localhost:8080/"
        },
        "id": "yZ8ee429h5FB",
        "outputId": "919006c9-f173-4129-91d1-818734597320"
      },
      "outputs": [
        {
          "name": "stdout",
          "output_type": "stream",
          "text": [
            "Found 11970 validated image filenames belonging to 7 classes.\n",
            "Found 1330 validated image filenames belonging to 7 classes.\n"
          ]
        }
      ],
      "source": [
        "eff_train_gen_2 = datagen.flow_from_dataframe(\n",
        "    dataframe=train_cleaned,\n",
        "    directory='/content/224x224',\n",
        "    x_col='filename',\n",
        "    y_col='category',\n",
        "    class_mode='categorical',\n",
        "    target_size=(224,224)\n",
        ")\n",
        "\n",
        "eff_test_gen_2 = datagen.flow_from_dataframe(\n",
        "    dataframe=test_cleaned,\n",
        "    directory='/content/224x224',\n",
        "    x_col='filename',\n",
        "    y_col='category',\n",
        "    class_mode='categorical',\n",
        "    target_size=(224,224)\n",
        ")"
      ]
    },
    {
      "cell_type": "code",
      "execution_count": 32,
      "metadata": {
        "colab": {
          "base_uri": "https://localhost:8080/"
        },
        "id": "1Pt8NYzih5FC",
        "outputId": "521b722b-39d6-4e5d-9dbc-8a6f38213ec1"
      },
      "outputs": [
        {
          "name": "stdout",
          "output_type": "stream",
          "text": [
            "Downloading data from https://storage.googleapis.com/keras-applications/efficientnetb0_notop.h5\n",
            "16711680/16705208 [==============================] - 0s 0us/step\n",
            "16719872/16705208 [==============================] - 0s 0us/step\n"
          ]
        }
      ],
      "source": [
        "effnet = EfficientNetB0(include_top=False, weights='imagenet')"
      ]
    },
    {
      "cell_type": "code",
      "execution_count": 33,
      "metadata": {
        "id": "uiiEGPLah5FC"
      },
      "outputs": [],
      "source": [
        "effnet.trainable = False"
      ]
    },
    {
      "cell_type": "code",
      "execution_count": 34,
      "metadata": {
        "id": "nwGK6eOjh5FC"
      },
      "outputs": [],
      "source": [
        "model6_6 = Sequential()\n",
        "model6_6.add(effnet)\n",
        "model6_6.add(GlobalAveragePooling2D())\n",
        "model6_6.add(Dense(7, activation='softmax'))\n",
        "\n",
        "model6_6.compile(\n",
        "    optimizer = Adam(learning_rate=.0001),\n",
        "    loss = 'categorical_crossentropy',\n",
        "    metrics = ['accuracy']\n",
        ")"
      ]
    },
    {
      "cell_type": "code",
      "execution_count": 36,
      "metadata": {
        "colab": {
          "base_uri": "https://localhost:8080/"
        },
        "id": "ZUOsstsPh5FC",
        "outputId": "c3d541b1-b143-4baf-822f-441c74d4eead"
      },
      "outputs": [
        {
          "name": "stdout",
          "output_type": "stream",
          "text": [
            "Epoch 1/10\n",
            "375/375 [==============================] - 83s 110ms/step - loss: 1.9473 - accuracy: 0.1464 - val_loss: 1.9462 - val_accuracy: 0.1429\n",
            "Epoch 2/10\n",
            "375/375 [==============================] - 35s 94ms/step - loss: 1.9467 - accuracy: 0.1417 - val_loss: 1.9461 - val_accuracy: 0.1429\n",
            "Epoch 3/10\n",
            "375/375 [==============================] - 30s 79ms/step - loss: 1.9469 - accuracy: 0.1419 - val_loss: 1.9460 - val_accuracy: 0.1286\n",
            "Epoch 4/10\n",
            "375/375 [==============================] - 30s 79ms/step - loss: 1.9462 - accuracy: 0.1481 - val_loss: 1.9464 - val_accuracy: 0.1429\n",
            "Epoch 5/10\n",
            "375/375 [==============================] - 29s 78ms/step - loss: 1.9472 - accuracy: 0.1477 - val_loss: 1.9466 - val_accuracy: 0.1429\n",
            "Epoch 6/10\n",
            "375/375 [==============================] - 30s 80ms/step - loss: 1.9466 - accuracy: 0.1425 - val_loss: 1.9459 - val_accuracy: 0.1429\n",
            "Epoch 7/10\n",
            "375/375 [==============================] - 29s 78ms/step - loss: 1.9465 - accuracy: 0.1487 - val_loss: 1.9456 - val_accuracy: 0.1429\n",
            "Epoch 8/10\n",
            "375/375 [==============================] - 29s 78ms/step - loss: 1.9463 - accuracy: 0.1443 - val_loss: 1.9460 - val_accuracy: 0.1429\n",
            "Epoch 9/10\n",
            "375/375 [==============================] - 30s 79ms/step - loss: 1.9462 - accuracy: 0.1428 - val_loss: 1.9459 - val_accuracy: 0.1429\n",
            "Epoch 10/10\n",
            "375/375 [==============================] - 30s 79ms/step - loss: 1.9459 - accuracy: 0.1467 - val_loss: 1.9454 - val_accuracy: 0.1429\n"
          ]
        }
      ],
      "source": [
        "history6_6 = model6_6.fit(\n",
        "    eff_train_gen_2,\n",
        "    validation_data=eff_test_gen_2,\n",
        "    epochs=10,\n",
        "    callbacks=[early_stop]\n",
        ")"
      ]
    },
    {
      "cell_type": "markdown",
      "metadata": {
        "id": "UohnHX_hX7IJ"
      },
      "source": [
        "#### Adding Dense Layers and Dropout Layer to EfficientNet for 30 Categories"
      ]
    },
    {
      "cell_type": "code",
      "execution_count": null,
      "metadata": {
        "id": "R3-vx-blCoA8"
      },
      "outputs": [],
      "source": [
        "model7 = Sequential()\n",
        "model7.add(effnet)\n",
        "model7.add(GlobalAveragePooling2D())\n",
        "model7.add(Dense(64,activation='relu'))\n",
        "model7.add(Dropout(0.2))\n",
        "model7.add(Dense(30, activation='softmax'))\n",
        "\n",
        "model7.compile(\n",
        "    optimizer = Adam(learning_rate=.0001),\n",
        "    loss = 'categorical_crossentropy',\n",
        "    metrics = ['accuracy']\n",
        ")"
      ]
    },
    {
      "cell_type": "code",
      "execution_count": null,
      "metadata": {
        "colab": {
          "base_uri": "https://localhost:8080/"
        },
        "id": "Kr6olpeWPtVi",
        "outputId": "9505d0b1-453f-40d1-f4f2-641e63491893"
      },
      "outputs": [
        {
          "name": "stdout",
          "output_type": "stream",
          "text": [
            "Epoch 1/10\n",
            "1604/1604 [==============================] - 163s 98ms/step - loss: 3.2287 - accuracy: 0.1054 - val_loss: 3.0501 - val_accuracy: 0.1596\n",
            "Epoch 2/10\n",
            "1604/1604 [==============================] - 154s 96ms/step - loss: 3.0390 - accuracy: 0.1570 - val_loss: 2.9516 - val_accuracy: 0.1816\n",
            "Epoch 3/10\n",
            "1604/1604 [==============================] - 154s 96ms/step - loss: 2.9700 - accuracy: 0.1752 - val_loss: 2.9073 - val_accuracy: 0.1932\n",
            "Epoch 4/10\n",
            "1604/1604 [==============================] - 153s 96ms/step - loss: 2.9331 - accuracy: 0.1840 - val_loss: 2.8820 - val_accuracy: 0.1928\n",
            "Epoch 5/10\n",
            "1604/1604 [==============================] - 154s 96ms/step - loss: 2.9044 - accuracy: 0.1920 - val_loss: 2.8641 - val_accuracy: 0.1956\n",
            "Epoch 6/10\n",
            "1604/1604 [==============================] - 154s 96ms/step - loss: 2.8814 - accuracy: 0.1967 - val_loss: 2.8470 - val_accuracy: 0.2028\n",
            "Epoch 7/10\n",
            "1604/1604 [==============================] - 153s 95ms/step - loss: 2.8638 - accuracy: 0.2010 - val_loss: 2.8368 - val_accuracy: 0.2075\n",
            "Epoch 8/10\n",
            "1604/1604 [==============================] - 154s 96ms/step - loss: 2.8501 - accuracy: 0.2034 - val_loss: 2.8281 - val_accuracy: 0.2093\n",
            "Epoch 9/10\n",
            "1604/1604 [==============================] - 154s 96ms/step - loss: 2.8319 - accuracy: 0.2084 - val_loss: 2.8183 - val_accuracy: 0.2095\n",
            "Epoch 10/10\n",
            "1604/1604 [==============================] - 155s 96ms/step - loss: 2.8191 - accuracy: 0.2118 - val_loss: 2.8134 - val_accuracy: 0.2156\n"
          ]
        }
      ],
      "source": [
        "history7 = model7.fit(\n",
        "    train_gen,\n",
        "    validation_data=test_gen,\n",
        "    epochs=10,\n",
        "    callbacks=[early_stop]\n",
        ")"
      ]
    },
    {
      "cell_type": "code",
      "execution_count": null,
      "metadata": {
        "colab": {
          "base_uri": "https://localhost:8080/"
        },
        "id": "OeaxOSZ5f4QV",
        "outputId": "d11ec9b0-1388-4c7a-ddcc-5ce762b40c3c"
      },
      "outputs": [
        {
          "name": "stdout",
          "output_type": "stream",
          "text": [
            "Epoch 1/20\n",
            "1604/1604 [==============================] - 158s 99ms/step - loss: 2.8091 - accuracy: 0.2154 - val_loss: 2.8069 - val_accuracy: 0.2147\n",
            "Epoch 2/20\n",
            "1604/1604 [==============================] - 157s 98ms/step - loss: 2.7995 - accuracy: 0.2166 - val_loss: 2.8031 - val_accuracy: 0.2181\n",
            "Epoch 3/20\n",
            "1604/1604 [==============================] - 155s 97ms/step - loss: 2.7926 - accuracy: 0.2190 - val_loss: 2.7985 - val_accuracy: 0.2174\n",
            "Epoch 4/20\n",
            "1604/1604 [==============================] - 156s 97ms/step - loss: 2.7789 - accuracy: 0.2220 - val_loss: 2.7937 - val_accuracy: 0.2184\n",
            "Epoch 5/20\n",
            "1604/1604 [==============================] - 155s 97ms/step - loss: 2.7709 - accuracy: 0.2251 - val_loss: 2.7905 - val_accuracy: 0.2209\n",
            "Epoch 6/20\n",
            "1604/1604 [==============================] - 158s 99ms/step - loss: 2.7653 - accuracy: 0.2271 - val_loss: 2.7898 - val_accuracy: 0.2202\n",
            "Epoch 7/20\n",
            "1604/1604 [==============================] - 156s 97ms/step - loss: 2.7592 - accuracy: 0.2267 - val_loss: 2.7859 - val_accuracy: 0.2216\n",
            "Epoch 8/20\n",
            "1604/1604 [==============================] - 155s 97ms/step - loss: 2.7499 - accuracy: 0.2289 - val_loss: 2.7822 - val_accuracy: 0.2216\n",
            "Epoch 9/20\n",
            "1604/1604 [==============================] - 155s 96ms/step - loss: 2.7456 - accuracy: 0.2300 - val_loss: 2.7809 - val_accuracy: 0.2179\n",
            "Epoch 10/20\n",
            "1604/1604 [==============================] - 155s 97ms/step - loss: 2.7383 - accuracy: 0.2299 - val_loss: 2.7801 - val_accuracy: 0.2198\n",
            "Epoch 11/20\n",
            "1604/1604 [==============================] - 154s 96ms/step - loss: 2.7341 - accuracy: 0.2323 - val_loss: 2.7762 - val_accuracy: 0.2209\n",
            "Epoch 12/20\n",
            "1604/1604 [==============================] - 155s 97ms/step - loss: 2.7286 - accuracy: 0.2346 - val_loss: 2.7756 - val_accuracy: 0.2218\n",
            "Epoch 13/20\n",
            "1604/1604 [==============================] - 155s 96ms/step - loss: 2.7234 - accuracy: 0.2367 - val_loss: 2.7726 - val_accuracy: 0.2191\n",
            "Epoch 14/20\n",
            "1604/1604 [==============================] - 155s 97ms/step - loss: 2.7166 - accuracy: 0.2382 - val_loss: 2.7726 - val_accuracy: 0.2247\n",
            "Epoch 15/20\n",
            "1604/1604 [==============================] - 154s 96ms/step - loss: 2.7121 - accuracy: 0.2382 - val_loss: 2.7723 - val_accuracy: 0.2226\n",
            "Epoch 16/20\n",
            "1604/1604 [==============================] - 155s 97ms/step - loss: 2.7088 - accuracy: 0.2402 - val_loss: 2.7672 - val_accuracy: 0.2235\n",
            "Epoch 17/20\n",
            "1604/1604 [==============================] - 154s 96ms/step - loss: 2.7021 - accuracy: 0.2408 - val_loss: 2.7703 - val_accuracy: 0.2237\n",
            "Epoch 18/20\n",
            "1604/1604 [==============================] - 155s 97ms/step - loss: 2.6981 - accuracy: 0.2429 - val_loss: 2.7675 - val_accuracy: 0.2258\n",
            "Epoch 19/20\n",
            "1604/1604 [==============================] - 154s 96ms/step - loss: 2.6985 - accuracy: 0.2412 - val_loss: 2.7661 - val_accuracy: 0.2232\n",
            "Epoch 20/20\n",
            "1604/1604 [==============================] - 155s 97ms/step - loss: 2.6922 - accuracy: 0.2436 - val_loss: 2.7671 - val_accuracy: 0.2239\n"
          ]
        }
      ],
      "source": [
        "history7 = model7.fit(\n",
        "    train_gen,\n",
        "    validation_data=test_gen,\n",
        "    epochs=20,\n",
        "    callbacks=[early_stop]\n",
        ")"
      ]
    },
    {
      "cell_type": "code",
      "execution_count": null,
      "metadata": {
        "id": "MjIVQuz_P0RD"
      },
      "outputs": [],
      "source": [
        "model8 = Sequential()\n",
        "model8.add(effnet)\n",
        "model8.add(GlobalAveragePooling2D())\n",
        "model8.add(Dense(64,activation='relu'))\n",
        "model8.add(Dense(64,activation='relu'))\n",
        "model8.add(Dense(64,activation='relu'))\n",
        "model8.add(Dropout(0.2))\n",
        "model8.add(Dense(30, activation='softmax'))\n",
        "\n",
        "model8.compile(\n",
        "    optimizer = Adam(learning_rate=.0001),\n",
        "    loss = 'categorical_crossentropy',\n",
        "    metrics = ['accuracy']\n",
        ")"
      ]
    },
    {
      "cell_type": "code",
      "execution_count": null,
      "metadata": {
        "colab": {
          "base_uri": "https://localhost:8080/"
        },
        "id": "rVkbV5YsYCwZ",
        "outputId": "6e8a012a-205b-40f4-ba60-93fa08900846"
      },
      "outputs": [
        {
          "name": "stdout",
          "output_type": "stream",
          "text": [
            "Epoch 1/10\n",
            "1604/1604 [==============================] - 163s 98ms/step - loss: 3.2530 - accuracy: 0.0935 - val_loss: 3.0641 - val_accuracy: 0.1546\n",
            "Epoch 2/10\n",
            "1604/1604 [==============================] - 155s 97ms/step - loss: 3.0494 - accuracy: 0.1486 - val_loss: 2.9470 - val_accuracy: 0.1784\n",
            "Epoch 3/10\n",
            "1604/1604 [==============================] - 154s 96ms/step - loss: 2.9747 - accuracy: 0.1694 - val_loss: 2.9078 - val_accuracy: 0.1870\n",
            "Epoch 4/10\n",
            "1604/1604 [==============================] - 155s 97ms/step - loss: 2.9291 - accuracy: 0.1801 - val_loss: 2.8776 - val_accuracy: 0.1911\n",
            "Epoch 5/10\n",
            "1604/1604 [==============================] - 154s 96ms/step - loss: 2.8981 - accuracy: 0.1903 - val_loss: 2.8626 - val_accuracy: 0.1933\n",
            "Epoch 6/10\n",
            "1604/1604 [==============================] - 155s 97ms/step - loss: 2.8769 - accuracy: 0.1958 - val_loss: 2.8462 - val_accuracy: 0.2033\n",
            "Epoch 7/10\n",
            "1604/1604 [==============================] - 154s 96ms/step - loss: 2.8575 - accuracy: 0.2009 - val_loss: 2.8384 - val_accuracy: 0.2056\n",
            "Epoch 8/10\n",
            "1604/1604 [==============================] - 155s 96ms/step - loss: 2.8399 - accuracy: 0.2039 - val_loss: 2.8279 - val_accuracy: 0.2086\n",
            "Epoch 9/10\n",
            "1604/1604 [==============================] - 155s 97ms/step - loss: 2.8282 - accuracy: 0.2072 - val_loss: 2.8309 - val_accuracy: 0.2070\n",
            "Epoch 10/10\n",
            "1604/1604 [==============================] - 155s 97ms/step - loss: 2.8145 - accuracy: 0.2094 - val_loss: 2.8205 - val_accuracy: 0.2109\n"
          ]
        }
      ],
      "source": [
        "history8 = model8.fit(\n",
        "    train_gen,\n",
        "    validation_data=test_gen,\n",
        "    epochs=10,\n",
        "    callbacks=[early_stop]\n",
        ")"
      ]
    },
    {
      "cell_type": "markdown",
      "metadata": {
        "id": "GgbZJs2aj7a1"
      },
      "source": [
        "#### Adding Dense Layers and Dropout Layer to EfficientNet for 7 Categories"
      ]
    },
    {
      "cell_type": "code",
      "execution_count": 37,
      "metadata": {
        "id": "zFCuZ5dJj7a8"
      },
      "outputs": [],
      "source": [
        "model7_7 = Sequential()\n",
        "model7_7.add(effnet)\n",
        "model7_7.add(GlobalAveragePooling2D())\n",
        "model7_7.add(Dense(64,activation='relu'))\n",
        "model7_7.add(Dropout(0.2))\n",
        "model7_7.add(Dense(7, activation='softmax'))\n",
        "\n",
        "model7_7.compile(\n",
        "    optimizer = Adam(learning_rate=.0001),\n",
        "    loss = 'categorical_crossentropy',\n",
        "    metrics = ['accuracy']\n",
        ")"
      ]
    },
    {
      "cell_type": "code",
      "execution_count": 38,
      "metadata": {
        "colab": {
          "base_uri": "https://localhost:8080/"
        },
        "id": "e3jSQTuDj7a8",
        "outputId": "15364efc-f759-47ec-83a5-c8e30b4a2afb"
      },
      "outputs": [
        {
          "name": "stdout",
          "output_type": "stream",
          "text": [
            "Epoch 1/10\n",
            "375/375 [==============================] - 37s 84ms/step - loss: 1.9479 - accuracy: 0.1469 - val_loss: 1.9461 - val_accuracy: 0.1429\n",
            "Epoch 2/10\n",
            "375/375 [==============================] - 31s 82ms/step - loss: 1.9470 - accuracy: 0.1434 - val_loss: 1.9457 - val_accuracy: 0.1429\n",
            "Epoch 3/10\n",
            "375/375 [==============================] - 31s 82ms/step - loss: 1.9461 - accuracy: 0.1442 - val_loss: 1.9459 - val_accuracy: 0.1429\n",
            "Epoch 4/10\n",
            "375/375 [==============================] - 31s 83ms/step - loss: 1.9459 - accuracy: 0.1489 - val_loss: 1.9459 - val_accuracy: 0.1429\n",
            "Epoch 5/10\n",
            "375/375 [==============================] - 31s 83ms/step - loss: 1.9463 - accuracy: 0.1427 - val_loss: 1.9460 - val_accuracy: 0.1429\n",
            "Epoch 6/10\n",
            "375/375 [==============================] - 31s 82ms/step - loss: 1.9459 - accuracy: 0.1454 - val_loss: 1.9460 - val_accuracy: 0.1429\n",
            "Epoch 7/10\n",
            "375/375 [==============================] - 30s 81ms/step - loss: 1.9459 - accuracy: 0.1458 - val_loss: 1.9458 - val_accuracy: 0.1429\n",
            "Epoch 7: early stopping\n"
          ]
        }
      ],
      "source": [
        "history7_7 = model7_7.fit(\n",
        "    eff_train_gen_2,\n",
        "    validation_data=eff_test_gen_2,\n",
        "    epochs=10,\n",
        "    callbacks=[early_stop]\n",
        ")"
      ]
    },
    {
      "cell_type": "code",
      "execution_count": 39,
      "metadata": {
        "colab": {
          "base_uri": "https://localhost:8080/"
        },
        "id": "hH8kp_Jgj7a9",
        "outputId": "96c60935-b97e-4426-f8fa-9a2703b73458"
      },
      "outputs": [
        {
          "name": "stdout",
          "output_type": "stream",
          "text": [
            "Epoch 1/20\n",
            "375/375 [==============================] - 30s 80ms/step - loss: 1.9459 - accuracy: 0.1399 - val_loss: 1.9457 - val_accuracy: 0.1436\n",
            "Epoch 2/20\n",
            "375/375 [==============================] - 30s 80ms/step - loss: 1.9454 - accuracy: 0.1491 - val_loss: 1.9456 - val_accuracy: 0.1684\n",
            "Epoch 3/20\n",
            "375/375 [==============================] - 30s 81ms/step - loss: 1.9456 - accuracy: 0.1477 - val_loss: 1.9459 - val_accuracy: 0.1429\n",
            "Epoch 4/20\n",
            "375/375 [==============================] - 30s 80ms/step - loss: 1.9456 - accuracy: 0.1509 - val_loss: 1.9456 - val_accuracy: 0.1459\n",
            "Epoch 5/20\n",
            "375/375 [==============================] - 30s 81ms/step - loss: 1.9456 - accuracy: 0.1489 - val_loss: 1.9455 - val_accuracy: 0.1609\n",
            "Epoch 6/20\n",
            "375/375 [==============================] - 31s 82ms/step - loss: 1.9454 - accuracy: 0.1426 - val_loss: 1.9457 - val_accuracy: 0.1444\n",
            "Epoch 7/20\n",
            "375/375 [==============================] - 30s 81ms/step - loss: 1.9453 - accuracy: 0.1470 - val_loss: 1.9456 - val_accuracy: 0.1436\n",
            "Epoch 8/20\n",
            "375/375 [==============================] - 30s 80ms/step - loss: 1.9457 - accuracy: 0.1480 - val_loss: 1.9456 - val_accuracy: 0.1549\n",
            "Epoch 9/20\n",
            "375/375 [==============================] - 30s 81ms/step - loss: 1.9455 - accuracy: 0.1470 - val_loss: 1.9457 - val_accuracy: 0.1504\n",
            "Epoch 10/20\n",
            "375/375 [==============================] - 30s 81ms/step - loss: 1.9453 - accuracy: 0.1505 - val_loss: 1.9458 - val_accuracy: 0.1421\n",
            "Epoch 10: early stopping\n"
          ]
        }
      ],
      "source": [
        "history7_7 = model7_7.fit(\n",
        "    eff_train_gen_2,\n",
        "    validation_data=eff_test_gen_2,\n",
        "    epochs=20,\n",
        "    callbacks=[early_stop]\n",
        ")"
      ]
    },
    {
      "cell_type": "code",
      "execution_count": 40,
      "metadata": {
        "id": "V-NBaOvmj7a9"
      },
      "outputs": [],
      "source": [
        "model8_8 = Sequential()\n",
        "model8_8.add(effnet)\n",
        "model8_8.add(GlobalAveragePooling2D())\n",
        "model8_8.add(Dense(64,activation='relu'))\n",
        "model8_8.add(Dense(64,activation='relu'))\n",
        "model8_8.add(Dense(64,activation='relu'))\n",
        "model8_8.add(Dropout(0.2))\n",
        "model8_8.add(Dense(7, activation='softmax'))\n",
        "\n",
        "model8_8.compile(\n",
        "    optimizer = Adam(learning_rate=.0001),\n",
        "    loss = 'categorical_crossentropy',\n",
        "    metrics = ['accuracy']\n",
        ")"
      ]
    },
    {
      "cell_type": "code",
      "execution_count": 41,
      "metadata": {
        "colab": {
          "base_uri": "https://localhost:8080/"
        },
        "id": "GdbDpPbij7a9",
        "outputId": "209d684e-dc5f-43bd-9276-b832942c4aae"
      },
      "outputs": [
        {
          "name": "stdout",
          "output_type": "stream",
          "text": [
            "Epoch 1/10\n",
            "375/375 [==============================] - 38s 84ms/step - loss: 1.9466 - accuracy: 0.1399 - val_loss: 1.9459 - val_accuracy: 0.1429\n",
            "Epoch 2/10\n",
            "375/375 [==============================] - 30s 81ms/step - loss: 1.9464 - accuracy: 0.1400 - val_loss: 1.9462 - val_accuracy: 0.1429\n",
            "Epoch 3/10\n",
            "375/375 [==============================] - 30s 81ms/step - loss: 1.9461 - accuracy: 0.1436 - val_loss: 1.9458 - val_accuracy: 0.1602\n",
            "Epoch 4/10\n",
            "375/375 [==============================] - 30s 81ms/step - loss: 1.9463 - accuracy: 0.1419 - val_loss: 1.9458 - val_accuracy: 0.1436\n",
            "Epoch 5/10\n",
            "375/375 [==============================] - 30s 81ms/step - loss: 1.9460 - accuracy: 0.1454 - val_loss: 1.9459 - val_accuracy: 0.1429\n",
            "Epoch 6/10\n",
            "375/375 [==============================] - 30s 81ms/step - loss: 1.9459 - accuracy: 0.1474 - val_loss: 1.9461 - val_accuracy: 0.1429\n",
            "Epoch 7/10\n",
            "375/375 [==============================] - 30s 80ms/step - loss: 1.9461 - accuracy: 0.1388 - val_loss: 1.9458 - val_accuracy: 0.1429\n",
            "Epoch 8/10\n",
            "375/375 [==============================] - 30s 80ms/step - loss: 1.9459 - accuracy: 0.1454 - val_loss: 1.9457 - val_accuracy: 0.1436\n",
            "Epoch 9/10\n",
            "375/375 [==============================] - 30s 80ms/step - loss: 1.9459 - accuracy: 0.1434 - val_loss: 1.9459 - val_accuracy: 0.1429\n",
            "Epoch 10/10\n",
            "375/375 [==============================] - 30s 80ms/step - loss: 1.9459 - accuracy: 0.1444 - val_loss: 1.9459 - val_accuracy: 0.1429\n"
          ]
        }
      ],
      "source": [
        "history8_8 = model8_8.fit(\n",
        "    eff_train_gen_2,\n",
        "    validation_data=eff_test_gen_2,\n",
        "    epochs=10,\n",
        "    callbacks=[early_stop]\n",
        ")"
      ]
    },
    {
      "cell_type": "code",
      "execution_count": null,
      "metadata": {
        "id": "-08E67OkoHso"
      },
      "outputs": [],
      "source": []
    }
  ],
  "metadata": {
    "accelerator": "GPU",
    "colab": {
      "collapsed_sections": [],
      "name": "03_Modeling_Genre.ipynb",
      "provenance": []
    },
    "interpreter": {
      "hash": "688cbbec7a053cd5a9d74b7ca400d144792d3a4aae4971fffa547d81f8cb8b6e"
    },
    "kernelspec": {
      "display_name": "Python 3 (ipykernel)",
      "language": "python",
      "name": "python3"
    },
    "language_info": {
      "codemirror_mode": {
        "name": "ipython",
        "version": 3
      },
      "file_extension": ".py",
      "mimetype": "text/x-python",
      "name": "python",
      "nbconvert_exporter": "python",
      "pygments_lexer": "ipython3",
      "version": "3.9.7"
    }
  },
  "nbformat": 4,
  "nbformat_minor": 0
}
