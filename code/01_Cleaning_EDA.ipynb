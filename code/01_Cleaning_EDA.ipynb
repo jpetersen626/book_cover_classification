{
 "cells": [
  {
   "cell_type": "markdown",
   "id": "bac3f1f1-0cba-4560-ab38-0f753ef8e784",
   "metadata": {
    "tags": []
   },
   "source": [
    "## Capstone"
   ]
  },
  {
   "cell_type": "markdown",
   "id": "463847cf-4859-46a0-83cd-e24f3e223d7f",
   "metadata": {},
   "source": [
    "---"
   ]
  },
  {
   "cell_type": "markdown",
   "id": "3c22a1a3-8597-4c5a-93aa-417a11f83753",
   "metadata": {},
   "source": [
    "### EDA"
   ]
  },
  {
   "cell_type": "code",
   "execution_count": 1,
   "id": "75f14a49-82fc-4ef9-a214-dbcab437e397",
   "metadata": {},
   "outputs": [],
   "source": [
    "import pandas as pd\n",
    "import numpy as np\n",
    "import matplotlib.pyplot as plt\n",
    "import seaborn as sns\n",
    "from tensorflow.keras.preprocessing.image import img_to_array, load_img"
   ]
  },
  {
   "cell_type": "code",
   "execution_count": 3,
   "id": "df56ee0f-1500-45ef-8168-4dda66ddd957",
   "metadata": {},
   "outputs": [],
   "source": [
    "book_df = pd.read_csv('../data/book32-listing.csv', encoding_errors='ignore', header=None)"
   ]
  },
  {
   "cell_type": "code",
   "execution_count": 4,
   "id": "8a0ea9be-5781-4d3e-98e0-632132c65772",
   "metadata": {},
   "outputs": [],
   "source": [
    "book_df.columns = ['amazon_index', 'filename', 'image_url', 'title', 'author', 'category_id', 'category']"
   ]
  },
  {
   "cell_type": "code",
   "execution_count": 5,
   "id": "072aa6e2-b77b-425d-8566-319fbc62a548",
   "metadata": {},
   "outputs": [
    {
     "data": {
      "text/html": [
       "<div>\n",
       "<style scoped>\n",
       "    .dataframe tbody tr th:only-of-type {\n",
       "        vertical-align: middle;\n",
       "    }\n",
       "\n",
       "    .dataframe tbody tr th {\n",
       "        vertical-align: top;\n",
       "    }\n",
       "\n",
       "    .dataframe thead th {\n",
       "        text-align: right;\n",
       "    }\n",
       "</style>\n",
       "<table border=\"1\" class=\"dataframe\">\n",
       "  <thead>\n",
       "    <tr style=\"text-align: right;\">\n",
       "      <th></th>\n",
       "      <th>amazon_index</th>\n",
       "      <th>filename</th>\n",
       "      <th>image_url</th>\n",
       "      <th>title</th>\n",
       "      <th>author</th>\n",
       "      <th>category_id</th>\n",
       "      <th>category</th>\n",
       "    </tr>\n",
       "  </thead>\n",
       "  <tbody>\n",
       "    <tr>\n",
       "      <th>0</th>\n",
       "      <td>761183272</td>\n",
       "      <td>0761183272.jpg</td>\n",
       "      <td>http://ecx.images-amazon.com/images/I/61Y5cOdH...</td>\n",
       "      <td>Mom's Family Wall Calendar 2016</td>\n",
       "      <td>Sandra Boynton</td>\n",
       "      <td>3</td>\n",
       "      <td>Calendars</td>\n",
       "    </tr>\n",
       "    <tr>\n",
       "      <th>1</th>\n",
       "      <td>1623439671</td>\n",
       "      <td>1623439671.jpg</td>\n",
       "      <td>http://ecx.images-amazon.com/images/I/61t-hrSw...</td>\n",
       "      <td>Doug the Pug 2016 Wall Calendar</td>\n",
       "      <td>Doug the Pug</td>\n",
       "      <td>3</td>\n",
       "      <td>Calendars</td>\n",
       "    </tr>\n",
       "    <tr>\n",
       "      <th>2</th>\n",
       "      <td>B00O80WC6I</td>\n",
       "      <td>B00O80WC6I.jpg</td>\n",
       "      <td>http://ecx.images-amazon.com/images/I/41X-KQqs...</td>\n",
       "      <td>Moleskine 2016 Weekly Notebook, 12M, Large, Bl...</td>\n",
       "      <td>Moleskine</td>\n",
       "      <td>3</td>\n",
       "      <td>Calendars</td>\n",
       "    </tr>\n",
       "    <tr>\n",
       "      <th>3</th>\n",
       "      <td>761182187</td>\n",
       "      <td>0761182187.jpg</td>\n",
       "      <td>http://ecx.images-amazon.com/images/I/61j-4gxJ...</td>\n",
       "      <td>365 Cats Color Page-A-Day Calendar 2016</td>\n",
       "      <td>Workman Publishing</td>\n",
       "      <td>3</td>\n",
       "      <td>Calendars</td>\n",
       "    </tr>\n",
       "    <tr>\n",
       "      <th>4</th>\n",
       "      <td>1578052084</td>\n",
       "      <td>1578052084.jpg</td>\n",
       "      <td>http://ecx.images-amazon.com/images/I/51Ry4Tsq...</td>\n",
       "      <td>Sierra Club Engagement Calendar 2016</td>\n",
       "      <td>Sierra Club</td>\n",
       "      <td>3</td>\n",
       "      <td>Calendars</td>\n",
       "    </tr>\n",
       "  </tbody>\n",
       "</table>\n",
       "</div>"
      ],
      "text/plain": [
       "  amazon_index        filename  \\\n",
       "0    761183272  0761183272.jpg   \n",
       "1   1623439671  1623439671.jpg   \n",
       "2   B00O80WC6I  B00O80WC6I.jpg   \n",
       "3    761182187  0761182187.jpg   \n",
       "4   1578052084  1578052084.jpg   \n",
       "\n",
       "                                           image_url  \\\n",
       "0  http://ecx.images-amazon.com/images/I/61Y5cOdH...   \n",
       "1  http://ecx.images-amazon.com/images/I/61t-hrSw...   \n",
       "2  http://ecx.images-amazon.com/images/I/41X-KQqs...   \n",
       "3  http://ecx.images-amazon.com/images/I/61j-4gxJ...   \n",
       "4  http://ecx.images-amazon.com/images/I/51Ry4Tsq...   \n",
       "\n",
       "                                               title              author  \\\n",
       "0                    Mom's Family Wall Calendar 2016      Sandra Boynton   \n",
       "1                    Doug the Pug 2016 Wall Calendar        Doug the Pug   \n",
       "2  Moleskine 2016 Weekly Notebook, 12M, Large, Bl...           Moleskine   \n",
       "3            365 Cats Color Page-A-Day Calendar 2016  Workman Publishing   \n",
       "4               Sierra Club Engagement Calendar 2016         Sierra Club   \n",
       "\n",
       "   category_id   category  \n",
       "0            3  Calendars  \n",
       "1            3  Calendars  \n",
       "2            3  Calendars  \n",
       "3            3  Calendars  \n",
       "4            3  Calendars  "
      ]
     },
     "execution_count": 5,
     "metadata": {},
     "output_type": "execute_result"
    }
   ],
   "source": [
    "book_df.head()"
   ]
  },
  {
   "cell_type": "code",
   "execution_count": 28,
   "id": "c0248c66-2d3d-4ed3-b702-0ab905fdefaf",
   "metadata": {},
   "outputs": [
    {
     "name": "stdout",
     "output_type": "stream",
     "text": [
      "<class 'pandas.core.frame.DataFrame'>\n",
      "RangeIndex: 207572 entries, 0 to 207571\n",
      "Data columns (total 7 columns):\n",
      " #   Column        Non-Null Count   Dtype \n",
      "---  ------        --------------   ----- \n",
      " 0   amazon_index  207572 non-null  object\n",
      " 1   filename      207572 non-null  object\n",
      " 2   image_url     207572 non-null  object\n",
      " 3   title         207572 non-null  object\n",
      " 4   author        193159 non-null  object\n",
      " 5   category_id   207572 non-null  int64 \n",
      " 6   category      207572 non-null  object\n",
      "dtypes: int64(1), object(6)\n",
      "memory usage: 11.1+ MB\n"
     ]
    }
   ],
   "source": [
    "book_df.info()"
   ]
  },
  {
   "cell_type": "code",
   "execution_count": 83,
   "id": "abba0222-c1fd-4148-90a7-80202f569ac8",
   "metadata": {},
   "outputs": [
    {
     "data": {
      "text/plain": [
       "Travel                          18338\n",
       "Children's Books                13605\n",
       "Medical Books                   12086\n",
       "Health, Fitness & Dieting       11886\n",
       "Business & Money                 9965\n",
       "Crafts, Hobbies & Home           9934\n",
       "Science & Math                   9276\n",
       "Christian Books & Bibles         9139\n",
       "Cookbooks, Food & Wine           8802\n",
       "Computers & Technology           7979\n",
       "Literature & Fiction             7580\n",
       "Religion & Spirituality          7559\n",
       "Teen & Young Adult               7489\n",
       "Law                              7314\n",
       "Humor & Entertainment            6896\n",
       "History                          6807\n",
       "Arts & Photography               6460\n",
       "Sports & Outdoors                5968\n",
       "Romance                          4291\n",
       "Biographies & Memoirs            4261\n",
       "Science Fiction & Fantasy        3800\n",
       "Politics & Social Sciences       3402\n",
       "Reference                        3268\n",
       "Comics & Graphic Novels          3026\n",
       "Test Preparation                 2906\n",
       "Self-Help                        2703\n",
       "Engineering & Transportation     2672\n",
       "Calendars                        2636\n",
       "Parenting & Relationships        2523\n",
       "Mystery, Thriller & Suspense     1998\n",
       "Education & Teaching             1664\n",
       "Gay & Lesbian                    1339\n",
       "Name: category, dtype: int64"
      ]
     },
     "execution_count": 83,
     "metadata": {},
     "output_type": "execute_result"
    }
   ],
   "source": [
    "book_df['category'].value_counts()"
   ]
  },
  {
   "cell_type": "code",
   "execution_count": 53,
   "id": "f91523be-f88a-43d4-951a-597814947f29",
   "metadata": {},
   "outputs": [
    {
     "data": {
      "image/png": "[encoded data removed]",
      "text/plain": [
       "<Figure size 864x576 with 1 Axes>"
      ]
     },
     "metadata": {
      "needs_background": "light"
     },
     "output_type": "display_data"
    }
   ],
   "source": [
    "plt.figure(figsize=(12,8))\n",
    "sns.histplot(book_df['category'].sort_values())\n",
    "plt.xticks(rotation=90);"
   ]
  },
  {
   "cell_type": "code",
   "execution_count": 3,
   "id": "992d3d45-4391-46db-af9c-7cacc3a9ae4a",
   "metadata": {},
   "outputs": [],
   "source": [
    "train = pd.read_csv('../data/book30-listing-train.csv', encoding_errors='ignore', header=None)\n",
    "train.columns = ['amazon_index', 'filename', 'image_url', 'title', 'author', 'category_id', 'category']"
   ]
  },
  {
   "cell_type": "code",
   "execution_count": 4,
   "id": "499096b2-af0e-4803-b24a-6ff2d178d9ff",
   "metadata": {},
   "outputs": [
    {
     "data": {
      "text/html": [
       "<div>\n",
       "<style scoped>\n",
       "    .dataframe tbody tr th:only-of-type {\n",
       "        vertical-align: middle;\n",
       "    }\n",
       "\n",
       "    .dataframe tbody tr th {\n",
       "        vertical-align: top;\n",
       "    }\n",
       "\n",
       "    .dataframe thead th {\n",
       "        text-align: right;\n",
       "    }\n",
       "</style>\n",
       "<table border=\"1\" class=\"dataframe\">\n",
       "  <thead>\n",
       "    <tr style=\"text-align: right;\">\n",
       "      <th></th>\n",
       "      <th>amazon_index</th>\n",
       "      <th>filename</th>\n",
       "      <th>image_url</th>\n",
       "      <th>title</th>\n",
       "      <th>author</th>\n",
       "      <th>category_id</th>\n",
       "      <th>category</th>\n",
       "    </tr>\n",
       "  </thead>\n",
       "  <tbody>\n",
       "    <tr>\n",
       "      <th>0</th>\n",
       "      <td>1588345297</td>\n",
       "      <td>1588345297.jpg</td>\n",
       "      <td>http://ecx.images-amazon.com/images/I/51l6XIoa...</td>\n",
       "      <td>With Schwarzkopf: Life Lessons of The Bear</td>\n",
       "      <td>Gus Lee</td>\n",
       "      <td>1</td>\n",
       "      <td>Biographies &amp; Memoirs</td>\n",
       "    </tr>\n",
       "    <tr>\n",
       "      <th>1</th>\n",
       "      <td>1404803335</td>\n",
       "      <td>1404803335.jpg</td>\n",
       "      <td>http://ecx.images-amazon.com/images/I/51UJnL3T...</td>\n",
       "      <td>Magnets: Pulling Together, Pushing Apart (Amaz...</td>\n",
       "      <td>Natalie M. Rosinsky</td>\n",
       "      <td>4</td>\n",
       "      <td>Children's Books</td>\n",
       "    </tr>\n",
       "  </tbody>\n",
       "</table>\n",
       "</div>"
      ],
      "text/plain": [
       "  amazon_index        filename  \\\n",
       "0   1588345297  1588345297.jpg   \n",
       "1   1404803335  1404803335.jpg   \n",
       "\n",
       "                                           image_url  \\\n",
       "0  http://ecx.images-amazon.com/images/I/51l6XIoa...   \n",
       "1  http://ecx.images-amazon.com/images/I/51UJnL3T...   \n",
       "\n",
       "                                               title               author  \\\n",
       "0         With Schwarzkopf: Life Lessons of The Bear              Gus Lee   \n",
       "1  Magnets: Pulling Together, Pushing Apart (Amaz...  Natalie M. Rosinsky   \n",
       "\n",
       "   category_id               category  \n",
       "0            1  Biographies & Memoirs  \n",
       "1            4       Children's Books  "
      ]
     },
     "execution_count": 4,
     "metadata": {},
     "output_type": "execute_result"
    }
   ],
   "source": [
    "train.head(2)"
   ]
  },
  {
   "cell_type": "code",
   "execution_count": 5,
   "id": "36ba1103-cac0-4edf-b73e-70550fa72f48",
   "metadata": {},
   "outputs": [
    {
     "name": "stdout",
     "output_type": "stream",
     "text": [
      "<class 'pandas.core.frame.DataFrame'>\n",
      "RangeIndex: 51300 entries, 0 to 51299\n",
      "Data columns (total 7 columns):\n",
      " #   Column        Non-Null Count  Dtype \n",
      "---  ------        --------------  ----- \n",
      " 0   amazon_index  51300 non-null  object\n",
      " 1   filename      51300 non-null  object\n",
      " 2   image_url     51300 non-null  object\n",
      " 3   title         51300 non-null  object\n",
      " 4   author        47863 non-null  object\n",
      " 5   category_id   51300 non-null  int64 \n",
      " 6   category      51300 non-null  object\n",
      "dtypes: int64(1), object(6)\n",
      "memory usage: 2.7+ MB\n"
     ]
    }
   ],
   "source": [
    "train.info()"
   ]
  },
  {
   "cell_type": "code",
   "execution_count": 6,
   "id": "a7c27dd9-69f9-481b-9339-cbeb77ba5d22",
   "metadata": {},
   "outputs": [
    {
     "data": {
      "text/plain": [
       "Biographies & Memoirs           1710\n",
       "Children's Books                1710\n",
       "Science Fiction & Fantasy       1710\n",
       "Calendars                       1710\n",
       "Self-Help                       1710\n",
       "Teen & Young Adult              1710\n",
       "Reference                       1710\n",
       "Comics & Graphic Novels         1710\n",
       "History                         1710\n",
       "Romance                         1710\n",
       "Parenting & Relationships       1710\n",
       "Arts & Photography              1710\n",
       "Test Preparation                1710\n",
       "Computers & Technology          1710\n",
       "Law                             1710\n",
       "Humor & Entertainment           1710\n",
       "Literature & Fiction            1710\n",
       "Religion & Spirituality         1710\n",
       "Crafts, Hobbies & Home          1710\n",
       "Politics & Social Sciences      1710\n",
       "Cookbooks, Food & Wine          1710\n",
       "Business & Money                1710\n",
       "Travel                          1710\n",
       "Science & Math                  1710\n",
       "Medical Books                   1710\n",
       "Health, Fitness & Dieting       1710\n",
       "Sports & Outdoors               1710\n",
       "Christian Books & Bibles        1710\n",
       "Engineering & Transportation    1710\n",
       "Mystery, Thriller & Suspense    1710\n",
       "Name: category, dtype: int64"
      ]
     },
     "execution_count": 6,
     "metadata": {},
     "output_type": "execute_result"
    }
   ],
   "source": [
    "train['category'].value_counts()"
   ]
  },
  {
   "cell_type": "code",
   "execution_count": 7,
   "id": "9ae0a6bb-bb84-4d73-b593-93e46c8d9688",
   "metadata": {},
   "outputs": [],
   "source": [
    "test = pd.read_csv('../data/book30-listing-test.csv', encoding_errors='ignore', header=None)\n",
    "test.columns = ['amazon_index', 'filename', 'image_url', 'title', 'author', 'category_id', 'category']"
   ]
  },
  {
   "cell_type": "code",
   "execution_count": 8,
   "id": "71c917f8-8cd8-4807-8cb6-ebc4a8c621d1",
   "metadata": {},
   "outputs": [
    {
     "data": {
      "text/html": [
       "<div>\n",
       "<style scoped>\n",
       "    .dataframe tbody tr th:only-of-type {\n",
       "        vertical-align: middle;\n",
       "    }\n",
       "\n",
       "    .dataframe tbody tr th {\n",
       "        vertical-align: top;\n",
       "    }\n",
       "\n",
       "    .dataframe thead th {\n",
       "        text-align: right;\n",
       "    }\n",
       "</style>\n",
       "<table border=\"1\" class=\"dataframe\">\n",
       "  <thead>\n",
       "    <tr style=\"text-align: right;\">\n",
       "      <th></th>\n",
       "      <th>amazon_index</th>\n",
       "      <th>filename</th>\n",
       "      <th>image_url</th>\n",
       "      <th>title</th>\n",
       "      <th>author</th>\n",
       "      <th>category_id</th>\n",
       "      <th>category</th>\n",
       "    </tr>\n",
       "  </thead>\n",
       "  <tbody>\n",
       "    <tr>\n",
       "      <th>0</th>\n",
       "      <td>044310073X</td>\n",
       "      <td>044310073X.jpg</td>\n",
       "      <td>http://ecx.images-amazon.com/images/I/41kSLEos...</td>\n",
       "      <td>Oral and Maxillofacial Surgery: An Objective-B...</td>\n",
       "      <td>NaN</td>\n",
       "      <td>16</td>\n",
       "      <td>Medical Books</td>\n",
       "    </tr>\n",
       "    <tr>\n",
       "      <th>1</th>\n",
       "      <td>1438005687</td>\n",
       "      <td>1438005687.jpg</td>\n",
       "      <td>http://ecx.images-amazon.com/images/I/510l0qhi...</td>\n",
       "      <td>Barron's GRE, 21st Edition</td>\n",
       "      <td>Sharon Weiner Green M.A.</td>\n",
       "      <td>28</td>\n",
       "      <td>Test Preparation</td>\n",
       "    </tr>\n",
       "  </tbody>\n",
       "</table>\n",
       "</div>"
      ],
      "text/plain": [
       "  amazon_index        filename  \\\n",
       "0   044310073X  044310073X.jpg   \n",
       "1   1438005687  1438005687.jpg   \n",
       "\n",
       "                                           image_url  \\\n",
       "0  http://ecx.images-amazon.com/images/I/41kSLEos...   \n",
       "1  http://ecx.images-amazon.com/images/I/510l0qhi...   \n",
       "\n",
       "                                               title  \\\n",
       "0  Oral and Maxillofacial Surgery: An Objective-B...   \n",
       "1                         Barron's GRE, 21st Edition   \n",
       "\n",
       "                     author  category_id          category  \n",
       "0                       NaN           16     Medical Books  \n",
       "1  Sharon Weiner Green M.A.           28  Test Preparation  "
      ]
     },
     "execution_count": 8,
     "metadata": {},
     "output_type": "execute_result"
    }
   ],
   "source": [
    "test.head(2)"
   ]
  },
  {
   "cell_type": "code",
   "execution_count": 9,
   "id": "8527b3d6-9704-4b2a-acf8-1f239fc8f8f6",
   "metadata": {},
   "outputs": [
    {
     "name": "stdout",
     "output_type": "stream",
     "text": [
      "<class 'pandas.core.frame.DataFrame'>\n",
      "RangeIndex: 5700 entries, 0 to 5699\n",
      "Data columns (total 7 columns):\n",
      " #   Column        Non-Null Count  Dtype \n",
      "---  ------        --------------  ----- \n",
      " 0   amazon_index  5700 non-null   object\n",
      " 1   filename      5700 non-null   object\n",
      " 2   image_url     5700 non-null   object\n",
      " 3   title         5700 non-null   object\n",
      " 4   author        5303 non-null   object\n",
      " 5   category_id   5700 non-null   int64 \n",
      " 6   category      5700 non-null   object\n",
      "dtypes: int64(1), object(6)\n",
      "memory usage: 311.8+ KB\n"
     ]
    }
   ],
   "source": [
    "test.info()"
   ]
  },
  {
   "cell_type": "code",
   "execution_count": 75,
   "id": "babba643-6a2c-4c1f-bf01-29e369085609",
   "metadata": {},
   "outputs": [],
   "source": [
    "test['category'] = test['category'].astype('category')"
   ]
  },
  {
   "cell_type": "code",
   "execution_count": 76,
   "id": "fdddcc60-f626-4d4a-b979-7c8e5aec00bf",
   "metadata": {},
   "outputs": [
    {
     "name": "stdout",
     "output_type": "stream",
     "text": [
      "<class 'pandas.core.frame.DataFrame'>\n",
      "RangeIndex: 5700 entries, 0 to 5699\n",
      "Data columns (total 7 columns):\n",
      " #   Column        Non-Null Count  Dtype   \n",
      "---  ------        --------------  -----   \n",
      " 0   amazon_index  5700 non-null   object  \n",
      " 1   filename      5700 non-null   object  \n",
      " 2   image_url     5700 non-null   object  \n",
      " 3   title         5700 non-null   object  \n",
      " 4   author        5303 non-null   object  \n",
      " 5   category_id   5700 non-null   int64   \n",
      " 6   category      5700 non-null   category\n",
      "dtypes: category(1), int64(1), object(5)\n",
      "memory usage: 274.2+ KB\n"
     ]
    }
   ],
   "source": [
    "test.info()"
   ]
  },
  {
   "cell_type": "code",
   "execution_count": 16,
   "id": "3e37cc3b-d5e8-437c-94ce-fe21e46983e5",
   "metadata": {},
   "outputs": [
    {
     "data": {
      "text/plain": [
       "Medical Books                   190\n",
       "Test Preparation                190\n",
       "Science Fiction & Fantasy       190\n",
       "Romance                         190\n",
       "Teen & Young Adult              190\n",
       "Comics & Graphic Novels         190\n",
       "History                         190\n",
       "Calendars                       190\n",
       "Reference                       190\n",
       "Humor & Entertainment           190\n",
       "Travel                          190\n",
       "Crafts, Hobbies & Home          190\n",
       "Cookbooks, Food & Wine          190\n",
       "Computers & Technology          190\n",
       "Sports & Outdoors               190\n",
       "Parenting & Relationships       190\n",
       "Business & Money                190\n",
       "Health, Fitness & Dieting       190\n",
       "Politics & Social Sciences      190\n",
       "Law                             190\n",
       "Self-Help                       190\n",
       "Children's Books                190\n",
       "Christian Books & Bibles        190\n",
       "Science & Math                  190\n",
       "Engineering & Transportation    190\n",
       "Literature & Fiction            190\n",
       "Arts & Photography              190\n",
       "Religion & Spirituality         190\n",
       "Biographies & Memoirs           190\n",
       "Mystery, Thriller & Suspense    190\n",
       "Name: category, dtype: int64"
      ]
     },
     "execution_count": 16,
     "metadata": {},
     "output_type": "execute_result"
    }
   ],
   "source": [
    "test['category'].value_counts()"
   ]
  },
  {
   "cell_type": "code",
   "execution_count": 14,
   "id": "bc2fe7ea-1c53-49d8-9484-fd81ae42d54d",
   "metadata": {},
   "outputs": [
    {
     "data": {
      "text/plain": [
       "Biographies & Memoirs           1710\n",
       "Children's Books                1710\n",
       "Science Fiction & Fantasy       1710\n",
       "Calendars                       1710\n",
       "Self-Help                       1710\n",
       "Teen & Young Adult              1710\n",
       "Reference                       1710\n",
       "Comics & Graphic Novels         1710\n",
       "History                         1710\n",
       "Romance                         1710\n",
       "Parenting & Relationships       1710\n",
       "Arts & Photography              1710\n",
       "Test Preparation                1710\n",
       "Computers & Technology          1710\n",
       "Law                             1710\n",
       "Humor & Entertainment           1710\n",
       "Literature & Fiction            1710\n",
       "Religion & Spirituality         1710\n",
       "Crafts, Hobbies & Home          1710\n",
       "Politics & Social Sciences      1710\n",
       "Cookbooks, Food & Wine          1710\n",
       "Business & Money                1710\n",
       "Travel                          1710\n",
       "Science & Math                  1710\n",
       "Medical Books                   1710\n",
       "Health, Fitness & Dieting       1710\n",
       "Sports & Outdoors               1710\n",
       "Christian Books & Bibles        1710\n",
       "Engineering & Transportation    1710\n",
       "Mystery, Thriller & Suspense    1710\n",
       "Name: category, dtype: int64"
      ]
     },
     "execution_count": 14,
     "metadata": {},
     "output_type": "execute_result"
    }
   ],
   "source": [
    "train['category'].value_counts()"
   ]
  },
  {
   "cell_type": "markdown",
   "id": "114f2077-7711-417d-b44e-23ac04388a5d",
   "metadata": {},
   "source": [
    "### Eliminating many categories for easier classification"
   ]
  },
  {
   "cell_type": "code",
   "execution_count": 31,
   "id": "294b4b1a-2f77-4ef5-9053-1a1e0aef90c2",
   "metadata": {},
   "outputs": [],
   "source": [
    "train = train[train['category'] != 'Calendars']\n",
    "train = train[train['category'] != 'Self-Help']\n",
    "train = train[train['category'] != 'Reference']\n",
    "train = train[train['category'] != 'Comics & Graphic Novels']\n",
    "train = train[train['category'] != 'History']\n",
    "train = train[train['category'] != 'Parenting & Relationships']\n",
    "train = train[train['category'] != 'Arts & Photography']\n",
    "train = train[train['category'] != 'Test Preparation']\n",
    "train = train[train['category'] != 'Computers & Technology']\n",
    "train = train[train['category'] != 'Law']\n",
    "train = train[train['category'] != 'Humor & Entertainment']\n",
    "train = train[train['category'] != 'Religion & Spirituality']\n",
    "train = train[train['category'] != 'Crafts, Hobbies & Home']\n",
    "train = train[train['category'] != 'Politics & Social Sciences']\n",
    "train = train[train['category'] != 'Cookbooks, Food & Wine']\n",
    "train = train[train['category'] != 'Business & Money']\n",
    "train = train[train['category'] != 'Travel']\n",
    "train = train[train['category'] != 'Science & Math']\n",
    "train = train[train['category'] != 'Medical Books']\n",
    "train = train[train['category'] != 'Health, Fitness & Dieting']\n",
    "train = train[train['category'] != 'Sports & Outdoors']\n",
    "train = train[train['category'] != 'Christian Books & Bibles']\n",
    "train = train[train['category'] != 'Engineering & Transportation']"
   ]
  },
  {
   "cell_type": "code",
   "execution_count": 34,
   "id": "5d4f03c4-0ea3-413a-bd91-c9c00d0f669c",
   "metadata": {},
   "outputs": [],
   "source": [
    "test = test[test['category'] != 'Calendars']\n",
    "test = test[test['category'] != 'Self-Help']\n",
    "test = test[test['category'] != 'Reference']\n",
    "test = test[test['category'] != 'Comics & Graphic Novels']\n",
    "test = test[test['category'] != 'History']\n",
    "test = test[test['category'] != 'Parenting & Relationships']\n",
    "test = test[test['category'] != 'Arts & Photography']\n",
    "test = test[test['category'] != 'Test Preparation']\n",
    "test = test[test['category'] != 'Computers & Technology']\n",
    "test = test[test['category'] != 'Law']\n",
    "test = test[test['category'] != 'Humor & Entertainment']\n",
    "test = test[test['category'] != 'Religion & Spirituality']\n",
    "test = test[test['category'] != 'Crafts, Hobbies & Home']\n",
    "test = test[test['category'] != 'Politics & Social Sciences']\n",
    "test = test[test['category'] != 'Cookbooks, Food & Wine']\n",
    "test = test[test['category'] != 'Business & Money']\n",
    "test = test[test['category'] != 'Travel']\n",
    "test = test[test['category'] != 'Science & Math']\n",
    "test = test[test['category'] != 'Medical Books']\n",
    "test = test[test['category'] != 'Health, Fitness & Dieting']\n",
    "test = test[test['category'] != 'Sports & Outdoors']\n",
    "test = test[test['category'] != 'Christian Books & Bibles']\n",
    "test = test[test['category'] != 'Engineering & Transportation']"
   ]
  },
  {
   "cell_type": "code",
   "execution_count": 36,
   "id": "8201f62b-4869-4cb2-976f-33668eeb7033",
   "metadata": {},
   "outputs": [],
   "source": [
    "train.to_csv('../data/train_cleaned.csv')"
   ]
  },
  {
   "cell_type": "code",
   "execution_count": 37,
   "id": "03d97348-be21-4221-a847-db82a4823d88",
   "metadata": {},
   "outputs": [],
   "source": [
    "test.to_csv('../data/test_cleaned.csv')"
   ]
  },
  {
   "cell_type": "code",
   "execution_count": 6,
   "id": "b0e508fc",
   "metadata": {},
   "outputs": [
    {
     "data": {
      "text/html": [
       "<div>\n",
       "<style scoped>\n",
       "    .dataframe tbody tr th:only-of-type {\n",
       "        vertical-align: middle;\n",
       "    }\n",
       "\n",
       "    .dataframe tbody tr th {\n",
       "        vertical-align: top;\n",
       "    }\n",
       "\n",
       "    .dataframe thead th {\n",
       "        text-align: right;\n",
       "    }\n",
       "</style>\n",
       "<table border=\"1\" class=\"dataframe\">\n",
       "  <thead>\n",
       "    <tr style=\"text-align: right;\">\n",
       "      <th></th>\n",
       "      <th>amazon_index</th>\n",
       "      <th>filename</th>\n",
       "      <th>image_url</th>\n",
       "      <th>title</th>\n",
       "      <th>author</th>\n",
       "      <th>category_id</th>\n",
       "      <th>category</th>\n",
       "    </tr>\n",
       "  </thead>\n",
       "  <tbody>\n",
       "    <tr>\n",
       "      <th>0</th>\n",
       "      <td>1588345297</td>\n",
       "      <td>1588345297.jpg</td>\n",
       "      <td>http://ecx.images-amazon.com/images/I/51l6XIoa...</td>\n",
       "      <td>With Schwarzkopf: Life Lessons of The Bear</td>\n",
       "      <td>Gus Lee</td>\n",
       "      <td>1</td>\n",
       "      <td>Biographies &amp; Memoirs</td>\n",
       "    </tr>\n",
       "    <tr>\n",
       "      <th>1</th>\n",
       "      <td>1404803335</td>\n",
       "      <td>1404803335.jpg</td>\n",
       "      <td>http://ecx.images-amazon.com/images/I/51UJnL3T...</td>\n",
       "      <td>Magnets: Pulling Together, Pushing Apart (Amaz...</td>\n",
       "      <td>Natalie M. Rosinsky</td>\n",
       "      <td>4</td>\n",
       "      <td>Children's Books</td>\n",
       "    </tr>\n",
       "  </tbody>\n",
       "</table>\n",
       "</div>"
      ],
      "text/plain": [
       "  amazon_index        filename  \\\n",
       "0   1588345297  1588345297.jpg   \n",
       "1   1404803335  1404803335.jpg   \n",
       "\n",
       "                                           image_url  \\\n",
       "0  http://ecx.images-amazon.com/images/I/51l6XIoa...   \n",
       "1  http://ecx.images-amazon.com/images/I/51UJnL3T...   \n",
       "\n",
       "                                               title               author  \\\n",
       "0         With Schwarzkopf: Life Lessons of The Bear              Gus Lee   \n",
       "1  Magnets: Pulling Together, Pushing Apart (Amaz...  Natalie M. Rosinsky   \n",
       "\n",
       "   category_id               category  \n",
       "0            1  Biographies & Memoirs  \n",
       "1            4       Children's Books  "
      ]
     },
     "execution_count": 6,
     "metadata": {},
     "output_type": "execute_result"
    }
   ],
   "source": [
    "pd.read_csv('../data/train_cleaned.csv', index_col=0).head(2)"
   ]
  },
  {
   "cell_type": "code",
   "execution_count": 7,
   "id": "d6532abb-e22d-40b3-996d-f58e54966eac",
   "metadata": {},
   "outputs": [
    {
     "data": {
      "text/html": [
       "<div>\n",
       "<style scoped>\n",
       "    .dataframe tbody tr th:only-of-type {\n",
       "        vertical-align: middle;\n",
       "    }\n",
       "\n",
       "    .dataframe tbody tr th {\n",
       "        vertical-align: top;\n",
       "    }\n",
       "\n",
       "    .dataframe thead th {\n",
       "        text-align: right;\n",
       "    }\n",
       "</style>\n",
       "<table border=\"1\" class=\"dataframe\">\n",
       "  <thead>\n",
       "    <tr style=\"text-align: right;\">\n",
       "      <th></th>\n",
       "      <th>amazon_index</th>\n",
       "      <th>filename</th>\n",
       "      <th>image_url</th>\n",
       "      <th>title</th>\n",
       "      <th>author</th>\n",
       "      <th>category_id</th>\n",
       "      <th>category</th>\n",
       "    </tr>\n",
       "  </thead>\n",
       "  <tbody>\n",
       "    <tr>\n",
       "      <th>0</th>\n",
       "      <td>761183272</td>\n",
       "      <td>0761183272.jpg</td>\n",
       "      <td>http://ecx.images-amazon.com/images/I/61Y5cOdH...</td>\n",
       "      <td>Mom's Family Wall Calendar 2016</td>\n",
       "      <td>Sandra Boynton</td>\n",
       "      <td>3</td>\n",
       "      <td>Calendars</td>\n",
       "    </tr>\n",
       "    <tr>\n",
       "      <th>1</th>\n",
       "      <td>1623439671</td>\n",
       "      <td>1623439671.jpg</td>\n",
       "      <td>http://ecx.images-amazon.com/images/I/61t-hrSw...</td>\n",
       "      <td>Doug the Pug 2016 Wall Calendar</td>\n",
       "      <td>Doug the Pug</td>\n",
       "      <td>3</td>\n",
       "      <td>Calendars</td>\n",
       "    </tr>\n",
       "  </tbody>\n",
       "</table>\n",
       "</div>"
      ],
      "text/plain": [
       "  amazon_index        filename  \\\n",
       "0    761183272  0761183272.jpg   \n",
       "1   1623439671  1623439671.jpg   \n",
       "\n",
       "                                           image_url  \\\n",
       "0  http://ecx.images-amazon.com/images/I/61Y5cOdH...   \n",
       "1  http://ecx.images-amazon.com/images/I/61t-hrSw...   \n",
       "\n",
       "                             title          author  category_id   category  \n",
       "0  Mom's Family Wall Calendar 2016  Sandra Boynton            3  Calendars  \n",
       "1  Doug the Pug 2016 Wall Calendar    Doug the Pug            3  Calendars  "
      ]
     },
     "execution_count": 7,
     "metadata": {},
     "output_type": "execute_result"
    }
   ],
   "source": [
    "book_df.head(2)"
   ]
  },
  {
   "cell_type": "code",
   "execution_count": 13,
   "id": "316bf887-e356-4573-9c5c-597b611194be",
   "metadata": {},
   "outputs": [],
   "source": [
    "book_df = book_df[book_df['category'] != 'Calendars']\n",
    "book_df = book_df[book_df['category'] != 'Self-Help']\n",
    "book_df = book_df[book_df['category'] != 'Reference']\n",
    "book_df = book_df[book_df['category'] != 'Comics & Graphic Novels']\n",
    "book_df = book_df[book_df['category'] != 'History']\n",
    "book_df = book_df[book_df['category'] != 'Parenting & Relationships']\n",
    "book_df = book_df[book_df['category'] != 'Arts & Photography']\n",
    "book_df = book_df[book_df['category'] != 'Test Preparation']\n",
    "book_df = book_df[book_df['category'] != 'Computers & Technology']\n",
    "book_df = book_df[book_df['category'] != 'Law']\n",
    "book_df = book_df[book_df['category'] != 'Humor & Entertainment']\n",
    "book_df = book_df[book_df['category'] != 'Religion & Spirituality']\n",
    "book_df = book_df[book_df['category'] != 'Crafts, Hobbies & Home']\n",
    "book_df = book_df[book_df['category'] != 'Politics & Social Sciences']\n",
    "book_df = book_df[book_df['category'] != 'Cookbooks, Food & Wine']\n",
    "book_df = book_df[book_df['category'] != 'Business & Money']\n",
    "book_df = book_df[book_df['category'] != 'Travel']\n",
    "book_df = book_df[book_df['category'] != 'Science & Math']\n",
    "book_df = book_df[book_df['category'] != 'Medical Books']\n",
    "book_df = book_df[book_df['category'] != 'Health, Fitness & Dieting']\n",
    "book_df = book_df[book_df['category'] != 'Sports & Outdoors']\n",
    "book_df = book_df[book_df['category'] != 'Christian Books & Bibles']\n",
    "book_df = book_df[book_df['category'] != 'Engineering & Transportation']\n",
    "book_df = book_df[book_df['category'] != 'Education & Teaching']\n",
    "book_df = book_df[book_df['category'] != 'Gay & Lesbian']"
   ]
  },
  {
   "cell_type": "code",
   "execution_count": 14,
   "id": "ed7e22d3",
   "metadata": {},
   "outputs": [
    {
     "data": {
      "text/plain": [
       "Children's Books                13605\n",
       "Literature & Fiction             7580\n",
       "Teen & Young Adult               7489\n",
       "Romance                          4291\n",
       "Biographies & Memoirs            4261\n",
       "Science Fiction & Fantasy        3800\n",
       "Mystery, Thriller & Suspense     1998\n",
       "Name: category, dtype: int64"
      ]
     },
     "execution_count": 14,
     "metadata": {},
     "output_type": "execute_result"
    }
   ],
   "source": [
    "book_df['category'].value_counts()"
   ]
  },
  {
   "cell_type": "code",
   "execution_count": 16,
   "id": "92f17fea-0f50-41d2-b9f2-5a2dc333b3fb",
   "metadata": {},
   "outputs": [
    {
     "name": "stdout",
     "output_type": "stream",
     "text": [
      "<class 'pandas.core.frame.DataFrame'>\n",
      "Int64Index: 43024 entries, 8568 to 189233\n",
      "Data columns (total 7 columns):\n",
      " #   Column        Non-Null Count  Dtype \n",
      "---  ------        --------------  ----- \n",
      " 0   amazon_index  43024 non-null  object\n",
      " 1   filename      43024 non-null  object\n",
      " 2   image_url     43024 non-null  object\n",
      " 3   title         43024 non-null  object\n",
      " 4   author        41253 non-null  object\n",
      " 5   category_id   43024 non-null  int64 \n",
      " 6   category      43024 non-null  object\n",
      "dtypes: int64(1), object(6)\n",
      "memory usage: 2.6+ MB\n"
     ]
    }
   ],
   "source": [
    "book_df.info()"
   ]
  },
  {
   "cell_type": "code",
   "execution_count": 17,
   "id": "9c9c8fb2-1212-453b-9a70-c1d7a6d5f712",
   "metadata": {},
   "outputs": [],
   "source": [
    "book_df.to_csv('../data/full_book_list_cleaned.csv')"
   ]
  },
  {
   "cell_type": "code",
   "execution_count": 2,
   "id": "e13e0fe4",
   "metadata": {},
   "outputs": [],
   "source": [
    "train = pd.read_csv('../data/train_cleaned.csv', index_col=0)\n",
    "test = pd.read_csv('../data/test_cleaned.csv', index_col=0)"
   ]
  },
  {
   "cell_type": "code",
   "execution_count": 5,
   "id": "15a4730f",
   "metadata": {},
   "outputs": [
    {
     "data": {
      "text/plain": [
       "Biographies & Memoirs           1710\n",
       "Children's Books                1710\n",
       "Literature & Fiction            1710\n",
       "Romance                         1710\n",
       "Teen & Young Adult              1710\n",
       "Science Fiction & Fantasy       1710\n",
       "Mystery, Thriller & Suspense    1710\n",
       "Name: category, dtype: int64"
      ]
     },
     "execution_count": 5,
     "metadata": {},
     "output_type": "execute_result"
    }
   ],
   "source": [
    "train['category'].value_counts()"
   ]
  },
  {
   "cell_type": "code",
   "execution_count": 11,
   "id": "327a6917",
   "metadata": {},
   "outputs": [],
   "source": [
    "train = train[train['category'] != 'Romance']\n",
    "train = train[train['category'] != \"Children's Books\"]\n",
    "test = test[test['category'] != 'Romance']\n",
    "test = test[test['category'] != \"Children's Books\"]"
   ]
  },
  {
   "cell_type": "code",
   "execution_count": 10,
   "id": "095b07fd",
   "metadata": {},
   "outputs": [
    {
     "data": {
      "text/plain": [
       "Biographies & Memoirs           1710\n",
       "Literature & Fiction            1710\n",
       "Teen & Young Adult              1710\n",
       "Science Fiction & Fantasy       1710\n",
       "Mystery, Thriller & Suspense    1710\n",
       "Name: category, dtype: int64"
      ]
     },
     "execution_count": 10,
     "metadata": {},
     "output_type": "execute_result"
    }
   ],
   "source": [
    "train['category'].value_counts()"
   ]
  },
  {
   "cell_type": "code",
   "execution_count": 12,
   "id": "cb26035d",
   "metadata": {},
   "outputs": [
    {
     "data": {
      "text/plain": [
       "Biographies & Memoirs           190\n",
       "Literature & Fiction            190\n",
       "Teen & Young Adult              190\n",
       "Science Fiction & Fantasy       190\n",
       "Mystery, Thriller & Suspense    190\n",
       "Name: category, dtype: int64"
      ]
     },
     "execution_count": 12,
     "metadata": {},
     "output_type": "execute_result"
    }
   ],
   "source": [
    "test['category'].value_counts()"
   ]
  },
  {
   "cell_type": "code",
   "execution_count": 13,
   "id": "bc163fab",
   "metadata": {},
   "outputs": [],
   "source": [
    "train.to_csv('../data/train_genre_cleaned.csv')\n",
    "test.to_csv('../data/test_genre_cleaned.csv')"
   ]
  }
 ],
 "metadata": {
  "interpreter": {
   "hash": "688cbbec7a053cd5a9d74b7ca400d144792d3a4aae4971fffa547d81f8cb8b6e"
  },
  "kernelspec": {
   "display_name": "Python 3 (ipykernel)",
   "language": "python",
   "name": "python3"
  },
  "language_info": {
   "codemirror_mode": {
    "name": "ipython",
    "version": 3
   },
   "file_extension": ".py",
   "mimetype": "text/x-python",
   "name": "python",
   "nbconvert_exporter": "python",
   "pygments_lexer": "ipython3",
   "version": "3.9.7"
  }
 },
 "nbformat": 4,
 "nbformat_minor": 5
}
