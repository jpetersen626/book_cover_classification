{
 "cells": [
  {
   "cell_type": "markdown",
   "metadata": {},
   "source": [
    "## Modeling"
   ]
  },
  {
   "cell_type": "markdown",
   "metadata": {},
   "source": [
    "---"
   ]
  },
  {
   "cell_type": "code",
   "execution_count": 19,
   "metadata": {},
   "outputs": [],
   "source": [
    "import numpy as np\n",
    "import pandas as pd\n",
    "\n",
    "from tensorflow.keras.preprocessing.image import ImageDataGenerator\n",
    "from tensorflow.keras.layers import Dense, Dropout, Flatten, Conv2D, MaxPooling2D\n",
    "from tensorflow.keras.models import Sequential\n",
    "from tensorflow.keras.preprocessing.image import img_to_array, load_img\n",
    "from tensorflow.keras.callbacks import EarlyStopping\n",
    "from tensorflow.keras.optimizers import Adam\n",
    "from tensorflow.keras.regularizers import l2\n",
    "\n",
    "from sklearn.model_selection import train_test_split"
   ]
  },
  {
   "cell_type": "code",
   "execution_count": 4,
   "metadata": {},
   "outputs": [],
   "source": [
    "train = pd.read_csv('../data/book30-listing-train.csv', encoding_errors='ignore', header=None)\n",
    "train.columns = ['amazon_index', 'filename', 'image_url', 'title', 'author', 'category_id', 'category']"
   ]
  },
  {
   "cell_type": "code",
   "execution_count": 8,
   "metadata": {},
   "outputs": [
    {
     "data": {
      "text/html": [
       "<div>\n",
       "<style scoped>\n",
       "    .dataframe tbody tr th:only-of-type {\n",
       "        vertical-align: middle;\n",
       "    }\n",
       "\n",
       "    .dataframe tbody tr th {\n",
       "        vertical-align: top;\n",
       "    }\n",
       "\n",
       "    .dataframe thead th {\n",
       "        text-align: right;\n",
       "    }\n",
       "</style>\n",
       "<table border=\"1\" class=\"dataframe\">\n",
       "  <thead>\n",
       "    <tr style=\"text-align: right;\">\n",
       "      <th></th>\n",
       "      <th>amazon_index</th>\n",
       "      <th>filename</th>\n",
       "      <th>image_url</th>\n",
       "      <th>title</th>\n",
       "      <th>author</th>\n",
       "      <th>category_id</th>\n",
       "      <th>category</th>\n",
       "    </tr>\n",
       "  </thead>\n",
       "  <tbody>\n",
       "    <tr>\n",
       "      <th>0</th>\n",
       "      <td>1588345297</td>\n",
       "      <td>1588345297.jpg</td>\n",
       "      <td>http://ecx.images-amazon.com/images/I/51l6XIoa...</td>\n",
       "      <td>With Schwarzkopf: Life Lessons of The Bear</td>\n",
       "      <td>Gus Lee</td>\n",
       "      <td>1</td>\n",
       "      <td>Biographies &amp; Memoirs</td>\n",
       "    </tr>\n",
       "    <tr>\n",
       "      <th>1</th>\n",
       "      <td>1404803335</td>\n",
       "      <td>1404803335.jpg</td>\n",
       "      <td>http://ecx.images-amazon.com/images/I/51UJnL3T...</td>\n",
       "      <td>Magnets: Pulling Together, Pushing Apart (Amaz...</td>\n",
       "      <td>Natalie M. Rosinsky</td>\n",
       "      <td>4</td>\n",
       "      <td>Children's Books</td>\n",
       "    </tr>\n",
       "  </tbody>\n",
       "</table>\n",
       "</div>"
      ],
      "text/plain": [
       "  amazon_index        filename  \\\n",
       "0   1588345297  1588345297.jpg   \n",
       "1   1404803335  1404803335.jpg   \n",
       "\n",
       "                                           image_url  \\\n",
       "0  http://ecx.images-amazon.com/images/I/51l6XIoa...   \n",
       "1  http://ecx.images-amazon.com/images/I/51UJnL3T...   \n",
       "\n",
       "                                               title               author  \\\n",
       "0         With Schwarzkopf: Life Lessons of The Bear              Gus Lee   \n",
       "1  Magnets: Pulling Together, Pushing Apart (Amaz...  Natalie M. Rosinsky   \n",
       "\n",
       "   category_id               category  \n",
       "0            1  Biographies & Memoirs  \n",
       "1            4       Children's Books  "
      ]
     },
     "execution_count": 8,
     "metadata": {},
     "output_type": "execute_result"
    }
   ],
   "source": [
    "train.head(2)"
   ]
  },
  {
   "cell_type": "code",
   "execution_count": 5,
   "metadata": {},
   "outputs": [],
   "source": [
    "test = pd.read_csv('../data/book30-listing-test.csv', encoding_errors='ignore', header=None)\n",
    "test.columns = ['amazon_index', 'filename', 'image_url', 'title', 'author', 'category_id', 'category']"
   ]
  },
  {
   "cell_type": "code",
   "execution_count": 9,
   "metadata": {},
   "outputs": [
    {
     "data": {
      "text/html": [
       "<div>\n",
       "<style scoped>\n",
       "    .dataframe tbody tr th:only-of-type {\n",
       "        vertical-align: middle;\n",
       "    }\n",
       "\n",
       "    .dataframe tbody tr th {\n",
       "        vertical-align: top;\n",
       "    }\n",
       "\n",
       "    .dataframe thead th {\n",
       "        text-align: right;\n",
       "    }\n",
       "</style>\n",
       "<table border=\"1\" class=\"dataframe\">\n",
       "  <thead>\n",
       "    <tr style=\"text-align: right;\">\n",
       "      <th></th>\n",
       "      <th>amazon_index</th>\n",
       "      <th>filename</th>\n",
       "      <th>image_url</th>\n",
       "      <th>title</th>\n",
       "      <th>author</th>\n",
       "      <th>category_id</th>\n",
       "      <th>category</th>\n",
       "    </tr>\n",
       "  </thead>\n",
       "  <tbody>\n",
       "    <tr>\n",
       "      <th>0</th>\n",
       "      <td>044310073X</td>\n",
       "      <td>044310073X.jpg</td>\n",
       "      <td>http://ecx.images-amazon.com/images/I/41kSLEos...</td>\n",
       "      <td>Oral and Maxillofacial Surgery: An Objective-B...</td>\n",
       "      <td>NaN</td>\n",
       "      <td>16</td>\n",
       "      <td>Medical Books</td>\n",
       "    </tr>\n",
       "    <tr>\n",
       "      <th>1</th>\n",
       "      <td>1438005687</td>\n",
       "      <td>1438005687.jpg</td>\n",
       "      <td>http://ecx.images-amazon.com/images/I/510l0qhi...</td>\n",
       "      <td>Barron's GRE, 21st Edition</td>\n",
       "      <td>Sharon Weiner Green M.A.</td>\n",
       "      <td>28</td>\n",
       "      <td>Test Preparation</td>\n",
       "    </tr>\n",
       "  </tbody>\n",
       "</table>\n",
       "</div>"
      ],
      "text/plain": [
       "  amazon_index        filename  \\\n",
       "0   044310073X  044310073X.jpg   \n",
       "1   1438005687  1438005687.jpg   \n",
       "\n",
       "                                           image_url  \\\n",
       "0  http://ecx.images-amazon.com/images/I/41kSLEos...   \n",
       "1  http://ecx.images-amazon.com/images/I/510l0qhi...   \n",
       "\n",
       "                                               title  \\\n",
       "0  Oral and Maxillofacial Surgery: An Objective-B...   \n",
       "1                         Barron's GRE, 21st Edition   \n",
       "\n",
       "                     author  category_id          category  \n",
       "0                       NaN           16     Medical Books  \n",
       "1  Sharon Weiner Green M.A.           28  Test Preparation  "
      ]
     },
     "execution_count": 9,
     "metadata": {},
     "output_type": "execute_result"
    }
   ],
   "source": [
    "test.head(2)"
   ]
  },
  {
   "cell_type": "markdown",
   "metadata": {},
   "source": [
    "#### Baseline Model"
   ]
  },
  {
   "cell_type": "code",
   "execution_count": null,
   "metadata": {},
   "outputs": [],
   "source": [
    "train['category'].value_counts()"
   ]
  },
  {
   "cell_type": "markdown",
   "metadata": {},
   "source": [
    "#### Importing Images"
   ]
  },
  {
   "cell_type": "code",
   "execution_count": 2,
   "metadata": {},
   "outputs": [],
   "source": [
    "datagen = ImageDataGenerator(rescale=1/255)"
   ]
  },
  {
   "cell_type": "code",
   "execution_count": 22,
   "metadata": {},
   "outputs": [
    {
     "name": "stdout",
     "output_type": "stream",
     "text": [
      "Found 51300 validated image filenames belonging to 30 classes.\n",
      "Found 5700 validated image filenames belonging to 30 classes.\n"
     ]
    }
   ],
   "source": [
    "train_gen = datagen.flow_from_dataframe(\n",
    "    dataframe=train,\n",
    "    directory='../images/224x224/',\n",
    "    x_col='filename',\n",
    "    y_col='category',\n",
    "    class_mode='categorical',\n",
    "    target_size=(256,256)\n",
    ")\n",
    "\n",
    "test_gen = datagen.flow_from_dataframe(\n",
    "    dataframe=test,\n",
    "    directory='../images/224x224/',\n",
    "    x_col='filename',\n",
    "    y_col='category',\n",
    "    class_mode='categorical',\n",
    "    target_size=(256,256)\n",
    ")"
   ]
  },
  {
   "cell_type": "code",
   "execution_count": 37,
   "metadata": {},
   "outputs": [],
   "source": [
    "model1 = Sequential()\n",
    "model1.add(Conv2D(64,(3,3),activation='relu',input_shape=(256,256,3)))\n",
    "model1.add(MaxPooling2D(pool_size=(2,2)))\n",
    "\n",
    "model1.add(Conv2D(64,(3,3),activation='relu'))\n",
    "model1.add(MaxPooling2D(pool_size=(2,2)))\n",
    "\n",
    "model1.add(Flatten())\n",
    "model1.add(Dense(64,activation='relu'))\n",
    "model1.add(Dense(30,activation='softmax'))\n",
    "\n",
    "model1.compile(\n",
    "    optimizer ='adam',\n",
    "    loss = 'categorical_crossentropy',\n",
    "    metrics = ['accuracy']\n",
    ")"
   ]
  },
  {
   "cell_type": "code",
   "execution_count": 39,
   "metadata": {},
   "outputs": [
    {
     "name": "stdout",
     "output_type": "stream",
     "text": [
      "Epoch 1/5\n",
      "1604/1604 [==============================] - 2367s 1s/step - loss: 3.2946 - accuracy: 0.0812 - val_loss: 3.1955 - val_accuracy: 0.1061\n",
      "Epoch 2/5\n",
      "1604/1604 [==============================] - 2226s 1s/step - loss: 2.9311 - accuracy: 0.1827 - val_loss: 3.1683 - val_accuracy: 0.1326\n",
      "Epoch 3/5\n",
      "1604/1604 [==============================] - 2292s 1s/step - loss: 2.0507 - accuracy: 0.4130 - val_loss: 3.7401 - val_accuracy: 0.1263\n",
      "Epoch 4/5\n",
      "1604/1604 [==============================] - 2207s 1s/step - loss: 0.9106 - accuracy: 0.7347 - val_loss: 5.9865 - val_accuracy: 0.1135\n",
      "Epoch 5/5\n",
      "1604/1604 [==============================] - 2248s 1s/step - loss: 0.3363 - accuracy: 0.9068 - val_loss: 8.8365 - val_accuracy: 0.1088\n"
     ]
    }
   ],
   "source": [
    "history1 = model1.fit(\n",
    "    train_gen,\n",
    "    validation_data=test_gen,\n",
    "    epochs=5\n",
    ")"
   ]
  },
  {
   "cell_type": "code",
   "execution_count": null,
   "metadata": {},
   "outputs": [],
   "source": []
  }
 ],
 "metadata": {
  "interpreter": {
   "hash": "688cbbec7a053cd5a9d74b7ca400d144792d3a4aae4971fffa547d81f8cb8b6e"
  },
  "kernelspec": {
   "display_name": "Python 3.9.7 ('base')",
   "language": "python",
   "name": "python3"
  },
  "language_info": {
   "codemirror_mode": {
    "name": "ipython",
    "version": 3
   },
   "file_extension": ".py",
   "mimetype": "text/x-python",
   "name": "python",
   "nbconvert_exporter": "python",
   "pygments_lexer": "ipython3",
   "version": "3.9.7"
  },
  "orig_nbformat": 4
 },
 "nbformat": 4,
 "nbformat_minor": 2
}
