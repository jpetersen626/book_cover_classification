{
  "nbformat": 4,
  "nbformat_minor": 0,
  "metadata": {
    "colab": {
      "name": "04_Modeling_Decade.ipynb",
      "provenance": [],
      "collapsed_sections": []
    },
    "kernelspec": {
      "name": "python3",
      "display_name": "Python 3"
    },
    "language_info": {
      "name": "python"
    },
    "accelerator": "GPU"
  },
  "cells": [
    {
      "cell_type": "markdown",
      "source": [
        "## Modeling - Classifying Book Cover by Decade Published"
      ],
      "metadata": {
        "id": "b7Ofuyo-GSKv"
      }
    },
    {
      "cell_type": "code",
      "source": [
        "!pip install -q -U keras-tuner"
      ],
      "metadata": {
        "colab": {
          "base_uri": "https://localhost:8080/"
        },
        "id": "a6G0_4FBUT5N",
        "outputId": "1d30f255-f87d-4262-ef83-93b2ed124c36"
      },
      "execution_count": 1,
      "outputs": [
        {
          "output_type": "stream",
          "name": "stdout",
          "text": [
            "\u001b[?25l\r\u001b[K     |██▌                             | 10 kB 22.5 MB/s eta 0:00:01\r\u001b[K     |█████                           | 20 kB 22.3 MB/s eta 0:00:01\r\u001b[K     |███████▍                        | 30 kB 10.9 MB/s eta 0:00:01\r\u001b[K     |█████████▉                      | 40 kB 1.8 MB/s eta 0:00:01\r\u001b[K     |████████████▎                   | 51 kB 2.2 MB/s eta 0:00:01\r\u001b[K     |██████████████▊                 | 61 kB 2.7 MB/s eta 0:00:01\r\u001b[K     |█████████████████▏              | 71 kB 3.1 MB/s eta 0:00:01\r\u001b[K     |███████████████████▋            | 81 kB 3.5 MB/s eta 0:00:01\r\u001b[K     |██████████████████████          | 92 kB 3.9 MB/s eta 0:00:01\r\u001b[K     |████████████████████████▌       | 102 kB 3.1 MB/s eta 0:00:01\r\u001b[K     |███████████████████████████     | 112 kB 3.1 MB/s eta 0:00:01\r\u001b[K     |█████████████████████████████▍  | 122 kB 3.1 MB/s eta 0:00:01\r\u001b[K     |███████████████████████████████▉| 133 kB 3.1 MB/s eta 0:00:01\r\u001b[K     |████████████████████████████████| 133 kB 3.1 MB/s \n",
            "\u001b[?25h"
          ]
        }
      ]
    },
    {
      "cell_type": "code",
      "execution_count": 47,
      "metadata": {
        "id": "robqMIOfGKdd"
      },
      "outputs": [],
      "source": [
        "import numpy as np\n",
        "import pandas as pd\n",
        "import tensorflow as tf\n",
        "import keras_tuner as kt\n",
        "import os\n",
        "\n",
        "from keras.utils.data_utils import Sequence\n",
        "from imblearn.over_sampling import RandomOverSampler, SMOTE\n",
        "from imblearn.tensorflow import balanced_batch_generator\n",
        "from sklearn.utils import class_weight\n",
        "\n",
        "from tensorflow.keras.preprocessing.image import ImageDataGenerator\n",
        "from tensorflow.keras.layers import Dense, Dropout, Flatten, Conv2D, MaxPooling2D, GlobalAveragePooling2D, MaxPool2D\n",
        "from tensorflow.keras.models import Sequential\n",
        "from tensorflow.keras.preprocessing.image import img_to_array, load_img\n",
        "from tensorflow.keras.callbacks import EarlyStopping\n",
        "from tensorflow.keras.optimizers import Adam\n",
        "from tensorflow.keras.regularizers import l2\n",
        "from tensorflow.keras.applications import EfficientNetB0\n",
        "from tensorflow.keras.losses import CategoricalCrossentropy\n",
        "\n",
        "from sklearn.metrics import ConfusionMatrixDisplay\n",
        "from sklearn.model_selection import train_test_split, GridSearchCV\n",
        "from keras.wrappers.scikit_learn import KerasClassifier\n",
        "\n",
        "np.random.seed(42)"
      ]
    },
    {
      "cell_type": "code",
      "source": [
        "!unzip /content/drive/MyDrive/datasets/capstone/images.zip"
      ],
      "metadata": {
        "id": "DQQ3I-uuGiMD"
      },
      "execution_count": null,
      "outputs": []
    },
    {
      "cell_type": "code",
      "source": [
        "train = pd.read_csv('/content/drive/MyDrive/datasets/capstone/data/train_2_cleaned.csv', index_col=0)\n",
        "test = pd.read_csv('/content/drive/MyDrive/datasets/capstone/data/test_2_cleaned.csv', index_col=0)"
      ],
      "metadata": {
        "id": "TLgGr-zUHJWP"
      },
      "execution_count": 4,
      "outputs": []
    },
    {
      "cell_type": "code",
      "source": [
        "train.head(3)"
      ],
      "metadata": {
        "colab": {
          "base_uri": "https://localhost:8080/",
          "height": 240
        },
        "id": "99AZx1BMHcSa",
        "outputId": "16874184-897a-4df6-f500-97dff359d553"
      },
      "execution_count": 5,
      "outputs": [
        {
          "output_type": "execute_result",
          "data": {
            "text/plain": [
              "  amazon_index        filename  \\\n",
              "0   1588345297  1588345297.jpg   \n",
              "1   1404803335  1404803335.jpg   \n",
              "2    471310115  0471310115.jpg   \n",
              "\n",
              "                                               title               author  \\\n",
              "0         With Schwarzkopf: Life Lessons of The Bear              Gus Lee   \n",
              "1  Magnets: Pulling Together, Pushing Apart (Amaz...  Natalie M. Rosinsky   \n",
              "2  Janice VanCleave's 201 Awesome, Magical, Bizar...     Janice VanCleave   \n",
              "\n",
              "   category_id               category  \\\n",
              "0            1  Biographies & Memoirs   \n",
              "1            4       Children's Books   \n",
              "2            4       Children's Books   \n",
              "\n",
              "                                                meta  year  \\\n",
              "0  {\"ISBN-13\": \"9781588345295\", \"Title\": \"With Sc...  2015   \n",
              "1  {\"ISBN-13\": \"9781404803336\", \"Title\": \"Magnets...  2002   \n",
              "2  {\"ISBN-13\": \"9780471310112\", \"Title\": \"Janice ...  1994   \n",
              "\n",
              "           meta_author  decade  \n",
              "0              Gus Lee    2010  \n",
              "1  Natalie M. Rosinsky    2000  \n",
              "2     Janice VanCleave    1990  "
            ],
            "text/html": [
              "\n",
              "  <div id=\"df-30650587-1ddf-4f33-876b-ab507df80039\">\n",
              "    <div class=\"colab-df-container\">\n",
              "      <div>\n",
              "<style scoped>\n",
              "    .dataframe tbody tr th:only-of-type {\n",
              "        vertical-align: middle;\n",
              "    }\n",
              "\n",
              "    .dataframe tbody tr th {\n",
              "        vertical-align: top;\n",
              "    }\n",
              "\n",
              "    .dataframe thead th {\n",
              "        text-align: right;\n",
              "    }\n",
              "</style>\n",
              "<table border=\"1\" class=\"dataframe\">\n",
              "  <thead>\n",
              "    <tr style=\"text-align: right;\">\n",
              "      <th></th>\n",
              "      <th>amazon_index</th>\n",
              "      <th>filename</th>\n",
              "      <th>title</th>\n",
              "      <th>author</th>\n",
              "      <th>category_id</th>\n",
              "      <th>category</th>\n",
              "      <th>meta</th>\n",
              "      <th>year</th>\n",
              "      <th>meta_author</th>\n",
              "      <th>decade</th>\n",
              "    </tr>\n",
              "  </thead>\n",
              "  <tbody>\n",
              "    <tr>\n",
              "      <th>0</th>\n",
              "      <td>1588345297</td>\n",
              "      <td>1588345297.jpg</td>\n",
              "      <td>With Schwarzkopf: Life Lessons of The Bear</td>\n",
              "      <td>Gus Lee</td>\n",
              "      <td>1</td>\n",
              "      <td>Biographies &amp; Memoirs</td>\n",
              "      <td>{\"ISBN-13\": \"9781588345295\", \"Title\": \"With Sc...</td>\n",
              "      <td>2015</td>\n",
              "      <td>Gus Lee</td>\n",
              "      <td>2010</td>\n",
              "    </tr>\n",
              "    <tr>\n",
              "      <th>1</th>\n",
              "      <td>1404803335</td>\n",
              "      <td>1404803335.jpg</td>\n",
              "      <td>Magnets: Pulling Together, Pushing Apart (Amaz...</td>\n",
              "      <td>Natalie M. Rosinsky</td>\n",
              "      <td>4</td>\n",
              "      <td>Children's Books</td>\n",
              "      <td>{\"ISBN-13\": \"9781404803336\", \"Title\": \"Magnets...</td>\n",
              "      <td>2002</td>\n",
              "      <td>Natalie M. Rosinsky</td>\n",
              "      <td>2000</td>\n",
              "    </tr>\n",
              "    <tr>\n",
              "      <th>2</th>\n",
              "      <td>471310115</td>\n",
              "      <td>0471310115.jpg</td>\n",
              "      <td>Janice VanCleave's 201 Awesome, Magical, Bizar...</td>\n",
              "      <td>Janice VanCleave</td>\n",
              "      <td>4</td>\n",
              "      <td>Children's Books</td>\n",
              "      <td>{\"ISBN-13\": \"9780471310112\", \"Title\": \"Janice ...</td>\n",
              "      <td>1994</td>\n",
              "      <td>Janice VanCleave</td>\n",
              "      <td>1990</td>\n",
              "    </tr>\n",
              "  </tbody>\n",
              "</table>\n",
              "</div>\n",
              "      <button class=\"colab-df-convert\" onclick=\"convertToInteractive('df-30650587-1ddf-4f33-876b-ab507df80039')\"\n",
              "              title=\"Convert this dataframe to an interactive table.\"\n",
              "              style=\"display:none;\">\n",
              "        \n",
              "  <svg xmlns=\"http://www.w3.org/2000/svg\" height=\"24px\"viewBox=\"0 0 24 24\"\n",
              "       width=\"24px\">\n",
              "    <path d=\"M0 0h24v24H0V0z\" fill=\"none\"/>\n",
              "    <path d=\"M18.56 5.44l.94 2.06.94-2.06 2.06-.94-2.06-.94-.94-2.06-.94 2.06-2.06.94zm-11 1L8.5 8.5l.94-2.06 2.06-.94-2.06-.94L8.5 2.5l-.94 2.06-2.06.94zm10 10l.94 2.06.94-2.06 2.06-.94-2.06-.94-.94-2.06-.94 2.06-2.06.94z\"/><path d=\"M17.41 7.96l-1.37-1.37c-.4-.4-.92-.59-1.43-.59-.52 0-1.04.2-1.43.59L10.3 9.45l-7.72 7.72c-.78.78-.78 2.05 0 2.83L4 21.41c.39.39.9.59 1.41.59.51 0 1.02-.2 1.41-.59l7.78-7.78 2.81-2.81c.8-.78.8-2.07 0-2.86zM5.41 20L4 18.59l7.72-7.72 1.47 1.35L5.41 20z\"/>\n",
              "  </svg>\n",
              "      </button>\n",
              "      \n",
              "  <style>\n",
              "    .colab-df-container {\n",
              "      display:flex;\n",
              "      flex-wrap:wrap;\n",
              "      gap: 12px;\n",
              "    }\n",
              "\n",
              "    .colab-df-convert {\n",
              "      background-color: #E8F0FE;\n",
              "      border: none;\n",
              "      border-radius: 50%;\n",
              "      cursor: pointer;\n",
              "      display: none;\n",
              "      fill: #1967D2;\n",
              "      height: 32px;\n",
              "      padding: 0 0 0 0;\n",
              "      width: 32px;\n",
              "    }\n",
              "\n",
              "    .colab-df-convert:hover {\n",
              "      background-color: #E2EBFA;\n",
              "      box-shadow: 0px 1px 2px rgba(60, 64, 67, 0.3), 0px 1px 3px 1px rgba(60, 64, 67, 0.15);\n",
              "      fill: #174EA6;\n",
              "    }\n",
              "\n",
              "    [theme=dark] .colab-df-convert {\n",
              "      background-color: #3B4455;\n",
              "      fill: #D2E3FC;\n",
              "    }\n",
              "\n",
              "    [theme=dark] .colab-df-convert:hover {\n",
              "      background-color: #434B5C;\n",
              "      box-shadow: 0px 1px 3px 1px rgba(0, 0, 0, 0.15);\n",
              "      filter: drop-shadow(0px 1px 2px rgba(0, 0, 0, 0.3));\n",
              "      fill: #FFFFFF;\n",
              "    }\n",
              "  </style>\n",
              "\n",
              "      <script>\n",
              "        const buttonEl =\n",
              "          document.querySelector('#df-30650587-1ddf-4f33-876b-ab507df80039 button.colab-df-convert');\n",
              "        buttonEl.style.display =\n",
              "          google.colab.kernel.accessAllowed ? 'block' : 'none';\n",
              "\n",
              "        async function convertToInteractive(key) {\n",
              "          const element = document.querySelector('#df-30650587-1ddf-4f33-876b-ab507df80039');\n",
              "          const dataTable =\n",
              "            await google.colab.kernel.invokeFunction('convertToInteractive',\n",
              "                                                     [key], {});\n",
              "          if (!dataTable) return;\n",
              "\n",
              "          const docLinkHtml = 'Like what you see? Visit the ' +\n",
              "            '<a target=\"_blank\" href=https://colab.research.google.com/notebooks/data_table.ipynb>data table notebook</a>'\n",
              "            + ' to learn more about interactive tables.';\n",
              "          element.innerHTML = '';\n",
              "          dataTable['output_type'] = 'display_data';\n",
              "          await google.colab.output.renderOutput(dataTable, element);\n",
              "          const docLink = document.createElement('div');\n",
              "          docLink.innerHTML = docLinkHtml;\n",
              "          element.appendChild(docLink);\n",
              "        }\n",
              "      </script>\n",
              "    </div>\n",
              "  </div>\n",
              "  "
            ]
          },
          "metadata": {},
          "execution_count": 5
        }
      ]
    },
    {
      "cell_type": "code",
      "source": [
        "test.head(3)"
      ],
      "metadata": {
        "colab": {
          "base_uri": "https://localhost:8080/",
          "height": 240
        },
        "id": "EANUYynrHmIW",
        "outputId": "cf5123b4-93a0-4b46-ec2a-a486169a6890"
      },
      "execution_count": 6,
      "outputs": [
        {
          "output_type": "execute_result",
          "data": {
            "text/plain": [
              "  amazon_index        filename  \\\n",
              "0     60750715  0060750715.jpg   \n",
              "1    312556411  0312556411.jpg   \n",
              "2    545700272  0545700272.jpg   \n",
              "\n",
              "                                               title           author  \\\n",
              "0  George Balanchine: The Ballet Maker (Eminent L...  Robert Gottlieb   \n",
              "1  Literature and Its Writers: A Compact Introduc...     Ann Charters   \n",
              "2                                 A Handful of Stars     Cynthia Lord   \n",
              "\n",
              "   category_id               category  \\\n",
              "0            1  Biographies & Memoirs   \n",
              "1           15   Literature & Fiction   \n",
              "2            4       Children's Books   \n",
              "\n",
              "                                                meta  year      meta_author  \\\n",
              "0  {\"ISBN-13\": \"9780060750701\", \"Title\": \"George ...  2004  Robert Gottlieb   \n",
              "1  {\"ISBN-13\": \"9781457606472\", \"Title\": \"Literat...  2012     Ann Charters   \n",
              "2  {\"ISBN-13\": \"9780545700283\", \"Title\": \"A Handf...  2017     Cynthia Lord   \n",
              "\n",
              "   decade  \n",
              "0    2000  \n",
              "1    2010  \n",
              "2    2010  "
            ],
            "text/html": [
              "\n",
              "  <div id=\"df-90f4be6a-214e-405a-ba40-d08c78501394\">\n",
              "    <div class=\"colab-df-container\">\n",
              "      <div>\n",
              "<style scoped>\n",
              "    .dataframe tbody tr th:only-of-type {\n",
              "        vertical-align: middle;\n",
              "    }\n",
              "\n",
              "    .dataframe tbody tr th {\n",
              "        vertical-align: top;\n",
              "    }\n",
              "\n",
              "    .dataframe thead th {\n",
              "        text-align: right;\n",
              "    }\n",
              "</style>\n",
              "<table border=\"1\" class=\"dataframe\">\n",
              "  <thead>\n",
              "    <tr style=\"text-align: right;\">\n",
              "      <th></th>\n",
              "      <th>amazon_index</th>\n",
              "      <th>filename</th>\n",
              "      <th>title</th>\n",
              "      <th>author</th>\n",
              "      <th>category_id</th>\n",
              "      <th>category</th>\n",
              "      <th>meta</th>\n",
              "      <th>year</th>\n",
              "      <th>meta_author</th>\n",
              "      <th>decade</th>\n",
              "    </tr>\n",
              "  </thead>\n",
              "  <tbody>\n",
              "    <tr>\n",
              "      <th>0</th>\n",
              "      <td>60750715</td>\n",
              "      <td>0060750715.jpg</td>\n",
              "      <td>George Balanchine: The Ballet Maker (Eminent L...</td>\n",
              "      <td>Robert Gottlieb</td>\n",
              "      <td>1</td>\n",
              "      <td>Biographies &amp; Memoirs</td>\n",
              "      <td>{\"ISBN-13\": \"9780060750701\", \"Title\": \"George ...</td>\n",
              "      <td>2004</td>\n",
              "      <td>Robert Gottlieb</td>\n",
              "      <td>2000</td>\n",
              "    </tr>\n",
              "    <tr>\n",
              "      <th>1</th>\n",
              "      <td>312556411</td>\n",
              "      <td>0312556411.jpg</td>\n",
              "      <td>Literature and Its Writers: A Compact Introduc...</td>\n",
              "      <td>Ann Charters</td>\n",
              "      <td>15</td>\n",
              "      <td>Literature &amp; Fiction</td>\n",
              "      <td>{\"ISBN-13\": \"9781457606472\", \"Title\": \"Literat...</td>\n",
              "      <td>2012</td>\n",
              "      <td>Ann Charters</td>\n",
              "      <td>2010</td>\n",
              "    </tr>\n",
              "    <tr>\n",
              "      <th>2</th>\n",
              "      <td>545700272</td>\n",
              "      <td>0545700272.jpg</td>\n",
              "      <td>A Handful of Stars</td>\n",
              "      <td>Cynthia Lord</td>\n",
              "      <td>4</td>\n",
              "      <td>Children's Books</td>\n",
              "      <td>{\"ISBN-13\": \"9780545700283\", \"Title\": \"A Handf...</td>\n",
              "      <td>2017</td>\n",
              "      <td>Cynthia Lord</td>\n",
              "      <td>2010</td>\n",
              "    </tr>\n",
              "  </tbody>\n",
              "</table>\n",
              "</div>\n",
              "      <button class=\"colab-df-convert\" onclick=\"convertToInteractive('df-90f4be6a-214e-405a-ba40-d08c78501394')\"\n",
              "              title=\"Convert this dataframe to an interactive table.\"\n",
              "              style=\"display:none;\">\n",
              "        \n",
              "  <svg xmlns=\"http://www.w3.org/2000/svg\" height=\"24px\"viewBox=\"0 0 24 24\"\n",
              "       width=\"24px\">\n",
              "    <path d=\"M0 0h24v24H0V0z\" fill=\"none\"/>\n",
              "    <path d=\"M18.56 5.44l.94 2.06.94-2.06 2.06-.94-2.06-.94-.94-2.06-.94 2.06-2.06.94zm-11 1L8.5 8.5l.94-2.06 2.06-.94-2.06-.94L8.5 2.5l-.94 2.06-2.06.94zm10 10l.94 2.06.94-2.06 2.06-.94-2.06-.94-.94-2.06-.94 2.06-2.06.94z\"/><path d=\"M17.41 7.96l-1.37-1.37c-.4-.4-.92-.59-1.43-.59-.52 0-1.04.2-1.43.59L10.3 9.45l-7.72 7.72c-.78.78-.78 2.05 0 2.83L4 21.41c.39.39.9.59 1.41.59.51 0 1.02-.2 1.41-.59l7.78-7.78 2.81-2.81c.8-.78.8-2.07 0-2.86zM5.41 20L4 18.59l7.72-7.72 1.47 1.35L5.41 20z\"/>\n",
              "  </svg>\n",
              "      </button>\n",
              "      \n",
              "  <style>\n",
              "    .colab-df-container {\n",
              "      display:flex;\n",
              "      flex-wrap:wrap;\n",
              "      gap: 12px;\n",
              "    }\n",
              "\n",
              "    .colab-df-convert {\n",
              "      background-color: #E8F0FE;\n",
              "      border: none;\n",
              "      border-radius: 50%;\n",
              "      cursor: pointer;\n",
              "      display: none;\n",
              "      fill: #1967D2;\n",
              "      height: 32px;\n",
              "      padding: 0 0 0 0;\n",
              "      width: 32px;\n",
              "    }\n",
              "\n",
              "    .colab-df-convert:hover {\n",
              "      background-color: #E2EBFA;\n",
              "      box-shadow: 0px 1px 2px rgba(60, 64, 67, 0.3), 0px 1px 3px 1px rgba(60, 64, 67, 0.15);\n",
              "      fill: #174EA6;\n",
              "    }\n",
              "\n",
              "    [theme=dark] .colab-df-convert {\n",
              "      background-color: #3B4455;\n",
              "      fill: #D2E3FC;\n",
              "    }\n",
              "\n",
              "    [theme=dark] .colab-df-convert:hover {\n",
              "      background-color: #434B5C;\n",
              "      box-shadow: 0px 1px 3px 1px rgba(0, 0, 0, 0.15);\n",
              "      filter: drop-shadow(0px 1px 2px rgba(0, 0, 0, 0.3));\n",
              "      fill: #FFFFFF;\n",
              "    }\n",
              "  </style>\n",
              "\n",
              "      <script>\n",
              "        const buttonEl =\n",
              "          document.querySelector('#df-90f4be6a-214e-405a-ba40-d08c78501394 button.colab-df-convert');\n",
              "        buttonEl.style.display =\n",
              "          google.colab.kernel.accessAllowed ? 'block' : 'none';\n",
              "\n",
              "        async function convertToInteractive(key) {\n",
              "          const element = document.querySelector('#df-90f4be6a-214e-405a-ba40-d08c78501394');\n",
              "          const dataTable =\n",
              "            await google.colab.kernel.invokeFunction('convertToInteractive',\n",
              "                                                     [key], {});\n",
              "          if (!dataTable) return;\n",
              "\n",
              "          const docLinkHtml = 'Like what you see? Visit the ' +\n",
              "            '<a target=\"_blank\" href=https://colab.research.google.com/notebooks/data_table.ipynb>data table notebook</a>'\n",
              "            + ' to learn more about interactive tables.';\n",
              "          element.innerHTML = '';\n",
              "          dataTable['output_type'] = 'display_data';\n",
              "          await google.colab.output.renderOutput(dataTable, element);\n",
              "          const docLink = document.createElement('div');\n",
              "          docLink.innerHTML = docLinkHtml;\n",
              "          element.appendChild(docLink);\n",
              "        }\n",
              "      </script>\n",
              "    </div>\n",
              "  </div>\n",
              "  "
            ]
          },
          "metadata": {},
          "execution_count": 6
        }
      ]
    },
    {
      "cell_type": "code",
      "source": [
        "train['decade'] = train['decade'].astype('str')"
      ],
      "metadata": {
        "id": "SixEr-ZMITHn"
      },
      "execution_count": 7,
      "outputs": []
    },
    {
      "cell_type": "code",
      "source": [
        "test['decade'] = test['decade'].astype('str')"
      ],
      "metadata": {
        "id": "HjbJ63eJIbUP"
      },
      "execution_count": 8,
      "outputs": []
    },
    {
      "cell_type": "markdown",
      "source": [
        "### Baseline Model"
      ],
      "metadata": {
        "id": "erOrKs2bH3Xh"
      }
    },
    {
      "cell_type": "code",
      "source": [
        "train['decade'].value_counts(normalize=True)"
      ],
      "metadata": {
        "colab": {
          "base_uri": "https://localhost:8080/"
        },
        "id": "xbhGe6xlHot2",
        "outputId": "ff960c94-4bbd-4ddd-8c60-5f6e945c4dd7"
      },
      "execution_count": null,
      "outputs": [
        {
          "output_type": "execute_result",
          "data": {
            "text/plain": [
              "2010    0.585719\n",
              "2000    0.251179\n",
              "1990    0.126577\n",
              "1980    0.026544\n",
              "2020    0.009981\n",
              "Name: decade, dtype: float64"
            ]
          },
          "metadata": {},
          "execution_count": 19
        }
      ]
    },
    {
      "cell_type": "code",
      "source": [
        "test['decade'].value_counts(normalize=True)"
      ],
      "metadata": {
        "colab": {
          "base_uri": "https://localhost:8080/"
        },
        "id": "uiGAY7pdrLNq",
        "outputId": "24e485b0-871e-4957-9d55-878b6d596ebe"
      },
      "execution_count": null,
      "outputs": [
        {
          "output_type": "execute_result",
          "data": {
            "text/plain": [
              "2010    0.591398\n",
              "2000    0.258065\n",
              "1990    0.123167\n",
              "1980    0.021505\n",
              "2020    0.005865\n",
              "Name: decade, dtype: float64"
            ]
          },
          "metadata": {},
          "execution_count": 16
        }
      ]
    },
    {
      "cell_type": "markdown",
      "source": [
        "#### Importing Images"
      ],
      "metadata": {
        "id": "f-Rn4gwyIBxU"
      }
    },
    {
      "cell_type": "code",
      "source": [
        "datagen = ImageDataGenerator(rescale=1/255)"
      ],
      "metadata": {
        "id": "Bm2A3X9pH8uJ"
      },
      "execution_count": 9,
      "outputs": []
    },
    {
      "cell_type": "code",
      "source": [
        "train_gen = datagen.flow_from_dataframe(\n",
        "    dataframe=train,\n",
        "    directory='/content/224x224',\n",
        "    x_col='filename',\n",
        "    y_col='decade',\n",
        "    class_mode='categorical',\n",
        "    target_size=(256,256)\n",
        ")\n",
        "\n",
        "test_gen = datagen.flow_from_dataframe(\n",
        "    dataframe=test,\n",
        "    directory='/content/224x224',\n",
        "    x_col='filename',\n",
        "    y_col='decade',\n",
        "    class_mode='categorical',\n",
        "    target_size=(256,256)\n",
        ")"
      ],
      "metadata": {
        "colab": {
          "base_uri": "https://localhost:8080/"
        },
        "id": "nBy2akA7IJOw",
        "outputId": "f99e2f02-545c-4e99-af28-c59f242e9452"
      },
      "execution_count": 10,
      "outputs": [
        {
          "output_type": "stream",
          "name": "stdout",
          "text": [
            "Found 9117 validated image filenames belonging to 5 classes.\n",
            "Found 1023 validated image filenames belonging to 5 classes.\n"
          ]
        }
      ]
    },
    {
      "cell_type": "markdown",
      "source": [
        "### First Model with 5 Categories"
      ],
      "metadata": {
        "id": "suL8PeptJC7M"
      }
    },
    {
      "cell_type": "code",
      "source": [
        "model1 = Sequential()\n",
        "model1.add(Conv2D(64,(3,3),activation='relu',input_shape=(256,256,3)))\n",
        "model1.add(MaxPooling2D(pool_size=(2,2)))\n",
        "\n",
        "model1.add(Conv2D(64,(3,3),activation='relu'))\n",
        "model1.add(MaxPooling2D(pool_size=(2,2)))\n",
        "\n",
        "model1.add(Flatten())\n",
        "model1.add(Dense(64,activation='relu'))\n",
        "model1.add(Dense(5,activation='softmax'))\n",
        "\n",
        "model1.compile(\n",
        "    optimizer ='adam',\n",
        "    loss = 'categorical_crossentropy',\n",
        "    metrics = ['accuracy']\n",
        ")"
      ],
      "metadata": {
        "id": "ChuLRkltIOFD"
      },
      "execution_count": null,
      "outputs": []
    },
    {
      "cell_type": "code",
      "source": [
        "history1 = model1.fit(\n",
        "    train_gen,\n",
        "    validation_data=test_gen,\n",
        "    epochs=10\n",
        ")"
      ],
      "metadata": {
        "colab": {
          "base_uri": "https://localhost:8080/"
        },
        "id": "MELRiJwpJRSg",
        "outputId": "440f6881-53b9-4543-bfc7-28af201ab28c"
      },
      "execution_count": null,
      "outputs": [
        {
          "output_type": "stream",
          "name": "stdout",
          "text": [
            "Epoch 1/10\n",
            "285/285 [==============================] - 29s 100ms/step - loss: 1.1825 - accuracy: 0.5831 - val_loss: 1.0370 - val_accuracy: 0.5934\n",
            "Epoch 2/10\n",
            "285/285 [==============================] - 29s 101ms/step - loss: 0.9636 - accuracy: 0.6088 - val_loss: 0.9934 - val_accuracy: 0.6022\n",
            "Epoch 3/10\n",
            "285/285 [==============================] - 28s 98ms/step - loss: 0.7372 - accuracy: 0.6905 - val_loss: 1.1270 - val_accuracy: 0.6109\n",
            "Epoch 4/10\n",
            "285/285 [==============================] - 28s 99ms/step - loss: 0.4203 - accuracy: 0.8339 - val_loss: 1.3565 - val_accuracy: 0.5816\n",
            "Epoch 5/10\n",
            "285/285 [==============================] - 28s 99ms/step - loss: 0.1920 - accuracy: 0.9323 - val_loss: 2.0378 - val_accuracy: 0.6188\n",
            "Epoch 6/10\n",
            "285/285 [==============================] - 28s 99ms/step - loss: 0.1002 - accuracy: 0.9701 - val_loss: 2.8634 - val_accuracy: 0.6168\n",
            "Epoch 7/10\n",
            "285/285 [==============================] - 28s 99ms/step - loss: 0.0629 - accuracy: 0.9834 - val_loss: 2.9983 - val_accuracy: 0.6139\n",
            "Epoch 8/10\n",
            "285/285 [==============================] - 28s 99ms/step - loss: 0.0439 - accuracy: 0.9882 - val_loss: 3.1261 - val_accuracy: 0.5503\n",
            "Epoch 9/10\n",
            "285/285 [==============================] - 28s 99ms/step - loss: 0.0529 - accuracy: 0.9856 - val_loss: 3.4554 - val_accuracy: 0.5767\n",
            "Epoch 10/10\n",
            "285/285 [==============================] - 28s 99ms/step - loss: 0.0310 - accuracy: 0.9914 - val_loss: 3.3757 - val_accuracy: 0.5934\n"
          ]
        }
      ]
    },
    {
      "cell_type": "code",
      "source": [
        "# https://stackoverflow.com/questions/50825936/confusion-matrix-on-images-in-cnn-keras\n",
        "# https://stackoverflow.com/questions/67303001/plot-confusion-matrix-with-keras-data-generator-using-sklearn\n",
        "\n",
        "test_steps_per_epoch = np.math.ceil(test_gen.samples / test_gen.batch_size)\n",
        "preds = model1.predict(test_gen, steps=test_steps_per_epoch)"
      ],
      "metadata": {
        "id": "2WgPjREerhW5"
      },
      "execution_count": null,
      "outputs": []
    },
    {
      "cell_type": "code",
      "source": [
        "ConfusionMatrixDisplay.from_predictions(test_gen.classes, np.argmax(preds, axis=1), display_labels=list(test_gen.class_indices.keys()));"
      ],
      "metadata": {
        "colab": {
          "base_uri": "https://localhost:8080/",
          "height": 279
        },
        "outputId": "52021541-f49e-4ec7-c274-cf6dd2977e26",
        "id": "rBGzqB6erhW6"
      },
      "execution_count": null,
      "outputs": [
        {
          "output_type": "display_data",
          "data": {
            "text/plain": [
              "<Figure size 432x288 with 2 Axes>"
            ],
            "image/png": "[encoded data removed]"
          },
          "metadata": {
            "needs_background": "light"
          }
        }
      ]
    },
    {
      "cell_type": "markdown",
      "source": [
        "### Adding Additional Conv2D and MaxPooling 2D Layers with Dropout and Early Stopping"
      ],
      "metadata": {
        "id": "TsOml8C2T4IZ"
      }
    },
    {
      "cell_type": "code",
      "source": [
        "model2 = Sequential()\n",
        "model2.add(Conv2D(64,(3,3),activation='relu',input_shape=(256,256,3)))\n",
        "model2.add(MaxPooling2D(pool_size=(2,2)))\n",
        "\n",
        "model2.add(Conv2D(64,(3,3),activation='relu'))\n",
        "model2.add(MaxPooling2D(pool_size=(2,2)))\n",
        "\n",
        "model2.add(Conv2D(64,(3,3),activation='relu'))\n",
        "model2.add(MaxPooling2D(pool_size=(2,2)))\n",
        "\n",
        "model2.add(Conv2D(64,(3,3),activation='relu'))\n",
        "model2.add(MaxPooling2D(pool_size=(2,2)))\n",
        "\n",
        "model2.add(Flatten())\n",
        "model2.add(Dense(64,activation='relu'))\n",
        "model2.add(Dropout(0.2))\n",
        "model2.add(Dense(5,activation='softmax'))\n",
        "\n",
        "model2.compile(\n",
        "    optimizer = Adam(learning_rate=.0001),\n",
        "    loss = 'categorical_crossentropy',\n",
        "    metrics = ['accuracy']\n",
        ")"
      ],
      "metadata": {
        "id": "OEMYnCZaJZSE"
      },
      "execution_count": null,
      "outputs": []
    },
    {
      "cell_type": "code",
      "source": [
        "early_stop = EarlyStopping(\n",
        "    monitor='val_loss',\n",
        "    min_delta=0,\n",
        "    patience=5,\n",
        "    verbose=1,\n",
        ")"
      ],
      "metadata": {
        "id": "fu4GEh43UHOT"
      },
      "execution_count": 11,
      "outputs": []
    },
    {
      "cell_type": "code",
      "source": [
        " history2 = model2.fit(\n",
        "    train_gen,\n",
        "    validation_data=test_gen,\n",
        "    epochs=10,\n",
        "    callbacks=[early_stop]\n",
        ")"
      ],
      "metadata": {
        "colab": {
          "base_uri": "https://localhost:8080/"
        },
        "id": "NxHUyFH0TpD9",
        "outputId": "623c6452-57fd-42eb-98ea-ef0938e55093"
      },
      "execution_count": null,
      "outputs": [
        {
          "output_type": "stream",
          "name": "stdout",
          "text": [
            "Epoch 1/10\n",
            "285/285 [==============================] - 43s 109ms/step - loss: 1.0944 - accuracy: 0.5785 - val_loss: 1.0244 - val_accuracy: 0.5914\n",
            "Epoch 2/10\n",
            "285/285 [==============================] - 29s 102ms/step - loss: 1.0603 - accuracy: 0.5813 - val_loss: 1.0172 - val_accuracy: 0.5914\n",
            "Epoch 3/10\n",
            "285/285 [==============================] - 29s 102ms/step - loss: 1.0444 - accuracy: 0.5853 - val_loss: 1.0372 - val_accuracy: 0.5806\n",
            "Epoch 4/10\n",
            "285/285 [==============================] - 29s 102ms/step - loss: 1.0301 - accuracy: 0.5870 - val_loss: 1.0014 - val_accuracy: 0.5924\n",
            "Epoch 5/10\n",
            "285/285 [==============================] - 29s 103ms/step - loss: 1.0132 - accuracy: 0.5904 - val_loss: 1.0029 - val_accuracy: 0.5865\n",
            "Epoch 6/10\n",
            "285/285 [==============================] - 29s 103ms/step - loss: 0.9867 - accuracy: 0.5999 - val_loss: 0.9967 - val_accuracy: 0.5855\n",
            "Epoch 7/10\n",
            "285/285 [==============================] - 30s 104ms/step - loss: 0.9570 - accuracy: 0.6084 - val_loss: 1.0072 - val_accuracy: 0.5533\n",
            "Epoch 8/10\n",
            "285/285 [==============================] - 30s 104ms/step - loss: 0.9160 - accuracy: 0.6254 - val_loss: 0.9920 - val_accuracy: 0.5543\n",
            "Epoch 9/10\n",
            "285/285 [==============================] - 30s 104ms/step - loss: 0.8798 - accuracy: 0.6388 - val_loss: 0.9846 - val_accuracy: 0.5914\n",
            "Epoch 10/10\n",
            "285/285 [==============================] - 30s 106ms/step - loss: 0.8370 - accuracy: 0.6544 - val_loss: 0.9779 - val_accuracy: 0.5709\n"
          ]
        }
      ]
    },
    {
      "cell_type": "code",
      "source": [
        "# https://stackoverflow.com/questions/50825936/confusion-matrix-on-images-in-cnn-keras\n",
        "# https://stackoverflow.com/questions/67303001/plot-confusion-matrix-with-keras-data-generator-using-sklearn\n",
        "\n",
        "test_steps_per_epoch = np.math.ceil(test_gen.samples / test_gen.batch_size)\n",
        "preds = model2.predict(test_gen, steps=test_steps_per_epoch)"
      ],
      "metadata": {
        "id": "W5mAEQ10rdfN"
      },
      "execution_count": null,
      "outputs": []
    },
    {
      "cell_type": "code",
      "source": [
        "ConfusionMatrixDisplay.from_predictions(test_gen.classes, np.argmax(preds, axis=1), display_labels=list(test_gen.class_indices.keys()));"
      ],
      "metadata": {
        "colab": {
          "base_uri": "https://localhost:8080/",
          "height": 279
        },
        "outputId": "13c21708-b8cf-40f3-90ea-0cf4d7c3814a",
        "id": "WAlFbHjZrdfU"
      },
      "execution_count": null,
      "outputs": [
        {
          "output_type": "display_data",
          "data": {
            "text/plain": [
              "<Figure size 432x288 with 2 Axes>"
            ],
            "image/png": "[encoded data removed]"
          },
          "metadata": {
            "needs_background": "light"
          }
        }
      ]
    },
    {
      "cell_type": "markdown",
      "source": [
        "#### Adding Extra Conv2D and MaxPooling2D Layer"
      ],
      "metadata": {
        "id": "5gS7Yh5dTDk3"
      }
    },
    {
      "cell_type": "code",
      "source": [
        "model3 = Sequential()\n",
        "model3.add(Conv2D(64,(3,3),activation='relu',input_shape=(256,256,3)))\n",
        "model3.add(MaxPooling2D(pool_size=(2,2)))\n",
        "\n",
        "model3.add(Conv2D(64,(3,3),activation='relu'))\n",
        "model3.add(MaxPooling2D(pool_size=(2,2)))\n",
        "\n",
        "model3.add(Conv2D(64,(3,3),activation='relu'))\n",
        "model3.add(MaxPooling2D(pool_size=(2,2)))\n",
        "\n",
        "model3.add(Flatten())\n",
        "model3.add(Dense(64,activation='relu'))\n",
        "model3.add(Dropout(0.2))\n",
        "model3.add(Dense(5,activation='softmax'))\n",
        "\n",
        "model3.compile(\n",
        "    optimizer = Adam(learning_rate=.0001),\n",
        "    loss = 'categorical_crossentropy',\n",
        "    metrics = ['accuracy']\n",
        ")"
      ],
      "metadata": {
        "id": "u9wRajyHULA1"
      },
      "execution_count": null,
      "outputs": []
    },
    {
      "cell_type": "code",
      "source": [
        "history3 = model3.fit(\n",
        "    train_gen,\n",
        "    validation_data=test_gen,\n",
        "    epochs=10,\n",
        "    callbacks=[early_stop]\n",
        ")"
      ],
      "metadata": {
        "colab": {
          "base_uri": "https://localhost:8080/"
        },
        "id": "9ez3WoxdV3pi",
        "outputId": "f48d1977-edd4-46ea-c105-7da8f58a9b0a"
      },
      "execution_count": null,
      "outputs": [
        {
          "output_type": "stream",
          "name": "stdout",
          "text": [
            "Epoch 1/10\n",
            "285/285 [==============================] - 30s 103ms/step - loss: 1.0735 - accuracy: 0.5809 - val_loss: 1.0301 - val_accuracy: 0.5914\n",
            "Epoch 2/10\n",
            "285/285 [==============================] - 29s 102ms/step - loss: 1.0356 - accuracy: 0.5825 - val_loss: 1.0151 - val_accuracy: 0.5924\n",
            "Epoch 3/10\n",
            "285/285 [==============================] - 29s 103ms/step - loss: 1.0012 - accuracy: 0.5922 - val_loss: 0.9955 - val_accuracy: 0.5894\n",
            "Epoch 4/10\n",
            "285/285 [==============================] - 29s 103ms/step - loss: 0.9534 - accuracy: 0.6063 - val_loss: 0.9812 - val_accuracy: 0.5767\n",
            "Epoch 5/10\n",
            "285/285 [==============================] - 29s 103ms/step - loss: 0.8892 - accuracy: 0.6290 - val_loss: 0.9997 - val_accuracy: 0.5855\n",
            "Epoch 6/10\n",
            "285/285 [==============================] - 30s 104ms/step - loss: 0.8056 - accuracy: 0.6644 - val_loss: 1.0141 - val_accuracy: 0.5826\n",
            "Epoch 7/10\n",
            "285/285 [==============================] - 30s 104ms/step - loss: 0.7155 - accuracy: 0.7063 - val_loss: 0.9805 - val_accuracy: 0.5875\n",
            "Epoch 8/10\n",
            "285/285 [==============================] - 30s 104ms/step - loss: 0.6138 - accuracy: 0.7502 - val_loss: 1.0262 - val_accuracy: 0.5787\n",
            "Epoch 9/10\n",
            "285/285 [==============================] - 30s 104ms/step - loss: 0.5028 - accuracy: 0.8002 - val_loss: 1.0650 - val_accuracy: 0.6022\n",
            "Epoch 10/10\n",
            "285/285 [==============================] - 30s 104ms/step - loss: 0.4092 - accuracy: 0.8423 - val_loss: 1.2049 - val_accuracy: 0.6119\n"
          ]
        }
      ]
    },
    {
      "cell_type": "code",
      "source": [
        "# https://stackoverflow.com/questions/50825936/confusion-matrix-on-images-in-cnn-keras\n",
        "# https://stackoverflow.com/questions/67303001/plot-confusion-matrix-with-keras-data-generator-using-sklearn\n",
        "\n",
        "test_steps_per_epoch = np.math.ceil(test_gen.samples / test_gen.batch_size)\n",
        "preds = model3.predict(test_gen, steps=test_steps_per_epoch)"
      ],
      "metadata": {
        "id": "tuSQD8n9n75o"
      },
      "execution_count": null,
      "outputs": []
    },
    {
      "cell_type": "code",
      "source": [
        "ConfusionMatrixDisplay.from_predictions(test_gen.classes, np.argmax(preds, axis=1), display_labels=list(test_gen.class_indices.keys()));"
      ],
      "metadata": {
        "colab": {
          "base_uri": "https://localhost:8080/",
          "height": 279
        },
        "id": "0ey3wFbdo466",
        "outputId": "4f12b276-5bc2-44a8-e4f4-f51135b80671"
      },
      "execution_count": null,
      "outputs": [
        {
          "output_type": "display_data",
          "data": {
            "text/plain": [
              "<Figure size 432x288 with 2 Axes>"
            ],
            "image/png": "[encoded data removed]"
          },
          "metadata": {
            "needs_background": "light"
          }
        }
      ]
    },
    {
      "cell_type": "markdown",
      "source": [
        "#### Changing neurons in layers"
      ],
      "metadata": {
        "id": "-H7obmQATc2F"
      }
    },
    {
      "cell_type": "code",
      "source": [
        "model4 = Sequential()\n",
        "model4.add(Conv2D(80,(3,3),activation='relu',input_shape=(256,256,3)))\n",
        "model4.add(MaxPooling2D(pool_size=(2,2)))\n",
        "\n",
        "model4.add(Conv2D(70,(3,3),activation='relu'))\n",
        "model4.add(MaxPooling2D(pool_size=(2,2)))\n",
        "\n",
        "model4.add(Conv2D(64,(3,3),activation='relu'))\n",
        "model4.add(MaxPooling2D(pool_size=(2,2)))\n",
        "\n",
        "model4.add(Flatten())\n",
        "model4.add(Dense(50,activation='relu'))\n",
        "model4.add(Dropout(0.2))\n",
        "model4.add(Dense(5,activation='softmax'))\n",
        "\n",
        "model4.compile(\n",
        "    optimizer = Adam(learning_rate=.0001),\n",
        "    loss = 'categorical_crossentropy',\n",
        "    metrics = ['accuracy']\n",
        ")"
      ],
      "metadata": {
        "id": "FDSiPIJFcP0H"
      },
      "execution_count": null,
      "outputs": []
    },
    {
      "cell_type": "code",
      "source": [
        "history4 = model4.fit(\n",
        "    train_gen,\n",
        "    validation_data=test_gen,\n",
        "    epochs=10,\n",
        "    callbacks=[early_stop]\n",
        ")"
      ],
      "metadata": {
        "colab": {
          "base_uri": "https://localhost:8080/"
        },
        "outputId": "e232d10c-d360-40f0-a54c-1a333c2ec982",
        "id": "Pyu4BjaFcP0N"
      },
      "execution_count": null,
      "outputs": [
        {
          "output_type": "stream",
          "name": "stdout",
          "text": [
            "Epoch 1/10\n",
            "285/285 [==============================] - 42s 141ms/step - loss: 1.0847 - accuracy: 0.5812 - val_loss: 1.0236 - val_accuracy: 0.5914\n",
            "Epoch 2/10\n",
            "285/285 [==============================] - 39s 135ms/step - loss: 1.0469 - accuracy: 0.5845 - val_loss: 1.0130 - val_accuracy: 0.5914\n",
            "Epoch 3/10\n",
            "285/285 [==============================] - 38s 135ms/step - loss: 1.0111 - accuracy: 0.5911 - val_loss: 1.0337 - val_accuracy: 0.5924\n",
            "Epoch 4/10\n",
            "285/285 [==============================] - 39s 135ms/step - loss: 0.9613 - accuracy: 0.6003 - val_loss: 1.0004 - val_accuracy: 0.5963\n",
            "Epoch 5/10\n",
            "285/285 [==============================] - 39s 136ms/step - loss: 0.9020 - accuracy: 0.6248 - val_loss: 0.9987 - val_accuracy: 0.5875\n",
            "Epoch 6/10\n",
            "285/285 [==============================] - 39s 136ms/step - loss: 0.8166 - accuracy: 0.6528 - val_loss: 1.0283 - val_accuracy: 0.5787\n",
            "Epoch 7/10\n",
            "285/285 [==============================] - 39s 136ms/step - loss: 0.7374 - accuracy: 0.6894 - val_loss: 0.9816 - val_accuracy: 0.5914\n",
            "Epoch 8/10\n",
            "285/285 [==============================] - 39s 138ms/step - loss: 0.6382 - accuracy: 0.7358 - val_loss: 1.0191 - val_accuracy: 0.5777\n",
            "Epoch 9/10\n",
            "285/285 [==============================] - 39s 137ms/step - loss: 0.5448 - accuracy: 0.7760 - val_loss: 1.0880 - val_accuracy: 0.6002\n",
            "Epoch 10/10\n",
            "285/285 [==============================] - 39s 137ms/step - loss: 0.4515 - accuracy: 0.8208 - val_loss: 1.1899 - val_accuracy: 0.5894\n"
          ]
        }
      ]
    },
    {
      "cell_type": "code",
      "source": [
        "# https://stackoverflow.com/questions/50825936/confusion-matrix-on-images-in-cnn-keras\n",
        "# https://stackoverflow.com/questions/67303001/plot-confusion-matrix-with-keras-data-generator-using-sklearn\n",
        "\n",
        "test_steps_per_epoch = np.math.ceil(test_gen.samples / test_gen.batch_size)\n",
        "preds = model4.predict(test_gen, steps=test_steps_per_epoch)"
      ],
      "metadata": {
        "id": "zdfqRMGDqXW4"
      },
      "execution_count": null,
      "outputs": []
    },
    {
      "cell_type": "code",
      "source": [
        "ConfusionMatrixDisplay.from_predictions(test_gen.classes, np.argmax(preds, axis=1), display_labels=list(test_gen.class_indices.keys()));"
      ],
      "metadata": {
        "colab": {
          "base_uri": "https://localhost:8080/",
          "height": 279
        },
        "outputId": "1a3bd780-fe37-4c75-d0b0-da4ee4d533ce",
        "id": "WyCGfychqXW-"
      },
      "execution_count": null,
      "outputs": [
        {
          "output_type": "display_data",
          "data": {
            "text/plain": [
              "<Figure size 432x288 with 2 Axes>"
            ],
            "image/png": "[encoded data removed]"
          },
          "metadata": {
            "needs_background": "light"
          }
        }
      ]
    },
    {
      "cell_type": "markdown",
      "source": [
        "### Data Augmentation"
      ],
      "metadata": {
        "id": "Vt9wBOl_R7bJ"
      }
    },
    {
      "cell_type": "code",
      "source": [
        "aug_train_gen = ImageDataGenerator(rescale=1/255, vertical_flip=True, rotation_range=20)\n",
        "aug_test_gen = ImageDataGenerator(rescale=1/225, vertical_flip=True, rotation_range=20)"
      ],
      "metadata": {
        "id": "atOqGYPGUeYs"
      },
      "execution_count": null,
      "outputs": []
    },
    {
      "cell_type": "code",
      "source": [
        "aug_train = aug_train_gen.flow_from_dataframe(\n",
        "    dataframe=train,\n",
        "    directory='/content/224x224',\n",
        "    x_col='filename',\n",
        "    y_col='decade',\n",
        "    class_mode='categorical'\n",
        ")\n",
        "\n",
        "aug_test = aug_test_gen.flow_from_dataframe(\n",
        "    dataframe=test,\n",
        "    directory='/content/224x224',\n",
        "    x_col='filename',\n",
        "    y_col='decade',\n",
        "    class_mode='categorical'\n",
        ")"
      ],
      "metadata": {
        "colab": {
          "base_uri": "https://localhost:8080/"
        },
        "id": "-VQKsTwwR-GQ",
        "outputId": "425b4072-0503-4e83-e4e7-ac2983e598a6"
      },
      "execution_count": null,
      "outputs": [
        {
          "output_type": "stream",
          "name": "stdout",
          "text": [
            "Found 9117 validated image filenames belonging to 5 classes.\n",
            "Found 1023 validated image filenames belonging to 5 classes.\n"
          ]
        }
      ]
    },
    {
      "cell_type": "code",
      "source": [
        "model5 = Sequential()\n",
        "model5.add(Conv2D(filters=16, kernel_size=(3,3), activation='relu'))\n",
        "model5.add(MaxPool2D(pool_size=(2,2)))\n",
        "\n",
        "model5.add(Flatten())\n",
        "model5.add(Dense(units=100, activation='relu'))\n",
        "model5.add(Dense(units=5, activation='softmax'))\n",
        "\n",
        "model5.compile(\n",
        "    optimizer = Adam(learning_rate=.0001),\n",
        "    loss = 'categorical_crossentropy',\n",
        "    metrics = ['accuracy']\n",
        ")"
      ],
      "metadata": {
        "id": "bER0DDK6STcK"
      },
      "execution_count": null,
      "outputs": []
    },
    {
      "cell_type": "code",
      "source": [
        "history5 = model5.fit(\n",
        "    aug_train,\n",
        "    batch_size=32,\n",
        "    validation_data=aug_test,\n",
        "    epochs=10,\n",
        "    callbacks=[early_stop]\n",
        ")"
      ],
      "metadata": {
        "colab": {
          "base_uri": "https://localhost:8080/"
        },
        "id": "cufjYeGOTQHr",
        "outputId": "f44bf6f8-69ac-4bdc-aed0-e5755286aaed"
      },
      "execution_count": null,
      "outputs": [
        {
          "output_type": "stream",
          "name": "stdout",
          "text": [
            "Epoch 1/10\n",
            "285/285 [==============================] - 134s 468ms/step - loss: 1.3456 - accuracy: 0.5267 - val_loss: 1.1161 - val_accuracy: 0.5083\n",
            "Epoch 2/10\n",
            "285/285 [==============================] - 133s 467ms/step - loss: 1.1202 - accuracy: 0.5662 - val_loss: 1.2249 - val_accuracy: 0.5914\n",
            "Epoch 3/10\n",
            "285/285 [==============================] - 132s 462ms/step - loss: 1.0655 - accuracy: 0.5767 - val_loss: 1.0842 - val_accuracy: 0.5894\n",
            "Epoch 4/10\n",
            "285/285 [==============================] - 133s 467ms/step - loss: 1.0550 - accuracy: 0.5795 - val_loss: 1.0268 - val_accuracy: 0.6012\n",
            "Epoch 5/10\n",
            "285/285 [==============================] - 132s 465ms/step - loss: 1.0332 - accuracy: 0.5905 - val_loss: 1.0258 - val_accuracy: 0.5973\n",
            "Epoch 6/10\n",
            "285/285 [==============================] - 132s 464ms/step - loss: 1.0247 - accuracy: 0.5960 - val_loss: 1.0498 - val_accuracy: 0.5455\n",
            "Epoch 7/10\n",
            "285/285 [==============================] - 134s 470ms/step - loss: 1.0173 - accuracy: 0.5970 - val_loss: 1.0293 - val_accuracy: 0.5943\n",
            "Epoch 8/10\n",
            "285/285 [==============================] - 132s 463ms/step - loss: 1.0094 - accuracy: 0.6012 - val_loss: 1.0345 - val_accuracy: 0.5963\n",
            "Epoch 9/10\n",
            "285/285 [==============================] - 133s 467ms/step - loss: 0.9984 - accuracy: 0.6013 - val_loss: 1.0261 - val_accuracy: 0.5963\n",
            "Epoch 10/10\n",
            "285/285 [==============================] - 143s 501ms/step - loss: 0.9932 - accuracy: 0.6052 - val_loss: 1.0285 - val_accuracy: 0.5934\n",
            "Epoch 10: early stopping\n"
          ]
        }
      ]
    },
    {
      "cell_type": "code",
      "source": [
        "# https://stackoverflow.com/questions/50825936/confusion-matrix-on-images-in-cnn-keras\n",
        "# https://stackoverflow.com/questions/67303001/plot-confusion-matrix-with-keras-data-generator-using-sklearn\n",
        "\n",
        "test_steps_per_epoch = np.math.ceil(aug_test.samples / aug_test.batch_size)\n",
        "preds = model5.predict(aug_test, steps=test_steps_per_epoch)"
      ],
      "metadata": {
        "id": "yD1R9ha-qkGz"
      },
      "execution_count": null,
      "outputs": []
    },
    {
      "cell_type": "code",
      "source": [
        "ConfusionMatrixDisplay.from_predictions(aug_test.classes, np.argmax(preds, axis=1), display_labels=list(aug_test.class_indices.keys()));"
      ],
      "metadata": {
        "colab": {
          "base_uri": "https://localhost:8080/",
          "height": 279
        },
        "outputId": "290d15dc-2d55-417a-99b6-08e6123a0c1c",
        "id": "ZliUPZ9CqkG6"
      },
      "execution_count": null,
      "outputs": [
        {
          "output_type": "display_data",
          "data": {
            "text/plain": [
              "<Figure size 432x288 with 2 Axes>"
            ],
            "image/png": "[encoded data removed]"
          },
          "metadata": {
            "needs_background": "light"
          }
        }
      ]
    },
    {
      "cell_type": "markdown",
      "source": [
        "#### Data Augmentation - Adding Additional Conv2D and MaxPool2D Layer"
      ],
      "metadata": {
        "id": "kbBxGdU2UsCV"
      }
    },
    {
      "cell_type": "code",
      "source": [
        "model6 = Sequential()\n",
        "model6.add(Conv2D(filters=64, kernel_size=(3,3), activation='relu'))\n",
        "model6.add(MaxPool2D(pool_size=(2,2)))\n",
        "\n",
        "model6.add(Conv2D(filters=64, kernel_size=(3,3), activation='relu'))\n",
        "model6.add(MaxPool2D(pool_size=(2,2)))\n",
        "\n",
        "model6.add(Flatten())\n",
        "model6.add(Dense(units=100, activation='relu'))\n",
        "model6.add(Dense(units=5, activation='softmax'))\n",
        "\n",
        "model6.compile(\n",
        "    optimizer = Adam(learning_rate=.0001),\n",
        "    loss = 'categorical_crossentropy',\n",
        "    metrics = ['accuracy']\n",
        ")"
      ],
      "metadata": {
        "id": "1uaDxdzvUYGH"
      },
      "execution_count": null,
      "outputs": []
    },
    {
      "cell_type": "code",
      "source": [
        "history6 = model6.fit(\n",
        "    aug_train,\n",
        "    batch_size=32,\n",
        "    validation_data=aug_test,\n",
        "    epochs=10,\n",
        "    callbacks=[early_stop]\n",
        ")"
      ],
      "metadata": {
        "colab": {
          "base_uri": "https://localhost:8080/"
        },
        "outputId": "a994c3da-41ef-4147-af63-a637de4c26bd",
        "id": "uZ5d-O59UYGN"
      },
      "execution_count": null,
      "outputs": [
        {
          "output_type": "stream",
          "name": "stdout",
          "text": [
            "Epoch 1/10\n",
            "285/285 [==============================] - 144s 503ms/step - loss: 1.0936 - accuracy: 0.5758 - val_loss: 1.0748 - val_accuracy: 0.5914\n",
            "Epoch 2/10\n",
            "285/285 [==============================] - 139s 489ms/step - loss: 1.0449 - accuracy: 0.5877 - val_loss: 1.0282 - val_accuracy: 0.5953\n",
            "Epoch 3/10\n",
            "285/285 [==============================] - 141s 494ms/step - loss: 1.0420 - accuracy: 0.5836 - val_loss: 1.0461 - val_accuracy: 0.5914\n",
            "Epoch 4/10\n",
            "285/285 [==============================] - 140s 489ms/step - loss: 1.0157 - accuracy: 0.5930 - val_loss: 1.0235 - val_accuracy: 0.5953\n",
            "Epoch 5/10\n",
            "285/285 [==============================] - 141s 496ms/step - loss: 1.0084 - accuracy: 0.5949 - val_loss: 1.0178 - val_accuracy: 0.5865\n",
            "Epoch 6/10\n",
            "285/285 [==============================] - 140s 490ms/step - loss: 0.9913 - accuracy: 0.6017 - val_loss: 1.0145 - val_accuracy: 0.5904\n",
            "Epoch 7/10\n",
            "285/285 [==============================] - 140s 490ms/step - loss: 0.9814 - accuracy: 0.6058 - val_loss: 1.0325 - val_accuracy: 0.5904\n",
            "Epoch 8/10\n",
            "285/285 [==============================] - 140s 491ms/step - loss: 0.9655 - accuracy: 0.6089 - val_loss: 1.0573 - val_accuracy: 0.5797\n",
            "Epoch 9/10\n",
            "285/285 [==============================] - 140s 490ms/step - loss: 0.9522 - accuracy: 0.6169 - val_loss: 1.0163 - val_accuracy: 0.5660\n",
            "Epoch 10/10\n",
            "285/285 [==============================] - 141s 493ms/step - loss: 0.9374 - accuracy: 0.6201 - val_loss: 1.0262 - val_accuracy: 0.5777\n"
          ]
        }
      ]
    },
    {
      "cell_type": "code",
      "source": [
        "# https://stackoverflow.com/questions/50825936/confusion-matrix-on-images-in-cnn-keras\n",
        "# https://stackoverflow.com/questions/67303001/plot-confusion-matrix-with-keras-data-generator-using-sklearn\n",
        "\n",
        "test_steps_per_epoch = np.math.ceil(aug_test.samples / aug_test.batch_size)\n",
        "preds = model6.predict(aug_test, steps=test_steps_per_epoch)"
      ],
      "metadata": {
        "id": "gwvpi_r6qy69"
      },
      "execution_count": null,
      "outputs": []
    },
    {
      "cell_type": "code",
      "source": [
        "ConfusionMatrixDisplay.from_predictions(aug_test.classes, np.argmax(preds, axis=1), display_labels=list(aug_test.class_indices.keys()));"
      ],
      "metadata": {
        "colab": {
          "base_uri": "https://localhost:8080/",
          "height": 279
        },
        "outputId": "2c79069f-51be-4f9f-f825-fb3cb3e8ee45",
        "id": "2u9Wyt0Bqy7E"
      },
      "execution_count": null,
      "outputs": [
        {
          "output_type": "display_data",
          "data": {
            "text/plain": [
              "<Figure size 432x288 with 2 Axes>"
            ],
            "image/png": "[encoded data removed]"
          },
          "metadata": {
            "needs_background": "light"
          }
        }
      ]
    },
    {
      "cell_type": "code",
      "source": [
        "model7 = Sequential()\n",
        "model7.add(Conv2D(filters=64, kernel_size=(3,3), activation='relu'))\n",
        "model7.add(MaxPool2D(pool_size=(2,2)))\n",
        "\n",
        "model7.add(Conv2D(filters=64, kernel_size=(3,3), activation='relu'))\n",
        "model7.add(MaxPool2D(pool_size=(2,2)))\n",
        "\n",
        "model7.add(Flatten())\n",
        "model7.add(Dense(units=100, activation='relu'))\n",
        "model7.add(Dense(units=5, activation='softmax'))\n",
        "\n",
        "model7.compile(\n",
        "    optimizer = 'adam',\n",
        "    loss = 'categorical_crossentropy',\n",
        "    metrics = ['accuracy']\n",
        ")"
      ],
      "metadata": {
        "id": "dbkkfgCGWAfG"
      },
      "execution_count": null,
      "outputs": []
    },
    {
      "cell_type": "code",
      "source": [
        "history7 = model7.fit(\n",
        "    aug_train,\n",
        "    batch_size=32,\n",
        "    validation_data=aug_test,\n",
        "    epochs=10,\n",
        "    callbacks=[early_stop]\n",
        ")"
      ],
      "metadata": {
        "colab": {
          "base_uri": "https://localhost:8080/"
        },
        "outputId": "62285544-e749-43e3-d39e-aea27ad5a6b1",
        "id": "RFl-tEroWAfH"
      },
      "execution_count": null,
      "outputs": [
        {
          "output_type": "stream",
          "name": "stdout",
          "text": [
            "Epoch 1/10\n",
            "285/285 [==============================] - 157s 548ms/step - loss: 1.2155 - accuracy: 0.5737 - val_loss: 1.1038 - val_accuracy: 0.5396\n",
            "Epoch 2/10\n",
            "285/285 [==============================] - 141s 495ms/step - loss: 1.0718 - accuracy: 0.5837 - val_loss: 1.0541 - val_accuracy: 0.5885\n",
            "Epoch 3/10\n",
            "285/285 [==============================] - 141s 496ms/step - loss: 1.0552 - accuracy: 0.5854 - val_loss: 1.0674 - val_accuracy: 0.5836\n",
            "Epoch 4/10\n",
            "285/285 [==============================] - 143s 502ms/step - loss: 1.0430 - accuracy: 0.5884 - val_loss: 1.0273 - val_accuracy: 0.5894\n",
            "Epoch 5/10\n",
            "285/285 [==============================] - 142s 497ms/step - loss: 1.0306 - accuracy: 0.5915 - val_loss: 1.0275 - val_accuracy: 0.5855\n",
            "Epoch 6/10\n",
            "285/285 [==============================] - 140s 490ms/step - loss: 1.0204 - accuracy: 0.5913 - val_loss: 1.0608 - val_accuracy: 0.5797\n",
            "Epoch 7/10\n",
            "285/285 [==============================] - 140s 492ms/step - loss: 1.0128 - accuracy: 0.5947 - val_loss: 1.0182 - val_accuracy: 0.6080\n",
            "Epoch 8/10\n",
            "285/285 [==============================] - 140s 490ms/step - loss: 1.0002 - accuracy: 0.5979 - val_loss: 1.0291 - val_accuracy: 0.6061\n",
            "Epoch 9/10\n",
            "285/285 [==============================] - 140s 491ms/step - loss: 0.9863 - accuracy: 0.5976 - val_loss: 1.0320 - val_accuracy: 0.5992\n",
            "Epoch 10/10\n",
            "285/285 [==============================] - 141s 495ms/step - loss: 0.9767 - accuracy: 0.6066 - val_loss: 1.0334 - val_accuracy: 0.5924\n"
          ]
        }
      ]
    },
    {
      "cell_type": "code",
      "source": [
        "# https://stackoverflow.com/questions/50825936/confusion-matrix-on-images-in-cnn-keras\n",
        "# https://stackoverflow.com/questions/67303001/plot-confusion-matrix-with-keras-data-generator-using-sklearn\n",
        "\n",
        "test_steps_per_epoch = np.math.ceil(aug_test.samples / aug_test.batch_size)\n",
        "preds = model7.predict(aug_test, steps=test_steps_per_epoch)"
      ],
      "metadata": {
        "id": "594dh0hwq_NK"
      },
      "execution_count": null,
      "outputs": []
    },
    {
      "cell_type": "code",
      "source": [
        "ConfusionMatrixDisplay.from_predictions(aug_test.classes, np.argmax(preds, axis=1), display_labels=list(aug_test.class_indices.keys()));"
      ],
      "metadata": {
        "colab": {
          "base_uri": "https://localhost:8080/",
          "height": 279
        },
        "outputId": "86ac9615-6933-41d1-b4f5-817ac052dcba",
        "id": "T_kRzBUjq_NL"
      },
      "execution_count": null,
      "outputs": [
        {
          "output_type": "display_data",
          "data": {
            "text/plain": [
              "<Figure size 432x288 with 2 Axes>"
            ],
            "image/png": "[encoded data removed]"
          },
          "metadata": {
            "needs_background": "light"
          }
        }
      ]
    },
    {
      "cell_type": "code",
      "source": [
        "model8 = Sequential()\n",
        "model8.add(Conv2D(filters=64, kernel_size=(3,3), activation='relu', kernel_regularizer=l2(0.001)))\n",
        "model8.add(MaxPool2D(pool_size=(2,2)))\n",
        "\n",
        "model8.add(Conv2D(filters=64, kernel_size=(3,3), activation='relu',kernel_regularizer=l2(0.001)))\n",
        "model8.add(MaxPool2D(pool_size=(2,2)))\n",
        "\n",
        "model8.add(Flatten())\n",
        "model8.add(Dense(units=100, activation='relu', kernel_regularizer=l2(0.001)))\n",
        "model8.add(Dense(units=5, activation='softmax', kernel_regularizer=l2(0.001)))\n",
        "\n",
        "model8.compile(\n",
        "    optimizer = 'adam',\n",
        "    loss = 'categorical_crossentropy',\n",
        "    metrics = ['accuracy']\n",
        ")"
      ],
      "metadata": {
        "id": "ePeePSLPXBvL"
      },
      "execution_count": null,
      "outputs": []
    },
    {
      "cell_type": "code",
      "source": [
        "history8 = model8.fit(\n",
        "    aug_train,\n",
        "    batch_size=32,\n",
        "    validation_data=aug_test,\n",
        "    epochs=10,\n",
        "    callbacks=[early_stop]\n",
        ")"
      ],
      "metadata": {
        "colab": {
          "base_uri": "https://localhost:8080/"
        },
        "outputId": "1dd86b1c-f95c-494e-a5cf-1994bcac5bc8",
        "id": "qX0CjxmVXBvS"
      },
      "execution_count": null,
      "outputs": [
        {
          "output_type": "stream",
          "name": "stdout",
          "text": [
            "Epoch 1/10\n",
            "285/285 [==============================] - 158s 551ms/step - loss: 1.5236 - accuracy: 0.5761 - val_loss: 1.1503 - val_accuracy: 0.5914\n",
            "Epoch 2/10\n",
            "285/285 [==============================] - 141s 494ms/step - loss: 1.1478 - accuracy: 0.5850 - val_loss: 1.0904 - val_accuracy: 0.5904\n",
            "Epoch 3/10\n",
            "285/285 [==============================] - 141s 496ms/step - loss: 1.1172 - accuracy: 0.5866 - val_loss: 1.0856 - val_accuracy: 0.5924\n",
            "Epoch 4/10\n",
            "285/285 [==============================] - 139s 488ms/step - loss: 1.1053 - accuracy: 0.5853 - val_loss: 1.0714 - val_accuracy: 0.5924\n",
            "Epoch 5/10\n",
            "285/285 [==============================] - 139s 488ms/step - loss: 1.1016 - accuracy: 0.5866 - val_loss: 1.0761 - val_accuracy: 0.5914\n",
            "Epoch 6/10\n",
            "285/285 [==============================] - 141s 493ms/step - loss: 1.1014 - accuracy: 0.5857 - val_loss: 1.0833 - val_accuracy: 0.5914\n",
            "Epoch 7/10\n",
            "285/285 [==============================] - 139s 488ms/step - loss: 1.0912 - accuracy: 0.5860 - val_loss: 1.0717 - val_accuracy: 0.5924\n",
            "Epoch 8/10\n",
            "285/285 [==============================] - 141s 494ms/step - loss: 1.0920 - accuracy: 0.5863 - val_loss: 1.0756 - val_accuracy: 0.5914\n",
            "Epoch 9/10\n",
            "285/285 [==============================] - 139s 489ms/step - loss: 1.0855 - accuracy: 0.5857 - val_loss: 1.0963 - val_accuracy: 0.5894\n",
            "Epoch 9: early stopping\n"
          ]
        }
      ]
    },
    {
      "cell_type": "code",
      "source": [
        "# https://stackoverflow.com/questions/50825936/confusion-matrix-on-images-in-cnn-keras\n",
        "# https://stackoverflow.com/questions/67303001/plot-confusion-matrix-with-keras-data-generator-using-sklearn\n",
        "\n",
        "test_steps_per_epoch = np.math.ceil(aug_test.samples / aug_test.batch_size)\n",
        "preds = model8.predict(aug_test, steps=test_steps_per_epoch)"
      ],
      "metadata": {
        "id": "zLCisKbtraN0"
      },
      "execution_count": null,
      "outputs": []
    },
    {
      "cell_type": "code",
      "source": [
        "ConfusionMatrixDisplay.from_predictions(aug_test.classes, np.argmax(preds, axis=1), display_labels=list(aug_test.class_indices.keys()));"
      ],
      "metadata": {
        "colab": {
          "base_uri": "https://localhost:8080/",
          "height": 282
        },
        "outputId": "628b83b6-4756-4c3a-de8b-cdaa41c335cc",
        "id": "9VVTzLuRraN1"
      },
      "execution_count": null,
      "outputs": [
        {
          "output_type": "display_data",
          "data": {
            "text/plain": [
              "<Figure size 432x288 with 2 Axes>"
            ],
            "image/png": "[encoded data removed]"
          },
          "metadata": {
            "needs_background": "light"
          }
        }
      ]
    },
    {
      "cell_type": "markdown",
      "source": [
        "#### EfficientNet"
      ],
      "metadata": {
        "id": "xDrAgMTYYOXd"
      }
    },
    {
      "cell_type": "code",
      "source": [
        "eff_train_gen = ImageDataGenerator(vertical_flip=True, rotation_range=20)\n",
        "eff_test_gen = ImageDataGenerator(vertical_flip=True, rotation_range=20)"
      ],
      "metadata": {
        "id": "pAygiYlCYhw7"
      },
      "execution_count": 14,
      "outputs": []
    },
    {
      "cell_type": "code",
      "source": [
        "eff_aug_train = eff_train_gen.flow_from_dataframe(\n",
        "    dataframe=train,\n",
        "    directory='/content/224x224',\n",
        "    x_col='filename',\n",
        "    y_col='decade',\n",
        "    class_mode='categorical',\n",
        "    target_size=(224,224)\n",
        ")\n",
        "\n",
        "eff_aug_test = eff_test_gen.flow_from_dataframe(\n",
        "    dataframe=test,\n",
        "    directory='/content/224x224',\n",
        "    x_col='filename',\n",
        "    y_col='decade',\n",
        "    class_mode='categorical',\n",
        "    target_size=(224,224)\n",
        ")"
      ],
      "metadata": {
        "colab": {
          "base_uri": "https://localhost:8080/"
        },
        "id": "OLDPzw3EYpn5",
        "outputId": "270266ee-2ace-41d4-c14c-ea3ccdd33133"
      },
      "execution_count": 15,
      "outputs": [
        {
          "output_type": "stream",
          "name": "stdout",
          "text": [
            "Found 9117 validated image filenames belonging to 5 classes.\n",
            "Found 1023 validated image filenames belonging to 5 classes.\n"
          ]
        }
      ]
    },
    {
      "cell_type": "code",
      "source": [
        "effnet = EfficientNetB0(include_top=False, weights='imagenet')"
      ],
      "metadata": {
        "id": "9PEkh2XjTbC0",
        "colab": {
          "base_uri": "https://localhost:8080/"
        },
        "outputId": "0843596a-6723-471c-a2e6-08176ed2045e"
      },
      "execution_count": 10,
      "outputs": [
        {
          "output_type": "stream",
          "name": "stdout",
          "text": [
            "Downloading data from https://storage.googleapis.com/keras-applications/efficientnetb0_notop.h5\n",
            "16711680/16705208 [==============================] - 0s 0us/step\n",
            "16719872/16705208 [==============================] - 0s 0us/step\n"
          ]
        }
      ]
    },
    {
      "cell_type": "code",
      "source": [
        "effnet.trainable = False"
      ],
      "metadata": {
        "id": "dlBF8tzGYdaF"
      },
      "execution_count": 11,
      "outputs": []
    },
    {
      "cell_type": "code",
      "source": [
        "model9 = Sequential()\n",
        "model9.add(effnet)\n",
        "model9.add(GlobalAveragePooling2D())\n",
        "model9.add(Dense(64, activation='relu'))\n",
        "model9.add(Dense(5, activation='softmax'))\n",
        "\n",
        "model9.compile(\n",
        "    optimizer=Adam(learning_rate=0.0001),\n",
        "    loss='categorical_crossentropy',\n",
        "    metrics = ['accuracy']\n",
        ")"
      ],
      "metadata": {
        "id": "lV7hA8BLrvUO"
      },
      "execution_count": null,
      "outputs": []
    },
    {
      "cell_type": "code",
      "source": [
        "history9 = model9.fit(\n",
        "    eff_aug_train,\n",
        "    batch_size=32,\n",
        "    validation_data=eff_aug_test,\n",
        "    epochs=10,\n",
        "    callbacks=[early_stop]\n",
        ")"
      ],
      "metadata": {
        "colab": {
          "base_uri": "https://localhost:8080/"
        },
        "id": "fWFb49qosO0W",
        "outputId": "e4dc2887-06c1-488c-9600-e0c563b86ed6"
      },
      "execution_count": null,
      "outputs": [
        {
          "output_type": "stream",
          "name": "stdout",
          "text": [
            "Epoch 1/10\n",
            "285/285 [==============================] - 122s 406ms/step - loss: 1.1186 - accuracy: 0.5545 - val_loss: 1.0258 - val_accuracy: 0.5865\n",
            "Epoch 2/10\n",
            "285/285 [==============================] - 113s 398ms/step - loss: 1.0131 - accuracy: 0.5911 - val_loss: 1.0050 - val_accuracy: 0.5894\n",
            "Epoch 3/10\n",
            "285/285 [==============================] - 114s 400ms/step - loss: 0.9852 - accuracy: 0.5994 - val_loss: 0.9946 - val_accuracy: 0.5894\n",
            "Epoch 4/10\n",
            "285/285 [==============================] - 115s 402ms/step - loss: 0.9616 - accuracy: 0.6117 - val_loss: 0.9904 - val_accuracy: 0.5953\n",
            "Epoch 5/10\n",
            "285/285 [==============================] - 113s 395ms/step - loss: 0.9502 - accuracy: 0.6149 - val_loss: 0.9839 - val_accuracy: 0.5865\n",
            "Epoch 6/10\n",
            "285/285 [==============================] - 113s 397ms/step - loss: 0.9346 - accuracy: 0.6227 - val_loss: 0.9878 - val_accuracy: 0.5982\n",
            "Epoch 7/10\n",
            "285/285 [==============================] - 114s 399ms/step - loss: 0.9222 - accuracy: 0.6264 - val_loss: 0.9798 - val_accuracy: 0.5982\n",
            "Epoch 8/10\n",
            "285/285 [==============================] - 112s 391ms/step - loss: 0.9159 - accuracy: 0.6342 - val_loss: 0.9855 - val_accuracy: 0.5904\n",
            "Epoch 9/10\n",
            "285/285 [==============================] - 111s 390ms/step - loss: 0.9029 - accuracy: 0.6389 - val_loss: 0.9853 - val_accuracy: 0.6090\n",
            "Epoch 10/10\n",
            "285/285 [==============================] - 112s 393ms/step - loss: 0.8937 - accuracy: 0.6373 - val_loss: 0.9853 - val_accuracy: 0.5914\n"
          ]
        }
      ]
    },
    {
      "cell_type": "code",
      "source": [
        "# https://stackoverflow.com/questions/50825936/confusion-matrix-on-images-in-cnn-keras\n",
        "# https://stackoverflow.com/questions/67303001/plot-confusion-matrix-with-keras-data-generator-using-sklearn\n",
        "\n",
        "test_steps_per_epoch = np.math.ceil(eff_aug_test.samples / eff_aug_test.batch_size)\n",
        "preds = model9.predict(eff_aug_test, steps=test_steps_per_epoch)"
      ],
      "metadata": {
        "id": "GXQbXcjM070a"
      },
      "execution_count": null,
      "outputs": []
    },
    {
      "cell_type": "code",
      "source": [
        "ConfusionMatrixDisplay.from_predictions(eff_aug_test.classes, np.argmax(preds, axis=1), display_labels=list(eff_aug_test.class_indices.keys()));"
      ],
      "metadata": {
        "colab": {
          "base_uri": "https://localhost:8080/",
          "height": 279
        },
        "outputId": "9cf54dd1-bcf0-4e93-d469-84929f28063a",
        "id": "NdahSZSd070g"
      },
      "execution_count": null,
      "outputs": [
        {
          "output_type": "display_data",
          "data": {
            "text/plain": [
              "<Figure size 432x288 with 2 Axes>"
            ],
            "image/png": "[encoded data removed]"
          },
          "metadata": {
            "needs_background": "light"
          }
        }
      ]
    },
    {
      "cell_type": "markdown",
      "source": [
        "#### EffNet with Class Weights"
      ],
      "metadata": {
        "id": "huMGUyDHcikb"
      }
    },
    {
      "cell_type": "code",
      "source": [
        "# https://stackoverflow.com/questions/42586475/is-it-possible-to-automatically-infer-the-class-weight-from-flow-from-directory/67678399#67678399\n",
        "\n",
        "class_weights = class_weight.compute_class_weight(\n",
        "            class_weight='balanced',\n",
        "            classes=np.unique(eff_aug_train.classes), \n",
        "            y = eff_aug_train.classes)\n",
        "\n",
        "train_class_weights = dict(enumerate(class_weights))"
      ],
      "metadata": {
        "id": "mTLmqKDK85yX"
      },
      "execution_count": 16,
      "outputs": []
    },
    {
      "cell_type": "code",
      "source": [
        "model10 = Sequential()\n",
        "model10.add(effnet)\n",
        "model10.add(GlobalAveragePooling2D())\n",
        "model10.add(Dense(64, activation='relu'))\n",
        "model10.add(Dense(5, activation='softmax'))\n",
        "\n",
        "model10.compile(\n",
        "    optimizer=Adam(learning_rate=0.0001),\n",
        "    loss='categorical_crossentropy',\n",
        "    metrics = ['accuracy']\n",
        ")"
      ],
      "metadata": {
        "id": "sw-blIBd8386"
      },
      "execution_count": 24,
      "outputs": []
    },
    {
      "cell_type": "code",
      "source": [
        "history10 = model10.fit(\n",
        "    eff_aug_train,\n",
        "    class_weight=train_class_weights,\n",
        "    batch_size=32,\n",
        "    validation_data=eff_aug_test,\n",
        "    epochs=100,\n",
        "    callbacks=[early_stop]\n",
        ")"
      ],
      "metadata": {
        "colab": {
          "base_uri": "https://localhost:8080/"
        },
        "outputId": "fd16f5be-b4d0-404b-eba5-d550f727dd47",
        "id": "XKPAD879839A"
      },
      "execution_count": 25,
      "outputs": [
        {
          "output_type": "stream",
          "name": "stdout",
          "text": [
            "Epoch 1/100\n",
            "285/285 [==============================] - 123s 413ms/step - loss: 1.6098 - accuracy: 0.2332 - val_loss: 1.5906 - val_accuracy: 0.2463\n",
            "Epoch 2/100\n",
            "285/285 [==============================] - 115s 404ms/step - loss: 1.5009 - accuracy: 0.2732 - val_loss: 1.5221 - val_accuracy: 0.3089\n",
            "Epoch 3/100\n",
            "285/285 [==============================] - 115s 405ms/step - loss: 1.4460 - accuracy: 0.3100 - val_loss: 1.5543 - val_accuracy: 0.2933\n",
            "Epoch 4/100\n",
            "285/285 [==============================] - 115s 404ms/step - loss: 1.3921 - accuracy: 0.3342 - val_loss: 1.4721 - val_accuracy: 0.3451\n",
            "Epoch 5/100\n",
            "285/285 [==============================] - 116s 408ms/step - loss: 1.3352 - accuracy: 0.3601 - val_loss: 1.5556 - val_accuracy: 0.2776\n",
            "Epoch 6/100\n",
            "285/285 [==============================] - 116s 406ms/step - loss: 1.2995 - accuracy: 0.3749 - val_loss: 1.5301 - val_accuracy: 0.3011\n",
            "Epoch 7/100\n",
            "285/285 [==============================] - 122s 428ms/step - loss: 1.2728 - accuracy: 0.3759 - val_loss: 1.5092 - val_accuracy: 0.3148\n",
            "Epoch 8/100\n",
            "285/285 [==============================] - 137s 480ms/step - loss: 1.2312 - accuracy: 0.3907 - val_loss: 1.5111 - val_accuracy: 0.3245\n",
            "Epoch 9/100\n",
            "285/285 [==============================] - 122s 426ms/step - loss: 1.1986 - accuracy: 0.4135 - val_loss: 1.5323 - val_accuracy: 0.3138\n",
            "Epoch 9: early stopping\n"
          ]
        }
      ]
    },
    {
      "cell_type": "code",
      "source": [
        "# https://stackoverflow.com/questions/50825936/confusion-matrix-on-images-in-cnn-keras\n",
        "# https://stackoverflow.com/questions/67303001/plot-confusion-matrix-with-keras-data-generator-using-sklearn\n",
        "\n",
        "test_steps_per_epoch = np.math.ceil(eff_aug_test.samples / eff_aug_test.batch_size)\n",
        "preds = model10.predict(eff_aug_test, steps=test_steps_per_epoch)"
      ],
      "metadata": {
        "id": "49eFzoS9CLuC"
      },
      "execution_count": 26,
      "outputs": []
    },
    {
      "cell_type": "code",
      "source": [
        "ConfusionMatrixDisplay.from_predictions(eff_aug_test.classes, np.argmax(preds, axis=1), display_labels=list(eff_aug_test.class_indices.keys()));"
      ],
      "metadata": {
        "colab": {
          "base_uri": "https://localhost:8080/",
          "height": 279
        },
        "outputId": "9db57a26-04f7-4990-f3a1-9cda54c90f88",
        "id": "T3Lpq3tDCLuJ"
      },
      "execution_count": 27,
      "outputs": [
        {
          "output_type": "display_data",
          "data": {
            "text/plain": [
              "<Figure size 432x288 with 2 Axes>"
            ],
            "image/png": "[encoded data removed]"
          },
          "metadata": {
            "needs_background": "light"
          }
        }
      ]
    },
    {
      "cell_type": "markdown",
      "source": [
        "##### EffNet with Class Weights - Changing Learning Rate"
      ],
      "metadata": {
        "id": "Box5b3seoMDg"
      }
    },
    {
      "cell_type": "code",
      "source": [
        "model12 = Sequential()\n",
        "model12.add(effnet)\n",
        "model12.add(GlobalAveragePooling2D())\n",
        "model12.add(Dense(64, activation='relu'))\n",
        "model12.add(Dense(5, activation='softmax'))\n",
        "\n",
        "model12.compile(\n",
        "    optimizer=Adam(learning_rate=0.001),\n",
        "    loss='categorical_crossentropy',\n",
        "    metrics = ['accuracy']\n",
        ")"
      ],
      "metadata": {
        "id": "HV0iVzDPoIwM"
      },
      "execution_count": 13,
      "outputs": []
    },
    {
      "cell_type": "code",
      "source": [
        "history12 = model12.fit(\n",
        "    eff_aug_train,\n",
        "    class_weight=train_class_weights,\n",
        "    batch_size=32,\n",
        "    validation_data=eff_aug_test,\n",
        "    epochs=10,\n",
        "    callbacks=[early_stop]\n",
        ")"
      ],
      "metadata": {
        "colab": {
          "base_uri": "https://localhost:8080/"
        },
        "outputId": "8ab3a767-1472-4fa0-be59-8eab44a96319",
        "id": "qOTIf0PEoIwS"
      },
      "execution_count": 16,
      "outputs": [
        {
          "output_type": "stream",
          "name": "stdout",
          "text": [
            "Epoch 1/10\n",
            "285/285 [==============================] - 143s 447ms/step - loss: 1.5434 - accuracy: 0.2748 - val_loss: 1.5089 - val_accuracy: 0.2923\n",
            "Epoch 2/10\n",
            "285/285 [==============================] - 125s 437ms/step - loss: 1.3650 - accuracy: 0.3458 - val_loss: 1.5611 - val_accuracy: 0.2698\n",
            "Epoch 3/10\n",
            "285/285 [==============================] - 121s 423ms/step - loss: 1.2441 - accuracy: 0.3905 - val_loss: 1.5753 - val_accuracy: 0.3001\n",
            "Epoch 4/10\n",
            "285/285 [==============================] - 120s 420ms/step - loss: 1.1414 - accuracy: 0.4226 - val_loss: 1.5504 - val_accuracy: 0.3167\n",
            "Epoch 5/10\n",
            "285/285 [==============================] - 117s 412ms/step - loss: 1.0518 - accuracy: 0.4521 - val_loss: 1.3468 - val_accuracy: 0.3871\n",
            "Epoch 6/10\n",
            "285/285 [==============================] - 121s 426ms/step - loss: 0.9672 - accuracy: 0.4778 - val_loss: 1.2475 - val_accuracy: 0.4399\n",
            "Epoch 7/10\n",
            "285/285 [==============================] - 119s 417ms/step - loss: 0.8989 - accuracy: 0.5042 - val_loss: 1.1951 - val_accuracy: 0.4721\n",
            "Epoch 8/10\n",
            "285/285 [==============================] - 116s 407ms/step - loss: 0.8495 - accuracy: 0.5223 - val_loss: 1.2712 - val_accuracy: 0.4321\n",
            "Epoch 9/10\n",
            "285/285 [==============================] - 118s 415ms/step - loss: 0.8159 - accuracy: 0.5439 - val_loss: 1.4594 - val_accuracy: 0.3666\n",
            "Epoch 10/10\n",
            "285/285 [==============================] - 118s 414ms/step - loss: 0.7780 - accuracy: 0.5548 - val_loss: 1.2391 - val_accuracy: 0.4643\n"
          ]
        }
      ]
    },
    {
      "cell_type": "code",
      "source": [
        "history12_2 = model12.fit(\n",
        "    eff_aug_train,\n",
        "    class_weight=train_class_weights,\n",
        "    batch_size=32,\n",
        "    validation_data=eff_aug_test,\n",
        "    epochs=100,\n",
        "    callbacks=[early_stop]\n",
        ")"
      ],
      "metadata": {
        "colab": {
          "base_uri": "https://localhost:8080/"
        },
        "outputId": "2b85f93a-435b-48da-84ae-c5593ec1539d",
        "id": "44w0FCw1uXRw"
      },
      "execution_count": 21,
      "outputs": [
        {
          "output_type": "stream",
          "name": "stdout",
          "text": [
            "Epoch 1/100\n",
            "285/285 [==============================] - 122s 428ms/step - loss: 0.7174 - accuracy: 0.5689 - val_loss: 1.2066 - val_accuracy: 0.4731\n",
            "Epoch 2/100\n",
            "285/285 [==============================] - 122s 427ms/step - loss: 0.7115 - accuracy: 0.5810 - val_loss: 1.4485 - val_accuracy: 0.3939\n",
            "Epoch 3/100\n",
            "285/285 [==============================] - 119s 419ms/step - loss: 0.6840 - accuracy: 0.5918 - val_loss: 1.2321 - val_accuracy: 0.4487\n",
            "Epoch 4/100\n",
            "285/285 [==============================] - 120s 422ms/step - loss: 0.6610 - accuracy: 0.5979 - val_loss: 1.2556 - val_accuracy: 0.4585\n",
            "Epoch 5/100\n",
            "285/285 [==============================] - 120s 422ms/step - loss: 0.6192 - accuracy: 0.6137 - val_loss: 1.1772 - val_accuracy: 0.5005\n",
            "Epoch 6/100\n",
            "285/285 [==============================] - 118s 413ms/step - loss: 0.6086 - accuracy: 0.6086 - val_loss: 1.3120 - val_accuracy: 0.4643\n",
            "Epoch 7/100\n",
            "285/285 [==============================] - 119s 416ms/step - loss: 0.5778 - accuracy: 0.6265 - val_loss: 1.2128 - val_accuracy: 0.4673\n",
            "Epoch 8/100\n",
            "285/285 [==============================] - 117s 412ms/step - loss: 0.5806 - accuracy: 0.6251 - val_loss: 1.3013 - val_accuracy: 0.4643\n",
            "Epoch 9/100\n",
            "285/285 [==============================] - 117s 409ms/step - loss: 0.5325 - accuracy: 0.6502 - val_loss: 1.2074 - val_accuracy: 0.5044\n",
            "Epoch 10/100\n",
            "285/285 [==============================] - 115s 403ms/step - loss: 0.5167 - accuracy: 0.6594 - val_loss: 1.2428 - val_accuracy: 0.4741\n",
            "Epoch 10: early stopping\n"
          ]
        }
      ]
    },
    {
      "cell_type": "code",
      "source": [
        "# https://stackoverflow.com/questions/50825936/confusion-matrix-on-images-in-cnn-keras\n",
        "# https://stackoverflow.com/questions/67303001/plot-confusion-matrix-with-keras-data-generator-using-sklearn\n",
        "\n",
        "test_steps_per_epoch = np.math.ceil(eff_aug_test.samples / eff_aug_test.batch_size)\n",
        "preds = model12.predict(eff_aug_test, steps=test_steps_per_epoch)"
      ],
      "metadata": {
        "id": "UM06FFvhoIwT"
      },
      "execution_count": 22,
      "outputs": []
    },
    {
      "cell_type": "code",
      "source": [
        "ConfusionMatrixDisplay.from_predictions(eff_aug_test.classes, np.argmax(preds, axis=1), display_labels=list(eff_aug_test.class_indices.keys()));"
      ],
      "metadata": {
        "colab": {
          "base_uri": "https://localhost:8080/",
          "height": 279
        },
        "outputId": "90e6a5ab-8c5c-4630-ee1b-0b8f2659ee6e",
        "id": "pWoEib6WoIwU"
      },
      "execution_count": 23,
      "outputs": [
        {
          "output_type": "display_data",
          "data": {
            "text/plain": [
              "<Figure size 432x288 with 2 Axes>"
            ],
            "image/png": "[encoded data removed]"
          },
          "metadata": {
            "needs_background": "light"
          }
        }
      ]
    },
    {
      "cell_type": "markdown",
      "source": [
        "#### EffNet with Class Rates - Changing Dense Layer Nodes"
      ],
      "metadata": {
        "id": "_70u525B31Ga"
      }
    },
    {
      "cell_type": "code",
      "source": [
        "model13 = Sequential()\n",
        "model13.add(effnet)\n",
        "model13.add(GlobalAveragePooling2D())\n",
        "model13.add(Dense(128, activation='relu'))\n",
        "model13.add(Dense(5, activation='softmax'))\n",
        "\n",
        "model13.compile(\n",
        "    optimizer=Adam(learning_rate=0.0001),\n",
        "    loss='categorical_crossentropy',\n",
        "    metrics = ['accuracy']\n",
        ")"
      ],
      "metadata": {
        "id": "p5AkhULI3zpS"
      },
      "execution_count": 28,
      "outputs": []
    },
    {
      "cell_type": "code",
      "source": [
        "history13 = model13.fit(\n",
        "    eff_aug_train,\n",
        "    class_weight=train_class_weights,\n",
        "    batch_size=32,\n",
        "    validation_data=eff_aug_test,\n",
        "    epochs=100,\n",
        "    callbacks=[early_stop]\n",
        ")"
      ],
      "metadata": {
        "colab": {
          "base_uri": "https://localhost:8080/"
        },
        "outputId": "266bb34d-ed58-453b-8a9c-c98cd44514f6",
        "id": "QYscoB6H3zpY"
      },
      "execution_count": 29,
      "outputs": [
        {
          "output_type": "stream",
          "name": "stdout",
          "text": [
            "Epoch 1/100\n",
            "285/285 [==============================] - 125s 417ms/step - loss: 1.5854 - accuracy: 0.2451 - val_loss: 1.5749 - val_accuracy: 0.2669\n",
            "Epoch 2/100\n",
            "285/285 [==============================] - 117s 410ms/step - loss: 1.4573 - accuracy: 0.3176 - val_loss: 1.6290 - val_accuracy: 0.2043\n",
            "Epoch 3/100\n",
            "285/285 [==============================] - 116s 408ms/step - loss: 1.3832 - accuracy: 0.3302 - val_loss: 1.5918 - val_accuracy: 0.2502\n",
            "Epoch 4/100\n",
            "285/285 [==============================] - 119s 418ms/step - loss: 1.3299 - accuracy: 0.3598 - val_loss: 1.5218 - val_accuracy: 0.3099\n",
            "Epoch 5/100\n",
            "285/285 [==============================] - 120s 420ms/step - loss: 1.2700 - accuracy: 0.3826 - val_loss: 1.4374 - val_accuracy: 0.3558\n",
            "Epoch 6/100\n",
            "285/285 [==============================] - 117s 410ms/step - loss: 1.2297 - accuracy: 0.4042 - val_loss: 1.4868 - val_accuracy: 0.3324\n",
            "Epoch 7/100\n",
            "285/285 [==============================] - 117s 410ms/step - loss: 1.2024 - accuracy: 0.4073 - val_loss: 1.4763 - val_accuracy: 0.3343\n",
            "Epoch 8/100\n",
            "285/285 [==============================] - 117s 410ms/step - loss: 1.1567 - accuracy: 0.4339 - val_loss: 1.4348 - val_accuracy: 0.3597\n",
            "Epoch 9/100\n",
            "285/285 [==============================] - 117s 411ms/step - loss: 1.1214 - accuracy: 0.4386 - val_loss: 1.3709 - val_accuracy: 0.3959\n",
            "Epoch 10/100\n",
            "285/285 [==============================] - 117s 410ms/step - loss: 1.0956 - accuracy: 0.4492 - val_loss: 1.3729 - val_accuracy: 0.3881\n",
            "Epoch 11/100\n",
            "285/285 [==============================] - 118s 415ms/step - loss: 1.0644 - accuracy: 0.4654 - val_loss: 1.4453 - val_accuracy: 0.3558\n",
            "Epoch 12/100\n",
            "285/285 [==============================] - 115s 402ms/step - loss: 1.0399 - accuracy: 0.4716 - val_loss: 1.3549 - val_accuracy: 0.4125\n",
            "Epoch 13/100\n",
            "285/285 [==============================] - 114s 399ms/step - loss: 0.9975 - accuracy: 0.4848 - val_loss: 1.3234 - val_accuracy: 0.4154\n",
            "Epoch 14/100\n",
            "285/285 [==============================] - 117s 412ms/step - loss: 1.0027 - accuracy: 0.4812 - val_loss: 1.3390 - val_accuracy: 0.3891\n",
            "Epoch 15/100\n",
            "285/285 [==============================] - 116s 408ms/step - loss: 0.9591 - accuracy: 0.5019 - val_loss: 1.3817 - val_accuracy: 0.3783\n",
            "Epoch 16/100\n",
            "285/285 [==============================] - 118s 413ms/step - loss: 0.9502 - accuracy: 0.5043 - val_loss: 1.3923 - val_accuracy: 0.3578\n",
            "Epoch 17/100\n",
            "285/285 [==============================] - 117s 410ms/step - loss: 0.9234 - accuracy: 0.5061 - val_loss: 1.2833 - val_accuracy: 0.4457\n",
            "Epoch 18/100\n",
            "285/285 [==============================] - 115s 404ms/step - loss: 0.9081 - accuracy: 0.5230 - val_loss: 1.2539 - val_accuracy: 0.4477\n",
            "Epoch 19/100\n",
            "285/285 [==============================] - 118s 415ms/step - loss: 0.9049 - accuracy: 0.5200 - val_loss: 1.2664 - val_accuracy: 0.4428\n",
            "Epoch 20/100\n",
            "285/285 [==============================] - 118s 413ms/step - loss: 0.8828 - accuracy: 0.5243 - val_loss: 1.2346 - val_accuracy: 0.4575\n",
            "Epoch 21/100\n",
            "285/285 [==============================] - 118s 416ms/step - loss: 0.8677 - accuracy: 0.5359 - val_loss: 1.2457 - val_accuracy: 0.4389\n",
            "Epoch 22/100\n",
            "285/285 [==============================] - 116s 406ms/step - loss: 0.8580 - accuracy: 0.5308 - val_loss: 1.3211 - val_accuracy: 0.4203\n",
            "Epoch 23/100\n",
            "285/285 [==============================] - 119s 417ms/step - loss: 0.8219 - accuracy: 0.5552 - val_loss: 1.2654 - val_accuracy: 0.4399\n",
            "Epoch 24/100\n",
            "285/285 [==============================] - 122s 426ms/step - loss: 0.8156 - accuracy: 0.5596 - val_loss: 1.2209 - val_accuracy: 0.4448\n",
            "Epoch 25/100\n",
            "285/285 [==============================] - 119s 417ms/step - loss: 0.8040 - accuracy: 0.5602 - val_loss: 1.2310 - val_accuracy: 0.4506\n",
            "Epoch 26/100\n",
            "285/285 [==============================] - 118s 412ms/step - loss: 0.7972 - accuracy: 0.5647 - val_loss: 1.2877 - val_accuracy: 0.4428\n",
            "Epoch 27/100\n",
            "285/285 [==============================] - 117s 412ms/step - loss: 0.7914 - accuracy: 0.5645 - val_loss: 1.2476 - val_accuracy: 0.4663\n",
            "Epoch 28/100\n",
            "285/285 [==============================] - 117s 412ms/step - loss: 0.7627 - accuracy: 0.5760 - val_loss: 1.2109 - val_accuracy: 0.4614\n",
            "Epoch 29/100\n",
            "285/285 [==============================] - 119s 416ms/step - loss: 0.7595 - accuracy: 0.5753 - val_loss: 1.2209 - val_accuracy: 0.4702\n",
            "Epoch 30/100\n",
            "285/285 [==============================] - 117s 411ms/step - loss: 0.7460 - accuracy: 0.5845 - val_loss: 1.2259 - val_accuracy: 0.4555\n",
            "Epoch 31/100\n",
            "285/285 [==============================] - 118s 414ms/step - loss: 0.7379 - accuracy: 0.5865 - val_loss: 1.2007 - val_accuracy: 0.4555\n",
            "Epoch 32/100\n",
            "285/285 [==============================] - 119s 418ms/step - loss: 0.7208 - accuracy: 0.5886 - val_loss: 1.1482 - val_accuracy: 0.5073\n",
            "Epoch 33/100\n",
            "285/285 [==============================] - 121s 424ms/step - loss: 0.7165 - accuracy: 0.5954 - val_loss: 1.1659 - val_accuracy: 0.4907\n",
            "Epoch 34/100\n",
            "285/285 [==============================] - 117s 411ms/step - loss: 0.7189 - accuracy: 0.5972 - val_loss: 1.2740 - val_accuracy: 0.4213\n",
            "Epoch 35/100\n",
            "285/285 [==============================] - 119s 416ms/step - loss: 0.6912 - accuracy: 0.5964 - val_loss: 1.1235 - val_accuracy: 0.5083\n",
            "Epoch 36/100\n",
            "285/285 [==============================] - 118s 414ms/step - loss: 0.6872 - accuracy: 0.6061 - val_loss: 1.1856 - val_accuracy: 0.4878\n",
            "Epoch 37/100\n",
            "285/285 [==============================] - 119s 417ms/step - loss: 0.6687 - accuracy: 0.6163 - val_loss: 1.2144 - val_accuracy: 0.4780\n",
            "Epoch 38/100\n",
            "285/285 [==============================] - 117s 410ms/step - loss: 0.6802 - accuracy: 0.6048 - val_loss: 1.1501 - val_accuracy: 0.4927\n",
            "Epoch 39/100\n",
            "285/285 [==============================] - 116s 408ms/step - loss: 0.6607 - accuracy: 0.6128 - val_loss: 1.2191 - val_accuracy: 0.4643\n",
            "Epoch 40/100\n",
            "285/285 [==============================] - 116s 406ms/step - loss: 0.6588 - accuracy: 0.6181 - val_loss: 1.1656 - val_accuracy: 0.4946\n",
            "Epoch 40: early stopping\n"
          ]
        }
      ]
    },
    {
      "cell_type": "code",
      "source": [
        "# https://stackoverflow.com/questions/50825936/confusion-matrix-on-images-in-cnn-keras\n",
        "# https://stackoverflow.com/questions/67303001/plot-confusion-matrix-with-keras-data-generator-using-sklearn\n",
        "\n",
        "test_steps_per_epoch = np.math.ceil(eff_aug_test.samples / eff_aug_test.batch_size)\n",
        "preds = model13.predict(eff_aug_test, steps=test_steps_per_epoch)"
      ],
      "metadata": {
        "id": "X44xjMeP4iL3"
      },
      "execution_count": 30,
      "outputs": []
    },
    {
      "cell_type": "code",
      "source": [
        "ConfusionMatrixDisplay.from_predictions(eff_aug_test.classes, np.argmax(preds, axis=1), display_labels=list(eff_aug_test.class_indices.keys()));"
      ],
      "metadata": {
        "colab": {
          "base_uri": "https://localhost:8080/",
          "height": 283
        },
        "outputId": "8802983c-9ceb-4884-bfd0-3a676600b7e6",
        "id": "KZc8r9Rt4iL6"
      },
      "execution_count": 31,
      "outputs": [
        {
          "output_type": "display_data",
          "data": {
            "text/plain": [
              "<Figure size 432x288 with 2 Axes>"
            ],
            "image/png": "[encoded data removed]"
          },
          "metadata": {
            "needs_background": "light"
          }
        }
      ]
    },
    {
      "cell_type": "markdown",
      "source": [
        "### Basic CNN with Weighted Classes"
      ],
      "metadata": {
        "id": "nUrbsTejHhY1"
      }
    },
    {
      "cell_type": "code",
      "source": [
        "datagen_2 = ImageDataGenerator(rescale=1/255)"
      ],
      "metadata": {
        "id": "N91nNKh4HyiI"
      },
      "execution_count": 17,
      "outputs": []
    },
    {
      "cell_type": "code",
      "source": [
        "train_gen_2 = datagen_2.flow_from_dataframe(\n",
        "    dataframe=train,\n",
        "    directory='/content/224x224',\n",
        "    x_col='filename',\n",
        "    y_col='decade',\n",
        "    class_mode='categorical',\n",
        "    target_size=(256,256)\n",
        ")\n",
        "\n",
        "test_gen_2 = datagen_2.flow_from_dataframe(\n",
        "    dataframe=test,\n",
        "    directory='/content/224x224',\n",
        "    x_col='filename',\n",
        "    y_col='decade',\n",
        "    class_mode='categorical',\n",
        "    target_size=(256,256)\n",
        ")"
      ],
      "metadata": {
        "colab": {
          "base_uri": "https://localhost:8080/"
        },
        "outputId": "af57cc8e-ac5c-43e3-9f4d-6d4451835c36",
        "id": "MEL9-Nj4HyiI"
      },
      "execution_count": 18,
      "outputs": [
        {
          "output_type": "stream",
          "name": "stdout",
          "text": [
            "Found 9117 validated image filenames belonging to 5 classes.\n",
            "Found 1023 validated image filenames belonging to 5 classes.\n"
          ]
        }
      ]
    },
    {
      "cell_type": "code",
      "source": [
        "model11 = Sequential()\n",
        "model11.add(Conv2D(64,(3,3),activation='relu',input_shape=(256,256,3)))\n",
        "model11.add(MaxPooling2D(pool_size=(2,2)))\n",
        "\n",
        "model11.add(Conv2D(64,(3,3),activation='relu'))\n",
        "model11.add(MaxPooling2D(pool_size=(2,2)))\n",
        "\n",
        "model11.add(Conv2D(64,(3,3),activation='relu'))\n",
        "model11.add(MaxPooling2D(pool_size=(2,2)))\n",
        "\n",
        "model11.add(Conv2D(64,(3,3),activation='relu'))\n",
        "model11.add(MaxPooling2D(pool_size=(2,2)))\n",
        "\n",
        "model11.add(Flatten())\n",
        "model11.add(Dense(64,activation='relu'))\n",
        "model11.add(Dropout(0.2))\n",
        "model11.add(Dense(5,activation='softmax'))\n",
        "\n",
        "model11.compile(\n",
        "    optimizer = Adam(learning_rate=.0001),\n",
        "    loss = 'categorical_crossentropy',\n",
        "    metrics = ['accuracy']\n",
        ")"
      ],
      "metadata": {
        "id": "yC-ZI9oEIHgg"
      },
      "execution_count": 19,
      "outputs": []
    },
    {
      "cell_type": "code",
      "source": [
        " history11 = model11.fit(\n",
        "    train_gen_2,\n",
        "    class_weight=train_class_weights,\n",
        "    validation_data=test_gen_2,\n",
        "    epochs=100,\n",
        "    callbacks=[early_stop]\n",
        ")"
      ],
      "metadata": {
        "colab": {
          "base_uri": "https://localhost:8080/"
        },
        "outputId": "ad262421-42b2-46f0-e266-617f3accdc7e",
        "id": "dA_WNUzuIHgn"
      },
      "execution_count": 21,
      "outputs": [
        {
          "output_type": "stream",
          "name": "stdout",
          "text": [
            "Epoch 1/100\n",
            "285/285 [==============================] - 29s 101ms/step - loss: 1.4023 - accuracy: 0.2762 - val_loss: 1.4567 - val_accuracy: 0.2698\n",
            "Epoch 2/100\n",
            "285/285 [==============================] - 30s 106ms/step - loss: 1.3303 - accuracy: 0.3123 - val_loss: 1.4578 - val_accuracy: 0.3157\n",
            "Epoch 3/100\n",
            "285/285 [==============================] - 27s 93ms/step - loss: 1.2134 - accuracy: 0.3476 - val_loss: 1.5332 - val_accuracy: 0.2317\n",
            "Epoch 4/100\n",
            "285/285 [==============================] - 26s 92ms/step - loss: 1.0991 - accuracy: 0.3842 - val_loss: 1.3928 - val_accuracy: 0.3353\n",
            "Epoch 5/100\n",
            "285/285 [==============================] - 26s 92ms/step - loss: 1.0207 - accuracy: 0.4187 - val_loss: 1.3902 - val_accuracy: 0.3431\n",
            "Epoch 6/100\n",
            "285/285 [==============================] - 26s 93ms/step - loss: 0.9079 - accuracy: 0.4507 - val_loss: 1.2988 - val_accuracy: 0.3695\n",
            "Epoch 7/100\n",
            "285/285 [==============================] - 26s 92ms/step - loss: 0.8213 - accuracy: 0.4982 - val_loss: 1.2610 - val_accuracy: 0.3988\n",
            "Epoch 8/100\n",
            "285/285 [==============================] - 26s 91ms/step - loss: 0.7408 - accuracy: 0.5205 - val_loss: 1.2160 - val_accuracy: 0.4409\n",
            "Epoch 9/100\n",
            "285/285 [==============================] - 26s 93ms/step - loss: 0.6729 - accuracy: 0.5541 - val_loss: 1.1570 - val_accuracy: 0.4927\n",
            "Epoch 10/100\n",
            "285/285 [==============================] - 26s 92ms/step - loss: 0.6345 - accuracy: 0.5733 - val_loss: 1.2175 - val_accuracy: 0.4438\n",
            "Epoch 11/100\n",
            "285/285 [==============================] - 26s 92ms/step - loss: 0.5676 - accuracy: 0.6112 - val_loss: 1.1423 - val_accuracy: 0.5064\n",
            "Epoch 12/100\n",
            "285/285 [==============================] - 26s 90ms/step - loss: 0.5112 - accuracy: 0.6328 - val_loss: 1.1949 - val_accuracy: 0.4868\n",
            "Epoch 13/100\n",
            "285/285 [==============================] - 26s 92ms/step - loss: 0.5030 - accuracy: 0.6513 - val_loss: 1.2320 - val_accuracy: 0.5142\n",
            "Epoch 14/100\n",
            "285/285 [==============================] - 27s 96ms/step - loss: 0.4362 - accuracy: 0.6895 - val_loss: 1.2096 - val_accuracy: 0.5015\n",
            "Epoch 15/100\n",
            "285/285 [==============================] - 26s 91ms/step - loss: 0.4151 - accuracy: 0.7100 - val_loss: 1.2789 - val_accuracy: 0.5122\n",
            "Epoch 16/100\n",
            "285/285 [==============================] - 26s 92ms/step - loss: 0.3787 - accuracy: 0.7271 - val_loss: 1.2188 - val_accuracy: 0.5425\n",
            "Epoch 16: early stopping\n"
          ]
        }
      ]
    },
    {
      "cell_type": "code",
      "source": [
        "# https://stackoverflow.com/questions/50825936/confusion-matrix-on-images-in-cnn-keras\n",
        "# https://stackoverflow.com/questions/67303001/plot-confusion-matrix-with-keras-data-generator-using-sklearn\n",
        "\n",
        "test_steps_per_epoch = np.math.ceil(test_gen_2.samples / test_gen_2.batch_size)\n",
        "preds = model11.predict(test_gen_2, steps=test_steps_per_epoch)"
      ],
      "metadata": {
        "id": "S-Jg9i8vJRfJ"
      },
      "execution_count": 22,
      "outputs": []
    },
    {
      "cell_type": "code",
      "source": [
        "ConfusionMatrixDisplay.from_predictions(test_gen_2.classes, np.argmax(preds, axis=1), display_labels=list(test_gen_2.class_indices.keys()));"
      ],
      "metadata": {
        "colab": {
          "base_uri": "https://localhost:8080/",
          "height": 279
        },
        "outputId": "47c4db3a-1481-4952-97b4-41d69997e569",
        "id": "2-Gnw7UJJRfP"
      },
      "execution_count": 23,
      "outputs": [
        {
          "output_type": "display_data",
          "data": {
            "text/plain": [
              "<Figure size 432x288 with 2 Axes>"
            ],
            "image/png": "[encoded data removed]"
          },
          "metadata": {
            "needs_background": "light"
          }
        }
      ]
    },
    {
      "cell_type": "markdown",
      "source": [
        "#### CNN with Weighted Classes, Altering Parameters"
      ],
      "metadata": {
        "id": "o_G70U56Plu2"
      }
    },
    {
      "cell_type": "code",
      "source": [
        "model14 = Sequential()\n",
        "model14.add(Conv2D(64,(3,3),activation='relu',input_shape=(256,256,3)))\n",
        "model14.add(MaxPooling2D(pool_size=(2,2)))\n",
        "\n",
        "model14.add(Conv2D(64,(3,3),activation='relu'))\n",
        "model14.add(MaxPooling2D(pool_size=(2,2)))\n",
        "\n",
        "model14.add(Conv2D(64,(3,3),activation='relu'))\n",
        "model14.add(MaxPooling2D(pool_size=(2,2)))\n",
        "\n",
        "model14.add(Conv2D(64,(3,3),activation='relu'))\n",
        "model14.add(MaxPooling2D(pool_size=(2,2)))\n",
        "\n",
        "model14.add(Flatten())\n",
        "model14.add(Dense(128,activation='relu'))\n",
        "model14.add(Dropout(0.5))\n",
        "model14.add(Dense(5,activation='softmax'))\n",
        "\n",
        "model14.compile(\n",
        "    optimizer = Adam(learning_rate=.0001),\n",
        "    loss = 'categorical_crossentropy',\n",
        "    metrics = ['accuracy']\n",
        ")"
      ],
      "metadata": {
        "id": "87BvAlgDPjhu"
      },
      "execution_count": 24,
      "outputs": []
    },
    {
      "cell_type": "code",
      "source": [
        " history14 = model14.fit(\n",
        "    train_gen_2,\n",
        "    class_weight=train_class_weights,\n",
        "    validation_data=test_gen_2,\n",
        "    epochs=100,\n",
        "    callbacks=[early_stop]\n",
        ")"
      ],
      "metadata": {
        "colab": {
          "base_uri": "https://localhost:8080/"
        },
        "outputId": "827f0a26-2911-4643-b0ec-1cad662537ca",
        "id": "t26k8-F8Pjh1"
      },
      "execution_count": 25,
      "outputs": [
        {
          "output_type": "stream",
          "name": "stdout",
          "text": [
            "Epoch 1/100\n",
            "285/285 [==============================] - 27s 94ms/step - loss: 1.6133 - accuracy: 0.2419 - val_loss: 1.5415 - val_accuracy: 0.3685\n",
            "Epoch 2/100\n",
            "285/285 [==============================] - 26s 91ms/step - loss: 1.5983 - accuracy: 0.2236 - val_loss: 1.5863 - val_accuracy: 0.0743\n",
            "Epoch 3/100\n",
            "285/285 [==============================] - 26s 91ms/step - loss: 1.5862 - accuracy: 0.2451 - val_loss: 1.6424 - val_accuracy: 0.0850\n",
            "Epoch 4/100\n",
            "285/285 [==============================] - 26s 91ms/step - loss: 1.5538 - accuracy: 0.2322 - val_loss: 1.5444 - val_accuracy: 0.2825\n",
            "Epoch 5/100\n",
            "285/285 [==============================] - 26s 90ms/step - loss: 1.5471 - accuracy: 0.2100 - val_loss: 1.5564 - val_accuracy: 0.1623\n",
            "Epoch 6/100\n",
            "285/285 [==============================] - 26s 93ms/step - loss: 1.4935 - accuracy: 0.2367 - val_loss: 1.4884 - val_accuracy: 0.2923\n",
            "Epoch 7/100\n",
            "285/285 [==============================] - 25s 89ms/step - loss: 1.4429 - accuracy: 0.2763 - val_loss: 1.5479 - val_accuracy: 0.2278\n",
            "Epoch 8/100\n",
            "285/285 [==============================] - 26s 89ms/step - loss: 1.3583 - accuracy: 0.3100 - val_loss: 1.4753 - val_accuracy: 0.2942\n",
            "Epoch 9/100\n",
            "285/285 [==============================] - 26s 90ms/step - loss: 1.2493 - accuracy: 0.3436 - val_loss: 1.3423 - val_accuracy: 0.3675\n",
            "Epoch 10/100\n",
            "285/285 [==============================] - 29s 100ms/step - loss: 1.1585 - accuracy: 0.3869 - val_loss: 1.2810 - val_accuracy: 0.4135\n",
            "Epoch 11/100\n",
            "285/285 [==============================] - 25s 89ms/step - loss: 1.0468 - accuracy: 0.4273 - val_loss: 1.3894 - val_accuracy: 0.3255\n",
            "Epoch 12/100\n",
            "285/285 [==============================] - 25s 89ms/step - loss: 0.9554 - accuracy: 0.4699 - val_loss: 1.3126 - val_accuracy: 0.3978\n",
            "Epoch 13/100\n",
            "285/285 [==============================] - 27s 95ms/step - loss: 0.8589 - accuracy: 0.5097 - val_loss: 1.2407 - val_accuracy: 0.4233\n",
            "Epoch 14/100\n",
            "285/285 [==============================] - 27s 94ms/step - loss: 0.7758 - accuracy: 0.5409 - val_loss: 1.1707 - val_accuracy: 0.4848\n",
            "Epoch 15/100\n",
            "285/285 [==============================] - 26s 91ms/step - loss: 0.7014 - accuracy: 0.5744 - val_loss: 1.1045 - val_accuracy: 0.5445\n",
            "Epoch 16/100\n",
            "285/285 [==============================] - 26s 91ms/step - loss: 0.6348 - accuracy: 0.5970 - val_loss: 1.2528 - val_accuracy: 0.4330\n",
            "Epoch 17/100\n",
            "285/285 [==============================] - 27s 93ms/step - loss: 0.5774 - accuracy: 0.6403 - val_loss: 1.1315 - val_accuracy: 0.5200\n",
            "Epoch 18/100\n",
            "285/285 [==============================] - 27s 93ms/step - loss: 0.5029 - accuracy: 0.6715 - val_loss: 1.1676 - val_accuracy: 0.5220\n",
            "Epoch 19/100\n",
            "285/285 [==============================] - 27s 94ms/step - loss: 0.4624 - accuracy: 0.7021 - val_loss: 1.1384 - val_accuracy: 0.5503\n",
            "Epoch 20/100\n",
            "285/285 [==============================] - 26s 92ms/step - loss: 0.4230 - accuracy: 0.7269 - val_loss: 1.2493 - val_accuracy: 0.5210\n",
            "Epoch 20: early stopping\n"
          ]
        }
      ]
    },
    {
      "cell_type": "code",
      "source": [
        "# https://stackoverflow.com/questions/50825936/confusion-matrix-on-images-in-cnn-keras\n",
        "# https://stackoverflow.com/questions/67303001/plot-confusion-matrix-with-keras-data-generator-using-sklearn\n",
        "\n",
        "test_steps_per_epoch = np.math.ceil(test_gen_2.samples / test_gen_2.batch_size)\n",
        "preds = model14.predict(test_gen_2, steps=test_steps_per_epoch)"
      ],
      "metadata": {
        "id": "JlVzC37-Pjh1"
      },
      "execution_count": 26,
      "outputs": []
    },
    {
      "cell_type": "code",
      "source": [
        "ConfusionMatrixDisplay.from_predictions(test_gen_2.classes, np.argmax(preds, axis=1), display_labels=list(test_gen_2.class_indices.keys()));"
      ],
      "metadata": {
        "colab": {
          "base_uri": "https://localhost:8080/",
          "height": 279
        },
        "outputId": "e4156d61-6f08-4513-f42e-075b7ae24713",
        "id": "XBYAaOAqPjh1"
      },
      "execution_count": 27,
      "outputs": [
        {
          "output_type": "display_data",
          "data": {
            "text/plain": [
              "<Figure size 432x288 with 2 Axes>"
            ],
            "image/png": "[encoded data removed]"
          },
          "metadata": {
            "needs_background": "light"
          }
        }
      ]
    },
    {
      "cell_type": "code",
      "source": [
        "model15 = Sequential()\n",
        "model15.add(Conv2D(32,(3,3),activation='relu',input_shape=(256,256,3)))\n",
        "model15.add(MaxPooling2D(pool_size=(2,2)))\n",
        "\n",
        "model15.add(Conv2D(32,(3,3),activation='relu'))\n",
        "model15.add(MaxPooling2D(pool_size=(2,2)))\n",
        "\n",
        "model15.add(Conv2D(64,(3,3),activation='relu'))\n",
        "model15.add(MaxPooling2D(pool_size=(2,2)))\n",
        "\n",
        "model15.add(Conv2D(64,(3,3),activation='relu'))\n",
        "model15.add(MaxPooling2D(pool_size=(2,2)))\n",
        "\n",
        "model15.add(Conv2D(128,(3,3),activation='relu'))\n",
        "model15.add(MaxPooling2D(pool_size=(2,2)))\n",
        "\n",
        "model15.add(Flatten())\n",
        "model15.add(Dense(128,activation='relu'))\n",
        "model15.add(Dropout(0.4))\n",
        "model15.add(Dense(5,activation='softmax'))\n",
        "\n",
        "model15.compile(\n",
        "    optimizer = Adam(learning_rate=.00001),\n",
        "    loss = 'categorical_crossentropy',\n",
        "    metrics = ['accuracy']\n",
        ")"
      ],
      "metadata": {
        "id": "nU_0Z0xXTbHg"
      },
      "execution_count": 28,
      "outputs": []
    },
    {
      "cell_type": "code",
      "source": [
        "history15 = model15.fit(\n",
        "    train_gen_2,\n",
        "    class_weight=train_class_weights,\n",
        "    validation_data=test_gen_2,\n",
        "    epochs=100,\n",
        "    callbacks=[early_stop]\n",
        ")"
      ],
      "metadata": {
        "colab": {
          "base_uri": "https://localhost:8080/"
        },
        "outputId": "be8da127-c480-45f8-c497-e268e61cdbc8",
        "id": "vx05vJ_0TbHn"
      },
      "execution_count": 29,
      "outputs": [
        {
          "output_type": "stream",
          "name": "stdout",
          "text": [
            "Epoch 1/100\n",
            "285/285 [==============================] - 28s 94ms/step - loss: 1.6113 - accuracy: 0.2676 - val_loss: 1.5955 - val_accuracy: 0.4448\n",
            "Epoch 2/100\n",
            "285/285 [==============================] - 25s 87ms/step - loss: 1.6029 - accuracy: 0.2391 - val_loss: 1.5861 - val_accuracy: 0.5034\n",
            "Epoch 3/100\n",
            "285/285 [==============================] - 25s 89ms/step - loss: 1.5997 - accuracy: 0.2343 - val_loss: 1.5937 - val_accuracy: 0.1896\n",
            "Epoch 4/100\n",
            "285/285 [==============================] - 25s 88ms/step - loss: 1.5939 - accuracy: 0.2378 - val_loss: 1.5860 - val_accuracy: 0.2903\n",
            "Epoch 5/100\n",
            "285/285 [==============================] - 25s 87ms/step - loss: 1.5912 - accuracy: 0.2879 - val_loss: 1.6067 - val_accuracy: 0.0890\n",
            "Epoch 6/100\n",
            "285/285 [==============================] - 25s 86ms/step - loss: 1.5790 - accuracy: 0.2299 - val_loss: 1.5937 - val_accuracy: 0.1779\n",
            "Epoch 7/100\n",
            "285/285 [==============================] - 25s 86ms/step - loss: 1.5695 - accuracy: 0.1996 - val_loss: 1.5880 - val_accuracy: 0.2463\n",
            "Epoch 8/100\n",
            "285/285 [==============================] - 25s 87ms/step - loss: 1.5608 - accuracy: 0.2532 - val_loss: 1.5733 - val_accuracy: 0.2209\n",
            "Epoch 9/100\n",
            "285/285 [==============================] - 25s 88ms/step - loss: 1.5572 - accuracy: 0.2261 - val_loss: 1.5656 - val_accuracy: 0.2346\n",
            "Epoch 10/100\n",
            "285/285 [==============================] - 25s 89ms/step - loss: 1.5460 - accuracy: 0.2549 - val_loss: 1.5666 - val_accuracy: 0.2287\n",
            "Epoch 11/100\n",
            "285/285 [==============================] - 25s 87ms/step - loss: 1.5308 - accuracy: 0.2419 - val_loss: 1.5950 - val_accuracy: 0.1662\n",
            "Epoch 12/100\n",
            "285/285 [==============================] - 25s 87ms/step - loss: 1.5269 - accuracy: 0.2468 - val_loss: 1.5789 - val_accuracy: 0.1916\n",
            "Epoch 13/100\n",
            "285/285 [==============================] - 26s 90ms/step - loss: 1.5201 - accuracy: 0.2393 - val_loss: 1.5566 - val_accuracy: 0.2307\n",
            "Epoch 14/100\n",
            "285/285 [==============================] - 25s 87ms/step - loss: 1.5115 - accuracy: 0.2582 - val_loss: 1.5503 - val_accuracy: 0.2346\n",
            "Epoch 15/100\n",
            "285/285 [==============================] - 25s 87ms/step - loss: 1.5044 - accuracy: 0.2620 - val_loss: 1.5816 - val_accuracy: 0.1603\n",
            "Epoch 16/100\n",
            "285/285 [==============================] - 25s 87ms/step - loss: 1.4972 - accuracy: 0.2344 - val_loss: 1.5322 - val_accuracy: 0.2854\n",
            "Epoch 17/100\n",
            "285/285 [==============================] - 24s 85ms/step - loss: 1.4958 - accuracy: 0.2708 - val_loss: 1.5601 - val_accuracy: 0.2297\n",
            "Epoch 18/100\n",
            "285/285 [==============================] - 24s 84ms/step - loss: 1.4930 - accuracy: 0.2528 - val_loss: 1.5636 - val_accuracy: 0.2053\n",
            "Epoch 19/100\n",
            "285/285 [==============================] - 25s 87ms/step - loss: 1.4851 - accuracy: 0.2602 - val_loss: 1.5613 - val_accuracy: 0.2092\n",
            "Epoch 20/100\n",
            "285/285 [==============================] - 24s 86ms/step - loss: 1.4722 - accuracy: 0.2593 - val_loss: 1.5369 - val_accuracy: 0.2395\n",
            "Epoch 21/100\n",
            "285/285 [==============================] - 25s 88ms/step - loss: 1.4730 - accuracy: 0.2798 - val_loss: 1.5627 - val_accuracy: 0.2180\n",
            "Epoch 21: early stopping\n"
          ]
        }
      ]
    },
    {
      "cell_type": "code",
      "source": [
        "# https://stackoverflow.com/questions/50825936/confusion-matrix-on-images-in-cnn-keras\n",
        "# https://stackoverflow.com/questions/67303001/plot-confusion-matrix-with-keras-data-generator-using-sklearn\n",
        "\n",
        "test_steps_per_epoch = np.math.ceil(test_gen_2.samples / test_gen_2.batch_size)\n",
        "preds = model15.predict(test_gen_2, steps=test_steps_per_epoch)"
      ],
      "metadata": {
        "id": "0qZe-_7ju7jG"
      },
      "execution_count": 31,
      "outputs": []
    },
    {
      "cell_type": "code",
      "source": [
        "ConfusionMatrixDisplay.from_predictions(test_gen_2.classes, np.argmax(preds, axis=1), display_labels=list(test_gen_2.class_indices.keys()));"
      ],
      "metadata": {
        "colab": {
          "base_uri": "https://localhost:8080/",
          "height": 279
        },
        "outputId": "4fde41b7-2ec4-43d1-9a16-5e8beac1f528",
        "id": "bJ_Rdi6au7jM"
      },
      "execution_count": 32,
      "outputs": [
        {
          "output_type": "display_data",
          "data": {
            "text/plain": [
              "<Figure size 432x288 with 2 Axes>"
            ],
            "image/png": "[encoded data removed]"
          },
          "metadata": {
            "needs_background": "light"
          }
        }
      ]
    },
    {
      "cell_type": "code",
      "source": [
        "model16 = Sequential()\n",
        "model16.add(Conv2D(32,(3,3),activation='relu',input_shape=(256,256,3)))\n",
        "model16.add(MaxPooling2D(pool_size=(2,2)))\n",
        "\n",
        "model16.add(Conv2D(64,(3,3),activation='relu'))\n",
        "model16.add(MaxPooling2D(pool_size=(2,2)))\n",
        "\n",
        "model16.add(Flatten())\n",
        "model16.add(Dense(128,activation='relu'))\n",
        "model16.add(Dropout(0.4))\n",
        "model16.add(Dense(5,activation='softmax'))\n",
        "\n",
        "model16.compile(\n",
        "    optimizer = Adam(learning_rate=.0001),\n",
        "    loss = 'categorical_crossentropy',\n",
        "    metrics = ['accuracy']\n",
        ")"
      ],
      "metadata": {
        "id": "FJypZjiXVRPw"
      },
      "execution_count": 30,
      "outputs": []
    },
    {
      "cell_type": "code",
      "source": [
        "history16 = model16.fit(\n",
        "    train_gen_2,\n",
        "    class_weight=train_class_weights,\n",
        "    validation_data=test_gen_2,\n",
        "    epochs=100,\n",
        "    callbacks=[early_stop]\n",
        ")"
      ],
      "metadata": {
        "colab": {
          "base_uri": "https://localhost:8080/"
        },
        "outputId": "ebd2a2d5-ce12-4458-b054-11b39b0005c7",
        "id": "tGk_eHm2VRP3"
      },
      "execution_count": 33,
      "outputs": [
        {
          "output_type": "stream",
          "name": "stdout",
          "text": [
            "Epoch 1/100\n",
            "285/285 [==============================] - 26s 88ms/step - loss: 1.8062 - accuracy: 0.2462 - val_loss: 1.5713 - val_accuracy: 0.2346\n",
            "Epoch 2/100\n",
            "285/285 [==============================] - 26s 91ms/step - loss: 1.5514 - accuracy: 0.2647 - val_loss: 1.5217 - val_accuracy: 0.4057\n",
            "Epoch 3/100\n",
            "285/285 [==============================] - 25s 87ms/step - loss: 1.4507 - accuracy: 0.2908 - val_loss: 1.5646 - val_accuracy: 0.2893\n",
            "Epoch 4/100\n",
            "285/285 [==============================] - 25s 88ms/step - loss: 1.3267 - accuracy: 0.3325 - val_loss: 1.5542 - val_accuracy: 0.2395\n",
            "Epoch 5/100\n",
            "285/285 [==============================] - 25s 88ms/step - loss: 1.1629 - accuracy: 0.3933 - val_loss: 1.4958 - val_accuracy: 0.2942\n",
            "Epoch 6/100\n",
            "285/285 [==============================] - 25s 89ms/step - loss: 1.0414 - accuracy: 0.4399 - val_loss: 1.2343 - val_accuracy: 0.5161\n",
            "Epoch 7/100\n",
            "285/285 [==============================] - 26s 91ms/step - loss: 0.9041 - accuracy: 0.4979 - val_loss: 1.1802 - val_accuracy: 0.4946\n",
            "Epoch 8/100\n",
            "285/285 [==============================] - 26s 92ms/step - loss: 0.8299 - accuracy: 0.5424 - val_loss: 1.1412 - val_accuracy: 0.4985\n",
            "Epoch 9/100\n",
            "285/285 [==============================] - 26s 91ms/step - loss: 0.7350 - accuracy: 0.5672 - val_loss: 1.1153 - val_accuracy: 0.4985\n",
            "Epoch 10/100\n",
            "285/285 [==============================] - 27s 95ms/step - loss: 0.6667 - accuracy: 0.6170 - val_loss: 1.1351 - val_accuracy: 0.4829\n",
            "Epoch 11/100\n",
            "285/285 [==============================] - 26s 92ms/step - loss: 0.5710 - accuracy: 0.6445 - val_loss: 0.9535 - val_accuracy: 0.6080\n",
            "Epoch 12/100\n",
            "285/285 [==============================] - 26s 91ms/step - loss: 0.5225 - accuracy: 0.6911 - val_loss: 1.0568 - val_accuracy: 0.5396\n",
            "Epoch 13/100\n",
            "285/285 [==============================] - 26s 90ms/step - loss: 0.4706 - accuracy: 0.7112 - val_loss: 1.1008 - val_accuracy: 0.5112\n",
            "Epoch 14/100\n",
            "285/285 [==============================] - 26s 90ms/step - loss: 0.4367 - accuracy: 0.7425 - val_loss: 0.9838 - val_accuracy: 0.5924\n",
            "Epoch 15/100\n",
            "285/285 [==============================] - 25s 89ms/step - loss: 0.3749 - accuracy: 0.7742 - val_loss: 1.0116 - val_accuracy: 0.5924\n",
            "Epoch 16/100\n",
            "285/285 [==============================] - 26s 91ms/step - loss: 0.3304 - accuracy: 0.8020 - val_loss: 1.0294 - val_accuracy: 0.5670\n",
            "Epoch 16: early stopping\n"
          ]
        }
      ]
    },
    {
      "cell_type": "code",
      "source": [
        "# https://stackoverflow.com/questions/50825936/confusion-matrix-on-images-in-cnn-keras\n",
        "# https://stackoverflow.com/questions/67303001/plot-confusion-matrix-with-keras-data-generator-using-sklearn\n",
        "\n",
        "test_steps_per_epoch = np.math.ceil(test_gen_2.samples / test_gen_2.batch_size)\n",
        "preds = model16.predict(test_gen_2, steps=test_steps_per_epoch)"
      ],
      "metadata": {
        "id": "PDmb68inVRP3"
      },
      "execution_count": 34,
      "outputs": []
    },
    {
      "cell_type": "code",
      "source": [
        "ConfusionMatrixDisplay.from_predictions(test_gen_2.classes, np.argmax(preds, axis=1), display_labels=list(test_gen_2.class_indices.keys()));"
      ],
      "metadata": {
        "colab": {
          "base_uri": "https://localhost:8080/",
          "height": 279
        },
        "outputId": "16f7395a-8f23-4898-a2cb-a13d935563d0",
        "id": "V7Bhe1QuVRP4"
      },
      "execution_count": 35,
      "outputs": [
        {
          "output_type": "display_data",
          "data": {
            "text/plain": [
              "<Figure size 432x288 with 2 Axes>"
            ],
            "image/png": "[encoded data removed]"
          },
          "metadata": {
            "needs_background": "light"
          }
        }
      ]
    },
    {
      "cell_type": "code",
      "source": [
        "model17 = Sequential()\n",
        "\n",
        "model17.add(Conv2D(64,(3,3),activation='relu'))\n",
        "model17.add(MaxPooling2D(pool_size=(2,2)))\n",
        "\n",
        "model17.add(Flatten())\n",
        "model17.add(Dense(64,activation='relu'))\n",
        "model17.add(Dropout(0.4))\n",
        "model17.add(Dense(5,activation='softmax'))\n",
        "\n",
        "model17.compile(\n",
        "    optimizer = Adam(learning_rate=.0001),\n",
        "    loss = 'categorical_crossentropy',\n",
        "    metrics = ['accuracy']\n",
        ")"
      ],
      "metadata": {
        "id": "a171xjuXZugx"
      },
      "execution_count": 36,
      "outputs": []
    },
    {
      "cell_type": "code",
      "source": [
        "history17 = model17.fit(\n",
        "    train_gen_2,\n",
        "    class_weight=train_class_weights,\n",
        "    validation_data=test_gen_2,\n",
        "    epochs=100,\n",
        "    callbacks=[early_stop]\n",
        ")"
      ],
      "metadata": {
        "colab": {
          "base_uri": "https://localhost:8080/"
        },
        "outputId": "cc31e8a2-79d3-4402-9a34-8685ff3b89fd",
        "id": "PGq437hRZug4"
      },
      "execution_count": 37,
      "outputs": [
        {
          "output_type": "stream",
          "name": "stdout",
          "text": [
            "Epoch 1/100\n",
            "285/285 [==============================] - 29s 101ms/step - loss: 1.8774 - accuracy: 0.1600 - val_loss: 1.6094 - val_accuracy: 0.2581\n",
            "Epoch 2/100\n",
            "285/285 [==============================] - 27s 94ms/step - loss: 1.6095 - accuracy: 0.1414 - val_loss: 1.6095 - val_accuracy: 0.2581\n",
            "Epoch 3/100\n",
            "285/285 [==============================] - 26s 93ms/step - loss: 1.6041 - accuracy: 0.1373 - val_loss: 1.6092 - val_accuracy: 0.2581\n",
            "Epoch 4/100\n",
            "285/285 [==============================] - 27s 93ms/step - loss: 1.6056 - accuracy: 0.0945 - val_loss: 1.6094 - val_accuracy: 0.2581\n",
            "Epoch 5/100\n",
            "285/285 [==============================] - 27s 93ms/step - loss: 1.6024 - accuracy: 0.1644 - val_loss: 1.6093 - val_accuracy: 0.2581\n",
            "Epoch 6/100\n",
            "285/285 [==============================] - 27s 94ms/step - loss: 1.6060 - accuracy: 0.1438 - val_loss: 1.6090 - val_accuracy: 0.2581\n",
            "Epoch 7/100\n",
            "285/285 [==============================] - 27s 94ms/step - loss: 1.6053 - accuracy: 0.1926 - val_loss: 1.6089 - val_accuracy: 0.2581\n",
            "Epoch 8/100\n",
            "285/285 [==============================] - 27s 95ms/step - loss: 1.6024 - accuracy: 0.2514 - val_loss: 1.6088 - val_accuracy: 0.2581\n",
            "Epoch 9/100\n",
            "285/285 [==============================] - 27s 96ms/step - loss: 1.6095 - accuracy: 0.2512 - val_loss: 1.6088 - val_accuracy: 0.2581\n",
            "Epoch 10/100\n",
            "285/285 [==============================] - 27s 95ms/step - loss: 1.6059 - accuracy: 0.2012 - val_loss: 1.6086 - val_accuracy: 0.2581\n",
            "Epoch 11/100\n",
            "285/285 [==============================] - 27s 96ms/step - loss: 1.6059 - accuracy: 0.3145 - val_loss: 1.6085 - val_accuracy: 0.2581\n",
            "Epoch 12/100\n",
            "285/285 [==============================] - 27s 95ms/step - loss: 1.6060 - accuracy: 0.2511 - val_loss: 1.6086 - val_accuracy: 0.2581\n",
            "Epoch 13/100\n",
            "285/285 [==============================] - 27s 96ms/step - loss: 1.6024 - accuracy: 0.2618 - val_loss: 1.6082 - val_accuracy: 0.2581\n",
            "Epoch 14/100\n",
            "285/285 [==============================] - 27s 94ms/step - loss: 1.6024 - accuracy: 0.4133 - val_loss: 1.6082 - val_accuracy: 0.2581\n",
            "Epoch 15/100\n",
            "285/285 [==============================] - 27s 95ms/step - loss: 1.6024 - accuracy: 0.2105 - val_loss: 1.6081 - val_accuracy: 0.2581\n",
            "Epoch 16/100\n",
            "285/285 [==============================] - 27s 95ms/step - loss: 1.6024 - accuracy: 0.2731 - val_loss: 1.6083 - val_accuracy: 0.2581\n",
            "Epoch 17/100\n",
            "285/285 [==============================] - 27s 96ms/step - loss: 1.6024 - accuracy: 0.2425 - val_loss: 1.6082 - val_accuracy: 0.2581\n",
            "Epoch 18/100\n",
            "285/285 [==============================] - 27s 95ms/step - loss: 1.6059 - accuracy: 0.3496 - val_loss: 1.6082 - val_accuracy: 0.2581\n",
            "Epoch 19/100\n",
            "285/285 [==============================] - 27s 95ms/step - loss: 1.6059 - accuracy: 0.1708 - val_loss: 1.6081 - val_accuracy: 0.2581\n",
            "Epoch 20/100\n",
            "285/285 [==============================] - 28s 100ms/step - loss: 1.6059 - accuracy: 0.3670 - val_loss: 1.6079 - val_accuracy: 0.2581\n",
            "Epoch 21/100\n",
            "285/285 [==============================] - 27s 95ms/step - loss: 1.6059 - accuracy: 0.2079 - val_loss: 1.6079 - val_accuracy: 0.5914\n",
            "Epoch 22/100\n",
            "285/285 [==============================] - 27s 94ms/step - loss: 1.6024 - accuracy: 0.2532 - val_loss: 1.6077 - val_accuracy: 0.2581\n",
            "Epoch 23/100\n",
            "285/285 [==============================] - 27s 94ms/step - loss: 1.6059 - accuracy: 0.2527 - val_loss: 1.6077 - val_accuracy: 0.2581\n",
            "Epoch 24/100\n",
            "285/285 [==============================] - 24s 85ms/step - loss: 1.6095 - accuracy: 0.2854 - val_loss: 1.6080 - val_accuracy: 0.2581\n",
            "Epoch 25/100\n",
            "285/285 [==============================] - 24s 86ms/step - loss: 1.6024 - accuracy: 0.1667 - val_loss: 1.6079 - val_accuracy: 0.2581\n",
            "Epoch 26/100\n",
            "285/285 [==============================] - 24s 85ms/step - loss: 1.6059 - accuracy: 0.2321 - val_loss: 1.6078 - val_accuracy: 0.2581\n",
            "Epoch 27/100\n",
            "285/285 [==============================] - 24s 86ms/step - loss: 1.6059 - accuracy: 0.1755 - val_loss: 1.6078 - val_accuracy: 0.5914\n",
            "Epoch 27: early stopping\n"
          ]
        }
      ]
    },
    {
      "cell_type": "code",
      "source": [
        "# https://stackoverflow.com/questions/50825936/confusion-matrix-on-images-in-cnn-keras\n",
        "# https://stackoverflow.com/questions/67303001/plot-confusion-matrix-with-keras-data-generator-using-sklearn\n",
        "\n",
        "test_steps_per_epoch = np.math.ceil(test_gen_2.samples / test_gen_2.batch_size)\n",
        "preds = model17.predict(test_gen_2, steps=test_steps_per_epoch)"
      ],
      "metadata": {
        "id": "DSYgWzsNZug4"
      },
      "execution_count": 38,
      "outputs": []
    },
    {
      "cell_type": "code",
      "source": [
        "ConfusionMatrixDisplay.from_predictions(test_gen_2.classes, np.argmax(preds, axis=1), display_labels=list(test_gen_2.class_indices.keys()));"
      ],
      "metadata": {
        "colab": {
          "base_uri": "https://localhost:8080/",
          "height": 282
        },
        "outputId": "30f327f7-0b62-4ce1-96a5-74c76db06077",
        "id": "5UWvZHhTZug4"
      },
      "execution_count": 39,
      "outputs": [
        {
          "output_type": "display_data",
          "data": {
            "text/plain": [
              "<Figure size 432x288 with 2 Axes>"
            ],
            "image/png": "[encoded data removed]"
          },
          "metadata": {
            "needs_background": "light"
          }
        }
      ]
    },
    {
      "cell_type": "markdown",
      "source": [
        "### Data Augmentation with Weighted Classes"
      ],
      "metadata": {
        "id": "9SnPY_JYbZa1"
      }
    },
    {
      "cell_type": "code",
      "source": [
        "aug_train_gen = ImageDataGenerator(\n",
        "    rescale=1/255,\n",
        "    rotation_range=20,\n",
        "    horizontal_flip=True,\n",
        "    width_shift_range=0.2,\n",
        "    height_shift_range=0.2,\n",
        "    zoom_range=0.2\n",
        ")\n",
        "\n",
        "datagen = ImageDataGenerator(rescale=1/255)"
      ],
      "metadata": {
        "id": "RThHodFrblH9"
      },
      "execution_count": 40,
      "outputs": []
    },
    {
      "cell_type": "code",
      "source": [
        "aug_train = aug_train_gen.flow_from_dataframe(\n",
        "    dataframe=train,\n",
        "    directory='/content/224x224',\n",
        "    x_col='filename',\n",
        "    y_col='decade',\n",
        "    class_mode='categorical',\n",
        "    target_size=(256,256)\n",
        ")\n",
        "\n",
        "aug_test = datagen.flow_from_dataframe(\n",
        "    dataframe=test,\n",
        "    directory='/content/224x224',\n",
        "    x_col='filename',\n",
        "    y_col='decade',\n",
        "    class_mode='categorical',\n",
        "    target_size=(256,256)\n",
        ")"
      ],
      "metadata": {
        "colab": {
          "base_uri": "https://localhost:8080/"
        },
        "outputId": "c10f4a47-2e0f-432f-f3dd-d4d66c042d29",
        "id": "-oyc-ampblH-"
      },
      "execution_count": 41,
      "outputs": [
        {
          "output_type": "stream",
          "name": "stdout",
          "text": [
            "Found 9117 validated image filenames belonging to 5 classes.\n",
            "Found 1023 validated image filenames belonging to 5 classes.\n"
          ]
        }
      ]
    },
    {
      "cell_type": "code",
      "source": [
        "# https://stackoverflow.com/questions/42586475/is-it-possible-to-automatically-infer-the-class-weight-from-flow-from-directory/67678399#67678399\n",
        "\n",
        "class_weights = class_weight.compute_class_weight(\n",
        "            class_weight='balanced',\n",
        "            classes=np.unique(aug_train.classes), \n",
        "            y = aug_train.classes)\n",
        "\n",
        "train_class_weights = dict(enumerate(class_weights))"
      ],
      "metadata": {
        "id": "1kC8RJ0oc4sS"
      },
      "execution_count": 42,
      "outputs": []
    },
    {
      "cell_type": "code",
      "source": [
        "model18 = Sequential()\n",
        "model18.add(Conv2D(32,(3,3),activation='relu',input_shape=(256,256,3)))\n",
        "model18.add(MaxPooling2D(pool_size=(2,2)))\n",
        "\n",
        "model18.add(Conv2D(64,(3,3),activation='relu'))\n",
        "model18.add(MaxPooling2D(pool_size=(2,2)))\n",
        "\n",
        "model18.add(Flatten())\n",
        "model18.add(Dense(128,activation='relu'))\n",
        "model18.add(Dropout(0.4))\n",
        "model18.add(Dense(5,activation='softmax'))\n",
        "\n",
        "model18.compile(\n",
        "    optimizer = Adam(learning_rate=.0001),\n",
        "    loss = 'categorical_crossentropy',\n",
        "    metrics = ['accuracy']\n",
        ")"
      ],
      "metadata": {
        "id": "okedYE20kQ5_"
      },
      "execution_count": 43,
      "outputs": []
    },
    {
      "cell_type": "code",
      "source": [
        "history18 = model18.fit(\n",
        "    aug_train,\n",
        "    class_weight=train_class_weights,\n",
        "    validation_data=aug_test,\n",
        "    epochs=100,\n",
        "    callbacks=[early_stop]\n",
        ")"
      ],
      "metadata": {
        "colab": {
          "base_uri": "https://localhost:8080/"
        },
        "outputId": "b582746f-86dd-45a3-c578-92505879be0b",
        "id": "Z0PLTFqkkQ6F"
      },
      "execution_count": 44,
      "outputs": [
        {
          "output_type": "stream",
          "name": "stdout",
          "text": [
            "Epoch 1/100\n",
            "285/285 [==============================] - 131s 458ms/step - loss: 1.6787 - accuracy: 0.1282 - val_loss: 1.6102 - val_accuracy: 0.1232\n",
            "Epoch 2/100\n",
            "285/285 [==============================] - 130s 456ms/step - loss: 1.6095 - accuracy: 0.1266 - val_loss: 1.6100 - val_accuracy: 0.1232\n",
            "Epoch 3/100\n",
            "285/285 [==============================] - 132s 461ms/step - loss: 1.6181 - accuracy: 0.1352 - val_loss: 1.6104 - val_accuracy: 0.1232\n",
            "Epoch 4/100\n",
            "285/285 [==============================] - 130s 455ms/step - loss: 1.6095 - accuracy: 0.1062 - val_loss: 1.6104 - val_accuracy: 0.1232\n",
            "Epoch 5/100\n",
            "285/285 [==============================] - 131s 461ms/step - loss: 1.6095 - accuracy: 0.0961 - val_loss: 1.6103 - val_accuracy: 0.1232\n",
            "Epoch 6/100\n",
            "285/285 [==============================] - 130s 456ms/step - loss: 1.6116 - accuracy: 0.0772 - val_loss: 1.6105 - val_accuracy: 0.1232\n",
            "Epoch 7/100\n",
            "285/285 [==============================] - 132s 462ms/step - loss: 1.6095 - accuracy: 0.0928 - val_loss: 1.6103 - val_accuracy: 0.1232\n",
            "Epoch 7: early stopping\n"
          ]
        }
      ]
    },
    {
      "cell_type": "code",
      "source": [
        "# https://stackoverflow.com/questions/50825936/confusion-matrix-on-images-in-cnn-keras\n",
        "# https://stackoverflow.com/questions/67303001/plot-confusion-matrix-with-keras-data-generator-using-sklearn\n",
        "\n",
        "test_steps_per_epoch = np.math.ceil(aug_test.samples / aug_test.batch_size)\n",
        "preds = model18.predict(aug_test, steps=test_steps_per_epoch)"
      ],
      "metadata": {
        "id": "w3eN2ZQlkQ6F"
      },
      "execution_count": 45,
      "outputs": []
    },
    {
      "cell_type": "code",
      "source": [
        "ConfusionMatrixDisplay.from_predictions(aug_test.classes, np.argmax(preds, axis=1), display_labels=list(aug_test.class_indices.keys()));"
      ],
      "metadata": {
        "colab": {
          "base_uri": "https://localhost:8080/",
          "height": 282
        },
        "outputId": "f0c13b40-5fff-48c6-e8a6-604d266588ed",
        "id": "ZhvnAlwokQ6G"
      },
      "execution_count": 46,
      "outputs": [
        {
          "output_type": "display_data",
          "data": {
            "text/plain": [
              "<Figure size 432x288 with 2 Axes>"
            ],
            "image/png": "[encoded data removed]"
          },
          "metadata": {
            "needs_background": "light"
          }
        }
      ]
    },
    {
      "cell_type": "markdown",
      "source": [
        "#### Hyperparameter Tuning with CNN & Weighted Classes"
      ],
      "metadata": {
        "id": "u6NiC3UFHnAa"
      }
    },
    {
      "cell_type": "code",
      "source": [
        "# https://stackoverflow.com/questions/42586475/is-it-possible-to-automatically-infer-the-class-weight-from-flow-from-directory/67678399#67678399\n",
        "\n",
        "class_weights = class_weight.compute_class_weight(\n",
        "            class_weight='balanced',\n",
        "            classes=np.unique(train_gen_2.classes), \n",
        "            y = train_gen_2.classes)\n",
        "\n",
        "train_class_weights = dict(enumerate(class_weights))"
      ],
      "metadata": {
        "id": "ps4TUvjsLBnH"
      },
      "execution_count": 52,
      "outputs": []
    },
    {
      "cell_type": "code",
      "source": [
        "# https://www.kaggle.com/code/arezoodahesh/fashion-mnist-cnn-model\n",
        "\n",
        "def build_model(hp):\n",
        "    model = Sequential([\n",
        "        \n",
        "    # First conv_block\n",
        "    Conv2D(\n",
        "        filters = hp.Choice('conv_1_filter', values=[16, 32, 64, 128]),\n",
        "        kernel_size=hp.Choice('conv_1_kernel', values = [3,4]),\n",
        "        activation='relu',\n",
        "        input_shape=(256,256,3)),\n",
        "    MaxPooling2D((2,2)),\n",
        "    \n",
        "    # Second conv_block\n",
        "    Conv2D(\n",
        "        filters = hp.Choice('conv_2_filter', values=[16, 32, 64, 128]),\n",
        "        kernel_size=hp.Choice('conv_2_kernel', values = [3,4]),\n",
        "        activation='relu'),\n",
        "    MaxPooling2D((2,2)),\n",
        "\n",
        "    # Third conv_block\n",
        "    Conv2D(\n",
        "        filters = hp.Choice('conv_3_filter', values=[16, 32, 64, 128]),\n",
        "        kernel_size=hp.Choice('conv_3_kernel', values = [3,4]),\n",
        "        activation='relu'),\n",
        "    MaxPooling2D((2,2)),\n",
        "\n",
        "    # Fourth conv_block\n",
        "    Conv2D(\n",
        "        filters = hp.Choice('conv_4_filter', values=[16, 32, 64, 128]),\n",
        "        kernel_size=hp.Choice('conv_4_kernel', values = [3,4]),\n",
        "        activation='relu'),\n",
        "    MaxPooling2D((2,2)),\n",
        "    \n",
        "    # --------------------------------\n",
        "    Flatten(),\n",
        "    Dense(units = hp.Choice('units', values=[16, 32, 64, 128, 256]),\n",
        "                       activation='relu'),\n",
        "    Dropout(hp.Float('dropout', 0, 0.5, step=0.1, default=0.5)),\n",
        "        \n",
        "    # --------------------------------\n",
        "    Dense(5)\n",
        "    ])\n",
        "\n",
        "    model.compile(optimizer=Adam(hp.Choice('learning_rate', \n",
        "                                           values=[1e-1, 1e-2, 1e-3, 1e-4])),\n",
        "              loss=CategoricalCrossentropy(from_logits=True),\n",
        "              metrics=['accuracy'])\n",
        "    return model"
      ],
      "metadata": {
        "id": "OGRrFgZYpG66"
      },
      "execution_count": 48,
      "outputs": []
    },
    {
      "cell_type": "code",
      "source": [
        "stop_early = EarlyStopping(monitor='val_loss', patience=5)"
      ],
      "metadata": {
        "id": "6dngW5VPJJzf"
      },
      "execution_count": 49,
      "outputs": []
    },
    {
      "cell_type": "code",
      "source": [
        "tuner = kt.Hyperband(build_model,\n",
        "                     objective=\"val_accuracy\",\n",
        "                     max_epochs=100,\n",
        "                     factor=3,\n",
        "                     hyperband_iterations=3)"
      ],
      "metadata": {
        "id": "kBA20PgCIqM0"
      },
      "execution_count": 50,
      "outputs": []
    },
    {
      "cell_type": "code",
      "source": [
        "tuner.search(\n",
        "    train_gen_2,\n",
        "    class_weight=train_class_weights,\n",
        "    validation_data=test_gen_2,\n",
        "    epochs=100,\n",
        "    callbacks=[stop_early]\n",
        ")"
      ],
      "metadata": {
        "colab": {
          "base_uri": "https://localhost:8080/",
          "height": 1000
        },
        "id": "LJ2y2OO2KQzP",
        "outputId": "f89af8ae-cf40-4069-8008-7ab91d3f2011"
      },
      "execution_count": 53,
      "outputs": [
        {
          "output_type": "stream",
          "name": "stdout",
          "text": [
            "Trial 142 Complete [00h 03m 53s]\n",
            "val_accuracy: 0.4877810478210449\n",
            "\n",
            "Best val_accuracy So Far: 0.5933528542518616\n",
            "Total elapsed time: 03h 13m 36s\n",
            "\n",
            "Search: Running Trial #143\n",
            "\n",
            "Value             |Best Value So Far |Hyperparameter\n",
            "32                |128               |conv_1_filter\n",
            "4                 |4                 |conv_1_kernel\n",
            "64                |16                |conv_2_filter\n",
            "3                 |4                 |conv_2_kernel\n",
            "64                |32                |conv_3_filter\n",
            "4                 |3                 |conv_3_kernel\n",
            "16                |128               |conv_4_filter\n",
            "4                 |4                 |conv_4_kernel\n",
            "256               |32                |units\n",
            "0.1               |0.1               |dropout\n",
            "0.1               |0.0001            |learning_rate\n",
            "34                |4                 |tuner/epochs\n",
            "12                |2                 |tuner/initial_epoch\n",
            "4                 |4                 |tuner/bracket\n",
            "3                 |1                 |tuner/round\n",
            "0132              |0065              |tuner/trial_id\n",
            "\n",
            "Epoch 13/34\n",
            "285/285 [==============================] - 24s 82ms/step - loss: 22026.2402 - accuracy: 0.0903 - val_loss: 1.6004 - val_accuracy: 0.0215\n",
            "Epoch 14/34\n",
            "285/285 [==============================] - 23s 81ms/step - loss: 1.6340 - accuracy: 0.1299 - val_loss: 1.3895 - val_accuracy: 0.2581\n",
            "Epoch 15/34\n",
            "285/285 [==============================] - 23s 81ms/step - loss: 1.6335 - accuracy: 0.1286 - val_loss: 1.6247 - val_accuracy: 0.0215\n",
            "Epoch 16/34\n",
            "285/285 [==============================] - 23s 81ms/step - loss: 1.6281 - accuracy: 0.1476 - val_loss: 1.5461 - val_accuracy: 0.0215\n",
            "Epoch 17/34\n",
            "285/285 [==============================] - 23s 81ms/step - loss: 1.6312 - accuracy: 0.1497 - val_loss: 1.5613 - val_accuracy: 0.1232\n",
            "Epoch 18/34\n",
            " 81/285 [=======>......................] - ETA: 14s - loss: 1.6634 - accuracy: 0.1046"
          ]
        },
        {
          "output_type": "error",
          "ename": "KeyboardInterrupt",
          "evalue": "ignored",
          "traceback": [
            "\u001b[0;31m---------------------------------------------------------------------------\u001b[0m",
            "\u001b[0;31mKeyboardInterrupt\u001b[0m                         Traceback (most recent call last)",
            "\u001b[0;32m<ipython-input-53-98c383b703ae>\u001b[0m in \u001b[0;36m<module>\u001b[0;34m()\u001b[0m\n\u001b[1;32m      4\u001b[0m     \u001b[0mvalidation_data\u001b[0m\u001b[0;34m=\u001b[0m\u001b[0mtest_gen_2\u001b[0m\u001b[0;34m,\u001b[0m\u001b[0;34m\u001b[0m\u001b[0;34m\u001b[0m\u001b[0m\n\u001b[1;32m      5\u001b[0m     \u001b[0mepochs\u001b[0m\u001b[0;34m=\u001b[0m\u001b[0;36m100\u001b[0m\u001b[0;34m,\u001b[0m\u001b[0;34m\u001b[0m\u001b[0;34m\u001b[0m\u001b[0m\n\u001b[0;32m----> 6\u001b[0;31m     \u001b[0mcallbacks\u001b[0m\u001b[0;34m=\u001b[0m\u001b[0;34m[\u001b[0m\u001b[0mstop_early\u001b[0m\u001b[0;34m]\u001b[0m\u001b[0;34m\u001b[0m\u001b[0;34m\u001b[0m\u001b[0m\n\u001b[0m\u001b[1;32m      7\u001b[0m )\n",
            "\u001b[0;32m/usr/local/lib/python3.7/dist-packages/keras_tuner/engine/base_tuner.py\u001b[0m in \u001b[0;36msearch\u001b[0;34m(self, *fit_args, **fit_kwargs)\u001b[0m\n\u001b[1;32m    177\u001b[0m \u001b[0;34m\u001b[0m\u001b[0m\n\u001b[1;32m    178\u001b[0m             \u001b[0mself\u001b[0m\u001b[0;34m.\u001b[0m\u001b[0mon_trial_begin\u001b[0m\u001b[0;34m(\u001b[0m\u001b[0mtrial\u001b[0m\u001b[0;34m)\u001b[0m\u001b[0;34m\u001b[0m\u001b[0;34m\u001b[0m\u001b[0m\n\u001b[0;32m--> 179\u001b[0;31m             \u001b[0mresults\u001b[0m \u001b[0;34m=\u001b[0m \u001b[0mself\u001b[0m\u001b[0;34m.\u001b[0m\u001b[0mrun_trial\u001b[0m\u001b[0;34m(\u001b[0m\u001b[0mtrial\u001b[0m\u001b[0;34m,\u001b[0m \u001b[0;34m*\u001b[0m\u001b[0mfit_args\u001b[0m\u001b[0;34m,\u001b[0m \u001b[0;34m**\u001b[0m\u001b[0mfit_kwargs\u001b[0m\u001b[0;34m)\u001b[0m\u001b[0;34m\u001b[0m\u001b[0;34m\u001b[0m\u001b[0m\n\u001b[0m\u001b[1;32m    180\u001b[0m             \u001b[0;31m# `results` is None indicates user updated oracle in `run_trial()`.\u001b[0m\u001b[0;34m\u001b[0m\u001b[0;34m\u001b[0m\u001b[0;34m\u001b[0m\u001b[0m\n\u001b[1;32m    181\u001b[0m             \u001b[0;32mif\u001b[0m \u001b[0mresults\u001b[0m \u001b[0;32mis\u001b[0m \u001b[0;32mNone\u001b[0m\u001b[0;34m:\u001b[0m\u001b[0;34m\u001b[0m\u001b[0;34m\u001b[0m\u001b[0m\n",
            "\u001b[0;32m/usr/local/lib/python3.7/dist-packages/keras_tuner/tuners/hyperband.py\u001b[0m in \u001b[0;36mrun_trial\u001b[0;34m(self, trial, *fit_args, **fit_kwargs)\u001b[0m\n\u001b[1;32m    382\u001b[0m             \u001b[0mfit_kwargs\u001b[0m\u001b[0;34m[\u001b[0m\u001b[0;34m\"epochs\"\u001b[0m\u001b[0;34m]\u001b[0m \u001b[0;34m=\u001b[0m \u001b[0mhp\u001b[0m\u001b[0;34m.\u001b[0m\u001b[0mvalues\u001b[0m\u001b[0;34m[\u001b[0m\u001b[0;34m\"tuner/epochs\"\u001b[0m\u001b[0;34m]\u001b[0m\u001b[0;34m\u001b[0m\u001b[0;34m\u001b[0m\u001b[0m\n\u001b[1;32m    383\u001b[0m             \u001b[0mfit_kwargs\u001b[0m\u001b[0;34m[\u001b[0m\u001b[0;34m\"initial_epoch\"\u001b[0m\u001b[0;34m]\u001b[0m \u001b[0;34m=\u001b[0m \u001b[0mhp\u001b[0m\u001b[0;34m.\u001b[0m\u001b[0mvalues\u001b[0m\u001b[0;34m[\u001b[0m\u001b[0;34m\"tuner/initial_epoch\"\u001b[0m\u001b[0;34m]\u001b[0m\u001b[0;34m\u001b[0m\u001b[0;34m\u001b[0m\u001b[0m\n\u001b[0;32m--> 384\u001b[0;31m         \u001b[0;32mreturn\u001b[0m \u001b[0msuper\u001b[0m\u001b[0;34m(\u001b[0m\u001b[0mHyperband\u001b[0m\u001b[0;34m,\u001b[0m \u001b[0mself\u001b[0m\u001b[0;34m)\u001b[0m\u001b[0;34m.\u001b[0m\u001b[0mrun_trial\u001b[0m\u001b[0;34m(\u001b[0m\u001b[0mtrial\u001b[0m\u001b[0;34m,\u001b[0m \u001b[0;34m*\u001b[0m\u001b[0mfit_args\u001b[0m\u001b[0;34m,\u001b[0m \u001b[0;34m**\u001b[0m\u001b[0mfit_kwargs\u001b[0m\u001b[0;34m)\u001b[0m\u001b[0;34m\u001b[0m\u001b[0;34m\u001b[0m\u001b[0m\n\u001b[0m\u001b[1;32m    385\u001b[0m \u001b[0;34m\u001b[0m\u001b[0m\n\u001b[1;32m    386\u001b[0m     \u001b[0;32mdef\u001b[0m \u001b[0m_build_model\u001b[0m\u001b[0;34m(\u001b[0m\u001b[0mself\u001b[0m\u001b[0;34m,\u001b[0m \u001b[0mhp\u001b[0m\u001b[0;34m)\u001b[0m\u001b[0;34m:\u001b[0m\u001b[0;34m\u001b[0m\u001b[0;34m\u001b[0m\u001b[0m\n",
            "\u001b[0;32m/usr/local/lib/python3.7/dist-packages/keras_tuner/engine/tuner.py\u001b[0m in \u001b[0;36mrun_trial\u001b[0;34m(self, trial, *args, **kwargs)\u001b[0m\n\u001b[1;32m    292\u001b[0m             \u001b[0mcallbacks\u001b[0m\u001b[0;34m.\u001b[0m\u001b[0mappend\u001b[0m\u001b[0;34m(\u001b[0m\u001b[0mmodel_checkpoint\u001b[0m\u001b[0;34m)\u001b[0m\u001b[0;34m\u001b[0m\u001b[0;34m\u001b[0m\u001b[0m\n\u001b[1;32m    293\u001b[0m             \u001b[0mcopied_kwargs\u001b[0m\u001b[0;34m[\u001b[0m\u001b[0;34m\"callbacks\"\u001b[0m\u001b[0;34m]\u001b[0m \u001b[0;34m=\u001b[0m \u001b[0mcallbacks\u001b[0m\u001b[0;34m\u001b[0m\u001b[0;34m\u001b[0m\u001b[0m\n\u001b[0;32m--> 294\u001b[0;31m             \u001b[0mobj_value\u001b[0m \u001b[0;34m=\u001b[0m \u001b[0mself\u001b[0m\u001b[0;34m.\u001b[0m\u001b[0m_build_and_fit_model\u001b[0m\u001b[0;34m(\u001b[0m\u001b[0mtrial\u001b[0m\u001b[0;34m,\u001b[0m \u001b[0;34m*\u001b[0m\u001b[0margs\u001b[0m\u001b[0;34m,\u001b[0m \u001b[0;34m**\u001b[0m\u001b[0mcopied_kwargs\u001b[0m\u001b[0;34m)\u001b[0m\u001b[0;34m\u001b[0m\u001b[0;34m\u001b[0m\u001b[0m\n\u001b[0m\u001b[1;32m    295\u001b[0m \u001b[0;34m\u001b[0m\u001b[0m\n\u001b[1;32m    296\u001b[0m             \u001b[0mhistories\u001b[0m\u001b[0;34m.\u001b[0m\u001b[0mappend\u001b[0m\u001b[0;34m(\u001b[0m\u001b[0mobj_value\u001b[0m\u001b[0;34m)\u001b[0m\u001b[0;34m\u001b[0m\u001b[0;34m\u001b[0m\u001b[0m\n",
            "\u001b[0;32m/usr/local/lib/python3.7/dist-packages/keras_tuner/engine/tuner.py\u001b[0m in \u001b[0;36m_build_and_fit_model\u001b[0;34m(self, trial, *args, **kwargs)\u001b[0m\n\u001b[1;32m    220\u001b[0m         \u001b[0mhp\u001b[0m \u001b[0;34m=\u001b[0m \u001b[0mtrial\u001b[0m\u001b[0;34m.\u001b[0m\u001b[0mhyperparameters\u001b[0m\u001b[0;34m\u001b[0m\u001b[0;34m\u001b[0m\u001b[0m\n\u001b[1;32m    221\u001b[0m         \u001b[0mmodel\u001b[0m \u001b[0;34m=\u001b[0m \u001b[0mself\u001b[0m\u001b[0;34m.\u001b[0m\u001b[0m_try_build\u001b[0m\u001b[0;34m(\u001b[0m\u001b[0mhp\u001b[0m\u001b[0;34m)\u001b[0m\u001b[0;34m\u001b[0m\u001b[0;34m\u001b[0m\u001b[0m\n\u001b[0;32m--> 222\u001b[0;31m         \u001b[0mresults\u001b[0m \u001b[0;34m=\u001b[0m \u001b[0mself\u001b[0m\u001b[0;34m.\u001b[0m\u001b[0mhypermodel\u001b[0m\u001b[0;34m.\u001b[0m\u001b[0mfit\u001b[0m\u001b[0;34m(\u001b[0m\u001b[0mhp\u001b[0m\u001b[0;34m,\u001b[0m \u001b[0mmodel\u001b[0m\u001b[0;34m,\u001b[0m \u001b[0;34m*\u001b[0m\u001b[0margs\u001b[0m\u001b[0;34m,\u001b[0m \u001b[0;34m**\u001b[0m\u001b[0mkwargs\u001b[0m\u001b[0;34m)\u001b[0m\u001b[0;34m\u001b[0m\u001b[0;34m\u001b[0m\u001b[0m\n\u001b[0m\u001b[1;32m    223\u001b[0m         return tuner_utils.convert_to_metrics_dict(\n\u001b[1;32m    224\u001b[0m             \u001b[0mresults\u001b[0m\u001b[0;34m,\u001b[0m \u001b[0mself\u001b[0m\u001b[0;34m.\u001b[0m\u001b[0moracle\u001b[0m\u001b[0;34m.\u001b[0m\u001b[0mobjective\u001b[0m\u001b[0;34m,\u001b[0m \u001b[0;34m\"HyperModel.fit()\"\u001b[0m\u001b[0;34m\u001b[0m\u001b[0;34m\u001b[0m\u001b[0m\n",
            "\u001b[0;32m/usr/local/lib/python3.7/dist-packages/keras_tuner/engine/hypermodel.py\u001b[0m in \u001b[0;36mfit\u001b[0;34m(self, hp, model, *args, **kwargs)\u001b[0m\n\u001b[1;32m    135\u001b[0m             \u001b[0mIf\u001b[0m \u001b[0;32mreturn\u001b[0m \u001b[0ma\u001b[0m \u001b[0mfloat\u001b[0m\u001b[0;34m,\u001b[0m \u001b[0mit\u001b[0m \u001b[0mshould\u001b[0m \u001b[0mbe\u001b[0m \u001b[0mthe\u001b[0m\u001b[0;31m \u001b[0m\u001b[0;31m`\u001b[0m\u001b[0mobjective\u001b[0m\u001b[0;31m`\u001b[0m \u001b[0mvalue\u001b[0m\u001b[0;34m.\u001b[0m\u001b[0;34m\u001b[0m\u001b[0;34m\u001b[0m\u001b[0m\n\u001b[1;32m    136\u001b[0m         \"\"\"\n\u001b[0;32m--> 137\u001b[0;31m         \u001b[0;32mreturn\u001b[0m \u001b[0mmodel\u001b[0m\u001b[0;34m.\u001b[0m\u001b[0mfit\u001b[0m\u001b[0;34m(\u001b[0m\u001b[0;34m*\u001b[0m\u001b[0margs\u001b[0m\u001b[0;34m,\u001b[0m \u001b[0;34m**\u001b[0m\u001b[0mkwargs\u001b[0m\u001b[0;34m)\u001b[0m\u001b[0;34m\u001b[0m\u001b[0;34m\u001b[0m\u001b[0m\n\u001b[0m\u001b[1;32m    138\u001b[0m \u001b[0;34m\u001b[0m\u001b[0m\n\u001b[1;32m    139\u001b[0m \u001b[0;34m\u001b[0m\u001b[0m\n",
            "\u001b[0;32m/usr/local/lib/python3.7/dist-packages/keras/utils/traceback_utils.py\u001b[0m in \u001b[0;36merror_handler\u001b[0;34m(*args, **kwargs)\u001b[0m\n\u001b[1;32m     62\u001b[0m     \u001b[0mfiltered_tb\u001b[0m \u001b[0;34m=\u001b[0m \u001b[0;32mNone\u001b[0m\u001b[0;34m\u001b[0m\u001b[0;34m\u001b[0m\u001b[0m\n\u001b[1;32m     63\u001b[0m     \u001b[0;32mtry\u001b[0m\u001b[0;34m:\u001b[0m\u001b[0;34m\u001b[0m\u001b[0;34m\u001b[0m\u001b[0m\n\u001b[0;32m---> 64\u001b[0;31m       \u001b[0;32mreturn\u001b[0m \u001b[0mfn\u001b[0m\u001b[0;34m(\u001b[0m\u001b[0;34m*\u001b[0m\u001b[0margs\u001b[0m\u001b[0;34m,\u001b[0m \u001b[0;34m**\u001b[0m\u001b[0mkwargs\u001b[0m\u001b[0;34m)\u001b[0m\u001b[0;34m\u001b[0m\u001b[0;34m\u001b[0m\u001b[0m\n\u001b[0m\u001b[1;32m     65\u001b[0m     \u001b[0;32mexcept\u001b[0m \u001b[0mException\u001b[0m \u001b[0;32mas\u001b[0m \u001b[0me\u001b[0m\u001b[0;34m:\u001b[0m  \u001b[0;31m# pylint: disable=broad-except\u001b[0m\u001b[0;34m\u001b[0m\u001b[0;34m\u001b[0m\u001b[0m\n\u001b[1;32m     66\u001b[0m       \u001b[0mfiltered_tb\u001b[0m \u001b[0;34m=\u001b[0m \u001b[0m_process_traceback_frames\u001b[0m\u001b[0;34m(\u001b[0m\u001b[0me\u001b[0m\u001b[0;34m.\u001b[0m\u001b[0m__traceback__\u001b[0m\u001b[0;34m)\u001b[0m\u001b[0;34m\u001b[0m\u001b[0;34m\u001b[0m\u001b[0m\n",
            "\u001b[0;32m/usr/local/lib/python3.7/dist-packages/keras/engine/training.py\u001b[0m in \u001b[0;36mfit\u001b[0;34m(self, x, y, batch_size, epochs, verbose, callbacks, validation_split, validation_data, shuffle, class_weight, sample_weight, initial_epoch, steps_per_epoch, validation_steps, validation_batch_size, validation_freq, max_queue_size, workers, use_multiprocessing)\u001b[0m\n\u001b[1;32m   1382\u001b[0m                 _r=1):\n\u001b[1;32m   1383\u001b[0m               \u001b[0mcallbacks\u001b[0m\u001b[0;34m.\u001b[0m\u001b[0mon_train_batch_begin\u001b[0m\u001b[0;34m(\u001b[0m\u001b[0mstep\u001b[0m\u001b[0;34m)\u001b[0m\u001b[0;34m\u001b[0m\u001b[0;34m\u001b[0m\u001b[0m\n\u001b[0;32m-> 1384\u001b[0;31m               \u001b[0mtmp_logs\u001b[0m \u001b[0;34m=\u001b[0m \u001b[0mself\u001b[0m\u001b[0;34m.\u001b[0m\u001b[0mtrain_function\u001b[0m\u001b[0;34m(\u001b[0m\u001b[0miterator\u001b[0m\u001b[0;34m)\u001b[0m\u001b[0;34m\u001b[0m\u001b[0;34m\u001b[0m\u001b[0m\n\u001b[0m\u001b[1;32m   1385\u001b[0m               \u001b[0;32mif\u001b[0m \u001b[0mdata_handler\u001b[0m\u001b[0;34m.\u001b[0m\u001b[0mshould_sync\u001b[0m\u001b[0;34m:\u001b[0m\u001b[0;34m\u001b[0m\u001b[0;34m\u001b[0m\u001b[0m\n\u001b[1;32m   1386\u001b[0m                 \u001b[0mcontext\u001b[0m\u001b[0;34m.\u001b[0m\u001b[0masync_wait\u001b[0m\u001b[0;34m(\u001b[0m\u001b[0;34m)\u001b[0m\u001b[0;34m\u001b[0m\u001b[0;34m\u001b[0m\u001b[0m\n",
            "\u001b[0;32m/usr/local/lib/python3.7/dist-packages/tensorflow/python/util/traceback_utils.py\u001b[0m in \u001b[0;36merror_handler\u001b[0;34m(*args, **kwargs)\u001b[0m\n\u001b[1;32m    148\u001b[0m     \u001b[0mfiltered_tb\u001b[0m \u001b[0;34m=\u001b[0m \u001b[0;32mNone\u001b[0m\u001b[0;34m\u001b[0m\u001b[0;34m\u001b[0m\u001b[0m\n\u001b[1;32m    149\u001b[0m     \u001b[0;32mtry\u001b[0m\u001b[0;34m:\u001b[0m\u001b[0;34m\u001b[0m\u001b[0;34m\u001b[0m\u001b[0m\n\u001b[0;32m--> 150\u001b[0;31m       \u001b[0;32mreturn\u001b[0m \u001b[0mfn\u001b[0m\u001b[0;34m(\u001b[0m\u001b[0;34m*\u001b[0m\u001b[0margs\u001b[0m\u001b[0;34m,\u001b[0m \u001b[0;34m**\u001b[0m\u001b[0mkwargs\u001b[0m\u001b[0;34m)\u001b[0m\u001b[0;34m\u001b[0m\u001b[0;34m\u001b[0m\u001b[0m\n\u001b[0m\u001b[1;32m    151\u001b[0m     \u001b[0;32mexcept\u001b[0m \u001b[0mException\u001b[0m \u001b[0;32mas\u001b[0m \u001b[0me\u001b[0m\u001b[0;34m:\u001b[0m\u001b[0;34m\u001b[0m\u001b[0;34m\u001b[0m\u001b[0m\n\u001b[1;32m    152\u001b[0m       \u001b[0mfiltered_tb\u001b[0m \u001b[0;34m=\u001b[0m \u001b[0m_process_traceback_frames\u001b[0m\u001b[0;34m(\u001b[0m\u001b[0me\u001b[0m\u001b[0;34m.\u001b[0m\u001b[0m__traceback__\u001b[0m\u001b[0;34m)\u001b[0m\u001b[0;34m\u001b[0m\u001b[0;34m\u001b[0m\u001b[0m\n",
            "\u001b[0;32m/usr/local/lib/python3.7/dist-packages/tensorflow/python/eager/def_function.py\u001b[0m in \u001b[0;36m__call__\u001b[0;34m(self, *args, **kwds)\u001b[0m\n\u001b[1;32m    913\u001b[0m \u001b[0;34m\u001b[0m\u001b[0m\n\u001b[1;32m    914\u001b[0m       \u001b[0;32mwith\u001b[0m \u001b[0mOptionalXlaContext\u001b[0m\u001b[0;34m(\u001b[0m\u001b[0mself\u001b[0m\u001b[0;34m.\u001b[0m\u001b[0m_jit_compile\u001b[0m\u001b[0;34m)\u001b[0m\u001b[0;34m:\u001b[0m\u001b[0;34m\u001b[0m\u001b[0;34m\u001b[0m\u001b[0m\n\u001b[0;32m--> 915\u001b[0;31m         \u001b[0mresult\u001b[0m \u001b[0;34m=\u001b[0m \u001b[0mself\u001b[0m\u001b[0;34m.\u001b[0m\u001b[0m_call\u001b[0m\u001b[0;34m(\u001b[0m\u001b[0;34m*\u001b[0m\u001b[0margs\u001b[0m\u001b[0;34m,\u001b[0m \u001b[0;34m**\u001b[0m\u001b[0mkwds\u001b[0m\u001b[0;34m)\u001b[0m\u001b[0;34m\u001b[0m\u001b[0;34m\u001b[0m\u001b[0m\n\u001b[0m\u001b[1;32m    916\u001b[0m \u001b[0;34m\u001b[0m\u001b[0m\n\u001b[1;32m    917\u001b[0m       \u001b[0mnew_tracing_count\u001b[0m \u001b[0;34m=\u001b[0m \u001b[0mself\u001b[0m\u001b[0;34m.\u001b[0m\u001b[0mexperimental_get_tracing_count\u001b[0m\u001b[0;34m(\u001b[0m\u001b[0;34m)\u001b[0m\u001b[0;34m\u001b[0m\u001b[0;34m\u001b[0m\u001b[0m\n",
            "\u001b[0;32m/usr/local/lib/python3.7/dist-packages/tensorflow/python/eager/def_function.py\u001b[0m in \u001b[0;36m_call\u001b[0;34m(self, *args, **kwds)\u001b[0m\n\u001b[1;32m    945\u001b[0m       \u001b[0;31m# In this case we have created variables on the first call, so we run the\u001b[0m\u001b[0;34m\u001b[0m\u001b[0;34m\u001b[0m\u001b[0;34m\u001b[0m\u001b[0m\n\u001b[1;32m    946\u001b[0m       \u001b[0;31m# defunned version which is guaranteed to never create variables.\u001b[0m\u001b[0;34m\u001b[0m\u001b[0;34m\u001b[0m\u001b[0;34m\u001b[0m\u001b[0m\n\u001b[0;32m--> 947\u001b[0;31m       \u001b[0;32mreturn\u001b[0m \u001b[0mself\u001b[0m\u001b[0;34m.\u001b[0m\u001b[0m_stateless_fn\u001b[0m\u001b[0;34m(\u001b[0m\u001b[0;34m*\u001b[0m\u001b[0margs\u001b[0m\u001b[0;34m,\u001b[0m \u001b[0;34m**\u001b[0m\u001b[0mkwds\u001b[0m\u001b[0;34m)\u001b[0m  \u001b[0;31m# pylint: disable=not-callable\u001b[0m\u001b[0;34m\u001b[0m\u001b[0;34m\u001b[0m\u001b[0m\n\u001b[0m\u001b[1;32m    948\u001b[0m     \u001b[0;32melif\u001b[0m \u001b[0mself\u001b[0m\u001b[0;34m.\u001b[0m\u001b[0m_stateful_fn\u001b[0m \u001b[0;32mis\u001b[0m \u001b[0;32mnot\u001b[0m \u001b[0;32mNone\u001b[0m\u001b[0;34m:\u001b[0m\u001b[0;34m\u001b[0m\u001b[0;34m\u001b[0m\u001b[0m\n\u001b[1;32m    949\u001b[0m       \u001b[0;31m# Release the lock early so that multiple threads can perform the call\u001b[0m\u001b[0;34m\u001b[0m\u001b[0;34m\u001b[0m\u001b[0;34m\u001b[0m\u001b[0m\n",
            "\u001b[0;32m/usr/local/lib/python3.7/dist-packages/tensorflow/python/eager/function.py\u001b[0m in \u001b[0;36m__call__\u001b[0;34m(self, *args, **kwargs)\u001b[0m\n\u001b[1;32m   2955\u001b[0m        filtered_flat_args) = self._maybe_define_function(args, kwargs)\n\u001b[1;32m   2956\u001b[0m     return graph_function._call_flat(\n\u001b[0;32m-> 2957\u001b[0;31m         filtered_flat_args, captured_inputs=graph_function.captured_inputs)  # pylint: disable=protected-access\n\u001b[0m\u001b[1;32m   2958\u001b[0m \u001b[0;34m\u001b[0m\u001b[0m\n\u001b[1;32m   2959\u001b[0m   \u001b[0;34m@\u001b[0m\u001b[0mproperty\u001b[0m\u001b[0;34m\u001b[0m\u001b[0;34m\u001b[0m\u001b[0m\n",
            "\u001b[0;32m/usr/local/lib/python3.7/dist-packages/tensorflow/python/eager/function.py\u001b[0m in \u001b[0;36m_call_flat\u001b[0;34m(self, args, captured_inputs, cancellation_manager)\u001b[0m\n\u001b[1;32m   1852\u001b[0m       \u001b[0;31m# No tape is watching; skip to running the function.\u001b[0m\u001b[0;34m\u001b[0m\u001b[0;34m\u001b[0m\u001b[0;34m\u001b[0m\u001b[0m\n\u001b[1;32m   1853\u001b[0m       return self._build_call_outputs(self._inference_function.call(\n\u001b[0;32m-> 1854\u001b[0;31m           ctx, args, cancellation_manager=cancellation_manager))\n\u001b[0m\u001b[1;32m   1855\u001b[0m     forward_backward = self._select_forward_and_backward_functions(\n\u001b[1;32m   1856\u001b[0m         \u001b[0margs\u001b[0m\u001b[0;34m,\u001b[0m\u001b[0;34m\u001b[0m\u001b[0;34m\u001b[0m\u001b[0m\n",
            "\u001b[0;32m/usr/local/lib/python3.7/dist-packages/tensorflow/python/eager/function.py\u001b[0m in \u001b[0;36mcall\u001b[0;34m(self, ctx, args, cancellation_manager)\u001b[0m\n\u001b[1;32m    502\u001b[0m               \u001b[0minputs\u001b[0m\u001b[0;34m=\u001b[0m\u001b[0margs\u001b[0m\u001b[0;34m,\u001b[0m\u001b[0;34m\u001b[0m\u001b[0;34m\u001b[0m\u001b[0m\n\u001b[1;32m    503\u001b[0m               \u001b[0mattrs\u001b[0m\u001b[0;34m=\u001b[0m\u001b[0mattrs\u001b[0m\u001b[0;34m,\u001b[0m\u001b[0;34m\u001b[0m\u001b[0;34m\u001b[0m\u001b[0m\n\u001b[0;32m--> 504\u001b[0;31m               ctx=ctx)\n\u001b[0m\u001b[1;32m    505\u001b[0m         \u001b[0;32melse\u001b[0m\u001b[0;34m:\u001b[0m\u001b[0;34m\u001b[0m\u001b[0;34m\u001b[0m\u001b[0m\n\u001b[1;32m    506\u001b[0m           outputs = execute.execute_with_cancellation(\n",
            "\u001b[0;32m/usr/local/lib/python3.7/dist-packages/tensorflow/python/eager/execute.py\u001b[0m in \u001b[0;36mquick_execute\u001b[0;34m(op_name, num_outputs, inputs, attrs, ctx, name)\u001b[0m\n\u001b[1;32m     53\u001b[0m     \u001b[0mctx\u001b[0m\u001b[0;34m.\u001b[0m\u001b[0mensure_initialized\u001b[0m\u001b[0;34m(\u001b[0m\u001b[0;34m)\u001b[0m\u001b[0;34m\u001b[0m\u001b[0;34m\u001b[0m\u001b[0m\n\u001b[1;32m     54\u001b[0m     tensors = pywrap_tfe.TFE_Py_Execute(ctx._handle, device_name, op_name,\n\u001b[0;32m---> 55\u001b[0;31m                                         inputs, attrs, num_outputs)\n\u001b[0m\u001b[1;32m     56\u001b[0m   \u001b[0;32mexcept\u001b[0m \u001b[0mcore\u001b[0m\u001b[0;34m.\u001b[0m\u001b[0m_NotOkStatusException\u001b[0m \u001b[0;32mas\u001b[0m \u001b[0me\u001b[0m\u001b[0;34m:\u001b[0m\u001b[0;34m\u001b[0m\u001b[0;34m\u001b[0m\u001b[0m\n\u001b[1;32m     57\u001b[0m     \u001b[0;32mif\u001b[0m \u001b[0mname\u001b[0m \u001b[0;32mis\u001b[0m \u001b[0;32mnot\u001b[0m \u001b[0;32mNone\u001b[0m\u001b[0;34m:\u001b[0m\u001b[0;34m\u001b[0m\u001b[0;34m\u001b[0m\u001b[0m\n",
            "\u001b[0;31mKeyboardInterrupt\u001b[0m: "
          ]
        }
      ]
    },
    {
      "cell_type": "markdown",
      "source": [
        "### CNN Model after Tuning"
      ],
      "metadata": {
        "id": "CIKAUwcc6t6b"
      }
    },
    {
      "cell_type": "code",
      "source": [
        "model19 = Sequential()\n",
        "model19.add(Conv2D(128,(4,4),activation='relu',input_shape=(256,256,3)))\n",
        "model19.add(MaxPooling2D(pool_size=(2,2)))\n",
        "\n",
        "model19.add(Conv2D(16,(4,4),activation='relu'))\n",
        "model19.add(MaxPooling2D(pool_size=(2,2)))\n",
        "\n",
        "model19.add(Conv2D(32,(3,3),activation='relu'))\n",
        "model19.add(MaxPooling2D(pool_size=(2,2)))\n",
        "\n",
        "model19.add(Conv2D(128,(4,4),activation='relu'))\n",
        "model19.add(MaxPooling2D(pool_size=(2,2)))\n",
        "\n",
        "model19.add(Flatten())\n",
        "model19.add(Dense(32,activation='relu'))\n",
        "model19.add(Dropout(0.1))\n",
        "model19.add(Dense(5,activation='softmax'))\n",
        "\n",
        "model19.compile(\n",
        "    optimizer = Adam(learning_rate=.0001),\n",
        "    loss = 'categorical_crossentropy',\n",
        "    metrics = ['accuracy']\n",
        ")"
      ],
      "metadata": {
        "id": "9O1qpz336q-v"
      },
      "execution_count": 54,
      "outputs": []
    },
    {
      "cell_type": "code",
      "source": [
        " history19 = model19.fit(\n",
        "    train_gen_2,\n",
        "    class_weight=train_class_weights,\n",
        "    validation_data=test_gen_2,\n",
        "    epochs=100,\n",
        "    callbacks=[early_stop]\n",
        ")"
      ],
      "metadata": {
        "colab": {
          "base_uri": "https://localhost:8080/"
        },
        "outputId": "c0aebf1a-75c7-4b42-918d-876ae9252f12",
        "id": "DK5g9iGi6q-v"
      },
      "execution_count": 55,
      "outputs": [
        {
          "output_type": "stream",
          "name": "stdout",
          "text": [
            "Epoch 1/100\n",
            "285/285 [==============================] - 30s 103ms/step - loss: 1.6120 - accuracy: 0.0921 - val_loss: 1.5670 - val_accuracy: 0.2493\n",
            "Epoch 2/100\n",
            "285/285 [==============================] - 27s 94ms/step - loss: 1.5947 - accuracy: 0.1947 - val_loss: 1.5924 - val_accuracy: 0.0469\n",
            "Epoch 3/100\n",
            "285/285 [==============================] - 27s 94ms/step - loss: 1.5662 - accuracy: 0.1746 - val_loss: 1.6334 - val_accuracy: 0.0567\n",
            "Epoch 4/100\n",
            "285/285 [==============================] - 27s 95ms/step - loss: 1.5362 - accuracy: 0.1937 - val_loss: 1.5831 - val_accuracy: 0.1300\n",
            "Epoch 5/100\n",
            "285/285 [==============================] - 27s 95ms/step - loss: 1.5083 - accuracy: 0.2065 - val_loss: 1.5188 - val_accuracy: 0.2727\n",
            "Epoch 6/100\n",
            "285/285 [==============================] - 28s 99ms/step - loss: 1.4701 - accuracy: 0.2519 - val_loss: 1.5573 - val_accuracy: 0.1877\n",
            "Epoch 7/100\n",
            "285/285 [==============================] - 26s 92ms/step - loss: 1.4091 - accuracy: 0.2825 - val_loss: 1.4094 - val_accuracy: 0.3773\n",
            "Epoch 8/100\n",
            "285/285 [==============================] - 26s 92ms/step - loss: 1.3380 - accuracy: 0.2941 - val_loss: 1.5821 - val_accuracy: 0.1662\n",
            "Epoch 9/100\n",
            "285/285 [==============================] - 26s 93ms/step - loss: 1.2585 - accuracy: 0.3111 - val_loss: 1.4712 - val_accuracy: 0.2737\n",
            "Epoch 10/100\n",
            "285/285 [==============================] - 26s 92ms/step - loss: 1.1615 - accuracy: 0.3485 - val_loss: 1.4245 - val_accuracy: 0.3089\n",
            "Epoch 11/100\n",
            "285/285 [==============================] - 27s 93ms/step - loss: 1.0692 - accuracy: 0.3745 - val_loss: 1.3746 - val_accuracy: 0.3314\n",
            "Epoch 12/100\n",
            "285/285 [==============================] - 26s 91ms/step - loss: 1.0123 - accuracy: 0.4147 - val_loss: 1.4689 - val_accuracy: 0.2913\n",
            "Epoch 13/100\n",
            "285/285 [==============================] - 27s 96ms/step - loss: 0.9580 - accuracy: 0.4268 - val_loss: 1.2443 - val_accuracy: 0.4174\n",
            "Epoch 14/100\n",
            "285/285 [==============================] - 26s 92ms/step - loss: 0.8705 - accuracy: 0.4699 - val_loss: 1.1927 - val_accuracy: 0.4594\n",
            "Epoch 15/100\n",
            "285/285 [==============================] - 26s 91ms/step - loss: 0.8149 - accuracy: 0.4924 - val_loss: 1.3311 - val_accuracy: 0.3891\n",
            "Epoch 16/100\n",
            "285/285 [==============================] - 26s 92ms/step - loss: 0.7507 - accuracy: 0.5310 - val_loss: 1.1240 - val_accuracy: 0.5083\n",
            "Epoch 17/100\n",
            "285/285 [==============================] - 26s 91ms/step - loss: 0.7097 - accuracy: 0.5450 - val_loss: 1.3963 - val_accuracy: 0.3705\n",
            "Epoch 18/100\n",
            "285/285 [==============================] - 26s 92ms/step - loss: 0.6305 - accuracy: 0.5835 - val_loss: 1.2083 - val_accuracy: 0.4663\n",
            "Epoch 19/100\n",
            "285/285 [==============================] - 26s 91ms/step - loss: 0.5860 - accuracy: 0.6028 - val_loss: 1.2708 - val_accuracy: 0.4653\n",
            "Epoch 20/100\n",
            "285/285 [==============================] - 26s 92ms/step - loss: 0.5159 - accuracy: 0.6462 - val_loss: 1.2760 - val_accuracy: 0.4848\n",
            "Epoch 21/100\n",
            "285/285 [==============================] - 27s 95ms/step - loss: 0.4672 - accuracy: 0.6739 - val_loss: 1.2872 - val_accuracy: 0.4731\n",
            "Epoch 21: early stopping\n"
          ]
        }
      ]
    },
    {
      "cell_type": "code",
      "source": [
        "# https://stackoverflow.com/questions/50825936/confusion-matrix-on-images-in-cnn-keras\n",
        "# https://stackoverflow.com/questions/67303001/plot-confusion-matrix-with-keras-data-generator-using-sklearn\n",
        "\n",
        "test_steps_per_epoch = np.math.ceil(test_gen_2.samples / test_gen_2.batch_size)\n",
        "preds = model19.predict(test_gen_2, steps=test_steps_per_epoch)"
      ],
      "metadata": {
        "id": "WJ3Aex4f6q-v"
      },
      "execution_count": 56,
      "outputs": []
    },
    {
      "cell_type": "code",
      "source": [
        "ConfusionMatrixDisplay.from_predictions(test_gen_2.classes, np.argmax(preds, axis=1), display_labels=list(test_gen_2.class_indices.keys()));"
      ],
      "metadata": {
        "colab": {
          "base_uri": "https://localhost:8080/",
          "height": 279
        },
        "outputId": "d084b3b2-ba26-45a8-88fd-399f9b9feaa9",
        "id": "san9dQcN6q-v"
      },
      "execution_count": 57,
      "outputs": [
        {
          "output_type": "display_data",
          "data": {
            "text/plain": [
              "<Figure size 432x288 with 2 Axes>"
            ],
            "image/png": "[encoded data removed]"
          },
          "metadata": {
            "needs_background": "light"
          }
        }
      ]
    }
  ]
}