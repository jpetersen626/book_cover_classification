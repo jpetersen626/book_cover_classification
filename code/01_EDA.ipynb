{
 "cells": [
  {
   "cell_type": "markdown",
   "id": "bac3f1f1-0cba-4560-ab38-0f753ef8e784",
   "metadata": {
    "tags": []
   },
   "source": [
    "## Capstone"
   ]
  },
  {
   "cell_type": "markdown",
   "id": "463847cf-4859-46a0-83cd-e24f3e223d7f",
   "metadata": {},
   "source": [
    "---"
   ]
  },
  {
   "cell_type": "markdown",
   "id": "3c22a1a3-8597-4c5a-93aa-417a11f83753",
   "metadata": {},
   "source": [
    "### EDA"
   ]
  },
  {
   "cell_type": "code",
   "execution_count": null,
   "id": "75f14a49-82fc-4ef9-a214-dbcab437e397",
   "metadata": {},
   "outputs": [],
   "source": []
  }
 ],
 "metadata": {
  "kernelspec": {
   "display_name": "Python 3 (ipykernel)",
   "language": "python",
   "name": "python3"
  },
  "language_info": {
   "codemirror_mode": {
    "name": "ipython",
    "version": 3
   },
   "file_extension": ".py",
   "mimetype": "text/x-python",
   "name": "python",
   "nbconvert_exporter": "python",
   "pygments_lexer": "ipython3",
   "version": "3.9.7"
  }
 },
 "nbformat": 4,
 "nbformat_minor": 5
}
