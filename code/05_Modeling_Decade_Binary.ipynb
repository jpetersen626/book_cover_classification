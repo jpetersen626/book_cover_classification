{
  "cells": [
    {
      "cell_type": "markdown",
      "metadata": {
        "id": "b7Ofuyo-GSKv"
      },
      "source": [
        "## Modeling - Classifying Book Cover by Decade Published (Binary - Pre 2010's and 2010's +)"
      ]
    },
    {
      "cell_type": "markdown",
      "metadata": {},
      "source": [
        "#### This notebook was run in Google Colab"
      ]
    },
    {
      "cell_type": "code",
      "execution_count": 13,
      "metadata": {
        "id": "robqMIOfGKdd"
      },
      "outputs": [],
      "source": [
        "import numpy as np\n",
        "import pandas as pd\n",
        "import matplotlib.pyplot as plt\n",
        "import tensorflow as tf\n",
        "import os\n",
        "\n",
        "from tensorflow.keras.preprocessing.image import ImageDataGenerator\n",
        "from tensorflow.keras.layers import Dense, Dropout, Flatten, Conv2D, MaxPooling2D, GlobalAveragePooling2D, MaxPool2D\n",
        "from tensorflow.keras.models import Sequential\n",
        "from tensorflow.keras.preprocessing.image import img_to_array, load_img\n",
        "from tensorflow.keras.callbacks import EarlyStopping\n",
        "from tensorflow.keras.optimizers import Adam\n",
        "from tensorflow.keras.applications import EfficientNetB0\n",
        "from tensorflow.keras.losses import CategoricalCrossentropy\n",
        "\n",
        "from sklearn.utils import class_weight\n",
        "from sklearn.metrics import ConfusionMatrixDisplay\n",
        "\n",
        "np.random.seed(42)"
      ]
    },
    {
      "cell_type": "code",
      "execution_count": null,
      "metadata": {
        "id": "DQQ3I-uuGiMD"
      },
      "outputs": [],
      "source": [
        "!unzip /content/drive/MyDrive/datasets/capstone/images.zip"
      ]
    },
    {
      "cell_type": "code",
      "execution_count": 3,
      "metadata": {
        "id": "TLgGr-zUHJWP"
      },
      "outputs": [],
      "source": [
        "train = pd.read_csv('/content/drive/MyDrive/datasets/capstone/data/train_2_cleaned.csv', index_col=0)\n",
        "test = pd.read_csv('/content/drive/MyDrive/datasets/capstone/data/test_2_cleaned.csv', index_col=0)"
      ]
    },
    {
      "cell_type": "code",
      "execution_count": null,
      "metadata": {
        "colab": {
          "base_uri": "https://localhost:8080/",
          "height": 292
        },
        "id": "99AZx1BMHcSa",
        "outputId": "d3a3d909-c8d4-4c44-ea63-ea1e6308b7d5"
      },
      "outputs": [
        {
          "data": {
            "text/html": [
              "\n",
              "  <div id=\"df-828bb6da-cba7-4a76-b2be-9eb680af9197\">\n",
              "    <div class=\"colab-df-container\">\n",
              "      <div>\n",
              "<style scoped>\n",
              "    .dataframe tbody tr th:only-of-type {\n",
              "        vertical-align: middle;\n",
              "    }\n",
              "\n",
              "    .dataframe tbody tr th {\n",
              "        vertical-align: top;\n",
              "    }\n",
              "\n",
              "    .dataframe thead th {\n",
              "        text-align: right;\n",
              "    }\n",
              "</style>\n",
              "<table border=\"1\" class=\"dataframe\">\n",
              "  <thead>\n",
              "    <tr style=\"text-align: right;\">\n",
              "      <th></th>\n",
              "      <th>amazon_index</th>\n",
              "      <th>filename</th>\n",
              "      <th>title</th>\n",
              "      <th>author</th>\n",
              "      <th>category_id</th>\n",
              "      <th>category</th>\n",
              "      <th>meta</th>\n",
              "      <th>year</th>\n",
              "      <th>meta_author</th>\n",
              "      <th>decade</th>\n",
              "      <th>post_2010</th>\n",
              "    </tr>\n",
              "  </thead>\n",
              "  <tbody>\n",
              "    <tr>\n",
              "      <th>0</th>\n",
              "      <td>1588345297</td>\n",
              "      <td>1588345297.jpg</td>\n",
              "      <td>With Schwarzkopf: Life Lessons of The Bear</td>\n",
              "      <td>Gus Lee</td>\n",
              "      <td>1</td>\n",
              "      <td>Biographies &amp; Memoirs</td>\n",
              "      <td>{\"ISBN-13\": \"9781588345295\", \"Title\": \"With Sc...</td>\n",
              "      <td>2015</td>\n",
              "      <td>Gus Lee</td>\n",
              "      <td>2010</td>\n",
              "      <td>post_2010</td>\n",
              "    </tr>\n",
              "    <tr>\n",
              "      <th>1</th>\n",
              "      <td>1404803335</td>\n",
              "      <td>1404803335.jpg</td>\n",
              "      <td>Magnets: Pulling Together, Pushing Apart (Amaz...</td>\n",
              "      <td>Natalie M. Rosinsky</td>\n",
              "      <td>4</td>\n",
              "      <td>Children's Books</td>\n",
              "      <td>{\"ISBN-13\": \"9781404803336\", \"Title\": \"Magnets...</td>\n",
              "      <td>2002</td>\n",
              "      <td>Natalie M. Rosinsky</td>\n",
              "      <td>2000</td>\n",
              "      <td>pre_2010</td>\n",
              "    </tr>\n",
              "    <tr>\n",
              "      <th>2</th>\n",
              "      <td>471310115</td>\n",
              "      <td>0471310115.jpg</td>\n",
              "      <td>Janice VanCleave's 201 Awesome, Magical, Bizar...</td>\n",
              "      <td>Janice VanCleave</td>\n",
              "      <td>4</td>\n",
              "      <td>Children's Books</td>\n",
              "      <td>{\"ISBN-13\": \"9780471310112\", \"Title\": \"Janice ...</td>\n",
              "      <td>1994</td>\n",
              "      <td>Janice VanCleave</td>\n",
              "      <td>1990</td>\n",
              "      <td>pre_2010</td>\n",
              "    </tr>\n",
              "  </tbody>\n",
              "</table>\n",
              "</div>\n",
              "      <button class=\"colab-df-convert\" onclick=\"convertToInteractive('df-828bb6da-cba7-4a76-b2be-9eb680af9197')\"\n",
              "              title=\"Convert this dataframe to an interactive table.\"\n",
              "              style=\"display:none;\">\n",
              "        \n",
              "  <svg xmlns=\"http://www.w3.org/2000/svg\" height=\"24px\"viewBox=\"0 0 24 24\"\n",
              "       width=\"24px\">\n",
              "    <path d=\"M0 0h24v24H0V0z\" fill=\"none\"/>\n",
              "    <path d=\"M18.56 5.44l.94 2.06.94-2.06 2.06-.94-2.06-.94-.94-2.06-.94 2.06-2.06.94zm-11 1L8.5 8.5l.94-2.06 2.06-.94-2.06-.94L8.5 2.5l-.94 2.06-2.06.94zm10 10l.94 2.06.94-2.06 2.06-.94-2.06-.94-.94-2.06-.94 2.06-2.06.94z\"/><path d=\"M17.41 7.96l-1.37-1.37c-.4-.4-.92-.59-1.43-.59-.52 0-1.04.2-1.43.59L10.3 9.45l-7.72 7.72c-.78.78-.78 2.05 0 2.83L4 21.41c.39.39.9.59 1.41.59.51 0 1.02-.2 1.41-.59l7.78-7.78 2.81-2.81c.8-.78.8-2.07 0-2.86zM5.41 20L4 18.59l7.72-7.72 1.47 1.35L5.41 20z\"/>\n",
              "  </svg>\n",
              "      </button>\n",
              "      \n",
              "  <style>\n",
              "    .colab-df-container {\n",
              "      display:flex;\n",
              "      flex-wrap:wrap;\n",
              "      gap: 12px;\n",
              "    }\n",
              "\n",
              "    .colab-df-convert {\n",
              "      background-color: #E8F0FE;\n",
              "      border: none;\n",
              "      border-radius: 50%;\n",
              "      cursor: pointer;\n",
              "      display: none;\n",
              "      fill: #1967D2;\n",
              "      height: 32px;\n",
              "      padding: 0 0 0 0;\n",
              "      width: 32px;\n",
              "    }\n",
              "\n",
              "    .colab-df-convert:hover {\n",
              "      background-color: #E2EBFA;\n",
              "      box-shadow: 0px 1px 2px rgba(60, 64, 67, 0.3), 0px 1px 3px 1px rgba(60, 64, 67, 0.15);\n",
              "      fill: #174EA6;\n",
              "    }\n",
              "\n",
              "    [theme=dark] .colab-df-convert {\n",
              "      background-color: #3B4455;\n",
              "      fill: #D2E3FC;\n",
              "    }\n",
              "\n",
              "    [theme=dark] .colab-df-convert:hover {\n",
              "      background-color: #434B5C;\n",
              "      box-shadow: 0px 1px 3px 1px rgba(0, 0, 0, 0.15);\n",
              "      filter: drop-shadow(0px 1px 2px rgba(0, 0, 0, 0.3));\n",
              "      fill: #FFFFFF;\n",
              "    }\n",
              "  </style>\n",
              "\n",
              "      <script>\n",
              "        const buttonEl =\n",
              "          document.querySelector('#df-828bb6da-cba7-4a76-b2be-9eb680af9197 button.colab-df-convert');\n",
              "        buttonEl.style.display =\n",
              "          google.colab.kernel.accessAllowed ? 'block' : 'none';\n",
              "\n",
              "        async function convertToInteractive(key) {\n",
              "          const element = document.querySelector('#df-828bb6da-cba7-4a76-b2be-9eb680af9197');\n",
              "          const dataTable =\n",
              "            await google.colab.kernel.invokeFunction('convertToInteractive',\n",
              "                                                     [key], {});\n",
              "          if (!dataTable) return;\n",
              "\n",
              "          const docLinkHtml = 'Like what you see? Visit the ' +\n",
              "            '<a target=\"_blank\" href=https://colab.research.google.com/notebooks/data_table.ipynb>data table notebook</a>'\n",
              "            + ' to learn more about interactive tables.';\n",
              "          element.innerHTML = '';\n",
              "          dataTable['output_type'] = 'display_data';\n",
              "          await google.colab.output.renderOutput(dataTable, element);\n",
              "          const docLink = document.createElement('div');\n",
              "          docLink.innerHTML = docLinkHtml;\n",
              "          element.appendChild(docLink);\n",
              "        }\n",
              "      </script>\n",
              "    </div>\n",
              "  </div>\n",
              "  "
            ],
            "text/plain": [
              "  amazon_index        filename  \\\n",
              "0   1588345297  1588345297.jpg   \n",
              "1   1404803335  1404803335.jpg   \n",
              "2    471310115  0471310115.jpg   \n",
              "\n",
              "                                               title               author  \\\n",
              "0         With Schwarzkopf: Life Lessons of The Bear              Gus Lee   \n",
              "1  Magnets: Pulling Together, Pushing Apart (Amaz...  Natalie M. Rosinsky   \n",
              "2  Janice VanCleave's 201 Awesome, Magical, Bizar...     Janice VanCleave   \n",
              "\n",
              "   category_id               category  \\\n",
              "0            1  Biographies & Memoirs   \n",
              "1            4       Children's Books   \n",
              "2            4       Children's Books   \n",
              "\n",
              "                                                meta  year  \\\n",
              "0  {\"ISBN-13\": \"9781588345295\", \"Title\": \"With Sc...  2015   \n",
              "1  {\"ISBN-13\": \"9781404803336\", \"Title\": \"Magnets...  2002   \n",
              "2  {\"ISBN-13\": \"9780471310112\", \"Title\": \"Janice ...  1994   \n",
              "\n",
              "           meta_author  decade  post_2010  \n",
              "0              Gus Lee    2010  post_2010  \n",
              "1  Natalie M. Rosinsky    2000   pre_2010  \n",
              "2     Janice VanCleave    1990   pre_2010  "
            ]
          },
          "execution_count": 4,
          "metadata": {},
          "output_type": "execute_result"
        }
      ],
      "source": [
        "train.head(3)"
      ]
    },
    {
      "cell_type": "code",
      "execution_count": null,
      "metadata": {
        "colab": {
          "base_uri": "https://localhost:8080/",
          "height": 292
        },
        "id": "EANUYynrHmIW",
        "outputId": "8901487b-0f8e-4810-b5d7-08859ab45d76"
      },
      "outputs": [
        {
          "data": {
            "text/html": [
              "\n",
              "  <div id=\"df-dce9cc51-23e8-47fb-86f0-08de86381e9f\">\n",
              "    <div class=\"colab-df-container\">\n",
              "      <div>\n",
              "<style scoped>\n",
              "    .dataframe tbody tr th:only-of-type {\n",
              "        vertical-align: middle;\n",
              "    }\n",
              "\n",
              "    .dataframe tbody tr th {\n",
              "        vertical-align: top;\n",
              "    }\n",
              "\n",
              "    .dataframe thead th {\n",
              "        text-align: right;\n",
              "    }\n",
              "</style>\n",
              "<table border=\"1\" class=\"dataframe\">\n",
              "  <thead>\n",
              "    <tr style=\"text-align: right;\">\n",
              "      <th></th>\n",
              "      <th>amazon_index</th>\n",
              "      <th>filename</th>\n",
              "      <th>title</th>\n",
              "      <th>author</th>\n",
              "      <th>category_id</th>\n",
              "      <th>category</th>\n",
              "      <th>meta</th>\n",
              "      <th>year</th>\n",
              "      <th>meta_author</th>\n",
              "      <th>decade</th>\n",
              "      <th>post_2010</th>\n",
              "    </tr>\n",
              "  </thead>\n",
              "  <tbody>\n",
              "    <tr>\n",
              "      <th>0</th>\n",
              "      <td>60750715</td>\n",
              "      <td>0060750715.jpg</td>\n",
              "      <td>George Balanchine: The Ballet Maker (Eminent L...</td>\n",
              "      <td>Robert Gottlieb</td>\n",
              "      <td>1</td>\n",
              "      <td>Biographies &amp; Memoirs</td>\n",
              "      <td>{\"ISBN-13\": \"9780060750701\", \"Title\": \"George ...</td>\n",
              "      <td>2004</td>\n",
              "      <td>Robert Gottlieb</td>\n",
              "      <td>2000</td>\n",
              "      <td>pre_2010</td>\n",
              "    </tr>\n",
              "    <tr>\n",
              "      <th>1</th>\n",
              "      <td>312556411</td>\n",
              "      <td>0312556411.jpg</td>\n",
              "      <td>Literature and Its Writers: A Compact Introduc...</td>\n",
              "      <td>Ann Charters</td>\n",
              "      <td>15</td>\n",
              "      <td>Literature &amp; Fiction</td>\n",
              "      <td>{\"ISBN-13\": \"9781457606472\", \"Title\": \"Literat...</td>\n",
              "      <td>2012</td>\n",
              "      <td>Ann Charters</td>\n",
              "      <td>2010</td>\n",
              "      <td>post_2010</td>\n",
              "    </tr>\n",
              "    <tr>\n",
              "      <th>2</th>\n",
              "      <td>545700272</td>\n",
              "      <td>0545700272.jpg</td>\n",
              "      <td>A Handful of Stars</td>\n",
              "      <td>Cynthia Lord</td>\n",
              "      <td>4</td>\n",
              "      <td>Children's Books</td>\n",
              "      <td>{\"ISBN-13\": \"9780545700283\", \"Title\": \"A Handf...</td>\n",
              "      <td>2017</td>\n",
              "      <td>Cynthia Lord</td>\n",
              "      <td>2010</td>\n",
              "      <td>post_2010</td>\n",
              "    </tr>\n",
              "  </tbody>\n",
              "</table>\n",
              "</div>\n",
              "      <button class=\"colab-df-convert\" onclick=\"convertToInteractive('df-dce9cc51-23e8-47fb-86f0-08de86381e9f')\"\n",
              "              title=\"Convert this dataframe to an interactive table.\"\n",
              "              style=\"display:none;\">\n",
              "        \n",
              "  <svg xmlns=\"http://www.w3.org/2000/svg\" height=\"24px\"viewBox=\"0 0 24 24\"\n",
              "       width=\"24px\">\n",
              "    <path d=\"M0 0h24v24H0V0z\" fill=\"none\"/>\n",
              "    <path d=\"M18.56 5.44l.94 2.06.94-2.06 2.06-.94-2.06-.94-.94-2.06-.94 2.06-2.06.94zm-11 1L8.5 8.5l.94-2.06 2.06-.94-2.06-.94L8.5 2.5l-.94 2.06-2.06.94zm10 10l.94 2.06.94-2.06 2.06-.94-2.06-.94-.94-2.06-.94 2.06-2.06.94z\"/><path d=\"M17.41 7.96l-1.37-1.37c-.4-.4-.92-.59-1.43-.59-.52 0-1.04.2-1.43.59L10.3 9.45l-7.72 7.72c-.78.78-.78 2.05 0 2.83L4 21.41c.39.39.9.59 1.41.59.51 0 1.02-.2 1.41-.59l7.78-7.78 2.81-2.81c.8-.78.8-2.07 0-2.86zM5.41 20L4 18.59l7.72-7.72 1.47 1.35L5.41 20z\"/>\n",
              "  </svg>\n",
              "      </button>\n",
              "      \n",
              "  <style>\n",
              "    .colab-df-container {\n",
              "      display:flex;\n",
              "      flex-wrap:wrap;\n",
              "      gap: 12px;\n",
              "    }\n",
              "\n",
              "    .colab-df-convert {\n",
              "      background-color: #E8F0FE;\n",
              "      border: none;\n",
              "      border-radius: 50%;\n",
              "      cursor: pointer;\n",
              "      display: none;\n",
              "      fill: #1967D2;\n",
              "      height: 32px;\n",
              "      padding: 0 0 0 0;\n",
              "      width: 32px;\n",
              "    }\n",
              "\n",
              "    .colab-df-convert:hover {\n",
              "      background-color: #E2EBFA;\n",
              "      box-shadow: 0px 1px 2px rgba(60, 64, 67, 0.3), 0px 1px 3px 1px rgba(60, 64, 67, 0.15);\n",
              "      fill: #174EA6;\n",
              "    }\n",
              "\n",
              "    [theme=dark] .colab-df-convert {\n",
              "      background-color: #3B4455;\n",
              "      fill: #D2E3FC;\n",
              "    }\n",
              "\n",
              "    [theme=dark] .colab-df-convert:hover {\n",
              "      background-color: #434B5C;\n",
              "      box-shadow: 0px 1px 3px 1px rgba(0, 0, 0, 0.15);\n",
              "      filter: drop-shadow(0px 1px 2px rgba(0, 0, 0, 0.3));\n",
              "      fill: #FFFFFF;\n",
              "    }\n",
              "  </style>\n",
              "\n",
              "      <script>\n",
              "        const buttonEl =\n",
              "          document.querySelector('#df-dce9cc51-23e8-47fb-86f0-08de86381e9f button.colab-df-convert');\n",
              "        buttonEl.style.display =\n",
              "          google.colab.kernel.accessAllowed ? 'block' : 'none';\n",
              "\n",
              "        async function convertToInteractive(key) {\n",
              "          const element = document.querySelector('#df-dce9cc51-23e8-47fb-86f0-08de86381e9f');\n",
              "          const dataTable =\n",
              "            await google.colab.kernel.invokeFunction('convertToInteractive',\n",
              "                                                     [key], {});\n",
              "          if (!dataTable) return;\n",
              "\n",
              "          const docLinkHtml = 'Like what you see? Visit the ' +\n",
              "            '<a target=\"_blank\" href=https://colab.research.google.com/notebooks/data_table.ipynb>data table notebook</a>'\n",
              "            + ' to learn more about interactive tables.';\n",
              "          element.innerHTML = '';\n",
              "          dataTable['output_type'] = 'display_data';\n",
              "          await google.colab.output.renderOutput(dataTable, element);\n",
              "          const docLink = document.createElement('div');\n",
              "          docLink.innerHTML = docLinkHtml;\n",
              "          element.appendChild(docLink);\n",
              "        }\n",
              "      </script>\n",
              "    </div>\n",
              "  </div>\n",
              "  "
            ],
            "text/plain": [
              "  amazon_index        filename  \\\n",
              "0     60750715  0060750715.jpg   \n",
              "1    312556411  0312556411.jpg   \n",
              "2    545700272  0545700272.jpg   \n",
              "\n",
              "                                               title           author  \\\n",
              "0  George Balanchine: The Ballet Maker (Eminent L...  Robert Gottlieb   \n",
              "1  Literature and Its Writers: A Compact Introduc...     Ann Charters   \n",
              "2                                 A Handful of Stars     Cynthia Lord   \n",
              "\n",
              "   category_id               category  \\\n",
              "0            1  Biographies & Memoirs   \n",
              "1           15   Literature & Fiction   \n",
              "2            4       Children's Books   \n",
              "\n",
              "                                                meta  year      meta_author  \\\n",
              "0  {\"ISBN-13\": \"9780060750701\", \"Title\": \"George ...  2004  Robert Gottlieb   \n",
              "1  {\"ISBN-13\": \"9781457606472\", \"Title\": \"Literat...  2012     Ann Charters   \n",
              "2  {\"ISBN-13\": \"9780545700283\", \"Title\": \"A Handf...  2017     Cynthia Lord   \n",
              "\n",
              "   decade  post_2010  \n",
              "0    2000   pre_2010  \n",
              "1    2010  post_2010  \n",
              "2    2010  post_2010  "
            ]
          },
          "execution_count": 5,
          "metadata": {},
          "output_type": "execute_result"
        }
      ],
      "source": [
        "test.head(3)"
      ]
    },
    {
      "cell_type": "markdown",
      "metadata": {
        "id": "8IiRCpDSTbU7"
      },
      "source": [
        "### Baseline Model"
      ]
    },
    {
      "cell_type": "code",
      "execution_count": null,
      "metadata": {
        "colab": {
          "base_uri": "https://localhost:8080/"
        },
        "id": "0r6rrUKITZzK",
        "outputId": "bd5b57ca-f0ac-47cd-9291-d11ae9364a5a"
      },
      "outputs": [
        {
          "data": {
            "text/plain": [
              "post_2010    0.5957\n",
              "pre_2010     0.4043\n",
              "Name: post_2010, dtype: float64"
            ]
          },
          "execution_count": 6,
          "metadata": {},
          "output_type": "execute_result"
        }
      ],
      "source": [
        "train['post_2010'].value_counts(normalize=True)"
      ]
    },
    {
      "cell_type": "markdown",
      "metadata": {
        "id": "x0-vlKx5Va9e"
      },
      "source": [
        "> post_2010 includes the 2010s"
      ]
    },
    {
      "cell_type": "markdown",
      "metadata": {
        "id": "SAYJnrxITlAt"
      },
      "source": [
        "### Basic CNN Model"
      ]
    },
    {
      "cell_type": "code",
      "execution_count": 4,
      "metadata": {
        "colab": {
          "base_uri": "https://localhost:8080/"
        },
        "id": "ogCXd5qmTe8f",
        "outputId": "0b2a179c-b2b0-4b09-e01e-af4cc84b756a"
      },
      "outputs": [
        {
          "name": "stdout",
          "output_type": "stream",
          "text": [
            "Found 9117 validated image filenames belonging to 2 classes.\n",
            "Found 1023 validated image filenames belonging to 2 classes.\n"
          ]
        }
      ],
      "source": [
        "datagen = ImageDataGenerator(rescale=1/255)\n",
        "\n",
        "train_gen = datagen.flow_from_dataframe(\n",
        "    dataframe=train,\n",
        "    directory='/content/224x224',\n",
        "    x_col='filename',\n",
        "    y_col='post_2010',\n",
        "    class_mode='binary',\n",
        "    target_size=(256,256)\n",
        ")\n",
        "\n",
        "test_gen = datagen.flow_from_dataframe(\n",
        "    dataframe=test,\n",
        "    directory='/content/224x224',\n",
        "    x_col='filename',\n",
        "    y_col='post_2010',\n",
        "    class_mode='binary',\n",
        "    target_size=(256,256),\n",
        "    shuffle=False\n",
        ")"
      ]
    },
    {
      "cell_type": "code",
      "execution_count": 5,
      "metadata": {
        "id": "FaWVpnDINPL6"
      },
      "outputs": [],
      "source": [
        "# https://stackoverflow.com/questions/42586475/is-it-possible-to-automatically-infer-the-class-weight-from-flow-from-directory/67678399#67678399\n",
        "\n",
        "class_weights = class_weight.compute_class_weight(\n",
        "            class_weight='balanced',\n",
        "            classes=np.unique(train_gen.classes), \n",
        "            y = train_gen.classes)\n",
        "\n",
        "train_class_weights = dict(enumerate(class_weights))"
      ]
    },
    {
      "cell_type": "code",
      "execution_count": 6,
      "metadata": {
        "id": "eN8BNFkDT54p"
      },
      "outputs": [],
      "source": [
        "model1 = Sequential()\n",
        "model1.add(Conv2D(64,(3,3),activation='relu',input_shape=(256,256,3)))\n",
        "model1.add(MaxPooling2D(pool_size=(2,2)))\n",
        "\n",
        "model1.add(Conv2D(64,(3,3),activation='relu'))\n",
        "model1.add(MaxPooling2D(pool_size=(2,2)))\n",
        "\n",
        "model1.add(Flatten())\n",
        "model1.add(Dense(64,activation='relu'))\n",
        "model1.add(Dense(1,activation='sigmoid'))\n",
        "\n",
        "model1.compile(\n",
        "    optimizer ='adam',\n",
        "    loss = 'bce',\n",
        "    metrics = ['accuracy']\n",
        ")"
      ]
    },
    {
      "cell_type": "code",
      "execution_count": 7,
      "metadata": {
        "id": "UGLSkZWpV0cr"
      },
      "outputs": [],
      "source": [
        "early_stop = EarlyStopping(\n",
        "    monitor='val_loss',\n",
        "    min_delta=0,\n",
        "    patience=5,\n",
        "    verbose=1,\n",
        ")"
      ]
    },
    {
      "cell_type": "code",
      "execution_count": 8,
      "metadata": {
        "colab": {
          "base_uri": "https://localhost:8080/"
        },
        "id": "9nqhVvLIVj83",
        "outputId": "00eb3118-78fb-4cc2-e7a9-baaf428dfca2"
      },
      "outputs": [
        {
          "name": "stdout",
          "output_type": "stream",
          "text": [
            "Epoch 1/100\n",
            "285/285 [==============================] - 60s 149ms/step - loss: 0.7577 - accuracy: 0.5902 - val_loss: 0.6705 - val_accuracy: 0.5728\n",
            "Epoch 2/100\n",
            "285/285 [==============================] - 40s 140ms/step - loss: 0.6189 - accuracy: 0.6439 - val_loss: 0.6820 - val_accuracy: 0.5689\n",
            "Epoch 3/100\n",
            "285/285 [==============================] - 43s 151ms/step - loss: 0.4832 - accuracy: 0.7450 - val_loss: 0.6796 - val_accuracy: 0.6158\n",
            "Epoch 4/100\n",
            "285/285 [==============================] - 37s 129ms/step - loss: 0.2766 - accuracy: 0.8686 - val_loss: 0.9954 - val_accuracy: 0.6657\n",
            "Epoch 5/100\n",
            "285/285 [==============================] - 40s 139ms/step - loss: 0.1300 - accuracy: 0.9469 - val_loss: 1.3839 - val_accuracy: 0.6403\n",
            "Epoch 6/100\n",
            "285/285 [==============================] - 35s 122ms/step - loss: 0.0569 - accuracy: 0.9818 - val_loss: 2.0653 - val_accuracy: 0.6657\n",
            "Epoch 6: early stopping\n"
          ]
        }
      ],
      "source": [
        "history1 = model1.fit(\n",
        "    train_gen,\n",
        "    class_weight=train_class_weights,\n",
        "    validation_data=test_gen,\n",
        "    epochs=100,\n",
        "    callbacks=[early_stop]\n",
        ")"
      ]
    },
    {
      "cell_type": "code",
      "execution_count": 78,
      "metadata": {
        "colab": {
          "base_uri": "https://localhost:8080/",
          "height": 280
        },
        "id": "Of6zSne_VnJc",
        "outputId": "efa0a3ab-5ab9-4196-a88d-3c91fe18f0d2"
      },
      "outputs": [
        {
          "data": {
            "image/png": "[encoded data removed]",
            "text/plain": [
              "<Figure size 432x288 with 2 Axes>"
            ]
          },
          "metadata": {
            "needs_background": "light"
          },
          "output_type": "display_data"
        }
      ],
      "source": [
        "preds = model1.predict(test_gen)\n",
        "\n",
        "ConfusionMatrixDisplay.from_predictions(\n",
        "    test_gen.classes, \n",
        "    np.where(preds > 0.5, 1, 0), \n",
        "    display_labels=list(test_gen.class_indices.keys()));"
      ]
    },
    {
      "cell_type": "code",
      "execution_count": 14,
      "metadata": {
        "colab": {
          "base_uri": "https://localhost:8080/",
          "height": 374
        },
        "id": "XiVQf8-6GVSp",
        "outputId": "8a4e76a6-390b-4ea9-bcff-f9225651c9ba"
      },
      "outputs": [
        {
          "data": {
            "image/png": "[encoded data removed]",
            "text/plain": [
              "<Figure size 720x432 with 1 Axes>"
            ]
          },
          "metadata": {
            "needs_background": "light"
          },
          "output_type": "display_data"
        }
      ],
      "source": [
        "train_loss = history1.history['loss']\n",
        "test_loss = history1.history['val_loss']\n",
        "\n",
        "plt.figure(figsize=(10, 6))\n",
        "plt.plot(train_loss, label='Training loss', color='navy')\n",
        "plt.plot(test_loss, label='Testing loss', color='skyblue')\n",
        "plt.legend();"
      ]
    },
    {
      "cell_type": "markdown",
      "metadata": {
        "id": "oYYvBZPlX9sM"
      },
      "source": [
        "### Adding Additional Conv2D and MaxPooling 2D Layers with Dropout"
      ]
    },
    {
      "cell_type": "code",
      "execution_count": 10,
      "metadata": {
        "id": "OEMYnCZaJZSE"
      },
      "outputs": [],
      "source": [
        "model2 = Sequential()\n",
        "model2.add(Conv2D(64,(3,3),activation='relu',input_shape=(256,256,3)))\n",
        "model2.add(MaxPooling2D(pool_size=(2,2)))\n",
        "\n",
        "model2.add(Conv2D(64,(3,3),activation='relu'))\n",
        "model2.add(MaxPooling2D(pool_size=(2,2)))\n",
        "\n",
        "model2.add(Conv2D(64,(3,3),activation='relu'))\n",
        "model2.add(MaxPooling2D(pool_size=(2,2)))\n",
        "\n",
        "model2.add(Conv2D(64,(3,3),activation='relu'))\n",
        "model2.add(MaxPooling2D(pool_size=(2,2)))\n",
        "\n",
        "model2.add(Flatten())\n",
        "model2.add(Dense(64,activation='relu'))\n",
        "model2.add(Dropout(0.2))\n",
        "model2.add(Dense(1,activation='sigmoid'))\n",
        "\n",
        "model2.compile(\n",
        "    optimizer = Adam(learning_rate=.0001),\n",
        "    loss = 'bce',\n",
        "    metrics = ['accuracy']\n",
        ")"
      ]
    },
    {
      "cell_type": "code",
      "execution_count": 11,
      "metadata": {
        "colab": {
          "base_uri": "https://localhost:8080/"
        },
        "id": "vBJhn8FfXfl2",
        "outputId": "3d322eb2-50a1-4252-ad25-d02639ef0ab1"
      },
      "outputs": [
        {
          "name": "stdout",
          "output_type": "stream",
          "text": [
            "Epoch 1/100\n",
            "285/285 [==============================] - 31s 104ms/step - loss: 0.6814 - accuracy: 0.5656 - val_loss: 0.6800 - val_accuracy: 0.5464\n",
            "Epoch 2/100\n",
            "285/285 [==============================] - 29s 102ms/step - loss: 0.6649 - accuracy: 0.5897 - val_loss: 0.6514 - val_accuracy: 0.6256\n",
            "Epoch 3/100\n",
            "285/285 [==============================] - 29s 100ms/step - loss: 0.6500 - accuracy: 0.6149 - val_loss: 0.6500 - val_accuracy: 0.6325\n",
            "Epoch 4/100\n",
            "285/285 [==============================] - 28s 99ms/step - loss: 0.6375 - accuracy: 0.6338 - val_loss: 0.6633 - val_accuracy: 0.5904\n",
            "Epoch 5/100\n",
            "285/285 [==============================] - 29s 103ms/step - loss: 0.6177 - accuracy: 0.6548 - val_loss: 0.6386 - val_accuracy: 0.6344\n",
            "Epoch 6/100\n",
            "285/285 [==============================] - 28s 98ms/step - loss: 0.6017 - accuracy: 0.6734 - val_loss: 0.6626 - val_accuracy: 0.6129\n",
            "Epoch 7/100\n",
            "285/285 [==============================] - 34s 118ms/step - loss: 0.5797 - accuracy: 0.6924 - val_loss: 0.6395 - val_accuracy: 0.6461\n",
            "Epoch 8/100\n",
            "285/285 [==============================] - 29s 103ms/step - loss: 0.5554 - accuracy: 0.7165 - val_loss: 0.6790 - val_accuracy: 0.6031\n",
            "Epoch 9/100\n",
            "285/285 [==============================] - 28s 98ms/step - loss: 0.5288 - accuracy: 0.7321 - val_loss: 0.6950 - val_accuracy: 0.6158\n",
            "Epoch 10/100\n",
            "285/285 [==============================] - 28s 98ms/step - loss: 0.4967 - accuracy: 0.7583 - val_loss: 0.7066 - val_accuracy: 0.6305\n",
            "Epoch 10: early stopping\n"
          ]
        }
      ],
      "source": [
        "history2 = model2.fit(\n",
        "    train_gen,\n",
        "    class_weight=train_class_weights,\n",
        "    validation_data=test_gen,\n",
        "    epochs=100,\n",
        "    callbacks=[early_stop]\n",
        ")"
      ]
    },
    {
      "cell_type": "code",
      "execution_count": 77,
      "metadata": {
        "colab": {
          "base_uri": "https://localhost:8080/",
          "height": 280
        },
        "id": "K-DzMn8jYP7q",
        "outputId": "e673d86d-30d8-4694-ddc7-71c3fad5ecf6"
      },
      "outputs": [
        {
          "data": {
            "image/png": "[encoded data removed]",
            "text/plain": [
              "<Figure size 432x288 with 2 Axes>"
            ]
          },
          "metadata": {
            "needs_background": "light"
          },
          "output_type": "display_data"
        }
      ],
      "source": [
        "preds = model2.predict(test_gen)\n",
        "\n",
        "ConfusionMatrixDisplay.from_predictions(\n",
        "    test_gen.classes, \n",
        "    np.where(preds > 0.5, 1, 0), \n",
        "    display_labels=list(test_gen.class_indices.keys()));"
      ]
    },
    {
      "cell_type": "code",
      "execution_count": 17,
      "metadata": {
        "colab": {
          "base_uri": "https://localhost:8080/",
          "height": 374
        },
        "id": "DU05ps22G3MO",
        "outputId": "e7c97d9a-e819-49a3-a461-7975518de0b6"
      },
      "outputs": [
        {
          "data": {
            "image/png": "[encoded data removed]",
            "text/plain": [
              "<Figure size 720x432 with 1 Axes>"
            ]
          },
          "metadata": {
            "needs_background": "light"
          },
          "output_type": "display_data"
        }
      ],
      "source": [
        "train_loss = history2.history['loss']\n",
        "test_loss = history2.history['val_loss']\n",
        "\n",
        "plt.figure(figsize=(10, 6))\n",
        "plt.plot(train_loss, label='Training loss', color='navy')\n",
        "plt.plot(test_loss, label='Testing loss', color='skyblue')\n",
        "plt.legend();"
      ]
    },
    {
      "cell_type": "markdown",
      "metadata": {
        "id": "TMGibbS9ZZkT"
      },
      "source": [
        "### Removing One Conv2D and MaxPooling 2D Layer"
      ]
    },
    {
      "cell_type": "code",
      "execution_count": 18,
      "metadata": {
        "id": "H3xedta8ZZka"
      },
      "outputs": [],
      "source": [
        "model3 = Sequential()\n",
        "model3.add(Conv2D(64,(3,3),activation='relu',input_shape=(256,256,3)))\n",
        "model3.add(MaxPooling2D(pool_size=(2,2)))\n",
        "\n",
        "model3.add(Conv2D(64,(3,3),activation='relu'))\n",
        "model3.add(MaxPooling2D(pool_size=(2,2)))\n",
        "\n",
        "model3.add(Conv2D(64,(3,3),activation='relu'))\n",
        "model3.add(MaxPooling2D(pool_size=(2,2)))\n",
        "\n",
        "model3.add(Flatten())\n",
        "model3.add(Dense(64,activation='relu'))\n",
        "model3.add(Dropout(0.2))\n",
        "model3.add(Dense(1,activation='sigmoid'))\n",
        "\n",
        "model3.compile(\n",
        "    optimizer = Adam(learning_rate=.0001),\n",
        "    loss = 'bce',\n",
        "    metrics = ['accuracy']\n",
        ")"
      ]
    },
    {
      "cell_type": "code",
      "execution_count": 19,
      "metadata": {
        "colab": {
          "base_uri": "https://localhost:8080/"
        },
        "id": "bK4Xo1t5ZZka",
        "outputId": "1f77c436-b3b7-48a7-d583-480bb1847a6b"
      },
      "outputs": [
        {
          "name": "stdout",
          "output_type": "stream",
          "text": [
            "Epoch 1/100\n",
            "285/285 [==============================] - 38s 132ms/step - loss: 0.6741 - accuracy: 0.5802 - val_loss: 0.6730 - val_accuracy: 0.5621\n",
            "Epoch 2/100\n",
            "285/285 [==============================] - 39s 135ms/step - loss: 0.6503 - accuracy: 0.6209 - val_loss: 0.6491 - val_accuracy: 0.6383\n",
            "Epoch 3/100\n",
            "285/285 [==============================] - 33s 114ms/step - loss: 0.6282 - accuracy: 0.6496 - val_loss: 0.6426 - val_accuracy: 0.6413\n",
            "Epoch 4/100\n",
            "285/285 [==============================] - 32s 112ms/step - loss: 0.5971 - accuracy: 0.6794 - val_loss: 0.6337 - val_accuracy: 0.6491\n",
            "Epoch 5/100\n",
            "285/285 [==============================] - 28s 98ms/step - loss: 0.5554 - accuracy: 0.7135 - val_loss: 0.6422 - val_accuracy: 0.6579\n",
            "Epoch 6/100\n",
            "285/285 [==============================] - 29s 103ms/step - loss: 0.5124 - accuracy: 0.7488 - val_loss: 0.6571 - val_accuracy: 0.6276\n",
            "Epoch 7/100\n",
            "285/285 [==============================] - 28s 99ms/step - loss: 0.4661 - accuracy: 0.7818 - val_loss: 0.6784 - val_accuracy: 0.6354\n",
            "Epoch 8/100\n",
            "285/285 [==============================] - 34s 118ms/step - loss: 0.4085 - accuracy: 0.8093 - val_loss: 0.6835 - val_accuracy: 0.6725\n",
            "Epoch 9/100\n",
            "285/285 [==============================] - 28s 97ms/step - loss: 0.3458 - accuracy: 0.8527 - val_loss: 0.7157 - val_accuracy: 0.6461\n",
            "Epoch 9: early stopping\n"
          ]
        }
      ],
      "source": [
        "history3 = model3.fit(\n",
        "    train_gen,\n",
        "    class_weight=train_class_weights,\n",
        "    validation_data=test_gen,\n",
        "    epochs=100,\n",
        "    callbacks=[early_stop]\n",
        ")"
      ]
    },
    {
      "cell_type": "code",
      "execution_count": 76,
      "metadata": {
        "colab": {
          "base_uri": "https://localhost:8080/",
          "height": 280
        },
        "id": "FBYCN0xGZZka",
        "outputId": "66742137-6f3a-4e0a-8c7d-6d92f826aa3d"
      },
      "outputs": [
        {
          "data": {
            "image/png": "[encoded data removed]",
            "text/plain": [
              "<Figure size 432x288 with 2 Axes>"
            ]
          },
          "metadata": {
            "needs_background": "light"
          },
          "output_type": "display_data"
        }
      ],
      "source": [
        "preds = model3.predict(test_gen)\n",
        "\n",
        "ConfusionMatrixDisplay.from_predictions(\n",
        "    test_gen.classes, \n",
        "    np.where(preds > 0.5, 1, 0), \n",
        "    display_labels=list(test_gen.class_indices.keys()));"
      ]
    },
    {
      "cell_type": "code",
      "execution_count": 21,
      "metadata": {
        "colab": {
          "base_uri": "https://localhost:8080/",
          "height": 374
        },
        "id": "LfSX_xgQHIbQ",
        "outputId": "2d90effc-c11f-4299-ebb9-f2dc148ac667"
      },
      "outputs": [
        {
          "data": {
            "image/png": "[encoded data removed]",
            "text/plain": [
              "<Figure size 720x432 with 1 Axes>"
            ]
          },
          "metadata": {
            "needs_background": "light"
          },
          "output_type": "display_data"
        }
      ],
      "source": [
        "train_loss = history3.history['loss']\n",
        "test_loss = history3.history['val_loss']\n",
        "\n",
        "plt.figure(figsize=(10, 6))\n",
        "plt.plot(train_loss, label='Training loss', color='navy')\n",
        "plt.plot(test_loss, label='Testing loss', color='skyblue')\n",
        "plt.legend();"
      ]
    },
    {
      "cell_type": "markdown",
      "metadata": {
        "id": "3PiReabravl1"
      },
      "source": [
        "#### EfficientNet"
      ]
    },
    {
      "cell_type": "code",
      "execution_count": 22,
      "metadata": {
        "id": "pKRSXVBkavl2"
      },
      "outputs": [],
      "source": [
        "eff_train_gen = ImageDataGenerator(vertical_flip=True, rotation_range=20)\n",
        "eff_test_gen = ImageDataGenerator(vertical_flip=True, rotation_range=20)"
      ]
    },
    {
      "cell_type": "code",
      "execution_count": 23,
      "metadata": {
        "colab": {
          "base_uri": "https://localhost:8080/"
        },
        "id": "VAhubIf6avl2",
        "outputId": "dd51d162-6581-4ca6-b6bc-95801e0dfcaa"
      },
      "outputs": [
        {
          "name": "stdout",
          "output_type": "stream",
          "text": [
            "Found 9117 validated image filenames belonging to 2 classes.\n",
            "Found 1023 validated image filenames belonging to 2 classes.\n"
          ]
        }
      ],
      "source": [
        "eff_aug_train = eff_train_gen.flow_from_dataframe(\n",
        "    dataframe=train,\n",
        "    directory='/content/224x224',\n",
        "    x_col='filename',\n",
        "    y_col='post_2010',\n",
        "    class_mode='binary',\n",
        "    target_size=(224,224)\n",
        ")\n",
        "\n",
        "eff_aug_test = eff_test_gen.flow_from_dataframe(\n",
        "    dataframe=test,\n",
        "    directory='/content/224x224',\n",
        "    x_col='filename',\n",
        "    y_col='post_2010',\n",
        "    class_mode='binary',\n",
        "    target_size=(224,224),\n",
        "    shuffle=False\n",
        ")"
      ]
    },
    {
      "cell_type": "code",
      "execution_count": 24,
      "metadata": {
        "id": "6fBwq1sON82f"
      },
      "outputs": [],
      "source": [
        "# https://stackoverflow.com/questions/42586475/is-it-possible-to-automatically-infer-the-class-weight-from-flow-from-directory/67678399#67678399\n",
        "\n",
        "class_weights = class_weight.compute_class_weight(\n",
        "            class_weight='balanced',\n",
        "            classes=np.unique(eff_aug_train.classes), \n",
        "            y = eff_aug_train.classes)\n",
        "\n",
        "train_class_weights = dict(enumerate(class_weights))"
      ]
    },
    {
      "cell_type": "code",
      "execution_count": 25,
      "metadata": {
        "colab": {
          "base_uri": "https://localhost:8080/"
        },
        "id": "K_rcPSw8avl2",
        "outputId": "07ec591b-6bcd-4cd4-e27c-f363acecf5a0"
      },
      "outputs": [
        {
          "name": "stdout",
          "output_type": "stream",
          "text": [
            "Downloading data from https://storage.googleapis.com/keras-applications/efficientnetb0_notop.h5\n",
            "16711680/16705208 [==============================] - 0s 0us/step\n",
            "16719872/16705208 [==============================] - 0s 0us/step\n"
          ]
        }
      ],
      "source": [
        "effnet = EfficientNetB0(include_top=False, weights='imagenet')"
      ]
    },
    {
      "cell_type": "code",
      "execution_count": 26,
      "metadata": {
        "id": "3f7uBWi6avl3"
      },
      "outputs": [],
      "source": [
        "effnet.trainable = False"
      ]
    },
    {
      "cell_type": "code",
      "execution_count": 27,
      "metadata": {
        "id": "uv7WIKUAavl3"
      },
      "outputs": [],
      "source": [
        "model4 = Sequential()\n",
        "model4.add(effnet)\n",
        "model4.add(GlobalAveragePooling2D())\n",
        "model4.add(Dense(64, activation='relu'))\n",
        "model4.add(Dense(1, activation='sigmoid'))\n",
        "\n",
        "model4.compile(\n",
        "    optimizer=Adam(learning_rate=0.0001),\n",
        "    loss='bce',\n",
        "    metrics = ['accuracy']\n",
        ")"
      ]
    },
    {
      "cell_type": "code",
      "execution_count": 28,
      "metadata": {
        "colab": {
          "base_uri": "https://localhost:8080/"
        },
        "id": "6K90GJBPavl3",
        "outputId": "271e1bd1-ac6b-4c89-fc4d-0920d6580bdf"
      },
      "outputs": [
        {
          "name": "stdout",
          "output_type": "stream",
          "text": [
            "Epoch 1/100\n",
            "285/285 [==============================] - 135s 445ms/step - loss: 0.6667 - accuracy: 0.5936 - val_loss: 0.6569 - val_accuracy: 0.6178\n",
            "Epoch 2/100\n",
            "285/285 [==============================] - 124s 436ms/step - loss: 0.6299 - accuracy: 0.6520 - val_loss: 0.6631 - val_accuracy: 0.6119\n",
            "Epoch 3/100\n",
            "285/285 [==============================] - 124s 435ms/step - loss: 0.6111 - accuracy: 0.6633 - val_loss: 0.6445 - val_accuracy: 0.6510\n",
            "Epoch 4/100\n",
            "285/285 [==============================] - 123s 432ms/step - loss: 0.6037 - accuracy: 0.6688 - val_loss: 0.6349 - val_accuracy: 0.6500\n",
            "Epoch 5/100\n",
            "285/285 [==============================] - 122s 428ms/step - loss: 0.5943 - accuracy: 0.6847 - val_loss: 0.6364 - val_accuracy: 0.6442\n",
            "Epoch 6/100\n",
            "285/285 [==============================] - 124s 435ms/step - loss: 0.5856 - accuracy: 0.6861 - val_loss: 0.6267 - val_accuracy: 0.6491\n",
            "Epoch 7/100\n",
            "285/285 [==============================] - 124s 434ms/step - loss: 0.5794 - accuracy: 0.6929 - val_loss: 0.6413 - val_accuracy: 0.6393\n",
            "Epoch 8/100\n",
            "285/285 [==============================] - 124s 434ms/step - loss: 0.5760 - accuracy: 0.6935 - val_loss: 0.6333 - val_accuracy: 0.6471\n",
            "Epoch 9/100\n",
            "285/285 [==============================] - 125s 437ms/step - loss: 0.5687 - accuracy: 0.7021 - val_loss: 0.6120 - val_accuracy: 0.6628\n",
            "Epoch 10/100\n",
            "285/285 [==============================] - 124s 436ms/step - loss: 0.5649 - accuracy: 0.7044 - val_loss: 0.6437 - val_accuracy: 0.6383\n",
            "Epoch 11/100\n",
            "285/285 [==============================] - 124s 436ms/step - loss: 0.5577 - accuracy: 0.7090 - val_loss: 0.6118 - val_accuracy: 0.6667\n",
            "Epoch 12/100\n",
            "285/285 [==============================] - 124s 436ms/step - loss: 0.5516 - accuracy: 0.7195 - val_loss: 0.6304 - val_accuracy: 0.6530\n",
            "Epoch 13/100\n",
            "285/285 [==============================] - 124s 436ms/step - loss: 0.5473 - accuracy: 0.7212 - val_loss: 0.6270 - val_accuracy: 0.6540\n",
            "Epoch 14/100\n",
            "285/285 [==============================] - 123s 431ms/step - loss: 0.5481 - accuracy: 0.7124 - val_loss: 0.6322 - val_accuracy: 0.6579\n",
            "Epoch 15/100\n",
            "285/285 [==============================] - 123s 432ms/step - loss: 0.5411 - accuracy: 0.7270 - val_loss: 0.6172 - val_accuracy: 0.6647\n",
            "Epoch 16/100\n",
            "285/285 [==============================] - 121s 425ms/step - loss: 0.5383 - accuracy: 0.7277 - val_loss: 0.6279 - val_accuracy: 0.6559\n",
            "Epoch 16: early stopping\n"
          ]
        }
      ],
      "source": [
        "history4 = model4.fit(\n",
        "    eff_aug_train,\n",
        "    class_weight=train_class_weights,\n",
        "    batch_size=32,\n",
        "    validation_data=eff_aug_test,\n",
        "    epochs=100,\n",
        "    callbacks=[early_stop]\n",
        ")"
      ]
    },
    {
      "cell_type": "code",
      "execution_count": 75,
      "metadata": {
        "colab": {
          "base_uri": "https://localhost:8080/",
          "height": 280
        },
        "id": "qLVjsJIMbRo-",
        "outputId": "75a3c42c-8ed5-4d5a-cf0c-60a1d157d2ea"
      },
      "outputs": [
        {
          "data": {
            "image/png": "[encoded data removed]",
            "text/plain": [
              "<Figure size 432x288 with 2 Axes>"
            ]
          },
          "metadata": {
            "needs_background": "light"
          },
          "output_type": "display_data"
        }
      ],
      "source": [
        "preds = model4.predict(eff_aug_test)\n",
        "\n",
        "ConfusionMatrixDisplay.from_predictions(\n",
        "    eff_aug_test.classes, \n",
        "    np.where(preds > 0.5, 1, 0), \n",
        "    display_labels=list(eff_aug_test.class_indices.keys()));"
      ]
    },
    {
      "cell_type": "code",
      "execution_count": 30,
      "metadata": {
        "colab": {
          "base_uri": "https://localhost:8080/",
          "height": 374
        },
        "id": "VtSYspTAHMpC",
        "outputId": "25622d13-6d16-4ca5-81ce-f7f5fda25754"
      },
      "outputs": [
        {
          "data": {
            "image/png": "[encoded data removed]",
            "text/plain": [
              "<Figure size 720x432 with 1 Axes>"
            ]
          },
          "metadata": {
            "needs_background": "light"
          },
          "output_type": "display_data"
        }
      ],
      "source": [
        "train_loss = history4.history['loss']\n",
        "test_loss = history4.history['val_loss']\n",
        "\n",
        "plt.figure(figsize=(10, 6))\n",
        "plt.plot(train_loss, label='Training loss', color='navy')\n",
        "plt.plot(test_loss, label='Testing loss', color='skyblue')\n",
        "plt.legend();"
      ]
    },
    {
      "cell_type": "markdown",
      "metadata": {
        "id": "Box5b3seoMDg"
      },
      "source": [
        "#### EffNet - Changing Learning Rate"
      ]
    },
    {
      "cell_type": "code",
      "execution_count": 31,
      "metadata": {
        "id": "HV0iVzDPoIwM"
      },
      "outputs": [],
      "source": [
        "model5 = Sequential()\n",
        "model5.add(effnet)\n",
        "model5.add(GlobalAveragePooling2D())\n",
        "model5.add(Dense(64, activation='relu'))\n",
        "model5.add(Dense(1, activation='sigmoid'))\n",
        "\n",
        "model5.compile(\n",
        "    optimizer=Adam(learning_rate=0.001),\n",
        "    loss='bce',\n",
        "    metrics = ['accuracy']\n",
        ")"
      ]
    },
    {
      "cell_type": "code",
      "execution_count": 32,
      "metadata": {
        "colab": {
          "base_uri": "https://localhost:8080/"
        },
        "id": "qOTIf0PEoIwS",
        "outputId": "8709c142-5d8a-4a11-ccbc-406617fbd11c"
      },
      "outputs": [
        {
          "name": "stdout",
          "output_type": "stream",
          "text": [
            "Epoch 1/100\n",
            "285/285 [==============================] - 131s 436ms/step - loss: 0.6403 - accuracy: 0.6288 - val_loss: 0.6273 - val_accuracy: 0.6540\n",
            "Epoch 2/100\n",
            "285/285 [==============================] - 122s 427ms/step - loss: 0.6046 - accuracy: 0.6656 - val_loss: 0.6455 - val_accuracy: 0.6256\n",
            "Epoch 3/100\n",
            "285/285 [==============================] - 122s 427ms/step - loss: 0.5761 - accuracy: 0.6904 - val_loss: 0.6168 - val_accuracy: 0.6647\n",
            "Epoch 4/100\n",
            "285/285 [==============================] - 121s 426ms/step - loss: 0.5585 - accuracy: 0.7080 - val_loss: 0.6273 - val_accuracy: 0.6657\n",
            "Epoch 5/100\n",
            "285/285 [==============================] - 122s 428ms/step - loss: 0.5411 - accuracy: 0.7229 - val_loss: 0.6328 - val_accuracy: 0.6608\n",
            "Epoch 6/100\n",
            "285/285 [==============================] - 123s 432ms/step - loss: 0.5214 - accuracy: 0.7389 - val_loss: 0.6366 - val_accuracy: 0.6569\n",
            "Epoch 7/100\n",
            "285/285 [==============================] - 123s 433ms/step - loss: 0.4963 - accuracy: 0.7547 - val_loss: 0.6844 - val_accuracy: 0.6325\n",
            "Epoch 8/100\n",
            "285/285 [==============================] - 123s 432ms/step - loss: 0.4790 - accuracy: 0.7665 - val_loss: 0.6548 - val_accuracy: 0.6530\n",
            "Epoch 8: early stopping\n"
          ]
        }
      ],
      "source": [
        "history5 = model5.fit(\n",
        "    eff_aug_train,\n",
        "    class_weight=train_class_weights,\n",
        "    batch_size=32,\n",
        "    validation_data=eff_aug_test,\n",
        "    epochs=100,\n",
        "    callbacks=[early_stop]\n",
        ")"
      ]
    },
    {
      "cell_type": "code",
      "execution_count": 74,
      "metadata": {
        "colab": {
          "base_uri": "https://localhost:8080/",
          "height": 280
        },
        "id": "jkOy8aB2AQaW",
        "outputId": "79880dd2-965d-494f-dd9d-8a9702b6ec20"
      },
      "outputs": [
        {
          "data": {
            "image/png": "[encoded data removed]",
            "text/plain": [
              "<Figure size 432x288 with 2 Axes>"
            ]
          },
          "metadata": {
            "needs_background": "light"
          },
          "output_type": "display_data"
        }
      ],
      "source": [
        "preds = model5.predict(eff_aug_test)\n",
        "\n",
        "ConfusionMatrixDisplay.from_predictions(\n",
        "    eff_aug_test.classes, \n",
        "    np.where(preds > 0.5, 1, 0), \n",
        "    display_labels=list(eff_aug_test.class_indices.keys()));"
      ]
    },
    {
      "cell_type": "code",
      "execution_count": 34,
      "metadata": {
        "colab": {
          "base_uri": "https://localhost:8080/",
          "height": 374
        },
        "id": "5XUmBhn4HRe9",
        "outputId": "8363f922-d61d-4827-c351-3cbdfd9df34e"
      },
      "outputs": [
        {
          "data": {
            "image/png": "[encoded data removed]",
            "text/plain": [
              "<Figure size 720x432 with 1 Axes>"
            ]
          },
          "metadata": {
            "needs_background": "light"
          },
          "output_type": "display_data"
        }
      ],
      "source": [
        "train_loss = history5.history['loss']\n",
        "test_loss = history5.history['val_loss']\n",
        "\n",
        "plt.figure(figsize=(10, 6))\n",
        "plt.plot(train_loss, label='Training loss', color='navy')\n",
        "plt.plot(test_loss, label='Testing loss', color='skyblue')\n",
        "plt.legend();"
      ]
    },
    {
      "cell_type": "markdown",
      "metadata": {
        "id": "9SnPY_JYbZa1"
      },
      "source": [
        "### Data Augmentation"
      ]
    },
    {
      "cell_type": "code",
      "execution_count": 35,
      "metadata": {
        "id": "RThHodFrblH9"
      },
      "outputs": [],
      "source": [
        "aug_train_gen = ImageDataGenerator(\n",
        "    rescale=1/255,\n",
        "    rotation_range=20,\n",
        "    horizontal_flip=True,\n",
        "    width_shift_range=0.2,\n",
        "    height_shift_range=0.2,\n",
        "    zoom_range=0.2\n",
        ")\n",
        "\n",
        "datagen = ImageDataGenerator(rescale=1/255)"
      ]
    },
    {
      "cell_type": "code",
      "execution_count": 36,
      "metadata": {
        "colab": {
          "base_uri": "https://localhost:8080/"
        },
        "id": "-oyc-ampblH-",
        "outputId": "b0efa99b-4a8d-494d-aae9-d68f7f5c0c4a"
      },
      "outputs": [
        {
          "name": "stdout",
          "output_type": "stream",
          "text": [
            "Found 9117 validated image filenames belonging to 2 classes.\n",
            "Found 1023 validated image filenames belonging to 2 classes.\n"
          ]
        }
      ],
      "source": [
        "aug_train = aug_train_gen.flow_from_dataframe(\n",
        "    dataframe=train,\n",
        "    directory='/content/224x224',\n",
        "    x_col='filename',\n",
        "    y_col='post_2010',\n",
        "    class_mode='binary',\n",
        "    target_size=(256,256)\n",
        ")\n",
        "\n",
        "aug_test = datagen.flow_from_dataframe(\n",
        "    dataframe=test,\n",
        "    directory='/content/224x224',\n",
        "    x_col='filename',\n",
        "    y_col='post_2010',\n",
        "    class_mode='binary',\n",
        "    target_size=(256,256),\n",
        "    shuffle=False\n",
        ")"
      ]
    },
    {
      "cell_type": "code",
      "execution_count": 37,
      "metadata": {
        "id": "sheZqWuWODLd"
      },
      "outputs": [],
      "source": [
        "# https://stackoverflow.com/questions/42586475/is-it-possible-to-automatically-infer-the-class-weight-from-flow-from-directory/67678399#67678399\n",
        "\n",
        "class_weights = class_weight.compute_class_weight(\n",
        "            class_weight='balanced',\n",
        "            classes=np.unique(aug_train.classes), \n",
        "            y = aug_train.classes)\n",
        "\n",
        "train_class_weights = dict(enumerate(class_weights))"
      ]
    },
    {
      "cell_type": "code",
      "execution_count": 38,
      "metadata": {
        "id": "okedYE20kQ5_"
      },
      "outputs": [],
      "source": [
        "model6 = Sequential()\n",
        "model6.add(Conv2D(32,(3,3),activation='relu',input_shape=(256,256,3)))\n",
        "model6.add(MaxPooling2D(pool_size=(2,2)))\n",
        "\n",
        "model6.add(Conv2D(64,(3,3),activation='relu'))\n",
        "model6.add(MaxPooling2D(pool_size=(2,2)))\n",
        "\n",
        "model6.add(Flatten())\n",
        "model6.add(Dense(128,activation='relu'))\n",
        "model6.add(Dropout(0.4))\n",
        "model6.add(Dense(1,activation='sigmoid'))\n",
        "\n",
        "model6.compile(\n",
        "    optimizer = Adam(learning_rate=.0001),\n",
        "    loss = 'bce',\n",
        "    metrics = ['accuracy']\n",
        ")"
      ]
    },
    {
      "cell_type": "code",
      "execution_count": 39,
      "metadata": {
        "colab": {
          "base_uri": "https://localhost:8080/"
        },
        "id": "Z0PLTFqkkQ6F",
        "outputId": "9a8bc816-3b31-43f7-f8b5-dad7ee281a02"
      },
      "outputs": [
        {
          "name": "stdout",
          "output_type": "stream",
          "text": [
            "Epoch 1/100\n",
            "285/285 [==============================] - 145s 505ms/step - loss: 0.7073 - accuracy: 0.5210 - val_loss: 0.6657 - val_accuracy: 0.6080\n",
            "Epoch 2/100\n",
            "285/285 [==============================] - 145s 507ms/step - loss: 0.6843 - accuracy: 0.5451 - val_loss: 0.6710 - val_accuracy: 0.5660\n",
            "Epoch 3/100\n",
            "285/285 [==============================] - 145s 509ms/step - loss: 0.6822 - accuracy: 0.5585 - val_loss: 0.6646 - val_accuracy: 0.6012\n",
            "Epoch 4/100\n",
            "285/285 [==============================] - 145s 510ms/step - loss: 0.6775 - accuracy: 0.5796 - val_loss: 0.6550 - val_accuracy: 0.6188\n",
            "Epoch 5/100\n",
            "285/285 [==============================] - 145s 507ms/step - loss: 0.6756 - accuracy: 0.5878 - val_loss: 0.6642 - val_accuracy: 0.5973\n",
            "Epoch 6/100\n",
            "285/285 [==============================] - 145s 508ms/step - loss: 0.6728 - accuracy: 0.5788 - val_loss: 0.6546 - val_accuracy: 0.6139\n",
            "Epoch 7/100\n",
            "285/285 [==============================] - 146s 513ms/step - loss: 0.6709 - accuracy: 0.5958 - val_loss: 0.6528 - val_accuracy: 0.6237\n",
            "Epoch 8/100\n",
            "285/285 [==============================] - 145s 510ms/step - loss: 0.6674 - accuracy: 0.5991 - val_loss: 0.6515 - val_accuracy: 0.6305\n",
            "Epoch 9/100\n",
            "285/285 [==============================] - 145s 508ms/step - loss: 0.6678 - accuracy: 0.5975 - val_loss: 0.6606 - val_accuracy: 0.6285\n",
            "Epoch 10/100\n",
            "285/285 [==============================] - 144s 505ms/step - loss: 0.6654 - accuracy: 0.6039 - val_loss: 0.6489 - val_accuracy: 0.6364\n",
            "Epoch 11/100\n",
            "285/285 [==============================] - 144s 504ms/step - loss: 0.6587 - accuracy: 0.6132 - val_loss: 0.6453 - val_accuracy: 0.6422\n",
            "Epoch 12/100\n",
            "285/285 [==============================] - 145s 507ms/step - loss: 0.6612 - accuracy: 0.6124 - val_loss: 0.6491 - val_accuracy: 0.6325\n",
            "Epoch 13/100\n",
            "285/285 [==============================] - 144s 505ms/step - loss: 0.6569 - accuracy: 0.6136 - val_loss: 0.6444 - val_accuracy: 0.6383\n",
            "Epoch 14/100\n",
            "285/285 [==============================] - 144s 505ms/step - loss: 0.6555 - accuracy: 0.6130 - val_loss: 0.6439 - val_accuracy: 0.6325\n",
            "Epoch 15/100\n",
            "285/285 [==============================] - 144s 506ms/step - loss: 0.6556 - accuracy: 0.6138 - val_loss: 0.6493 - val_accuracy: 0.6325\n",
            "Epoch 16/100\n",
            "285/285 [==============================] - 144s 504ms/step - loss: 0.6519 - accuracy: 0.6162 - val_loss: 0.6467 - val_accuracy: 0.6393\n",
            "Epoch 17/100\n",
            "285/285 [==============================] - 144s 504ms/step - loss: 0.6533 - accuracy: 0.6173 - val_loss: 0.6470 - val_accuracy: 0.6334\n",
            "Epoch 18/100\n",
            "285/285 [==============================] - 144s 504ms/step - loss: 0.6507 - accuracy: 0.6228 - val_loss: 0.6427 - val_accuracy: 0.6393\n",
            "Epoch 19/100\n",
            "285/285 [==============================] - 143s 502ms/step - loss: 0.6502 - accuracy: 0.6295 - val_loss: 0.6453 - val_accuracy: 0.6354\n",
            "Epoch 20/100\n",
            "285/285 [==============================] - 144s 503ms/step - loss: 0.6483 - accuracy: 0.6366 - val_loss: 0.6408 - val_accuracy: 0.6364\n",
            "Epoch 21/100\n",
            "285/285 [==============================] - 144s 506ms/step - loss: 0.6426 - accuracy: 0.6358 - val_loss: 0.6407 - val_accuracy: 0.6422\n",
            "Epoch 22/100\n",
            "285/285 [==============================] - 145s 509ms/step - loss: 0.6453 - accuracy: 0.6326 - val_loss: 0.6412 - val_accuracy: 0.6422\n",
            "Epoch 23/100\n",
            "285/285 [==============================] - 145s 508ms/step - loss: 0.6398 - accuracy: 0.6408 - val_loss: 0.6427 - val_accuracy: 0.6364\n",
            "Epoch 24/100\n",
            "285/285 [==============================] - 144s 505ms/step - loss: 0.6438 - accuracy: 0.6339 - val_loss: 0.6434 - val_accuracy: 0.6334\n",
            "Epoch 25/100\n",
            "285/285 [==============================] - 145s 509ms/step - loss: 0.6414 - accuracy: 0.6439 - val_loss: 0.6496 - val_accuracy: 0.6354\n",
            "Epoch 26/100\n",
            "285/285 [==============================] - 144s 506ms/step - loss: 0.6394 - accuracy: 0.6411 - val_loss: 0.6403 - val_accuracy: 0.6403\n",
            "Epoch 27/100\n",
            "285/285 [==============================] - 144s 505ms/step - loss: 0.6402 - accuracy: 0.6414 - val_loss: 0.6424 - val_accuracy: 0.6393\n",
            "Epoch 28/100\n",
            "285/285 [==============================] - 144s 505ms/step - loss: 0.6366 - accuracy: 0.6456 - val_loss: 0.6402 - val_accuracy: 0.6344\n",
            "Epoch 29/100\n",
            "285/285 [==============================] - 144s 506ms/step - loss: 0.6370 - accuracy: 0.6399 - val_loss: 0.6439 - val_accuracy: 0.6354\n",
            "Epoch 30/100\n",
            "285/285 [==============================] - 145s 509ms/step - loss: 0.6362 - accuracy: 0.6510 - val_loss: 0.6359 - val_accuracy: 0.6413\n",
            "Epoch 31/100\n",
            "285/285 [==============================] - 144s 507ms/step - loss: 0.6379 - accuracy: 0.6460 - val_loss: 0.6352 - val_accuracy: 0.6315\n",
            "Epoch 32/100\n",
            "285/285 [==============================] - 144s 504ms/step - loss: 0.6378 - accuracy: 0.6497 - val_loss: 0.6345 - val_accuracy: 0.6334\n",
            "Epoch 33/100\n",
            "285/285 [==============================] - 144s 505ms/step - loss: 0.6335 - accuracy: 0.6547 - val_loss: 0.6351 - val_accuracy: 0.6334\n",
            "Epoch 34/100\n",
            "285/285 [==============================] - 145s 508ms/step - loss: 0.6352 - accuracy: 0.6560 - val_loss: 0.6334 - val_accuracy: 0.6373\n",
            "Epoch 35/100\n",
            "285/285 [==============================] - 144s 507ms/step - loss: 0.6305 - accuracy: 0.6590 - val_loss: 0.6355 - val_accuracy: 0.6413\n",
            "Epoch 36/100\n",
            "285/285 [==============================] - 144s 504ms/step - loss: 0.6314 - accuracy: 0.6494 - val_loss: 0.6321 - val_accuracy: 0.6364\n",
            "Epoch 37/100\n",
            "285/285 [==============================] - 145s 508ms/step - loss: 0.6305 - accuracy: 0.6578 - val_loss: 0.6318 - val_accuracy: 0.6403\n",
            "Epoch 38/100\n",
            "285/285 [==============================] - 142s 500ms/step - loss: 0.6286 - accuracy: 0.6557 - val_loss: 0.6417 - val_accuracy: 0.6246\n",
            "Epoch 39/100\n",
            "285/285 [==============================] - 145s 508ms/step - loss: 0.6289 - accuracy: 0.6538 - val_loss: 0.6278 - val_accuracy: 0.6373\n",
            "Epoch 40/100\n",
            "285/285 [==============================] - 144s 504ms/step - loss: 0.6272 - accuracy: 0.6505 - val_loss: 0.6278 - val_accuracy: 0.6413\n",
            "Epoch 41/100\n",
            "285/285 [==============================] - 143s 500ms/step - loss: 0.6268 - accuracy: 0.6528 - val_loss: 0.6305 - val_accuracy: 0.6403\n",
            "Epoch 42/100\n",
            "285/285 [==============================] - 144s 504ms/step - loss: 0.6251 - accuracy: 0.6587 - val_loss: 0.6267 - val_accuracy: 0.6315\n",
            "Epoch 43/100\n",
            "285/285 [==============================] - 145s 509ms/step - loss: 0.6281 - accuracy: 0.6583 - val_loss: 0.6287 - val_accuracy: 0.6315\n",
            "Epoch 44/100\n",
            "285/285 [==============================] - 146s 512ms/step - loss: 0.6277 - accuracy: 0.6516 - val_loss: 0.6327 - val_accuracy: 0.6491\n",
            "Epoch 45/100\n",
            "285/285 [==============================] - 145s 509ms/step - loss: 0.6256 - accuracy: 0.6628 - val_loss: 0.6251 - val_accuracy: 0.6442\n",
            "Epoch 46/100\n",
            "285/285 [==============================] - 146s 513ms/step - loss: 0.6217 - accuracy: 0.6606 - val_loss: 0.6389 - val_accuracy: 0.6334\n",
            "Epoch 47/100\n",
            "285/285 [==============================] - 147s 515ms/step - loss: 0.6233 - accuracy: 0.6634 - val_loss: 0.6290 - val_accuracy: 0.6422\n",
            "Epoch 48/100\n",
            "285/285 [==============================] - 146s 514ms/step - loss: 0.6215 - accuracy: 0.6594 - val_loss: 0.6347 - val_accuracy: 0.6432\n",
            "Epoch 49/100\n",
            "285/285 [==============================] - 144s 506ms/step - loss: 0.6188 - accuracy: 0.6656 - val_loss: 0.6260 - val_accuracy: 0.6491\n",
            "Epoch 50/100\n",
            "285/285 [==============================] - 145s 510ms/step - loss: 0.6194 - accuracy: 0.6588 - val_loss: 0.6281 - val_accuracy: 0.6461\n",
            "Epoch 50: early stopping\n"
          ]
        }
      ],
      "source": [
        "history6 = model6.fit(\n",
        "    aug_train,\n",
        "    class_weight=train_class_weights,\n",
        "    validation_data=aug_test,\n",
        "    epochs=100,\n",
        "    callbacks=[early_stop]\n",
        ")"
      ]
    },
    {
      "cell_type": "code",
      "execution_count": 73,
      "metadata": {
        "colab": {
          "base_uri": "https://localhost:8080/",
          "height": 280
        },
        "id": "NlV8XIcPBgAT",
        "outputId": "4a64da04-fa89-4747-f299-97eeeed29521"
      },
      "outputs": [
        {
          "data": {
            "image/png": "[encoded data removed]",
            "text/plain": [
              "<Figure size 432x288 with 2 Axes>"
            ]
          },
          "metadata": {
            "needs_background": "light"
          },
          "output_type": "display_data"
        }
      ],
      "source": [
        "preds = model6.predict(aug_test)\n",
        "\n",
        "ConfusionMatrixDisplay.from_predictions(\n",
        "    aug_test.classes, \n",
        "    np.where(preds > 0.5, 1, 0), \n",
        "    display_labels=list(aug_test.class_indices.keys()));"
      ]
    },
    {
      "cell_type": "code",
      "execution_count": 41,
      "metadata": {
        "colab": {
          "base_uri": "https://localhost:8080/",
          "height": 374
        },
        "id": "2urIWAnUHYKj",
        "outputId": "fc65a88d-b260-457c-a885-a4e3d78889e9"
      },
      "outputs": [
        {
          "data": {
            "image/png": "[encoded data removed]",
            "text/plain": [
              "<Figure size 720x432 with 1 Axes>"
            ]
          },
          "metadata": {
            "needs_background": "light"
          },
          "output_type": "display_data"
        }
      ],
      "source": [
        "train_loss = history6.history['loss']\n",
        "test_loss = history6.history['val_loss']\n",
        "\n",
        "plt.figure(figsize=(10, 6))\n",
        "plt.plot(train_loss, label='Training loss', color='navy')\n",
        "plt.plot(test_loss, label='Testing loss', color='skyblue')\n",
        "plt.legend();"
      ]
    },
    {
      "cell_type": "markdown",
      "metadata": {
        "id": "CyceaCRCKVTY"
      },
      "source": [
        "### Another CNN Model - Altering Parameters"
      ]
    },
    {
      "cell_type": "code",
      "execution_count": 42,
      "metadata": {
        "id": "Fx8efHZLYMGh"
      },
      "outputs": [],
      "source": [
        "model7 = Sequential()\n",
        "model7.add(Conv2D(128,(4,4),activation='relu',input_shape=(256,256,3)))\n",
        "model7.add(MaxPooling2D(pool_size=(2,2)))\n",
        "\n",
        "model7.add(Conv2D(16,(4,4),activation='relu'))\n",
        "model7.add(MaxPooling2D(pool_size=(2,2)))\n",
        "\n",
        "model7.add(Conv2D(32,(3,3),activation='relu'))\n",
        "model7.add(MaxPooling2D(pool_size=(2,2)))\n",
        "\n",
        "model7.add(Conv2D(128,(4,4),activation='relu'))\n",
        "model7.add(MaxPooling2D(pool_size=(2,2)))\n",
        "\n",
        "model7.add(Flatten())\n",
        "model7.add(Dense(32,activation='relu'))\n",
        "model7.add(Dropout(0.1))\n",
        "model7.add(Dense(1,activation='sigmoid'))\n",
        "\n",
        "model7.compile(\n",
        "    optimizer = Adam(learning_rate=.0001),\n",
        "    loss = 'bce',\n",
        "    metrics = ['accuracy']\n",
        ")"
      ]
    },
    {
      "cell_type": "code",
      "execution_count": 43,
      "metadata": {
        "colab": {
          "base_uri": "https://localhost:8080/"
        },
        "id": "Ns6Sca2AKgXc",
        "outputId": "35a428cc-eb82-4921-e643-793f632de5cf"
      },
      "outputs": [
        {
          "name": "stdout",
          "output_type": "stream",
          "text": [
            "Epoch 1/100\n",
            "285/285 [==============================] - 31s 106ms/step - loss: 0.6812 - accuracy: 0.5853 - val_loss: 0.6817 - val_accuracy: 0.5523\n",
            "Epoch 2/100\n",
            "285/285 [==============================] - 30s 107ms/step - loss: 0.6597 - accuracy: 0.6005 - val_loss: 0.6510 - val_accuracy: 0.6276\n",
            "Epoch 3/100\n",
            "285/285 [==============================] - 30s 106ms/step - loss: 0.6500 - accuracy: 0.6139 - val_loss: 0.6760 - val_accuracy: 0.5846\n",
            "Epoch 4/100\n",
            "285/285 [==============================] - 31s 110ms/step - loss: 0.6414 - accuracy: 0.6249 - val_loss: 0.6585 - val_accuracy: 0.6051\n",
            "Epoch 5/100\n",
            "285/285 [==============================] - 30s 106ms/step - loss: 0.6304 - accuracy: 0.6411 - val_loss: 0.6402 - val_accuracy: 0.6276\n",
            "Epoch 6/100\n",
            "285/285 [==============================] - 30s 106ms/step - loss: 0.6198 - accuracy: 0.6502 - val_loss: 0.6424 - val_accuracy: 0.6315\n",
            "Epoch 7/100\n",
            "285/285 [==============================] - 30s 106ms/step - loss: 0.6095 - accuracy: 0.6607 - val_loss: 0.6388 - val_accuracy: 0.6452\n",
            "Epoch 8/100\n",
            "285/285 [==============================] - 30s 106ms/step - loss: 0.6035 - accuracy: 0.6657 - val_loss: 0.6553 - val_accuracy: 0.6178\n",
            "Epoch 9/100\n",
            "285/285 [==============================] - 32s 111ms/step - loss: 0.5921 - accuracy: 0.6796 - val_loss: 0.6482 - val_accuracy: 0.6364\n",
            "Epoch 10/100\n",
            "285/285 [==============================] - 30s 106ms/step - loss: 0.5755 - accuracy: 0.6942 - val_loss: 0.6463 - val_accuracy: 0.6295\n",
            "Epoch 11/100\n",
            "285/285 [==============================] - 30s 106ms/step - loss: 0.5576 - accuracy: 0.7108 - val_loss: 0.6768 - val_accuracy: 0.6344\n",
            "Epoch 12/100\n",
            "285/285 [==============================] - 30s 105ms/step - loss: 0.5378 - accuracy: 0.7188 - val_loss: 0.6768 - val_accuracy: 0.6246\n",
            "Epoch 12: early stopping\n"
          ]
        }
      ],
      "source": [
        "history7 = model7.fit(\n",
        "    train_gen,\n",
        "    class_weight=train_class_weights,\n",
        "    validation_data=test_gen,\n",
        "    epochs=100,\n",
        "    callbacks=[early_stop]\n",
        ")"
      ]
    },
    {
      "cell_type": "code",
      "execution_count": 72,
      "metadata": {
        "colab": {
          "base_uri": "https://localhost:8080/",
          "height": 280
        },
        "id": "cv2A_oSgKxFd",
        "outputId": "cae30f35-68ec-4f3c-fcf7-79374b8e9b37"
      },
      "outputs": [
        {
          "data": {
            "image/png": "[encoded data removed]",
            "text/plain": [
              "<Figure size 432x288 with 2 Axes>"
            ]
          },
          "metadata": {
            "needs_background": "light"
          },
          "output_type": "display_data"
        }
      ],
      "source": [
        "preds = model7.predict(test_gen)\n",
        "\n",
        "ConfusionMatrixDisplay.from_predictions(\n",
        "    test_gen.classes, \n",
        "    np.where(preds > 0.5, 1, 0), \n",
        "    display_labels=list(test_gen.class_indices.keys()));"
      ]
    },
    {
      "cell_type": "code",
      "execution_count": 45,
      "metadata": {
        "colab": {
          "base_uri": "https://localhost:8080/",
          "height": 374
        },
        "id": "-REDKlOQHcbC",
        "outputId": "b7853169-a421-467e-ab69-91f4ca6fcce8"
      },
      "outputs": [
        {
          "data": {
            "image/png": "[encoded data removed]",
            "text/plain": [
              "<Figure size 720x432 with 1 Axes>"
            ]
          },
          "metadata": {
            "needs_background": "light"
          },
          "output_type": "display_data"
        }
      ],
      "source": [
        "train_loss = history7.history['loss']\n",
        "test_loss = history7.history['val_loss']\n",
        "\n",
        "plt.figure(figsize=(10, 6))\n",
        "plt.plot(train_loss, label='Training loss', color='navy')\n",
        "plt.plot(test_loss, label='Testing loss', color='skyblue')\n",
        "plt.legend();"
      ]
    }
  ],
  "metadata": {
    "accelerator": "GPU",
    "colab": {
      "collapsed_sections": [],
      "name": "05_Modeling_Decade_Binary.ipynb",
      "provenance": []
    },
    "kernelspec": {
      "display_name": "Python 3",
      "name": "python3"
    },
    "language_info": {
      "name": "python"
    }
  },
  "nbformat": 4,
  "nbformat_minor": 0
}
