{
 "cells": [
  {
   "cell_type": "markdown",
   "id": "7af9e6a0",
   "metadata": {},
   "source": [
    "## Downloading full size images with script from https://github.com/uchidalab/book-dataset"
   ]
  },
  {
   "cell_type": "code",
   "execution_count": null,
   "id": "61060f27",
   "metadata": {},
   "outputs": [
    {
     "name": "stdout",
     "output_type": "stream",
     "text": [
      "[Download images into \"$./images\"]\n"
     ]
    },
    {
     "name": "stderr",
     "output_type": "stream",
     "text": [
      "100%|██████████| 207572/207572 [24:38:00<00:00,  2.34it/s]   \n"
     ]
    }
   ],
   "source": [
    "#!/bin/bash\n",
    "#set -eu\n",
    "\n",
    "#%pip install -U pandas tqdm joblib\n",
    "\n",
    "OUTPUT_DIRPATH=\"./images\"\n",
    "CSV_FILEPATH=\"data/book32-listing.csv\"\n",
    "%run -i download_images.py ${OUTPUT_DIRPATH} {CSV_FILEPATH}"
   ]
  }
 ],
 "metadata": {
  "language_info": {
   "name": "python"
  }
 },
 "nbformat": 4,
 "nbformat_minor": 5
}
